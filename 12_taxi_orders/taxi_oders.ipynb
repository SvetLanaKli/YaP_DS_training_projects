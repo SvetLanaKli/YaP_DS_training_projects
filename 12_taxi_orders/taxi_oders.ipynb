{
 "cells": [
  {
   "cell_type": "markdown",
   "metadata": {},
   "source": [
    "Полезные материалы по теме временных рядов:\n",
    "* https://wiki.loginom.ru/articles/arima.html\n",
    "* https://economy.bsu.by/wp-content/uploads/2016/10/naft_ar_ma.pdf\n",
    "* https://towardsdatascience.com/the-best-deep-learning-models-for-time-series-forecasting-690767bc63f0\n",
    "* https://towardsdatascience.com/the-complete-guide-to-time-series-analysis-and-forecasting-70d476bfe775\n",
    "* https://mse.msu.ru/wp-content/uploads/2021/03/%D0%92%D0%B2%D0%B5%D0%B4%D0%B5%D0%BD%D0%B8%D0%B5-%D0%B2-%D0%B0%D0%BD%D0%B0%D0%BB%D0%B8%D0%B7-%D0%B2%D1%80%D0%B5%D0%BC%D0%B5%D0%BD%D0%BD%D1%8B%D1%85-%D1%80%D1%8F%D0%B4%D0%BE%D0%B2-1.pdf"
   ]
  },
  {
   "cell_type": "markdown",
   "metadata": {
    "toc": true
   },
   "source": [
    "<h1>Содержание<span class=\"tocSkip\"></span></h1>\n",
    "<div class=\"toc\"><ul class=\"toc-item\"><li><ul class=\"toc-item\"><li><span><a href=\"#Цель-исследования\" data-toc-modified-id=\"Цель-исследования-0.1\"><span class=\"toc-item-num\">0.1&nbsp;&nbsp;</span>Цель исследования</a></span></li><li><span><a href=\"#План-исследования\" data-toc-modified-id=\"План-исследования-0.2\"><span class=\"toc-item-num\">0.2&nbsp;&nbsp;</span>План исследования</a></span></li></ul></li><li><span><a href=\"#Подготовка\" data-toc-modified-id=\"Подготовка-1\"><span class=\"toc-item-num\">1&nbsp;&nbsp;</span>Подготовка</a></span></li><li><span><a href=\"#Анализ\" data-toc-modified-id=\"Анализ-2\"><span class=\"toc-item-num\">2&nbsp;&nbsp;</span>Анализ</a></span></li><li><span><a href=\"#Обучение\" data-toc-modified-id=\"Обучение-3\"><span class=\"toc-item-num\">3&nbsp;&nbsp;</span>Обучение</a></span></li><li><span><a href=\"#Тестирование\" data-toc-modified-id=\"Тестирование-4\"><span class=\"toc-item-num\">4&nbsp;&nbsp;</span>Тестирование</a></span><ul class=\"toc-item\"><li><span><a href=\"#Выводы\" data-toc-modified-id=\"Выводы-4.1\"><span class=\"toc-item-num\">4.1&nbsp;&nbsp;</span>Выводы</a></span></li></ul></li></ul></div>"
   ]
  },
  {
   "cell_type": "markdown",
   "metadata": {},
   "source": [
    "#  Прогнозирование заказов такси"
   ]
  },
  {
   "cell_type": "markdown",
   "metadata": {},
   "source": [
    "Компания «Чётенькое такси» собрала исторические данные о заказах такси в аэропортах. Чтобы привлекать больше водителей в период пиковой нагрузки, нужно спрогнозировать количество заказов такси на следующий час. Постройте модель для такого предсказания.\n",
    "\n",
    "Значение метрики *RMSE* на тестовой выборке должно быть не больше 48.\n",
    "\n",
    "Вам нужно:\n",
    "\n",
    "1. Загрузить данные и выполнить их ресемплирование по одному часу.\n",
    "2. Проанализировать данные.\n",
    "3. Обучить разные модели с различными гиперпараметрами. Сделать тестовую выборку размером 10% от исходных данных.\n",
    "4. Проверить данные на тестовой выборке и сделать выводы.\n",
    "\n",
    "\n",
    "Данные лежат в файле `taxi.csv`. Количество заказов находится в столбце `num_orders` (от англ. *number of orders*, «число заказов»)."
   ]
  },
  {
   "cell_type": "markdown",
   "metadata": {},
   "source": [
    "### Цель исследования\n",
    "Построение модели для прогнозирования количества заказов такси на следующий час.\n",
    "\n",
    "Целевая метрика - `RMSE`, на тестовой быборке не должна превышать 48."
   ]
  },
  {
   "cell_type": "markdown",
   "metadata": {},
   "source": [
    "### План исследования\n",
    "\n",
    "1. Загрузка данных для исследования из файла `taxi.csv`.\n",
    "\n",
    "2. О качестве данных информации нет, поэтому как приступать к исследованию проведем обзор данных.\n",
    "3. Преобработка и подготовка данных:\n",
    "\n",
    "* проверка данных на наличие пропусков и аномалий и их влияние на исследование\n",
    "* исправление ошибок и заполнения пропусков, которые не приведут к искажению результатов исследования.\n",
    "* ресемплирование данных\n",
    "* анализ признаков на их информативность для построения модели.\n",
    "* подготовка выборок данных для построения моделей.\n",
    "\n",
    "4. Построение моделей машинного обучения:\n",
    "* `LinearRegression`\n",
    "* `Ridge`\n",
    "* `DecisionTree`\n",
    "* `LightGBM`\n",
    "* `CatBoosting`\n",
    "\n",
    " Подбор лучших гиперпараметров для них.\n",
    "\n",
    " Выбор лучшей модели по заданным характеристикам\n",
    "\n",
    "5. Тестирование выбранной модели и оценка результатов.\n",
    "\n",
    "6. Оформление выводов по результатам исследования"
   ]
  },
  {
   "cell_type": "markdown",
   "metadata": {},
   "source": [
    "## Подготовка"
   ]
  },
  {
   "cell_type": "code",
   "execution_count": 1,
   "metadata": {},
   "outputs": [],
   "source": [
    "# импорт библиотек для выполения проекта\n",
    "import pandas as pd\n",
    "import numpy as np\n",
    "\n",
    "from datetime import datetime as dt\n",
    "\n",
    "# импортируем функции статистического анализа\n",
    "from statsmodels.tsa.seasonal import seasonal_decompose\n",
    "from statsmodels.graphics.tsaplots import (plot_acf,\n",
    "                                           plot_pacf)\n",
    "from statsmodels.tsa.stattools import (adfuller,\n",
    "                                       kpss)\n",
    "\n",
    "# графика\n",
    "import seaborn as sns\n",
    "import matplotlib.pyplot as plt\n",
    "\n",
    "# импортируем функции и метрики из библиотеки sklearn\n",
    "from sklearn.model_selection import (train_test_split,\n",
    "                                     GridSearchCV,\n",
    "                                     TimeSeriesSplit)\n",
    "\n",
    "from sklearn.linear_model import LinearRegression, Ridge\n",
    "from sklearn.pipeline import Pipeline\n",
    "from sklearn.tree import DecisionTreeRegressor\n",
    "from sklearn.preprocessing import (StandardScaler,\n",
    "                                   OneHotEncoder)\n",
    "from sklearn.compose import ColumnTransformer\n",
    "from sklearn.dummy import DummyRegressor\n",
    "\n",
    "\n",
    "# метрики\n",
    "from sklearn.metrics import mean_squared_error\n",
    "\n",
    "# импортируем градиентные бустинги\n",
    "from catboost import (CatBoostRegressor,\n",
    "                      Pool)\n",
    "from lightgbm import LGBMRegressor\n",
    "\n",
    "# предупреждения\n",
    "import warnings\n",
    "warnings.filterwarnings('ignore')"
   ]
  },
  {
   "cell_type": "code",
   "execution_count": 2,
   "metadata": {},
   "outputs": [],
   "source": [
    "# настроим отображение чисел и таблиц\n",
    "#pd.set_option('display.float_format', '{:.4f}'.format)\n",
    "pd.set_option('display.max_columns', 1000)\n",
    "pd.set_option('max_colwidth', 1000)\n",
    "pd.set_option('display.width', 500)\n",
    "# выберем общее формление для графиков\n",
    "sns.set(style=\"whitegrid\", palette=\"Spectral\")"
   ]
  },
  {
   "cell_type": "code",
   "execution_count": 3,
   "metadata": {},
   "outputs": [],
   "source": [
    "try:\n",
    "    df = pd.read_csv('./taxi.csv.', parse_dates=[0])\n",
    "except:\n",
    "    df = pd.read_csv('/datasets/taxi.csv.', parse_dates=[0])"
   ]
  },
  {
   "cell_type": "code",
   "execution_count": 4,
   "metadata": {},
   "outputs": [],
   "source": [
    "# зафиксируем псевдослучайность random_state\n",
    "RS = 2023\n",
    "# количество фолдов для кросс-валидации\n",
    "TSCV = TimeSeriesSplit(n_splits=3)"
   ]
  },
  {
   "cell_type": "code",
   "execution_count": 5,
   "metadata": {},
   "outputs": [],
   "source": [
    "def data_info(data_name):\n",
    "    '''функция выводит информацию о данных'''\n",
    "    \n",
    "    print('\\n\\nДанные из выборки\\n')\n",
    "    display(data_name.head(5))\n",
    "    display(data_name.tail(5))\n",
    "\n",
    "    print(f'\\n\\nКоличество признаков: {data_name.shape[1]}, Количество наблюдений: {data_name.shape[0]}\\n')\n",
    "    \n",
    "    print('\\nИнформация о данных\\n')\n",
    "    display(data_name.info())\n",
    "       \n",
    "    print(f'\\n\\nКоличество полных дубликатов в данных: {data_name.duplicated().sum()}')\n",
    "\n",
    "    print('\\n\\nОписательная статистика ')\n",
    "    display(data_name.describe())"
   ]
  },
  {
   "cell_type": "code",
   "execution_count": 6,
   "metadata": {},
   "outputs": [],
   "source": [
    "def make_features(data, max_lag=0, rolling_mean_size=0, max_diff=0,):\n",
    "    '''функция генерации новых признаков'''\n",
    "    \n",
    "    num_col = []\n",
    "    \n",
    "    #data['month'] = data.index.month\n",
    "    #data['day'] = data.index.day\n",
    "    data['dayofweek'] = data.index.dayofweek\n",
    "    #data['is_weekend'] = data.dayofweek.isin([5,6])*1\n",
    "    data['hour'] = data.index.hour\n",
    "    \n",
    "    if max_lag > 0:\n",
    "        for lag in range(1, max_lag + 1):\n",
    "            data['lag_{}'.format(lag)] = data['num_orders'].shift(lag)\n",
    "            num_col.append('lag_{}'.format(lag))\n",
    "            \n",
    "    if  max_diff > 0:\n",
    "        for d in range(1, max_diff+1):\n",
    "            data['diff_{}'.format(d)] = data['num_orders'].diff(d)\n",
    "            num_col.append('diff_{}'.format(d))\n",
    "\n",
    "    if rolling_mean_size > 0:     \n",
    "        data['rolling_mean'] = data['num_orders'].shift().rolling(rolling_mean_size).mean()\n",
    "        num_col.append('rolling_mean')\n",
    "    \n",
    "    data.dropna(inplace=True)\n",
    "    \n",
    "    return data, num_col"
   ]
  },
  {
   "cell_type": "code",
   "execution_count": 7,
   "metadata": {},
   "outputs": [],
   "source": [
    "def df_train_test(data, target, test_size=0.1):\n",
    "    '''функция делит на выборки, фичи, таргер\n",
    "    на входе: исходые данные\n",
    "    на выходе: обучающие/тестовые фичи/таргеты'''\n",
    "    # деление на выборки\n",
    "    data_train, data_test = train_test_split(data, \n",
    "                                             test_size=test_size, \n",
    "                                             shuffle=False)\n",
    "\n",
    "    # проверка разбивки\n",
    "    print('Проверка хронологии обучающей и тестовой выборки:')\n",
    "    print(f'\\nTrain размер: {data_train.shape}')\n",
    "    print(f'\\nДата начала наблюдений: {data_train.index.min()}. ')\n",
    "    print(f'Дата окончания наблюдений:{data_train.index.max()}')\n",
    "    print(f'\\nВременной отрезок: {data_train.index.max() - data_train.index.min()}')\n",
    "    \n",
    "    print(f'\\nTest размер: {data_test.shape}')\n",
    "    print(f'\\nДата начала наблюдений: {data_test.index.min()}. ')\n",
    "    print(f'Дата окончания наблюдений:{data_test.index.max()}')\n",
    "    print(f'\\nВременной отрезок: {data_test.index.max() - data_test.index.min()}')   \n",
    "    \n",
    "    target_train = data_train[target]\n",
    "    features_train = data_train.drop(target, axis=1)\n",
    "\n",
    "    target_test = data_test[target]\n",
    "    features_test = data_test.drop(target, axis=1)\n",
    "    \n",
    "    return (features_train, target_train,\n",
    "            features_test, target_test)"
   ]
  },
  {
   "cell_type": "code",
   "execution_count": 8,
   "metadata": {},
   "outputs": [],
   "source": [
    "def best_model(model, params, features, target, cat_col, num_col, features_type):\n",
    "    '''функция подбора гиперпараметров для заданной модели\n",
    "    на входе: модель, параметры для подбора, фичи и таргет,\n",
    "              категориальные признаки, числовые признаки,\n",
    "              способ подбора параметров, по умолчанию GridSearchCV\n",
    "    на выходе: подобранная модель и значение искомой метрики RSME'''\n",
    "      \n",
    "    preprocessor = ColumnTransformer(transformers=[\n",
    "    ('OHE', OneHotEncoder(handle_unknown='ignore', sparse=True), cat_col),\n",
    "    ('scaler', StandardScaler(), num_col)])\n",
    "    \n",
    "    # собираем пайплайн    \n",
    "    pipe = Pipeline(steps=[\n",
    "        ('preprocessor', preprocessor),\n",
    "        ('model', model)])  \n",
    "    \n",
    "    # подбор гиперпараметров\n",
    "    searcher = GridSearchCV(pipe,\n",
    "                            param_grid=params,\n",
    "                            scoring='neg_root_mean_squared_error',\n",
    "                            cv=TSCV,\n",
    "                            n_jobs=-1,\n",
    "                            verbose=5)\n",
    "   \n",
    "    time_start = dt.now()\n",
    "    search = searcher.fit(features, target)\n",
    "    time_search = (dt.now() - time_start)\n",
    "    \n",
    "    # вычисляем время работы с лучшими параметрами\n",
    "    pipe.set_params(**search.best_params_)\n",
    "    \n",
    "    time_start = dt.now()\n",
    "    pipe.fit(features, target)\n",
    "    time_fit = (dt.now() - time_start)\n",
    "    \n",
    "    time_start = dt.now()\n",
    "    pipe.predict(features)\n",
    "    time_predict = (dt.now() - time_start)\n",
    "    \n",
    "    list_best_params.append({'features_type': features_type,\n",
    "                             'model': search.best_estimator_[-1],\n",
    "                             'model_params': search.best_params_,\n",
    "                             'RSME': abs(search.best_score_),\n",
    "                             'time_search': time_search,\n",
    "                             'time_fit': time_fit,\n",
    "                             'time_predict': time_predict})"
   ]
  },
  {
   "cell_type": "code",
   "execution_count": 9,
   "metadata": {},
   "outputs": [],
   "source": [
    "def model_diff_features(model, params):\n",
    "    '''функция для подбора параметров различных типов фичей\n",
    "    на входе: модель и параметры для подбора\n",
    "    на выходе: заполненные данные о подборе лучших гиперпараметров для каждого\n",
    "    типа модификации фичей'''\n",
    "        \n",
    "    # словарь с данными для каждого типа модификации фичей\n",
    "    data_dict = {\n",
    "        'date_features': (features_train_f, target_train_f, numerical_features_f),\n",
    "        'lag_features': (features_train_lag, target_train_lag, numerical_features_lag),\n",
    "        'rolling_mean': (features_train_ma, target_train_ma, numerical_features_ma),\n",
    "        'all_features': (features_train_all, target_train_all, numerical_features_all)\n",
    "    }\n",
    "\n",
    "    # клонируем модель\n",
    "    model_clone = model\n",
    "\n",
    "    # подбираем гиперпараметры для каждого типа модификации фичей\n",
    "    for item, (features, targets, numerical_features) in data_dict.items():\n",
    "        best_model(model_clone, params, \n",
    "                   features, targets, \n",
    "                   categorical_features, numerical_features, \n",
    "                   item)"
   ]
  },
  {
   "cell_type": "code",
   "execution_count": 10,
   "metadata": {},
   "outputs": [],
   "source": [
    "def best_model_cat(model, params, features, target, cat_col, num_col, features_type):\n",
    "    '''функция подбора гиперпараметров для Catboost\n",
    "    на входе: модель, параметры для подбора, фичи и таргет,\n",
    "              категориальные признаки, числовые признаки,\n",
    "              способ подбора параметров, по умолчанию GridSearchCV\n",
    "    на выходе: подобранная модель и значение искомой метрики RSME'''\n",
    "           \n",
    "    # подбор гиперпараметров\n",
    "    searcher = GridSearchCV(model,\n",
    "                            param_grid=params,\n",
    "                            cv=TSCV,\n",
    "                            scoring='neg_root_mean_squared_error',\n",
    "                            n_jobs=-1,\n",
    "                            verbose=5)\n",
    "   \n",
    "    time_start = dt.now()\n",
    "    search = searcher.fit(features, target)\n",
    "    time_search = (dt.now() - time_start)\n",
    "    \n",
    "    # вычисляем время работы с лучшими параметрами\n",
    "    time_start = dt.now()\n",
    "    model_cb.fit(features, target, \n",
    "                 cat_col)\n",
    "    time_fit = (dt.now() - time_start)\n",
    "\n",
    "    time_start = dt.now()\n",
    "    model_cb.predict(features)\n",
    "    time_predict = (dt.now() - time_start)\n",
    "        \n",
    "    list_best_params.append({'features_type': features_type,\n",
    "                             'model': search.best_estimator_,\n",
    "                             'model_params': search.best_params_,\n",
    "                             'RSME': abs(search.best_score_),\n",
    "                             'time_search': time_search,\n",
    "                             'time_fit': time_fit,\n",
    "                             'time_predict': time_predict})"
   ]
  },
  {
   "cell_type": "code",
   "execution_count": 11,
   "metadata": {},
   "outputs": [],
   "source": [
    "def model_diff_features_cat(model, params):\n",
    "    '''функция для подбора параметров различных типов фичей для CatBoost\n",
    "    на входе: модель и параметры для подбора\n",
    "    на выходе: заполненные данные о подборе лучших гиперпараметров для каждого\n",
    "    типа модификации фичей'''\n",
    "\n",
    "    # словарь с данными для каждого типа модификации фичей\n",
    "    data_dict = {\n",
    "        'date_features': (features_train_f, target_train_f, numerical_features_f),\n",
    "        'lag_features': (features_train_lag, target_train_lag, numerical_features_lag),\n",
    "        'rolling_mean': (features_train_ma, target_train_ma, numerical_features_ma),\n",
    "        'all_features': (features_train_all, target_train_all, numerical_features_all)\n",
    "    }\n",
    "\n",
    "    # клонируем модель\n",
    "    model_clone = model\n",
    "\n",
    "    # подбираем гиперпараметры для каждого типа модификации фичей\n",
    "    for item, (features, targets, numerical_features) in data_dict.items():\n",
    "        best_model_cat(model_clone, params,\n",
    "                       features, targets,\n",
    "                       categorical_features, numerical_features, \n",
    "                       item)"
   ]
  },
  {
   "cell_type": "code",
   "execution_count": 12,
   "metadata": {},
   "outputs": [],
   "source": [
    "def print_result(list_for_print):\n",
    "    '''выводим таблицу с данными'''\n",
    "    # табличка с оптимизированными гиперпараметрами\n",
    "    df_best_models = pd.DataFrame(list_for_print)\n",
    "    display(df_best_models)"
   ]
  },
  {
   "cell_type": "markdown",
   "metadata": {},
   "source": [
    "Приступим к осмотру данных"
   ]
  },
  {
   "cell_type": "code",
   "execution_count": 13,
   "metadata": {},
   "outputs": [
    {
     "name": "stdout",
     "output_type": "stream",
     "text": [
      "\n",
      "\n",
      "Данные из выборки\n",
      "\n"
     ]
    },
    {
     "data": {
      "text/html": [
       "<div>\n",
       "<style scoped>\n",
       "    .dataframe tbody tr th:only-of-type {\n",
       "        vertical-align: middle;\n",
       "    }\n",
       "\n",
       "    .dataframe tbody tr th {\n",
       "        vertical-align: top;\n",
       "    }\n",
       "\n",
       "    .dataframe thead th {\n",
       "        text-align: right;\n",
       "    }\n",
       "</style>\n",
       "<table border=\"1\" class=\"dataframe\">\n",
       "  <thead>\n",
       "    <tr style=\"text-align: right;\">\n",
       "      <th></th>\n",
       "      <th>datetime</th>\n",
       "      <th>num_orders</th>\n",
       "    </tr>\n",
       "  </thead>\n",
       "  <tbody>\n",
       "    <tr>\n",
       "      <th>0</th>\n",
       "      <td>2018-03-01 00:00:00</td>\n",
       "      <td>9</td>\n",
       "    </tr>\n",
       "    <tr>\n",
       "      <th>1</th>\n",
       "      <td>2018-03-01 00:10:00</td>\n",
       "      <td>14</td>\n",
       "    </tr>\n",
       "    <tr>\n",
       "      <th>2</th>\n",
       "      <td>2018-03-01 00:20:00</td>\n",
       "      <td>28</td>\n",
       "    </tr>\n",
       "    <tr>\n",
       "      <th>3</th>\n",
       "      <td>2018-03-01 00:30:00</td>\n",
       "      <td>20</td>\n",
       "    </tr>\n",
       "    <tr>\n",
       "      <th>4</th>\n",
       "      <td>2018-03-01 00:40:00</td>\n",
       "      <td>32</td>\n",
       "    </tr>\n",
       "  </tbody>\n",
       "</table>\n",
       "</div>"
      ],
      "text/plain": [
       "             datetime  num_orders\n",
       "0 2018-03-01 00:00:00           9\n",
       "1 2018-03-01 00:10:00          14\n",
       "2 2018-03-01 00:20:00          28\n",
       "3 2018-03-01 00:30:00          20\n",
       "4 2018-03-01 00:40:00          32"
      ]
     },
     "metadata": {},
     "output_type": "display_data"
    },
    {
     "data": {
      "text/html": [
       "<div>\n",
       "<style scoped>\n",
       "    .dataframe tbody tr th:only-of-type {\n",
       "        vertical-align: middle;\n",
       "    }\n",
       "\n",
       "    .dataframe tbody tr th {\n",
       "        vertical-align: top;\n",
       "    }\n",
       "\n",
       "    .dataframe thead th {\n",
       "        text-align: right;\n",
       "    }\n",
       "</style>\n",
       "<table border=\"1\" class=\"dataframe\">\n",
       "  <thead>\n",
       "    <tr style=\"text-align: right;\">\n",
       "      <th></th>\n",
       "      <th>datetime</th>\n",
       "      <th>num_orders</th>\n",
       "    </tr>\n",
       "  </thead>\n",
       "  <tbody>\n",
       "    <tr>\n",
       "      <th>26491</th>\n",
       "      <td>2018-08-31 23:10:00</td>\n",
       "      <td>32</td>\n",
       "    </tr>\n",
       "    <tr>\n",
       "      <th>26492</th>\n",
       "      <td>2018-08-31 23:20:00</td>\n",
       "      <td>24</td>\n",
       "    </tr>\n",
       "    <tr>\n",
       "      <th>26493</th>\n",
       "      <td>2018-08-31 23:30:00</td>\n",
       "      <td>27</td>\n",
       "    </tr>\n",
       "    <tr>\n",
       "      <th>26494</th>\n",
       "      <td>2018-08-31 23:40:00</td>\n",
       "      <td>39</td>\n",
       "    </tr>\n",
       "    <tr>\n",
       "      <th>26495</th>\n",
       "      <td>2018-08-31 23:50:00</td>\n",
       "      <td>53</td>\n",
       "    </tr>\n",
       "  </tbody>\n",
       "</table>\n",
       "</div>"
      ],
      "text/plain": [
       "                 datetime  num_orders\n",
       "26491 2018-08-31 23:10:00          32\n",
       "26492 2018-08-31 23:20:00          24\n",
       "26493 2018-08-31 23:30:00          27\n",
       "26494 2018-08-31 23:40:00          39\n",
       "26495 2018-08-31 23:50:00          53"
      ]
     },
     "metadata": {},
     "output_type": "display_data"
    },
    {
     "name": "stdout",
     "output_type": "stream",
     "text": [
      "\n",
      "\n",
      "Количество признаков: 2, Количество наблюдений: 26496\n",
      "\n",
      "\n",
      "Информация о данных\n",
      "\n",
      "<class 'pandas.core.frame.DataFrame'>\n",
      "RangeIndex: 26496 entries, 0 to 26495\n",
      "Data columns (total 2 columns):\n",
      " #   Column      Non-Null Count  Dtype         \n",
      "---  ------      --------------  -----         \n",
      " 0   datetime    26496 non-null  datetime64[ns]\n",
      " 1   num_orders  26496 non-null  int64         \n",
      "dtypes: datetime64[ns](1), int64(1)\n",
      "memory usage: 414.1 KB\n"
     ]
    },
    {
     "data": {
      "text/plain": [
       "None"
      ]
     },
     "metadata": {},
     "output_type": "display_data"
    },
    {
     "name": "stdout",
     "output_type": "stream",
     "text": [
      "\n",
      "\n",
      "Количество полных дубликатов в данных: 0\n",
      "\n",
      "\n",
      "Описательная статистика \n"
     ]
    },
    {
     "data": {
      "text/html": [
       "<div>\n",
       "<style scoped>\n",
       "    .dataframe tbody tr th:only-of-type {\n",
       "        vertical-align: middle;\n",
       "    }\n",
       "\n",
       "    .dataframe tbody tr th {\n",
       "        vertical-align: top;\n",
       "    }\n",
       "\n",
       "    .dataframe thead th {\n",
       "        text-align: right;\n",
       "    }\n",
       "</style>\n",
       "<table border=\"1\" class=\"dataframe\">\n",
       "  <thead>\n",
       "    <tr style=\"text-align: right;\">\n",
       "      <th></th>\n",
       "      <th>num_orders</th>\n",
       "    </tr>\n",
       "  </thead>\n",
       "  <tbody>\n",
       "    <tr>\n",
       "      <th>count</th>\n",
       "      <td>26496.000000</td>\n",
       "    </tr>\n",
       "    <tr>\n",
       "      <th>mean</th>\n",
       "      <td>14.070463</td>\n",
       "    </tr>\n",
       "    <tr>\n",
       "      <th>std</th>\n",
       "      <td>9.211330</td>\n",
       "    </tr>\n",
       "    <tr>\n",
       "      <th>min</th>\n",
       "      <td>0.000000</td>\n",
       "    </tr>\n",
       "    <tr>\n",
       "      <th>25%</th>\n",
       "      <td>8.000000</td>\n",
       "    </tr>\n",
       "    <tr>\n",
       "      <th>50%</th>\n",
       "      <td>13.000000</td>\n",
       "    </tr>\n",
       "    <tr>\n",
       "      <th>75%</th>\n",
       "      <td>19.000000</td>\n",
       "    </tr>\n",
       "    <tr>\n",
       "      <th>max</th>\n",
       "      <td>119.000000</td>\n",
       "    </tr>\n",
       "  </tbody>\n",
       "</table>\n",
       "</div>"
      ],
      "text/plain": [
       "         num_orders\n",
       "count  26496.000000\n",
       "mean      14.070463\n",
       "std        9.211330\n",
       "min        0.000000\n",
       "25%        8.000000\n",
       "50%       13.000000\n",
       "75%       19.000000\n",
       "max      119.000000"
      ]
     },
     "metadata": {},
     "output_type": "display_data"
    }
   ],
   "source": [
    "data_info(df)"
   ]
  },
  {
   "cell_type": "markdown",
   "metadata": {},
   "source": [
    "Обзор данных показывает:\n",
    "* у нас имеются два столбца\n",
    " - `datetime` - временные промежутки в 10 минут\n",
    " - `num_orders` - количество заказов, является целевым признаком\n",
    "* `datetime` на этапе экспортирования файла преобразовали в тип datetime64.\n",
    "* пропусков, полных дубликатов  в данных нет\n",
    "* в данных представлено 26 415 записей\n",
    "* согласно описательной статистике в значениях целевого признака выбросы."
   ]
  },
  {
   "cell_type": "markdown",
   "metadata": {},
   "source": [
    "Учитывая вышеизложенное:\n",
    "1. Установим временной признак в качестве индекса.\n",
    "2. Проверим отсортированы ли данные во времени. Отсортируем данные во времени в случае необходимости\n",
    "3. Проверим целевой признак на адекватность значений\n",
    "4. Проведем ресемплирование данных по 1 часу\n",
    "5. Проанализируем полученные данные"
   ]
  },
  {
   "cell_type": "markdown",
   "metadata": {},
   "source": [
    "<div class=\"alert alert-success\">\n",
    "<b>1 Комментарий ревьюера ✔️:</b>\n",
    "    \n",
    "Хороший вводный анализ!"
   ]
  },
  {
   "cell_type": "markdown",
   "metadata": {},
   "source": [
    "## Анализ"
   ]
  },
  {
   "cell_type": "code",
   "execution_count": 14,
   "metadata": {},
   "outputs": [
    {
     "name": "stdout",
     "output_type": "stream",
     "text": [
      "<class 'pandas.core.frame.DataFrame'>\n",
      "DatetimeIndex: 26496 entries, 2018-03-01 00:00:00 to 2018-08-31 23:50:00\n",
      "Data columns (total 1 columns):\n",
      " #   Column      Non-Null Count  Dtype\n",
      "---  ------      --------------  -----\n",
      " 0   num_orders  26496 non-null  int64\n",
      "dtypes: int64(1)\n",
      "memory usage: 414.0 KB\n"
     ]
    }
   ],
   "source": [
    "df.set_index('datetime', inplace=True)\n",
    "df.info()"
   ]
  },
  {
   "cell_type": "code",
   "execution_count": 15,
   "metadata": {},
   "outputs": [
    {
     "name": "stdout",
     "output_type": "stream",
     "text": [
      "Данные расположены в хронологическом порядке\n"
     ]
    }
   ],
   "source": [
    "if df.index.is_monotonic:\n",
    "    print('Данные расположены в хронологическом порядке')\n",
    "else:\n",
    "    print('Данные расположены не в хронологическом порядке, требуется сортировка')"
   ]
  },
  {
   "cell_type": "markdown",
   "metadata": {},
   "source": [
    "Таким образом, мы имеем отсортированные во времени данные с 01 марта 2018 по 31 августа 2018"
   ]
  },
  {
   "cell_type": "code",
   "execution_count": 16,
   "metadata": {},
   "outputs": [
    {
     "data": {
      "image/png": "[encoded data removed]",
      "text/plain": [
       "<Figure size 1008x432 with 2 Axes>"
      ]
     },
     "metadata": {},
     "output_type": "display_data"
    }
   ],
   "source": [
    "# построим распределение признака\n",
    "fig, axs = plt.subplots(1, 2, figsize=(14,6));\n",
    "fig. suptitle('Распределение признака num_orders');\n",
    "sns.boxplot(data=df, x='num_orders', ax=axs[0]);\n",
    "sns.histplot(data=df, x='num_orders',ax=axs[1]);"
   ]
  },
  {
   "cell_type": "markdown",
   "metadata": {},
   "source": [
    "Если количество заказов в районе 40-60 шт в 10 минут выглядят допустимыми, то 100 и более - уже вызывают сомнения. возможно этому есть логичное обоснование и это тренд по увеличению количества заказов у перевозчика.\n",
    "\n",
    "Проверим эти данные."
   ]
  },
  {
   "cell_type": "code",
   "execution_count": 17,
   "metadata": {},
   "outputs": [
    {
     "data": {
      "text/html": [
       "<div>\n",
       "<style scoped>\n",
       "    .dataframe tbody tr th:only-of-type {\n",
       "        vertical-align: middle;\n",
       "    }\n",
       "\n",
       "    .dataframe tbody tr th {\n",
       "        vertical-align: top;\n",
       "    }\n",
       "\n",
       "    .dataframe thead th {\n",
       "        text-align: right;\n",
       "    }\n",
       "</style>\n",
       "<table border=\"1\" class=\"dataframe\">\n",
       "  <thead>\n",
       "    <tr style=\"text-align: right;\">\n",
       "      <th></th>\n",
       "      <th>num_orders</th>\n",
       "    </tr>\n",
       "    <tr>\n",
       "      <th>datetime</th>\n",
       "      <th></th>\n",
       "    </tr>\n",
       "  </thead>\n",
       "  <tbody>\n",
       "    <tr>\n",
       "      <th>2018-08-13 02:20:00</th>\n",
       "      <td>119</td>\n",
       "    </tr>\n",
       "    <tr>\n",
       "      <th>2018-08-13 02:30:00</th>\n",
       "      <td>99</td>\n",
       "    </tr>\n",
       "    <tr>\n",
       "      <th>2018-08-20 02:00:00</th>\n",
       "      <td>87</td>\n",
       "    </tr>\n",
       "    <tr>\n",
       "      <th>2018-08-20 02:10:00</th>\n",
       "      <td>90</td>\n",
       "    </tr>\n",
       "    <tr>\n",
       "      <th>2018-08-20 02:20:00</th>\n",
       "      <td>94</td>\n",
       "    </tr>\n",
       "    <tr>\n",
       "      <th>2018-08-20 02:30:00</th>\n",
       "      <td>82</td>\n",
       "    </tr>\n",
       "    <tr>\n",
       "      <th>2018-08-20 04:00:00</th>\n",
       "      <td>91</td>\n",
       "    </tr>\n",
       "    <tr>\n",
       "      <th>2018-08-27 02:00:00</th>\n",
       "      <td>98</td>\n",
       "    </tr>\n",
       "    <tr>\n",
       "      <th>2018-08-27 02:10:00</th>\n",
       "      <td>119</td>\n",
       "    </tr>\n",
       "    <tr>\n",
       "      <th>2018-08-27 02:20:00</th>\n",
       "      <td>81</td>\n",
       "    </tr>\n",
       "    <tr>\n",
       "      <th>2018-08-30 17:50:00</th>\n",
       "      <td>95</td>\n",
       "    </tr>\n",
       "  </tbody>\n",
       "</table>\n",
       "</div>"
      ],
      "text/plain": [
       "                     num_orders\n",
       "datetime                       \n",
       "2018-08-13 02:20:00         119\n",
       "2018-08-13 02:30:00          99\n",
       "2018-08-20 02:00:00          87\n",
       "2018-08-20 02:10:00          90\n",
       "2018-08-20 02:20:00          94\n",
       "2018-08-20 02:30:00          82\n",
       "2018-08-20 04:00:00          91\n",
       "2018-08-27 02:00:00          98\n",
       "2018-08-27 02:10:00         119\n",
       "2018-08-27 02:20:00          81\n",
       "2018-08-30 17:50:00          95"
      ]
     },
     "execution_count": 17,
     "metadata": {},
     "output_type": "execute_result"
    }
   ],
   "source": [
    "# отберем максимальное количество заказов\n",
    "df.query('num_orders > 80')"
   ]
  },
  {
   "cell_type": "code",
   "execution_count": 18,
   "metadata": {},
   "outputs": [
    {
     "data": {
      "image/png": "[encoded data removed]",
      "text/plain": [
       "<Figure size 720x720 with 4 Axes>"
      ]
     },
     "metadata": {},
     "output_type": "display_data"
    }
   ],
   "source": [
    "fig, axs = plt.subplots(2,2, figsize=(10, 10));\n",
    "fig.suptitle('Пиковые значения числа заказов');\n",
    "# для 2018-08-13\n",
    "axs[0, 0].set_title('2018-08-13');\n",
    "axs[0, 0].set_xlabel('Время');\n",
    "axs[0, 0].set_ylabel('Количество заказов');\n",
    "axs[0, 0].plot(df['2018-08-13 02:00:00' : '2018-08-13 03:00:00']);\n",
    "\n",
    "# для 2018-08-20\n",
    "axs[0, 1].set_title('2018-08-20');\n",
    "axs[0, 1].set_xlabel('Время');\n",
    "axs[0, 1].set_ylabel('Количество заказов');\n",
    "axs[0, 1].plot(df['2018-08-20 02:00:00' : '2018-08-20 03:00:00']);\n",
    "\n",
    "# для 2018-08-20\n",
    "axs[1, 0].set_title('2018-08-27');\n",
    "axs[1, 0].set_xlabel('Время');\n",
    "axs[1, 0].set_ylabel('Количество заказов');\n",
    "axs[1 ,0].plot(df['2018-08-27 02:00:00' : '2018-08-27 03:00:00']);\n",
    "\n",
    "\n",
    "# для 2018-08-30\n",
    "axs[1, 1].set_title('2018-08-30');\n",
    "axs[1, 1].set_xlabel('Время');\n",
    "axs[1, 1].set_ylabel('Количество заказов');\n",
    "axs[1, 1].plot(df['2018-08-30 17:00:00' : '2018-08-30 18:00:00']);"
   ]
  },
  {
   "cell_type": "markdown",
   "metadata": {},
   "source": [
    "Судя по графикам и их периодичности, вполне вероятно, что были такие пиковые значения заказов.\n",
    "\n",
    "* Пики приходятся на 13/20/27 августа на ночное время в районе 2 часов ночи (ночь с воскресенья на понедельник), что легко объяснить возвращением отпускников, скорее всего это пассажиры чартерных рейсы.\n",
    "* Такое же основание может быть у пика 30/08/2018 в 17:50 - когда оставался 1 день до начала учебного года.\n",
    "\n",
    "На текущий момент оставим все как есть, проведем ресемплирование данных с временным интервалом 1 час.\n"
   ]
  },
  {
   "cell_type": "code",
   "execution_count": 19,
   "metadata": {},
   "outputs": [
    {
     "name": "stdout",
     "output_type": "stream",
     "text": [
      "Количество наблюдение стало :(4416, 1)\n"
     ]
    }
   ],
   "source": [
    "# укрупним данные с помощью ресемплирования\n",
    "df = df.resample('H').sum()\n",
    "print(f'Количество наблюдение стало :{df.shape}')"
   ]
  },
  {
   "cell_type": "code",
   "execution_count": 20,
   "metadata": {},
   "outputs": [
    {
     "data": {
      "image/png": "[encoded data removed]",
      "text/plain": [
       "<Figure size 864x360 with 1 Axes>"
      ]
     },
     "metadata": {},
     "output_type": "display_data"
    }
   ],
   "source": [
    "# построим график временного ряда\n",
    "plt.figure(figsize=(12, 5))\n",
    "plt.plot(df, label = 'число заказов в час')\n",
    "plt.plot(df.rolling(24).mean(), label = 'скользящее среднее за сутки')\n",
    "plt.plot(df.rolling(24).std(), label = 'скользящее стандартное отклонение', color='green')\n",
    "\n",
    "plt.legend(title='', loc='upper left', fontsize=10)\n",
    "plt.xlabel('время')\n",
    "plt.ylabel('число заказов')\n",
    "plt.title('число заказов по часам')\n",
    "plt.show;"
   ]
  },
  {
   "cell_type": "markdown",
   "metadata": {},
   "source": [
    "Точно напоминает кардиограмму, в которой без знаний в предметной области, ничего не понятно.\n",
    "\n",
    "Видно, что:\n",
    "* есть пики, которые возникают с периодичностью.\n",
    "* вроде бы есть восходящий тренд\n",
    "\n",
    "Посмотрим подробнее с помощью функция `seasonal_decompose()` модуля `tsa.seasonal`."
   ]
  },
  {
   "cell_type": "code",
   "execution_count": 21,
   "metadata": {},
   "outputs": [],
   "source": [
    "# декомпозиция на всем временном интервале\n",
    "decomposed_df = seasonal_decompose(df)"
   ]
  },
  {
   "cell_type": "code",
   "execution_count": 22,
   "metadata": {},
   "outputs": [
    {
     "data": {
      "image/png": "[encoded data removed]",
      "text/plain": [
       "<Figure size 864x648 with 3 Axes>"
      ]
     },
     "metadata": {},
     "output_type": "display_data"
    }
   ],
   "source": [
    "plt.figure(figsize=(12, 9))\n",
    "plt.subplot(311)\n",
    "\n",
    "decomposed_df.trend.plot(ax=plt.gca())\n",
    "plt.title('тренд')\n",
    "plt.subplot(312)\n",
    "\n",
    "decomposed_df.seasonal.plot(ax=plt.gca())\n",
    "plt.title('сезонная составляющая')\n",
    "plt.subplot(313)\n",
    "\n",
    "decomposed_df.resid.plot(ax=plt.gca())\n",
    "plt.title('остаток декомпозиции')\n",
    "plt.tight_layout()"
   ]
  },
  {
   "cell_type": "markdown",
   "metadata": {},
   "source": [
    "Посмотрим недельный срез"
   ]
  },
  {
   "cell_type": "code",
   "execution_count": 23,
   "metadata": {},
   "outputs": [
    {
     "data": {
      "image/png": "[encoded data removed]",
      "text/plain": [
       "<Figure size 864x648 with 2 Axes>"
      ]
     },
     "metadata": {},
     "output_type": "display_data"
    }
   ],
   "source": [
    "plt.figure(figsize=(12, 9))\n",
    "plt.suptitle('Тренд и сезонность в течении недели')\n",
    "\n",
    "plt.subplot(211)\n",
    "seasonal_decompose(df['2018-06-01' : '2018-06-07']).trend.plot(ax=plt.gca())\n",
    "plt.title('тренд')\n",
    "\n",
    "plt.subplot(212)\n",
    "seasonal_decompose(df['2018-06-01' : '2018-06-07']).seasonal.plot(ax=plt.gca())\n",
    "plt.title('сезонная составляющая');\n",
    "\n"
   ]
  },
  {
   "cell_type": "markdown",
   "metadata": {},
   "source": [
    "Проверим преположение о наличие сезонного фактора и тренда с помощью автокорреляционной функции"
   ]
  },
  {
   "cell_type": "code",
   "execution_count": 24,
   "metadata": {},
   "outputs": [
    {
     "data": {
      "image/png": "[encoded data removed]",
      "text/plain": [
       "<Figure size 864x576 with 2 Axes>"
      ]
     },
     "metadata": {},
     "output_type": "display_data"
    }
   ],
   "source": [
    "# применим функцию к нашему набору данных\n",
    "fig = plt.figure(figsize=(12,8))\n",
    "ax1 = fig.add_subplot(211)\n",
    "fig = plot_acf(df.values.squeeze(), lags=50, ax=ax1)\n",
    "ax2 = fig.add_subplot(212)\n",
    "fig = plot_pacf(df, lags=50, ax=ax2, method='yw')"
   ]
  },
  {
   "cell_type": "markdown",
   "metadata": {},
   "source": [
    "После декомпозиции и постоения автоорреляции явно видно наличие:\n",
    " * возрастающего тренда в числе заказов\n",
    " * наличии \"сезонности\""
   ]
  },
  {
   "cell_type": "markdown",
   "metadata": {},
   "source": [
    "Также  проверим стационарность процесса еще с помощью статистических тестов из библиотеки statsmodels:\n",
    "* `adfuller`\n",
    "* `kpss`\n",
    "\n",
    "Согласно документации `statsmodels` эти два теста рекомендуется проводить для определения стационарности временного ряда. И уже  зависимости их полученного результата делать выводы о характере процесса.\n",
    "\n",
    "Нулевая гипотеза $H_0$ состоит в том, что в ряду имеются единичные корни, ряд нестационарен\n",
    "\n",
    "Альтернативная гипотеза $H_1$ - нет единичных корней и следовательно ряд стационарен"
   ]
  },
  {
   "cell_type": "markdown",
   "metadata": {},
   "source": [
    "`ADF test`:\n",
    "\n",
    "* $H_0$ состоит в том, что в ряду имеются единичные корни, ряд нестационарен\n",
    "\n",
    "* $H_1$ - нет единичных корней и следовательно ряд стационарен"
   ]
  },
  {
   "cell_type": "code",
   "execution_count": 25,
   "metadata": {},
   "outputs": [
    {
     "name": "stdout",
     "output_type": "stream",
     "text": [
      "Results of Dickey-Fuller Test:\n",
      "Test Statistic                   -3.068924\n",
      "p-value                           0.028940\n",
      "#Lags Used                       30.000000\n",
      "Number of Observations Used    4385.000000\n",
      "Critical Value (1%)              -3.431842\n",
      "Critical Value (5%)              -2.862199\n",
      "Critical Value (10%)             -2.567121\n",
      "dtype: float64\n"
     ]
    }
   ],
   "source": [
    "print(\"Results of Dickey-Fuller Test:\")\n",
    "dftest = adfuller(df['num_orders'], autolag=\"AIC\")\n",
    "dfoutput = pd.Series(\n",
    "    dftest[0:4],\n",
    "    index=[\n",
    "        \"Test Statistic\",\n",
    "        \"p-value\",\n",
    "        \"#Lags Used\",\n",
    "        \"Number of Observations Used\",\n",
    "        ],\n",
    "    )\n",
    "for key, value in dftest[4].items():\n",
    "    dfoutput[\"Critical Value (%s)\" % key] = value\n",
    "print(dfoutput)"
   ]
  },
  {
   "cell_type": "markdown",
   "metadata": {},
   "source": [
    "`KPSS test`:\n",
    "* $H_0$ - процесс стационарен\n",
    "\n",
    "* $H_1$ - процесс нестационарен"
   ]
  },
  {
   "cell_type": "code",
   "execution_count": 26,
   "metadata": {},
   "outputs": [
    {
     "name": "stdout",
     "output_type": "stream",
     "text": [
      "Results of KPSS Test:\n",
      "Test Statistic           10.913353\n",
      "p-value                   0.010000\n",
      "Lags Used                32.000000\n",
      "Critical Value (10%)      0.347000\n",
      "Critical Value (5%)       0.463000\n",
      "Critical Value (2.5%)     0.574000\n",
      "Critical Value (1%)       0.739000\n",
      "dtype: float64\n"
     ]
    }
   ],
   "source": [
    "print(\"Results of KPSS Test:\")\n",
    "kpsstest = kpss(df)\n",
    "kpss_output = pd.Series(\n",
    "    kpsstest[0:3], \n",
    "    index=[\n",
    "        \"Test Statistic\", \n",
    "        \"p-value\", \n",
    "        \"Lags Used\"]\n",
    ")\n",
    "for key, value in kpsstest[3].items():\n",
    "    kpss_output[\"Critical Value (%s)\" % key] = value\n",
    "print(kpss_output)"
   ]
  },
  {
   "cell_type": "markdown",
   "metadata": {},
   "source": [
    "Учитывая результаты тестов и данные документации делаем вывод о том, что\n",
    "* исходный ряд является нестационарным\n",
    "* этом разность временного ряда является стационарным.\n",
    "\n",
    "Это необходимо учитывать при выборе моделей для прогнозирования."
   ]
  },
  {
   "cell_type": "markdown",
   "metadata": {},
   "source": [
    "Рассмотрим несколько модификаций исходных данных:\n",
    "* с дополнительными категориальными признаками \n",
    "* с лагами от целевого показателя\n",
    "* со скользящим средним"
   ]
  },
  {
   "cell_type": "markdown",
   "metadata": {},
   "source": [
    "Разобем наши данные на обучающую и тестовую выборки"
   ]
  },
  {
   "cell_type": "code",
   "execution_count": 27,
   "metadata": {},
   "outputs": [],
   "source": [
    "# дополнительные категориальные фичи\n",
    "df_f = df.copy(deep=True)\n",
    "df_f, numerical_features_f = make_features(df_f, max_lag=0, rolling_mean_size=0)"
   ]
  },
  {
   "cell_type": "code",
   "execution_count": 28,
   "metadata": {
    "scrolled": true
   },
   "outputs": [
    {
     "name": "stdout",
     "output_type": "stream",
     "text": [
      "Проверка хронологии обучающей и тестовой выборки:\n",
      "\n",
      "Train размер: (3974, 3)\n",
      "\n",
      "Дата начала наблюдений: 2018-03-01 00:00:00. \n",
      "Дата окончания наблюдений:2018-08-13 13:00:00\n",
      "\n",
      "Временной отрезок: 165 days 13:00:00\n",
      "\n",
      "Test размер: (442, 3)\n",
      "\n",
      "Дата начала наблюдений: 2018-08-13 14:00:00. \n",
      "Дата окончания наблюдений:2018-08-31 23:00:00\n",
      "\n",
      "Временной отрезок: 18 days 09:00:00\n"
     ]
    }
   ],
   "source": [
    "(features_train_f, target_train_f, \n",
    " features_test_f, target_test_f) = df_train_test(df_f, 'num_orders')"
   ]
  },
  {
   "cell_type": "code",
   "execution_count": 29,
   "metadata": {},
   "outputs": [
    {
     "name": "stdout",
     "output_type": "stream",
     "text": [
      "Проверка хронологии обучающей и тестовой выборки:\n",
      "\n",
      "Train размер: (3963, 15)\n",
      "\n",
      "Дата начала наблюдений: 2018-03-01 12:00:00. \n",
      "Дата окончания наблюдений:2018-08-13 14:00:00\n",
      "\n",
      "Временной отрезок: 165 days 02:00:00\n",
      "\n",
      "Test размер: (441, 15)\n",
      "\n",
      "Дата начала наблюдений: 2018-08-13 15:00:00. \n",
      "Дата окончания наблюдений:2018-08-31 23:00:00\n",
      "\n",
      "Временной отрезок: 18 days 08:00:00\n"
     ]
    }
   ],
   "source": [
    "# добавим лаги\n",
    "df_lag = df.copy(deep=True)\n",
    "df_lag, numerical_features_lag = make_features(df_lag,\n",
    "                                               max_lag=12,\n",
    "                                               rolling_mean_size=0)\n",
    "\n",
    "(features_train_lag, target_train_lag, \n",
    "features_test_lag, target_test_lag) = df_train_test(df_lag, 'num_orders')"
   ]
  },
  {
   "cell_type": "code",
   "execution_count": 30,
   "metadata": {},
   "outputs": [
    {
     "name": "stdout",
     "output_type": "stream",
     "text": [
      "Проверка хронологии обучающей и тестовой выборки:\n",
      "\n",
      "Train размер: (3969, 4)\n",
      "\n",
      "Дата начала наблюдений: 2018-03-01 06:00:00. \n",
      "Дата окончания наблюдений:2018-08-13 14:00:00\n",
      "\n",
      "Временной отрезок: 165 days 08:00:00\n",
      "\n",
      "Test размер: (441, 4)\n",
      "\n",
      "Дата начала наблюдений: 2018-08-13 15:00:00. \n",
      "Дата окончания наблюдений:2018-08-31 23:00:00\n",
      "\n",
      "Временной отрезок: 18 days 08:00:00\n"
     ]
    }
   ],
   "source": [
    "# добавим скользящее среднее\n",
    "df_ma = df.copy(deep=True)\n",
    "df_ma, numerical_features_ma = make_features(df_ma, \n",
    "                                             max_lag=0,\n",
    "                                             rolling_mean_size=6)\n",
    "\n",
    "(features_train_ma, target_train_ma, \n",
    "features_test_ma, target_test_ma) = df_train_test(df_ma, 'num_orders')"
   ]
  },
  {
   "cell_type": "code",
   "execution_count": 31,
   "metadata": {},
   "outputs": [
    {
     "name": "stdout",
     "output_type": "stream",
     "text": [
      "Проверка хронологии обучающей и тестовой выборки:\n",
      "\n",
      "Train размер: (3963, 16)\n",
      "\n",
      "Дата начала наблюдений: 2018-03-01 12:00:00. \n",
      "Дата окончания наблюдений:2018-08-13 14:00:00\n",
      "\n",
      "Временной отрезок: 165 days 02:00:00\n",
      "\n",
      "Test размер: (441, 16)\n",
      "\n",
      "Дата начала наблюдений: 2018-08-13 15:00:00. \n",
      "Дата окончания наблюдений:2018-08-31 23:00:00\n",
      "\n",
      "Временной отрезок: 18 days 08:00:00\n"
     ]
    }
   ],
   "source": [
    "# соединим все вместе\n",
    "df_all = df.copy(deep=True)\n",
    "df_all, numerical_features_all = make_features(df_all, \n",
    "                                               max_lag=12, \n",
    "                                               rolling_mean_size=6)\n",
    "\n",
    "(features_train_all, target_train_all, \n",
    " features_test_all, target_test_all) = df_train_test(df_all, 'num_orders')"
   ]
  },
  {
   "cell_type": "markdown",
   "metadata": {},
   "source": [
    "## Обучение"
   ]
  },
  {
   "cell_type": "markdown",
   "metadata": {},
   "source": [
    "Начнем подбор моделей с **LinearRegression**:"
   ]
  },
  {
   "cell_type": "code",
   "execution_count": 32,
   "metadata": {},
   "outputs": [],
   "source": [
    "# определяем признаки\n",
    "categorical_features = ['dayofweek', 'hour']"
   ]
  },
  {
   "cell_type": "code",
   "execution_count": 33,
   "metadata": {},
   "outputs": [],
   "source": [
    "# списко для агрегации результатов\n",
    "list_best_params = []"
   ]
  },
  {
   "cell_type": "code",
   "execution_count": 34,
   "metadata": {},
   "outputs": [
    {
     "name": "stdout",
     "output_type": "stream",
     "text": [
      "Fitting 3 folds for each of 1 candidates, totalling 3 fits\n",
      "Fitting 3 folds for each of 1 candidates, totalling 3 fits\n",
      "Fitting 3 folds for each of 1 candidates, totalling 3 fits\n",
      "Fitting 3 folds for each of 1 candidates, totalling 3 fits\n"
     ]
    }
   ],
   "source": [
    "# подберем для каждой модификации гиперпараметры\n",
    "# задаем модель\n",
    "model_lr = LinearRegression()\n",
    "# гиперпараметры для поиска\n",
    "params_lr = {}\n",
    "    \n",
    "model_diff_features(model_lr, params_lr)  "
   ]
  },
  {
   "cell_type": "code",
   "execution_count": 35,
   "metadata": {},
   "outputs": [
    {
     "data": {
      "text/html": [
       "<div>\n",
       "<style scoped>\n",
       "    .dataframe tbody tr th:only-of-type {\n",
       "        vertical-align: middle;\n",
       "    }\n",
       "\n",
       "    .dataframe tbody tr th {\n",
       "        vertical-align: top;\n",
       "    }\n",
       "\n",
       "    .dataframe thead th {\n",
       "        text-align: right;\n",
       "    }\n",
       "</style>\n",
       "<table border=\"1\" class=\"dataframe\">\n",
       "  <thead>\n",
       "    <tr style=\"text-align: right;\">\n",
       "      <th></th>\n",
       "      <th>features_type</th>\n",
       "      <th>model</th>\n",
       "      <th>model_params</th>\n",
       "      <th>RSME</th>\n",
       "      <th>time_search</th>\n",
       "      <th>time_fit</th>\n",
       "      <th>time_predict</th>\n",
       "    </tr>\n",
       "  </thead>\n",
       "  <tbody>\n",
       "    <tr>\n",
       "      <th>0</th>\n",
       "      <td>date_features</td>\n",
       "      <td>LinearRegression()</td>\n",
       "      <td>{}</td>\n",
       "      <td>35.060612</td>\n",
       "      <td>0 days 00:00:03.892783</td>\n",
       "      <td>0 days 00:00:00.008007</td>\n",
       "      <td>0 days 00:00:00.003003</td>\n",
       "    </tr>\n",
       "    <tr>\n",
       "      <th>1</th>\n",
       "      <td>lag_features</td>\n",
       "      <td>LinearRegression()</td>\n",
       "      <td>{}</td>\n",
       "      <td>26.655207</td>\n",
       "      <td>0 days 00:00:00.947863</td>\n",
       "      <td>0 days 00:00:00.015013</td>\n",
       "      <td>0 days 00:00:00.006005</td>\n",
       "    </tr>\n",
       "    <tr>\n",
       "      <th>2</th>\n",
       "      <td>rolling_mean</td>\n",
       "      <td>LinearRegression()</td>\n",
       "      <td>{}</td>\n",
       "      <td>28.041436</td>\n",
       "      <td>0 days 00:00:00.933851</td>\n",
       "      <td>0 days 00:00:00.010010</td>\n",
       "      <td>0 days 00:00:00.004004</td>\n",
       "    </tr>\n",
       "    <tr>\n",
       "      <th>3</th>\n",
       "      <td>all_features</td>\n",
       "      <td>LinearRegression()</td>\n",
       "      <td>{}</td>\n",
       "      <td>26.644272</td>\n",
       "      <td>0 days 00:00:00.912832</td>\n",
       "      <td>0 days 00:00:00.013011</td>\n",
       "      <td>0 days 00:00:00.005003</td>\n",
       "    </tr>\n",
       "  </tbody>\n",
       "</table>\n",
       "</div>"
      ],
      "text/plain": [
       "   features_type               model model_params       RSME            time_search               time_fit           time_predict\n",
       "0  date_features  LinearRegression()           {}  35.060612 0 days 00:00:03.892783 0 days 00:00:00.008007 0 days 00:00:00.003003\n",
       "1   lag_features  LinearRegression()           {}  26.655207 0 days 00:00:00.947863 0 days 00:00:00.015013 0 days 00:00:00.006005\n",
       "2   rolling_mean  LinearRegression()           {}  28.041436 0 days 00:00:00.933851 0 days 00:00:00.010010 0 days 00:00:00.004004\n",
       "3   all_features  LinearRegression()           {}  26.644272 0 days 00:00:00.912832 0 days 00:00:00.013011 0 days 00:00:00.005003"
      ]
     },
     "metadata": {},
     "output_type": "display_data"
    }
   ],
   "source": [
    "print_result(list_best_params)"
   ]
  },
  {
   "cell_type": "markdown",
   "metadata": {},
   "source": [
    "**Ridge**"
   ]
  },
  {
   "cell_type": "code",
   "execution_count": 36,
   "metadata": {},
   "outputs": [
    {
     "name": "stdout",
     "output_type": "stream",
     "text": [
      "Fitting 3 folds for each of 16 candidates, totalling 48 fits\n",
      "Fitting 3 folds for each of 16 candidates, totalling 48 fits\n",
      "Fitting 3 folds for each of 16 candidates, totalling 48 fits\n",
      "Fitting 3 folds for each of 16 candidates, totalling 48 fits\n"
     ]
    }
   ],
   "source": [
    "# подберем для каждой модификации гиперпараметры\n",
    "# задаем модель\n",
    "model_r = Ridge(random_state=RS)\n",
    "# гиперпараметры для поиска\n",
    "params_r = {'model__alpha': [0.0001, 0.01, 0.1, 1],\n",
    "            'model__solver': ['svd', 'lsqr', 'sparse_cg', 'sag']}\n",
    "    \n",
    "model_diff_features(model_r, params_r)  "
   ]
  },
  {
   "cell_type": "code",
   "execution_count": 37,
   "metadata": {},
   "outputs": [
    {
     "data": {
      "text/html": [
       "<div>\n",
       "<style scoped>\n",
       "    .dataframe tbody tr th:only-of-type {\n",
       "        vertical-align: middle;\n",
       "    }\n",
       "\n",
       "    .dataframe tbody tr th {\n",
       "        vertical-align: top;\n",
       "    }\n",
       "\n",
       "    .dataframe thead th {\n",
       "        text-align: right;\n",
       "    }\n",
       "</style>\n",
       "<table border=\"1\" class=\"dataframe\">\n",
       "  <thead>\n",
       "    <tr style=\"text-align: right;\">\n",
       "      <th></th>\n",
       "      <th>features_type</th>\n",
       "      <th>model</th>\n",
       "      <th>model_params</th>\n",
       "      <th>RSME</th>\n",
       "      <th>time_search</th>\n",
       "      <th>time_fit</th>\n",
       "      <th>time_predict</th>\n",
       "    </tr>\n",
       "  </thead>\n",
       "  <tbody>\n",
       "    <tr>\n",
       "      <th>0</th>\n",
       "      <td>date_features</td>\n",
       "      <td>LinearRegression()</td>\n",
       "      <td>{}</td>\n",
       "      <td>35.060612</td>\n",
       "      <td>0 days 00:00:03.892783</td>\n",
       "      <td>0 days 00:00:00.008007</td>\n",
       "      <td>0 days 00:00:00.003003</td>\n",
       "    </tr>\n",
       "    <tr>\n",
       "      <th>1</th>\n",
       "      <td>lag_features</td>\n",
       "      <td>LinearRegression()</td>\n",
       "      <td>{}</td>\n",
       "      <td>26.655207</td>\n",
       "      <td>0 days 00:00:00.947863</td>\n",
       "      <td>0 days 00:00:00.015013</td>\n",
       "      <td>0 days 00:00:00.006005</td>\n",
       "    </tr>\n",
       "    <tr>\n",
       "      <th>2</th>\n",
       "      <td>rolling_mean</td>\n",
       "      <td>LinearRegression()</td>\n",
       "      <td>{}</td>\n",
       "      <td>28.041436</td>\n",
       "      <td>0 days 00:00:00.933851</td>\n",
       "      <td>0 days 00:00:00.010010</td>\n",
       "      <td>0 days 00:00:00.004004</td>\n",
       "    </tr>\n",
       "    <tr>\n",
       "      <th>3</th>\n",
       "      <td>all_features</td>\n",
       "      <td>LinearRegression()</td>\n",
       "      <td>{}</td>\n",
       "      <td>26.644272</td>\n",
       "      <td>0 days 00:00:00.912832</td>\n",
       "      <td>0 days 00:00:00.013011</td>\n",
       "      <td>0 days 00:00:00.005003</td>\n",
       "    </tr>\n",
       "    <tr>\n",
       "      <th>4</th>\n",
       "      <td>date_features</td>\n",
       "      <td>Ridge(alpha=0.0001, random_state=2023, solver='sag')</td>\n",
       "      <td>{'model__alpha': 0.0001, 'model__solver': 'sag'}</td>\n",
       "      <td>35.056847</td>\n",
       "      <td>0 days 00:00:01.024046</td>\n",
       "      <td>0 days 00:00:00.016901</td>\n",
       "      <td>0 days 00:00:00.003003</td>\n",
       "    </tr>\n",
       "    <tr>\n",
       "      <th>5</th>\n",
       "      <td>lag_features</td>\n",
       "      <td>Ridge(alpha=0.0001, random_state=2023, solver='sag')</td>\n",
       "      <td>{'model__alpha': 0.0001, 'model__solver': 'sag'}</td>\n",
       "      <td>26.649666</td>\n",
       "      <td>0 days 00:00:00.279255</td>\n",
       "      <td>0 days 00:00:00.038034</td>\n",
       "      <td>0 days 00:00:00.005005</td>\n",
       "    </tr>\n",
       "    <tr>\n",
       "      <th>6</th>\n",
       "      <td>rolling_mean</td>\n",
       "      <td>Ridge(alpha=0.0001, random_state=2023, solver='sag')</td>\n",
       "      <td>{'model__alpha': 0.0001, 'model__solver': 'sag'}</td>\n",
       "      <td>28.041429</td>\n",
       "      <td>0 days 00:00:00.181164</td>\n",
       "      <td>0 days 00:00:00.015015</td>\n",
       "      <td>0 days 00:00:00.005004</td>\n",
       "    </tr>\n",
       "    <tr>\n",
       "      <th>7</th>\n",
       "      <td>all_features</td>\n",
       "      <td>Ridge(alpha=0.0001, random_state=2023, solver='lsqr')</td>\n",
       "      <td>{'model__alpha': 0.0001, 'model__solver': 'lsqr'}</td>\n",
       "      <td>26.633107</td>\n",
       "      <td>0 days 00:00:00.250228</td>\n",
       "      <td>0 days 00:00:00.011010</td>\n",
       "      <td>0 days 00:00:00.005004</td>\n",
       "    </tr>\n",
       "  </tbody>\n",
       "</table>\n",
       "</div>"
      ],
      "text/plain": [
       "   features_type                                                  model                                       model_params       RSME            time_search               time_fit           time_predict\n",
       "0  date_features                                     LinearRegression()                                                 {}  35.060612 0 days 00:00:03.892783 0 days 00:00:00.008007 0 days 00:00:00.003003\n",
       "1   lag_features                                     LinearRegression()                                                 {}  26.655207 0 days 00:00:00.947863 0 days 00:00:00.015013 0 days 00:00:00.006005\n",
       "2   rolling_mean                                     LinearRegression()                                                 {}  28.041436 0 days 00:00:00.933851 0 days 00:00:00.010010 0 days 00:00:00.004004\n",
       "3   all_features                                     LinearRegression()                                                 {}  26.644272 0 days 00:00:00.912832 0 days 00:00:00.013011 0 days 00:00:00.005003\n",
       "4  date_features   Ridge(alpha=0.0001, random_state=2023, solver='sag')   {'model__alpha': 0.0001, 'model__solver': 'sag'}  35.056847 0 days 00:00:01.024046 0 days 00:00:00.016901 0 days 00:00:00.003003\n",
       "5   lag_features   Ridge(alpha=0.0001, random_state=2023, solver='sag')   {'model__alpha': 0.0001, 'model__solver': 'sag'}  26.649666 0 days 00:00:00.279255 0 days 00:00:00.038034 0 days 00:00:00.005005\n",
       "6   rolling_mean   Ridge(alpha=0.0001, random_state=2023, solver='sag')   {'model__alpha': 0.0001, 'model__solver': 'sag'}  28.041429 0 days 00:00:00.181164 0 days 00:00:00.015015 0 days 00:00:00.005004\n",
       "7   all_features  Ridge(alpha=0.0001, random_state=2023, solver='lsqr')  {'model__alpha': 0.0001, 'model__solver': 'lsqr'}  26.633107 0 days 00:00:00.250228 0 days 00:00:00.011010 0 days 00:00:00.005004"
      ]
     },
     "metadata": {},
     "output_type": "display_data"
    }
   ],
   "source": [
    "# табличка с оптимизированными гиперпараметрами\n",
    "print_result(list_best_params)"
   ]
  },
  {
   "cell_type": "markdown",
   "metadata": {},
   "source": [
    "**DecisionTreeRegressor**\n",
    "\n",
    "Проверим как себя поведет базовая \"деревянная\" модель"
   ]
  },
  {
   "cell_type": "code",
   "execution_count": 38,
   "metadata": {},
   "outputs": [
    {
     "name": "stdout",
     "output_type": "stream",
     "text": [
      "Fitting 3 folds for each of 5 candidates, totalling 15 fits\n",
      "Fitting 3 folds for each of 5 candidates, totalling 15 fits\n",
      "Fitting 3 folds for each of 5 candidates, totalling 15 fits\n",
      "Fitting 3 folds for each of 5 candidates, totalling 15 fits\n"
     ]
    }
   ],
   "source": [
    "# подберем для каждой модификации гиперпараметры\n",
    "# задаем модель\n",
    "model_dt = DecisionTreeRegressor(random_state=RS)\n",
    "# гиперпараметры для поиска\n",
    "params_dt = {'model__max_depth': [None] + [i for i in range(6, 10)]}\n",
    "    \n",
    "model_diff_features(model_dt, params_dt)  "
   ]
  },
  {
   "cell_type": "code",
   "execution_count": 39,
   "metadata": {},
   "outputs": [
    {
     "data": {
      "text/html": [
       "<div>\n",
       "<style scoped>\n",
       "    .dataframe tbody tr th:only-of-type {\n",
       "        vertical-align: middle;\n",
       "    }\n",
       "\n",
       "    .dataframe tbody tr th {\n",
       "        vertical-align: top;\n",
       "    }\n",
       "\n",
       "    .dataframe thead th {\n",
       "        text-align: right;\n",
       "    }\n",
       "</style>\n",
       "<table border=\"1\" class=\"dataframe\">\n",
       "  <thead>\n",
       "    <tr style=\"text-align: right;\">\n",
       "      <th></th>\n",
       "      <th>features_type</th>\n",
       "      <th>model</th>\n",
       "      <th>model_params</th>\n",
       "      <th>RSME</th>\n",
       "      <th>time_search</th>\n",
       "      <th>time_fit</th>\n",
       "      <th>time_predict</th>\n",
       "    </tr>\n",
       "  </thead>\n",
       "  <tbody>\n",
       "    <tr>\n",
       "      <th>0</th>\n",
       "      <td>date_features</td>\n",
       "      <td>LinearRegression()</td>\n",
       "      <td>{}</td>\n",
       "      <td>35.060612</td>\n",
       "      <td>0 days 00:00:03.892783</td>\n",
       "      <td>0 days 00:00:00.008007</td>\n",
       "      <td>0 days 00:00:00.003003</td>\n",
       "    </tr>\n",
       "    <tr>\n",
       "      <th>1</th>\n",
       "      <td>lag_features</td>\n",
       "      <td>LinearRegression()</td>\n",
       "      <td>{}</td>\n",
       "      <td>26.655207</td>\n",
       "      <td>0 days 00:00:00.947863</td>\n",
       "      <td>0 days 00:00:00.015013</td>\n",
       "      <td>0 days 00:00:00.006005</td>\n",
       "    </tr>\n",
       "    <tr>\n",
       "      <th>2</th>\n",
       "      <td>rolling_mean</td>\n",
       "      <td>LinearRegression()</td>\n",
       "      <td>{}</td>\n",
       "      <td>28.041436</td>\n",
       "      <td>0 days 00:00:00.933851</td>\n",
       "      <td>0 days 00:00:00.010010</td>\n",
       "      <td>0 days 00:00:00.004004</td>\n",
       "    </tr>\n",
       "    <tr>\n",
       "      <th>3</th>\n",
       "      <td>all_features</td>\n",
       "      <td>LinearRegression()</td>\n",
       "      <td>{}</td>\n",
       "      <td>26.644272</td>\n",
       "      <td>0 days 00:00:00.912832</td>\n",
       "      <td>0 days 00:00:00.013011</td>\n",
       "      <td>0 days 00:00:00.005003</td>\n",
       "    </tr>\n",
       "    <tr>\n",
       "      <th>4</th>\n",
       "      <td>date_features</td>\n",
       "      <td>Ridge(alpha=0.0001, random_state=2023, solver='sag')</td>\n",
       "      <td>{'model__alpha': 0.0001, 'model__solver': 'sag'}</td>\n",
       "      <td>35.056847</td>\n",
       "      <td>0 days 00:00:01.024046</td>\n",
       "      <td>0 days 00:00:00.016901</td>\n",
       "      <td>0 days 00:00:00.003003</td>\n",
       "    </tr>\n",
       "    <tr>\n",
       "      <th>5</th>\n",
       "      <td>lag_features</td>\n",
       "      <td>Ridge(alpha=0.0001, random_state=2023, solver='sag')</td>\n",
       "      <td>{'model__alpha': 0.0001, 'model__solver': 'sag'}</td>\n",
       "      <td>26.649666</td>\n",
       "      <td>0 days 00:00:00.279255</td>\n",
       "      <td>0 days 00:00:00.038034</td>\n",
       "      <td>0 days 00:00:00.005005</td>\n",
       "    </tr>\n",
       "    <tr>\n",
       "      <th>6</th>\n",
       "      <td>rolling_mean</td>\n",
       "      <td>Ridge(alpha=0.0001, random_state=2023, solver='sag')</td>\n",
       "      <td>{'model__alpha': 0.0001, 'model__solver': 'sag'}</td>\n",
       "      <td>28.041429</td>\n",
       "      <td>0 days 00:00:00.181164</td>\n",
       "      <td>0 days 00:00:00.015015</td>\n",
       "      <td>0 days 00:00:00.005004</td>\n",
       "    </tr>\n",
       "    <tr>\n",
       "      <th>7</th>\n",
       "      <td>all_features</td>\n",
       "      <td>Ridge(alpha=0.0001, random_state=2023, solver='lsqr')</td>\n",
       "      <td>{'model__alpha': 0.0001, 'model__solver': 'lsqr'}</td>\n",
       "      <td>26.633107</td>\n",
       "      <td>0 days 00:00:00.250228</td>\n",
       "      <td>0 days 00:00:00.011010</td>\n",
       "      <td>0 days 00:00:00.005004</td>\n",
       "    </tr>\n",
       "    <tr>\n",
       "      <th>8</th>\n",
       "      <td>date_features</td>\n",
       "      <td>DecisionTreeRegressor(random_state=2023)</td>\n",
       "      <td>{'model__max_depth': None}</td>\n",
       "      <td>34.378876</td>\n",
       "      <td>0 days 00:00:00.125114</td>\n",
       "      <td>0 days 00:00:00.010009</td>\n",
       "      <td>0 days 00:00:00.003003</td>\n",
       "    </tr>\n",
       "    <tr>\n",
       "      <th>9</th>\n",
       "      <td>lag_features</td>\n",
       "      <td>DecisionTreeRegressor(max_depth=7, random_state=2023)</td>\n",
       "      <td>{'model__max_depth': 7}</td>\n",
       "      <td>31.696340</td>\n",
       "      <td>0 days 00:00:00.125114</td>\n",
       "      <td>0 days 00:00:00.028025</td>\n",
       "      <td>0 days 00:00:00.005005</td>\n",
       "    </tr>\n",
       "    <tr>\n",
       "      <th>10</th>\n",
       "      <td>rolling_mean</td>\n",
       "      <td>DecisionTreeRegressor(max_depth=9, random_state=2023)</td>\n",
       "      <td>{'model__max_depth': 9}</td>\n",
       "      <td>29.812883</td>\n",
       "      <td>0 days 00:00:00.103093</td>\n",
       "      <td>0 days 00:00:00.016015</td>\n",
       "      <td>0 days 00:00:00.004007</td>\n",
       "    </tr>\n",
       "    <tr>\n",
       "      <th>11</th>\n",
       "      <td>all_features</td>\n",
       "      <td>DecisionTreeRegressor(max_depth=6, random_state=2023)</td>\n",
       "      <td>{'model__max_depth': 6}</td>\n",
       "      <td>32.600171</td>\n",
       "      <td>0 days 00:00:00.123109</td>\n",
       "      <td>0 days 00:00:00.030027</td>\n",
       "      <td>0 days 00:00:00.005006</td>\n",
       "    </tr>\n",
       "  </tbody>\n",
       "</table>\n",
       "</div>"
      ],
      "text/plain": [
       "    features_type                                                  model                                       model_params       RSME            time_search               time_fit           time_predict\n",
       "0   date_features                                     LinearRegression()                                                 {}  35.060612 0 days 00:00:03.892783 0 days 00:00:00.008007 0 days 00:00:00.003003\n",
       "1    lag_features                                     LinearRegression()                                                 {}  26.655207 0 days 00:00:00.947863 0 days 00:00:00.015013 0 days 00:00:00.006005\n",
       "2    rolling_mean                                     LinearRegression()                                                 {}  28.041436 0 days 00:00:00.933851 0 days 00:00:00.010010 0 days 00:00:00.004004\n",
       "3    all_features                                     LinearRegression()                                                 {}  26.644272 0 days 00:00:00.912832 0 days 00:00:00.013011 0 days 00:00:00.005003\n",
       "4   date_features   Ridge(alpha=0.0001, random_state=2023, solver='sag')   {'model__alpha': 0.0001, 'model__solver': 'sag'}  35.056847 0 days 00:00:01.024046 0 days 00:00:00.016901 0 days 00:00:00.003003\n",
       "5    lag_features   Ridge(alpha=0.0001, random_state=2023, solver='sag')   {'model__alpha': 0.0001, 'model__solver': 'sag'}  26.649666 0 days 00:00:00.279255 0 days 00:00:00.038034 0 days 00:00:00.005005\n",
       "6    rolling_mean   Ridge(alpha=0.0001, random_state=2023, solver='sag')   {'model__alpha': 0.0001, 'model__solver': 'sag'}  28.041429 0 days 00:00:00.181164 0 days 00:00:00.015015 0 days 00:00:00.005004\n",
       "7    all_features  Ridge(alpha=0.0001, random_state=2023, solver='lsqr')  {'model__alpha': 0.0001, 'model__solver': 'lsqr'}  26.633107 0 days 00:00:00.250228 0 days 00:00:00.011010 0 days 00:00:00.005004\n",
       "8   date_features               DecisionTreeRegressor(random_state=2023)                         {'model__max_depth': None}  34.378876 0 days 00:00:00.125114 0 days 00:00:00.010009 0 days 00:00:00.003003\n",
       "9    lag_features  DecisionTreeRegressor(max_depth=7, random_state=2023)                            {'model__max_depth': 7}  31.696340 0 days 00:00:00.125114 0 days 00:00:00.028025 0 days 00:00:00.005005\n",
       "10   rolling_mean  DecisionTreeRegressor(max_depth=9, random_state=2023)                            {'model__max_depth': 9}  29.812883 0 days 00:00:00.103093 0 days 00:00:00.016015 0 days 00:00:00.004007\n",
       "11   all_features  DecisionTreeRegressor(max_depth=6, random_state=2023)                            {'model__max_depth': 6}  32.600171 0 days 00:00:00.123109 0 days 00:00:00.030027 0 days 00:00:00.005006"
      ]
     },
     "metadata": {},
     "output_type": "display_data"
    }
   ],
   "source": [
    "# табличка с оптимизированными гиперпараметрами\n",
    "print_result(list_best_params)"
   ]
  },
  {
   "cell_type": "markdown",
   "metadata": {},
   "source": [
    "**LGBMRegressor**"
   ]
  },
  {
   "cell_type": "code",
   "execution_count": 40,
   "metadata": {},
   "outputs": [],
   "source": [
    "# подберем для каждой модификации гиперпараметры\n",
    "# задаем модель\n",
    "model_lgbm = LGBMRegressor(random_state=RS)\n",
    "\n",
    "# гиперпараметры для поиска\n",
    "params_lgbm = {\n",
    "    'model__n_estimators': [1000, 2000, 2500],\n",
    "    'model__learning_rate': [0.1, 0.2]\n",
    "}"
   ]
  },
  {
   "cell_type": "code",
   "execution_count": 41,
   "metadata": {},
   "outputs": [
    {
     "name": "stdout",
     "output_type": "stream",
     "text": [
      "Fitting 3 folds for each of 6 candidates, totalling 18 fits\n",
      "Fitting 3 folds for each of 6 candidates, totalling 18 fits\n",
      "Fitting 3 folds for each of 6 candidates, totalling 18 fits\n",
      "Fitting 3 folds for each of 6 candidates, totalling 18 fits\n"
     ]
    }
   ],
   "source": [
    "model_diff_features(model_lgbm, params_lgbm)  "
   ]
  },
  {
   "cell_type": "code",
   "execution_count": 42,
   "metadata": {
    "scrolled": true
   },
   "outputs": [
    {
     "data": {
      "text/html": [
       "<div>\n",
       "<style scoped>\n",
       "    .dataframe tbody tr th:only-of-type {\n",
       "        vertical-align: middle;\n",
       "    }\n",
       "\n",
       "    .dataframe tbody tr th {\n",
       "        vertical-align: top;\n",
       "    }\n",
       "\n",
       "    .dataframe thead th {\n",
       "        text-align: right;\n",
       "    }\n",
       "</style>\n",
       "<table border=\"1\" class=\"dataframe\">\n",
       "  <thead>\n",
       "    <tr style=\"text-align: right;\">\n",
       "      <th></th>\n",
       "      <th>features_type</th>\n",
       "      <th>model</th>\n",
       "      <th>model_params</th>\n",
       "      <th>RSME</th>\n",
       "      <th>time_search</th>\n",
       "      <th>time_fit</th>\n",
       "      <th>time_predict</th>\n",
       "    </tr>\n",
       "  </thead>\n",
       "  <tbody>\n",
       "    <tr>\n",
       "      <th>0</th>\n",
       "      <td>date_features</td>\n",
       "      <td>LinearRegression()</td>\n",
       "      <td>{}</td>\n",
       "      <td>35.060612</td>\n",
       "      <td>0 days 00:00:03.892783</td>\n",
       "      <td>0 days 00:00:00.008007</td>\n",
       "      <td>0 days 00:00:00.003003</td>\n",
       "    </tr>\n",
       "    <tr>\n",
       "      <th>1</th>\n",
       "      <td>lag_features</td>\n",
       "      <td>LinearRegression()</td>\n",
       "      <td>{}</td>\n",
       "      <td>26.655207</td>\n",
       "      <td>0 days 00:00:00.947863</td>\n",
       "      <td>0 days 00:00:00.015013</td>\n",
       "      <td>0 days 00:00:00.006005</td>\n",
       "    </tr>\n",
       "    <tr>\n",
       "      <th>2</th>\n",
       "      <td>rolling_mean</td>\n",
       "      <td>LinearRegression()</td>\n",
       "      <td>{}</td>\n",
       "      <td>28.041436</td>\n",
       "      <td>0 days 00:00:00.933851</td>\n",
       "      <td>0 days 00:00:00.010010</td>\n",
       "      <td>0 days 00:00:00.004004</td>\n",
       "    </tr>\n",
       "    <tr>\n",
       "      <th>3</th>\n",
       "      <td>all_features</td>\n",
       "      <td>LinearRegression()</td>\n",
       "      <td>{}</td>\n",
       "      <td>26.644272</td>\n",
       "      <td>0 days 00:00:00.912832</td>\n",
       "      <td>0 days 00:00:00.013011</td>\n",
       "      <td>0 days 00:00:00.005003</td>\n",
       "    </tr>\n",
       "    <tr>\n",
       "      <th>4</th>\n",
       "      <td>date_features</td>\n",
       "      <td>Ridge(alpha=0.0001, random_state=2023, solver='sag')</td>\n",
       "      <td>{'model__alpha': 0.0001, 'model__solver': 'sag'}</td>\n",
       "      <td>35.056847</td>\n",
       "      <td>0 days 00:00:01.024046</td>\n",
       "      <td>0 days 00:00:00.016901</td>\n",
       "      <td>0 days 00:00:00.003003</td>\n",
       "    </tr>\n",
       "    <tr>\n",
       "      <th>5</th>\n",
       "      <td>lag_features</td>\n",
       "      <td>Ridge(alpha=0.0001, random_state=2023, solver='sag')</td>\n",
       "      <td>{'model__alpha': 0.0001, 'model__solver': 'sag'}</td>\n",
       "      <td>26.649666</td>\n",
       "      <td>0 days 00:00:00.279255</td>\n",
       "      <td>0 days 00:00:00.038034</td>\n",
       "      <td>0 days 00:00:00.005005</td>\n",
       "    </tr>\n",
       "    <tr>\n",
       "      <th>6</th>\n",
       "      <td>rolling_mean</td>\n",
       "      <td>Ridge(alpha=0.0001, random_state=2023, solver='sag')</td>\n",
       "      <td>{'model__alpha': 0.0001, 'model__solver': 'sag'}</td>\n",
       "      <td>28.041429</td>\n",
       "      <td>0 days 00:00:00.181164</td>\n",
       "      <td>0 days 00:00:00.015015</td>\n",
       "      <td>0 days 00:00:00.005004</td>\n",
       "    </tr>\n",
       "    <tr>\n",
       "      <th>7</th>\n",
       "      <td>all_features</td>\n",
       "      <td>Ridge(alpha=0.0001, random_state=2023, solver='lsqr')</td>\n",
       "      <td>{'model__alpha': 0.0001, 'model__solver': 'lsqr'}</td>\n",
       "      <td>26.633107</td>\n",
       "      <td>0 days 00:00:00.250228</td>\n",
       "      <td>0 days 00:00:00.011010</td>\n",
       "      <td>0 days 00:00:00.005004</td>\n",
       "    </tr>\n",
       "    <tr>\n",
       "      <th>8</th>\n",
       "      <td>date_features</td>\n",
       "      <td>DecisionTreeRegressor(random_state=2023)</td>\n",
       "      <td>{'model__max_depth': None}</td>\n",
       "      <td>34.378876</td>\n",
       "      <td>0 days 00:00:00.125114</td>\n",
       "      <td>0 days 00:00:00.010009</td>\n",
       "      <td>0 days 00:00:00.003003</td>\n",
       "    </tr>\n",
       "    <tr>\n",
       "      <th>9</th>\n",
       "      <td>lag_features</td>\n",
       "      <td>DecisionTreeRegressor(max_depth=7, random_state=2023)</td>\n",
       "      <td>{'model__max_depth': 7}</td>\n",
       "      <td>31.696340</td>\n",
       "      <td>0 days 00:00:00.125114</td>\n",
       "      <td>0 days 00:00:00.028025</td>\n",
       "      <td>0 days 00:00:00.005005</td>\n",
       "    </tr>\n",
       "    <tr>\n",
       "      <th>10</th>\n",
       "      <td>rolling_mean</td>\n",
       "      <td>DecisionTreeRegressor(max_depth=9, random_state=2023)</td>\n",
       "      <td>{'model__max_depth': 9}</td>\n",
       "      <td>29.812883</td>\n",
       "      <td>0 days 00:00:00.103093</td>\n",
       "      <td>0 days 00:00:00.016015</td>\n",
       "      <td>0 days 00:00:00.004007</td>\n",
       "    </tr>\n",
       "    <tr>\n",
       "      <th>11</th>\n",
       "      <td>all_features</td>\n",
       "      <td>DecisionTreeRegressor(max_depth=6, random_state=2023)</td>\n",
       "      <td>{'model__max_depth': 6}</td>\n",
       "      <td>32.600171</td>\n",
       "      <td>0 days 00:00:00.123109</td>\n",
       "      <td>0 days 00:00:00.030027</td>\n",
       "      <td>0 days 00:00:00.005006</td>\n",
       "    </tr>\n",
       "    <tr>\n",
       "      <th>12</th>\n",
       "      <td>date_features</td>\n",
       "      <td>LGBMRegressor(n_estimators=1000, random_state=2023)</td>\n",
       "      <td>{'model__learning_rate': 0.1, 'model__n_estimators': 1000}</td>\n",
       "      <td>34.360102</td>\n",
       "      <td>0 days 00:00:04.896459</td>\n",
       "      <td>0 days 00:00:00.859783</td>\n",
       "      <td>0 days 00:00:00.029026</td>\n",
       "    </tr>\n",
       "    <tr>\n",
       "      <th>13</th>\n",
       "      <td>lag_features</td>\n",
       "      <td>LGBMRegressor(n_estimators=1000, random_state=2023)</td>\n",
       "      <td>{'model__learning_rate': 0.1, 'model__n_estimators': 1000}</td>\n",
       "      <td>27.996300</td>\n",
       "      <td>0 days 00:00:06.869257</td>\n",
       "      <td>0 days 00:00:01.133032</td>\n",
       "      <td>0 days 00:00:00.029027</td>\n",
       "    </tr>\n",
       "    <tr>\n",
       "      <th>14</th>\n",
       "      <td>rolling_mean</td>\n",
       "      <td>LGBMRegressor(n_estimators=1000, random_state=2023)</td>\n",
       "      <td>{'model__learning_rate': 0.1, 'model__n_estimators': 1000}</td>\n",
       "      <td>30.232835</td>\n",
       "      <td>0 days 00:00:04.358971</td>\n",
       "      <td>0 days 00:00:00.904824</td>\n",
       "      <td>0 days 00:00:00.035032</td>\n",
       "    </tr>\n",
       "    <tr>\n",
       "      <th>15</th>\n",
       "      <td>all_features</td>\n",
       "      <td>LGBMRegressor(n_estimators=1000, random_state=2023)</td>\n",
       "      <td>{'model__learning_rate': 0.1, 'model__n_estimators': 1000}</td>\n",
       "      <td>27.904738</td>\n",
       "      <td>0 days 00:00:07.332679</td>\n",
       "      <td>0 days 00:00:01.107008</td>\n",
       "      <td>0 days 00:00:00.041038</td>\n",
       "    </tr>\n",
       "  </tbody>\n",
       "</table>\n",
       "</div>"
      ],
      "text/plain": [
       "    features_type                                                  model                                                model_params       RSME            time_search               time_fit           time_predict\n",
       "0   date_features                                     LinearRegression()                                                          {}  35.060612 0 days 00:00:03.892783 0 days 00:00:00.008007 0 days 00:00:00.003003\n",
       "1    lag_features                                     LinearRegression()                                                          {}  26.655207 0 days 00:00:00.947863 0 days 00:00:00.015013 0 days 00:00:00.006005\n",
       "2    rolling_mean                                     LinearRegression()                                                          {}  28.041436 0 days 00:00:00.933851 0 days 00:00:00.010010 0 days 00:00:00.004004\n",
       "3    all_features                                     LinearRegression()                                                          {}  26.644272 0 days 00:00:00.912832 0 days 00:00:00.013011 0 days 00:00:00.005003\n",
       "4   date_features   Ridge(alpha=0.0001, random_state=2023, solver='sag')            {'model__alpha': 0.0001, 'model__solver': 'sag'}  35.056847 0 days 00:00:01.024046 0 days 00:00:00.016901 0 days 00:00:00.003003\n",
       "5    lag_features   Ridge(alpha=0.0001, random_state=2023, solver='sag')            {'model__alpha': 0.0001, 'model__solver': 'sag'}  26.649666 0 days 00:00:00.279255 0 days 00:00:00.038034 0 days 00:00:00.005005\n",
       "6    rolling_mean   Ridge(alpha=0.0001, random_state=2023, solver='sag')            {'model__alpha': 0.0001, 'model__solver': 'sag'}  28.041429 0 days 00:00:00.181164 0 days 00:00:00.015015 0 days 00:00:00.005004\n",
       "7    all_features  Ridge(alpha=0.0001, random_state=2023, solver='lsqr')           {'model__alpha': 0.0001, 'model__solver': 'lsqr'}  26.633107 0 days 00:00:00.250228 0 days 00:00:00.011010 0 days 00:00:00.005004\n",
       "8   date_features               DecisionTreeRegressor(random_state=2023)                                  {'model__max_depth': None}  34.378876 0 days 00:00:00.125114 0 days 00:00:00.010009 0 days 00:00:00.003003\n",
       "9    lag_features  DecisionTreeRegressor(max_depth=7, random_state=2023)                                     {'model__max_depth': 7}  31.696340 0 days 00:00:00.125114 0 days 00:00:00.028025 0 days 00:00:00.005005\n",
       "10   rolling_mean  DecisionTreeRegressor(max_depth=9, random_state=2023)                                     {'model__max_depth': 9}  29.812883 0 days 00:00:00.103093 0 days 00:00:00.016015 0 days 00:00:00.004007\n",
       "11   all_features  DecisionTreeRegressor(max_depth=6, random_state=2023)                                     {'model__max_depth': 6}  32.600171 0 days 00:00:00.123109 0 days 00:00:00.030027 0 days 00:00:00.005006\n",
       "12  date_features    LGBMRegressor(n_estimators=1000, random_state=2023)  {'model__learning_rate': 0.1, 'model__n_estimators': 1000}  34.360102 0 days 00:00:04.896459 0 days 00:00:00.859783 0 days 00:00:00.029026\n",
       "13   lag_features    LGBMRegressor(n_estimators=1000, random_state=2023)  {'model__learning_rate': 0.1, 'model__n_estimators': 1000}  27.996300 0 days 00:00:06.869257 0 days 00:00:01.133032 0 days 00:00:00.029027\n",
       "14   rolling_mean    LGBMRegressor(n_estimators=1000, random_state=2023)  {'model__learning_rate': 0.1, 'model__n_estimators': 1000}  30.232835 0 days 00:00:04.358971 0 days 00:00:00.904824 0 days 00:00:00.035032\n",
       "15   all_features    LGBMRegressor(n_estimators=1000, random_state=2023)  {'model__learning_rate': 0.1, 'model__n_estimators': 1000}  27.904738 0 days 00:00:07.332679 0 days 00:00:01.107008 0 days 00:00:00.041038"
      ]
     },
     "metadata": {},
     "output_type": "display_data"
    }
   ],
   "source": [
    "# табличка с оптимизированными гиперпараметрами\n",
    "print_result(list_best_params)"
   ]
  },
  {
   "cell_type": "markdown",
   "metadata": {},
   "source": [
    "**CatBoostRegressor**"
   ]
  },
  {
   "cell_type": "code",
   "execution_count": 43,
   "metadata": {},
   "outputs": [],
   "source": [
    "# создадим модель\n",
    "model_cb = CatBoostRegressor(random_state=RS, \n",
    "                             loss_function='RMSE',\n",
    "                             verbose=False,\n",
    "                             thread_count=-1)"
   ]
  },
  {
   "cell_type": "code",
   "execution_count": 44,
   "metadata": {},
   "outputs": [],
   "source": [
    "# # # гиперпараметры для поиска\n",
    "params_cb = {'iterations':[100, 200],\n",
    "             'learning_rate': [0.1, 0.3],\n",
    "             'depth': [6, 9],\n",
    "             'l2_leaf_reg': [6, 9]\n",
    "            }"
   ]
  },
  {
   "cell_type": "code",
   "execution_count": 45,
   "metadata": {},
   "outputs": [
    {
     "name": "stdout",
     "output_type": "stream",
     "text": [
      "Fitting 3 folds for each of 16 candidates, totalling 48 fits\n",
      "Fitting 3 folds for each of 16 candidates, totalling 48 fits\n",
      "Fitting 3 folds for each of 16 candidates, totalling 48 fits\n",
      "Fitting 3 folds for each of 16 candidates, totalling 48 fits\n"
     ]
    }
   ],
   "source": [
    "model_diff_features_cat(model_cb, params_cb)  "
   ]
  },
  {
   "cell_type": "code",
   "execution_count": 46,
   "metadata": {},
   "outputs": [
    {
     "data": {
      "text/html": [
       "<div>\n",
       "<style scoped>\n",
       "    .dataframe tbody tr th:only-of-type {\n",
       "        vertical-align: middle;\n",
       "    }\n",
       "\n",
       "    .dataframe tbody tr th {\n",
       "        vertical-align: top;\n",
       "    }\n",
       "\n",
       "    .dataframe thead th {\n",
       "        text-align: right;\n",
       "    }\n",
       "</style>\n",
       "<table border=\"1\" class=\"dataframe\">\n",
       "  <thead>\n",
       "    <tr style=\"text-align: right;\">\n",
       "      <th></th>\n",
       "      <th>features_type</th>\n",
       "      <th>model</th>\n",
       "      <th>model_params</th>\n",
       "      <th>RSME</th>\n",
       "      <th>time_search</th>\n",
       "      <th>time_fit</th>\n",
       "      <th>time_predict</th>\n",
       "    </tr>\n",
       "  </thead>\n",
       "  <tbody>\n",
       "    <tr>\n",
       "      <th>0</th>\n",
       "      <td>date_features</td>\n",
       "      <td>LinearRegression()</td>\n",
       "      <td>{}</td>\n",
       "      <td>35.060612</td>\n",
       "      <td>0 days 00:00:03.892783</td>\n",
       "      <td>0 days 00:00:00.008007</td>\n",
       "      <td>0 days 00:00:00.003003</td>\n",
       "    </tr>\n",
       "    <tr>\n",
       "      <th>1</th>\n",
       "      <td>lag_features</td>\n",
       "      <td>LinearRegression()</td>\n",
       "      <td>{}</td>\n",
       "      <td>26.655207</td>\n",
       "      <td>0 days 00:00:00.947863</td>\n",
       "      <td>0 days 00:00:00.015013</td>\n",
       "      <td>0 days 00:00:00.006005</td>\n",
       "    </tr>\n",
       "    <tr>\n",
       "      <th>2</th>\n",
       "      <td>rolling_mean</td>\n",
       "      <td>LinearRegression()</td>\n",
       "      <td>{}</td>\n",
       "      <td>28.041436</td>\n",
       "      <td>0 days 00:00:00.933851</td>\n",
       "      <td>0 days 00:00:00.010010</td>\n",
       "      <td>0 days 00:00:00.004004</td>\n",
       "    </tr>\n",
       "    <tr>\n",
       "      <th>3</th>\n",
       "      <td>all_features</td>\n",
       "      <td>LinearRegression()</td>\n",
       "      <td>{}</td>\n",
       "      <td>26.644272</td>\n",
       "      <td>0 days 00:00:00.912832</td>\n",
       "      <td>0 days 00:00:00.013011</td>\n",
       "      <td>0 days 00:00:00.005003</td>\n",
       "    </tr>\n",
       "    <tr>\n",
       "      <th>4</th>\n",
       "      <td>date_features</td>\n",
       "      <td>Ridge(alpha=0.0001, random_state=2023, solver='sag')</td>\n",
       "      <td>{'model__alpha': 0.0001, 'model__solver': 'sag'}</td>\n",
       "      <td>35.056847</td>\n",
       "      <td>0 days 00:00:01.024046</td>\n",
       "      <td>0 days 00:00:00.016901</td>\n",
       "      <td>0 days 00:00:00.003003</td>\n",
       "    </tr>\n",
       "    <tr>\n",
       "      <th>5</th>\n",
       "      <td>lag_features</td>\n",
       "      <td>Ridge(alpha=0.0001, random_state=2023, solver='sag')</td>\n",
       "      <td>{'model__alpha': 0.0001, 'model__solver': 'sag'}</td>\n",
       "      <td>26.649666</td>\n",
       "      <td>0 days 00:00:00.279255</td>\n",
       "      <td>0 days 00:00:00.038034</td>\n",
       "      <td>0 days 00:00:00.005005</td>\n",
       "    </tr>\n",
       "    <tr>\n",
       "      <th>6</th>\n",
       "      <td>rolling_mean</td>\n",
       "      <td>Ridge(alpha=0.0001, random_state=2023, solver='sag')</td>\n",
       "      <td>{'model__alpha': 0.0001, 'model__solver': 'sag'}</td>\n",
       "      <td>28.041429</td>\n",
       "      <td>0 days 00:00:00.181164</td>\n",
       "      <td>0 days 00:00:00.015015</td>\n",
       "      <td>0 days 00:00:00.005004</td>\n",
       "    </tr>\n",
       "    <tr>\n",
       "      <th>7</th>\n",
       "      <td>all_features</td>\n",
       "      <td>Ridge(alpha=0.0001, random_state=2023, solver='lsqr')</td>\n",
       "      <td>{'model__alpha': 0.0001, 'model__solver': 'lsqr'}</td>\n",
       "      <td>26.633107</td>\n",
       "      <td>0 days 00:00:00.250228</td>\n",
       "      <td>0 days 00:00:00.011010</td>\n",
       "      <td>0 days 00:00:00.005004</td>\n",
       "    </tr>\n",
       "    <tr>\n",
       "      <th>8</th>\n",
       "      <td>date_features</td>\n",
       "      <td>DecisionTreeRegressor(random_state=2023)</td>\n",
       "      <td>{'model__max_depth': None}</td>\n",
       "      <td>34.378876</td>\n",
       "      <td>0 days 00:00:00.125114</td>\n",
       "      <td>0 days 00:00:00.010009</td>\n",
       "      <td>0 days 00:00:00.003003</td>\n",
       "    </tr>\n",
       "    <tr>\n",
       "      <th>9</th>\n",
       "      <td>lag_features</td>\n",
       "      <td>DecisionTreeRegressor(max_depth=7, random_state=2023)</td>\n",
       "      <td>{'model__max_depth': 7}</td>\n",
       "      <td>31.696340</td>\n",
       "      <td>0 days 00:00:00.125114</td>\n",
       "      <td>0 days 00:00:00.028025</td>\n",
       "      <td>0 days 00:00:00.005005</td>\n",
       "    </tr>\n",
       "    <tr>\n",
       "      <th>10</th>\n",
       "      <td>rolling_mean</td>\n",
       "      <td>DecisionTreeRegressor(max_depth=9, random_state=2023)</td>\n",
       "      <td>{'model__max_depth': 9}</td>\n",
       "      <td>29.812883</td>\n",
       "      <td>0 days 00:00:00.103093</td>\n",
       "      <td>0 days 00:00:00.016015</td>\n",
       "      <td>0 days 00:00:00.004007</td>\n",
       "    </tr>\n",
       "    <tr>\n",
       "      <th>11</th>\n",
       "      <td>all_features</td>\n",
       "      <td>DecisionTreeRegressor(max_depth=6, random_state=2023)</td>\n",
       "      <td>{'model__max_depth': 6}</td>\n",
       "      <td>32.600171</td>\n",
       "      <td>0 days 00:00:00.123109</td>\n",
       "      <td>0 days 00:00:00.030027</td>\n",
       "      <td>0 days 00:00:00.005006</td>\n",
       "    </tr>\n",
       "    <tr>\n",
       "      <th>12</th>\n",
       "      <td>date_features</td>\n",
       "      <td>LGBMRegressor(n_estimators=1000, random_state=2023)</td>\n",
       "      <td>{'model__learning_rate': 0.1, 'model__n_estimators': 1000}</td>\n",
       "      <td>34.360102</td>\n",
       "      <td>0 days 00:00:04.896459</td>\n",
       "      <td>0 days 00:00:00.859783</td>\n",
       "      <td>0 days 00:00:00.029026</td>\n",
       "    </tr>\n",
       "    <tr>\n",
       "      <th>13</th>\n",
       "      <td>lag_features</td>\n",
       "      <td>LGBMRegressor(n_estimators=1000, random_state=2023)</td>\n",
       "      <td>{'model__learning_rate': 0.1, 'model__n_estimators': 1000}</td>\n",
       "      <td>27.996300</td>\n",
       "      <td>0 days 00:00:06.869257</td>\n",
       "      <td>0 days 00:00:01.133032</td>\n",
       "      <td>0 days 00:00:00.029027</td>\n",
       "    </tr>\n",
       "    <tr>\n",
       "      <th>14</th>\n",
       "      <td>rolling_mean</td>\n",
       "      <td>LGBMRegressor(n_estimators=1000, random_state=2023)</td>\n",
       "      <td>{'model__learning_rate': 0.1, 'model__n_estimators': 1000}</td>\n",
       "      <td>30.232835</td>\n",
       "      <td>0 days 00:00:04.358971</td>\n",
       "      <td>0 days 00:00:00.904824</td>\n",
       "      <td>0 days 00:00:00.035032</td>\n",
       "    </tr>\n",
       "    <tr>\n",
       "      <th>15</th>\n",
       "      <td>all_features</td>\n",
       "      <td>LGBMRegressor(n_estimators=1000, random_state=2023)</td>\n",
       "      <td>{'model__learning_rate': 0.1, 'model__n_estimators': 1000}</td>\n",
       "      <td>27.904738</td>\n",
       "      <td>0 days 00:00:07.332679</td>\n",
       "      <td>0 days 00:00:01.107008</td>\n",
       "      <td>0 days 00:00:00.041038</td>\n",
       "    </tr>\n",
       "    <tr>\n",
       "      <th>16</th>\n",
       "      <td>date_features</td>\n",
       "      <td>&lt;catboost.core.CatBoostRegressor object at 0x00000273CAF12550&gt;</td>\n",
       "      <td>{'depth': 6, 'iterations': 100, 'l2_leaf_reg': 9, 'learning_rate': 0.3}</td>\n",
       "      <td>34.223974</td>\n",
       "      <td>0 days 00:02:05.094488</td>\n",
       "      <td>0 days 00:00:37.963437</td>\n",
       "      <td>0 days 00:00:00.006005</td>\n",
       "    </tr>\n",
       "    <tr>\n",
       "      <th>17</th>\n",
       "      <td>lag_features</td>\n",
       "      <td>&lt;catboost.core.CatBoostRegressor object at 0x00000273CAE9BF70&gt;</td>\n",
       "      <td>{'depth': 6, 'iterations': 200, 'l2_leaf_reg': 9, 'learning_rate': 0.1}</td>\n",
       "      <td>26.488445</td>\n",
       "      <td>0 days 00:00:16.585634</td>\n",
       "      <td>0 days 00:00:40.634222</td>\n",
       "      <td>0 days 00:00:00.006005</td>\n",
       "    </tr>\n",
       "    <tr>\n",
       "      <th>18</th>\n",
       "      <td>rolling_mean</td>\n",
       "      <td>&lt;catboost.core.CatBoostRegressor object at 0x00000273CAEF2D30&gt;</td>\n",
       "      <td>{'depth': 6, 'iterations': 200, 'l2_leaf_reg': 6, 'learning_rate': 0.1}</td>\n",
       "      <td>27.945397</td>\n",
       "      <td>0 days 00:02:05.155280</td>\n",
       "      <td>0 days 00:00:41.638347</td>\n",
       "      <td>0 days 00:00:00.010010</td>\n",
       "    </tr>\n",
       "    <tr>\n",
       "      <th>19</th>\n",
       "      <td>all_features</td>\n",
       "      <td>&lt;catboost.core.CatBoostRegressor object at 0x00000273CAEB8460&gt;</td>\n",
       "      <td>{'depth': 6, 'iterations': 200, 'l2_leaf_reg': 6, 'learning_rate': 0.1}</td>\n",
       "      <td>26.634981</td>\n",
       "      <td>0 days 00:00:18.250623</td>\n",
       "      <td>0 days 00:00:45.190162</td>\n",
       "      <td>0 days 00:00:00.009008</td>\n",
       "    </tr>\n",
       "  </tbody>\n",
       "</table>\n",
       "</div>"
      ],
      "text/plain": [
       "    features_type                                                           model                                                             model_params       RSME            time_search               time_fit           time_predict\n",
       "0   date_features                                              LinearRegression()                                                                       {}  35.060612 0 days 00:00:03.892783 0 days 00:00:00.008007 0 days 00:00:00.003003\n",
       "1    lag_features                                              LinearRegression()                                                                       {}  26.655207 0 days 00:00:00.947863 0 days 00:00:00.015013 0 days 00:00:00.006005\n",
       "2    rolling_mean                                              LinearRegression()                                                                       {}  28.041436 0 days 00:00:00.933851 0 days 00:00:00.010010 0 days 00:00:00.004004\n",
       "3    all_features                                              LinearRegression()                                                                       {}  26.644272 0 days 00:00:00.912832 0 days 00:00:00.013011 0 days 00:00:00.005003\n",
       "4   date_features            Ridge(alpha=0.0001, random_state=2023, solver='sag')                         {'model__alpha': 0.0001, 'model__solver': 'sag'}  35.056847 0 days 00:00:01.024046 0 days 00:00:00.016901 0 days 00:00:00.003003\n",
       "5    lag_features            Ridge(alpha=0.0001, random_state=2023, solver='sag')                         {'model__alpha': 0.0001, 'model__solver': 'sag'}  26.649666 0 days 00:00:00.279255 0 days 00:00:00.038034 0 days 00:00:00.005005\n",
       "6    rolling_mean            Ridge(alpha=0.0001, random_state=2023, solver='sag')                         {'model__alpha': 0.0001, 'model__solver': 'sag'}  28.041429 0 days 00:00:00.181164 0 days 00:00:00.015015 0 days 00:00:00.005004\n",
       "7    all_features           Ridge(alpha=0.0001, random_state=2023, solver='lsqr')                        {'model__alpha': 0.0001, 'model__solver': 'lsqr'}  26.633107 0 days 00:00:00.250228 0 days 00:00:00.011010 0 days 00:00:00.005004\n",
       "8   date_features                        DecisionTreeRegressor(random_state=2023)                                               {'model__max_depth': None}  34.378876 0 days 00:00:00.125114 0 days 00:00:00.010009 0 days 00:00:00.003003\n",
       "9    lag_features           DecisionTreeRegressor(max_depth=7, random_state=2023)                                                  {'model__max_depth': 7}  31.696340 0 days 00:00:00.125114 0 days 00:00:00.028025 0 days 00:00:00.005005\n",
       "10   rolling_mean           DecisionTreeRegressor(max_depth=9, random_state=2023)                                                  {'model__max_depth': 9}  29.812883 0 days 00:00:00.103093 0 days 00:00:00.016015 0 days 00:00:00.004007\n",
       "11   all_features           DecisionTreeRegressor(max_depth=6, random_state=2023)                                                  {'model__max_depth': 6}  32.600171 0 days 00:00:00.123109 0 days 00:00:00.030027 0 days 00:00:00.005006\n",
       "12  date_features             LGBMRegressor(n_estimators=1000, random_state=2023)               {'model__learning_rate': 0.1, 'model__n_estimators': 1000}  34.360102 0 days 00:00:04.896459 0 days 00:00:00.859783 0 days 00:00:00.029026\n",
       "13   lag_features             LGBMRegressor(n_estimators=1000, random_state=2023)               {'model__learning_rate': 0.1, 'model__n_estimators': 1000}  27.996300 0 days 00:00:06.869257 0 days 00:00:01.133032 0 days 00:00:00.029027\n",
       "14   rolling_mean             LGBMRegressor(n_estimators=1000, random_state=2023)               {'model__learning_rate': 0.1, 'model__n_estimators': 1000}  30.232835 0 days 00:00:04.358971 0 days 00:00:00.904824 0 days 00:00:00.035032\n",
       "15   all_features             LGBMRegressor(n_estimators=1000, random_state=2023)               {'model__learning_rate': 0.1, 'model__n_estimators': 1000}  27.904738 0 days 00:00:07.332679 0 days 00:00:01.107008 0 days 00:00:00.041038\n",
       "16  date_features  <catboost.core.CatBoostRegressor object at 0x00000273CAF12550>  {'depth': 6, 'iterations': 100, 'l2_leaf_reg': 9, 'learning_rate': 0.3}  34.223974 0 days 00:02:05.094488 0 days 00:00:37.963437 0 days 00:00:00.006005\n",
       "17   lag_features  <catboost.core.CatBoostRegressor object at 0x00000273CAE9BF70>  {'depth': 6, 'iterations': 200, 'l2_leaf_reg': 9, 'learning_rate': 0.1}  26.488445 0 days 00:00:16.585634 0 days 00:00:40.634222 0 days 00:00:00.006005\n",
       "18   rolling_mean  <catboost.core.CatBoostRegressor object at 0x00000273CAEF2D30>  {'depth': 6, 'iterations': 200, 'l2_leaf_reg': 6, 'learning_rate': 0.1}  27.945397 0 days 00:02:05.155280 0 days 00:00:41.638347 0 days 00:00:00.010010\n",
       "19   all_features  <catboost.core.CatBoostRegressor object at 0x00000273CAEB8460>  {'depth': 6, 'iterations': 200, 'l2_leaf_reg': 6, 'learning_rate': 0.1}  26.634981 0 days 00:00:18.250623 0 days 00:00:45.190162 0 days 00:00:00.009008"
      ]
     },
     "metadata": {},
     "output_type": "display_data"
    }
   ],
   "source": [
    "# табличка с оптимизированными гиперпараметрами\n",
    "print_result(list_best_params)"
   ]
  },
  {
   "cell_type": "code",
   "execution_count": 47,
   "metadata": {},
   "outputs": [],
   "source": [
    "results = pd.DataFrame(list_best_params)"
   ]
  },
  {
   "cell_type": "markdown",
   "metadata": {},
   "source": [
    "Отберем максимально точные модели"
   ]
  },
  {
   "cell_type": "code",
   "execution_count": 48,
   "metadata": {},
   "outputs": [
    {
     "data": {
      "text/html": [
       "<div>\n",
       "<style scoped>\n",
       "    .dataframe tbody tr th:only-of-type {\n",
       "        vertical-align: middle;\n",
       "    }\n",
       "\n",
       "    .dataframe tbody tr th {\n",
       "        vertical-align: top;\n",
       "    }\n",
       "\n",
       "    .dataframe thead th {\n",
       "        text-align: right;\n",
       "    }\n",
       "</style>\n",
       "<table border=\"1\" class=\"dataframe\">\n",
       "  <thead>\n",
       "    <tr style=\"text-align: right;\">\n",
       "      <th></th>\n",
       "      <th>features_type</th>\n",
       "      <th>model</th>\n",
       "      <th>model_params</th>\n",
       "      <th>RSME</th>\n",
       "      <th>time_search</th>\n",
       "      <th>time_fit</th>\n",
       "      <th>time_predict</th>\n",
       "    </tr>\n",
       "  </thead>\n",
       "  <tbody>\n",
       "    <tr>\n",
       "      <th>1</th>\n",
       "      <td>lag_features</td>\n",
       "      <td>LinearRegression()</td>\n",
       "      <td>{}</td>\n",
       "      <td>26.655207</td>\n",
       "      <td>0 days 00:00:00.947863</td>\n",
       "      <td>0 days 00:00:00.015013</td>\n",
       "      <td>0 days 00:00:00.006005</td>\n",
       "    </tr>\n",
       "    <tr>\n",
       "      <th>3</th>\n",
       "      <td>all_features</td>\n",
       "      <td>LinearRegression()</td>\n",
       "      <td>{}</td>\n",
       "      <td>26.644272</td>\n",
       "      <td>0 days 00:00:00.912832</td>\n",
       "      <td>0 days 00:00:00.013011</td>\n",
       "      <td>0 days 00:00:00.005003</td>\n",
       "    </tr>\n",
       "    <tr>\n",
       "      <th>5</th>\n",
       "      <td>lag_features</td>\n",
       "      <td>Ridge(alpha=0.0001, random_state=2023, solver='sag')</td>\n",
       "      <td>{'model__alpha': 0.0001, 'model__solver': 'sag'}</td>\n",
       "      <td>26.649666</td>\n",
       "      <td>0 days 00:00:00.279255</td>\n",
       "      <td>0 days 00:00:00.038034</td>\n",
       "      <td>0 days 00:00:00.005005</td>\n",
       "    </tr>\n",
       "    <tr>\n",
       "      <th>7</th>\n",
       "      <td>all_features</td>\n",
       "      <td>Ridge(alpha=0.0001, random_state=2023, solver='lsqr')</td>\n",
       "      <td>{'model__alpha': 0.0001, 'model__solver': 'lsqr'}</td>\n",
       "      <td>26.633107</td>\n",
       "      <td>0 days 00:00:00.250228</td>\n",
       "      <td>0 days 00:00:00.011010</td>\n",
       "      <td>0 days 00:00:00.005004</td>\n",
       "    </tr>\n",
       "    <tr>\n",
       "      <th>17</th>\n",
       "      <td>lag_features</td>\n",
       "      <td>&lt;catboost.core.CatBoostRegressor object at 0x00000273CAE9BF70&gt;</td>\n",
       "      <td>{'depth': 6, 'iterations': 200, 'l2_leaf_reg': 9, 'learning_rate': 0.1}</td>\n",
       "      <td>26.488445</td>\n",
       "      <td>0 days 00:00:16.585634</td>\n",
       "      <td>0 days 00:00:40.634222</td>\n",
       "      <td>0 days 00:00:00.006005</td>\n",
       "    </tr>\n",
       "    <tr>\n",
       "      <th>19</th>\n",
       "      <td>all_features</td>\n",
       "      <td>&lt;catboost.core.CatBoostRegressor object at 0x00000273CAEB8460&gt;</td>\n",
       "      <td>{'depth': 6, 'iterations': 200, 'l2_leaf_reg': 6, 'learning_rate': 0.1}</td>\n",
       "      <td>26.634981</td>\n",
       "      <td>0 days 00:00:18.250623</td>\n",
       "      <td>0 days 00:00:45.190162</td>\n",
       "      <td>0 days 00:00:00.009008</td>\n",
       "    </tr>\n",
       "  </tbody>\n",
       "</table>\n",
       "</div>"
      ],
      "text/plain": [
       "   features_type                                                           model                                                             model_params       RSME            time_search               time_fit           time_predict\n",
       "1   lag_features                                              LinearRegression()                                                                       {}  26.655207 0 days 00:00:00.947863 0 days 00:00:00.015013 0 days 00:00:00.006005\n",
       "3   all_features                                              LinearRegression()                                                                       {}  26.644272 0 days 00:00:00.912832 0 days 00:00:00.013011 0 days 00:00:00.005003\n",
       "5   lag_features            Ridge(alpha=0.0001, random_state=2023, solver='sag')                         {'model__alpha': 0.0001, 'model__solver': 'sag'}  26.649666 0 days 00:00:00.279255 0 days 00:00:00.038034 0 days 00:00:00.005005\n",
       "7   all_features           Ridge(alpha=0.0001, random_state=2023, solver='lsqr')                        {'model__alpha': 0.0001, 'model__solver': 'lsqr'}  26.633107 0 days 00:00:00.250228 0 days 00:00:00.011010 0 days 00:00:00.005004\n",
       "17  lag_features  <catboost.core.CatBoostRegressor object at 0x00000273CAE9BF70>  {'depth': 6, 'iterations': 200, 'l2_leaf_reg': 9, 'learning_rate': 0.1}  26.488445 0 days 00:00:16.585634 0 days 00:00:40.634222 0 days 00:00:00.006005\n",
       "19  all_features  <catboost.core.CatBoostRegressor object at 0x00000273CAEB8460>  {'depth': 6, 'iterations': 200, 'l2_leaf_reg': 6, 'learning_rate': 0.1}  26.634981 0 days 00:00:18.250623 0 days 00:00:45.190162 0 days 00:00:00.009008"
      ]
     },
     "execution_count": 48,
     "metadata": {},
     "output_type": "execute_result"
    }
   ],
   "source": [
    "results.query('RSME <27')"
   ]
  },
  {
   "cell_type": "markdown",
   "metadata": {},
   "source": [
    "Таким образом, \n",
    "* `CatbBoost` выдал наилучший результат для всех типов дополнительных фичей.\n",
    "* совсем немного уступают линейные модели, но есть подозрение о наличии переобучения\n",
    "* при этом время обучения даже такой незначительной модели на `CatBooost` составляет более 40 секунд. \n",
    "\n",
    "На финальное тестирование возьмем:\n",
    "* `CatBoost` с лагами"
   ]
  },
  {
   "cell_type": "markdown",
   "metadata": {},
   "source": [
    "## Тестирование"
   ]
  },
  {
   "cell_type": "markdown",
   "metadata": {},
   "source": [
    "`CatBoostRegressor` с лагами от целевого показателя\n"
   ]
  },
  {
   "cell_type": "code",
   "execution_count": 49,
   "metadata": {},
   "outputs": [
    {
     "data": {
      "text/plain": [
       "<catboost.core.CatBoostRegressor at 0x273cae9bf70>"
      ]
     },
     "execution_count": 49,
     "metadata": {},
     "output_type": "execute_result"
    }
   ],
   "source": [
    "best_model_cat = results['model'][17]\n",
    "best_model_cat.fit(features_train_lag, target_train_lag)"
   ]
  },
  {
   "cell_type": "code",
   "execution_count": 50,
   "metadata": {},
   "outputs": [
    {
     "name": "stdout",
     "output_type": "stream",
     "text": [
      "CatboostRegressor с \"отстающими признаками\": \n",
      "RSME на тестовой выборке: 46.37\n",
      "Время предсказания на тестовой выборке модели CatboostRegressor: 0:00:00.002002\n"
     ]
    }
   ],
   "source": [
    "time_start = dt.now()\n",
    "predictions = best_model_cat.predict(features_test_lag, thread_count=-1)\n",
    "time_predict = dt.now() - time_start\n",
    "\n",
    "rsme_cb = mean_squared_error(target_test_lag, predictions, squared=False)\n",
    "\n",
    "print('CatboostRegressor с \"отстающими признаками\": ')\n",
    "print(f'RSME на тестовой выборке: {rsme_cb:.2f}')\n",
    "print(f'Время предсказания на тестовой выборке модели CatboostRegressor: {time_predict}')"
   ]
  },
  {
   "cell_type": "markdown",
   "metadata": {},
   "source": [
    "Проверим модель на адекватность с помощью `DummyRegressor`. \n",
    "Предскажем все средним значением."
   ]
  },
  {
   "cell_type": "code",
   "execution_count": 51,
   "metadata": {},
   "outputs": [
    {
     "name": "stdout",
     "output_type": "stream",
     "text": [
      "RSME Dummy-модели составляет 84.7441\n"
     ]
    }
   ],
   "source": [
    "model_dm = DummyRegressor(strategy='mean')\n",
    "model_dm.fit(features_train_f, target_train_f)\n",
    "\n",
    "RSME_dm = mean_squared_error(target_test_f, model_dm.predict(features_test_f), squared=False) \n",
    "print(f'RSME Dummy-модели составляет {RSME_dm:.4f}')\n"
   ]
  },
  {
   "cell_type": "markdown",
   "metadata": {},
   "source": [
    "\n",
    "Модель `Dummy` показала наихудшие результаты предсказания. Следовательно, наша модель имеет полное право на существование.\n"
   ]
  },
  {
   "cell_type": "markdown",
   "metadata": {},
   "source": [
    "### Выводы"
   ]
  },
  {
   "cell_type": "markdown",
   "metadata": {},
   "source": [
    "В ходе реализации проекта были выполнены следующие этапы:\n",
    "\n",
    "1. загружены и изучены данные\n",
    "2. проведена преобработка данных\n",
    "    * проведено исследование на стационарнось данных\n",
    "    * сгенерированы дополнительные признаки\n",
    "\n",
    "3. Проведено построение ML и подбор гиперпараметров\n",
    " * данные разбиты на обучающую и тестовую выборки\n",
    " * построены модели, проведена оценка метрики методом кросс-валидации\n",
    "    * `LinearRegression`\n",
    "    * `Ridge`\n",
    "    * `DecisionTree`\n",
    "    * `LightGBM`\n",
    "    * `CatBoosting`\n",
    " * проведена оценка времени обучения, времени предсказания\n",
    " * подобраны лучшие гиперпараметры\n",
    " * выбраны лучшие модели для тестирования\n",
    "\n",
    "4. Проверено качество лучшие модели на тестовой выборке.\n",
    " * подтвердилось предположение, что пригенерации дополнительных признаков на основании целевого модели склонны к переобучению.   \n",
    "\n",
    "В `CatboostRegressor` при тестировании прошел установленный порог `RSME`.\n",
    "* Итоговый показатель RSME составил - 46.37\n",
    "\n",
    "Дополнительно модель проверена на адекватность c помощью `DummyRegressor`."
   ]
  }
 ],
 "metadata": {
  "kernelspec": {
   "display_name": "Python 3 (ipykernel)",
   "language": "python",
   "name": "python3"
  },
  "language_info": {
   "codemirror_mode": {
    "name": "ipython",
    "version": 3
   },
   "file_extension": ".py",
   "mimetype": "text/x-python",
   "name": "python",
   "nbconvert_exporter": "python",
   "pygments_lexer": "ipython3",
   "version": "3.9.12"
  },
  "toc": {
   "base_numbering": 1,
   "nav_menu": {
    "height": "151px",
    "width": "218px"
   },
   "number_sections": true,
   "sideBar": true,
   "skip_h1_title": true,
   "title_cell": "Содержание",
   "title_sidebar": "Contents",
   "toc_cell": true,
   "toc_position": {
    "height": "calc(100% - 180px)",
    "left": "10px",
    "top": "150px",
    "width": "165px"
   },
   "toc_section_display": true,
   "toc_window_display": true
  }
 },
 "nbformat": 4,
 "nbformat_minor": 2
}
