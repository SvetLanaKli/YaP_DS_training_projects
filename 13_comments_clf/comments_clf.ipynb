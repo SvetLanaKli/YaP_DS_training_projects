{
 "cells": [
  {
   "cell_type": "markdown",
   "metadata": {
    "toc": true
   },
   "source": [
    "<h1>Содержание<span class=\"tocSkip\"></span></h1>\n",
    "<div class=\"toc\"><ul class=\"toc-item\"><li><ul class=\"toc-item\"><li><span><a href=\"#Цель-исследования\" data-toc-modified-id=\"Цель-исследования-0.1\"><span class=\"toc-item-num\">0.1&nbsp;&nbsp;</span>Цель исследования</a></span></li><li><span><a href=\"#План-исследования\" data-toc-modified-id=\"План-исследования-0.2\"><span class=\"toc-item-num\">0.2&nbsp;&nbsp;</span>План исследования</a></span></li></ul></li><li><span><a href=\"#Подготовка\" data-toc-modified-id=\"Подготовка-1\"><span class=\"toc-item-num\">1&nbsp;&nbsp;</span>Подготовка</a></span></li><li><span><a href=\"#Обучение\" data-toc-modified-id=\"Обучение-2\"><span class=\"toc-item-num\">2&nbsp;&nbsp;</span>Обучение</a></span></li><li><span><a href=\"#Выводы\" data-toc-modified-id=\"Выводы-3\"><span class=\"toc-item-num\">3&nbsp;&nbsp;</span>Выводы</a></span></li><li><span><a href=\"#Чек-лист-проверки\" data-toc-modified-id=\"Чек-лист-проверки-4\"><span class=\"toc-item-num\">4&nbsp;&nbsp;</span>Чек-лист проверки</a></span></li></ul></div>"
   ]
  },
  {
   "cell_type": "markdown",
   "metadata": {},
   "source": [
    "# Проект для «Викишоп»"
   ]
  },
  {
   "cell_type": "markdown",
   "metadata": {},
   "source": [
    "Интернет-магазин «Викишоп» запускает новый сервис. Теперь пользователи могут редактировать и дополнять описания товаров, как в вики-сообществах. То есть клиенты предлагают свои правки и комментируют изменения других. Магазину нужен инструмент, который будет искать токсичные комментарии и отправлять их на модерацию. \n",
    "\n",
    "Обучите модель классифицировать комментарии на позитивные и негативные. В вашем распоряжении набор данных с разметкой о токсичности правок.\n",
    "\n",
    "Постройте модель со значением метрики качества *F1* не меньше 0.75. \n",
    "\n",
    "**Описание данных**\n",
    "\n",
    "Данные находятся в файле `toxic_comments.csv`. Столбец *text* в нём содержит текст комментария, а *toxic* — целевой признак."
   ]
  },
  {
   "cell_type": "markdown",
   "metadata": {},
   "source": [
    "### Цель исследования\n",
    "Построение модели для классификации комментариев пользователей на позитивные и негативные. \n",
    "\n",
    "Целевая метрика - `F1`, на тестовой выборке должна быть не менее 0,75."
   ]
  },
  {
   "cell_type": "markdown",
   "metadata": {},
   "source": [
    "### План исследования\n",
    "\n",
    "1. Загрузка данных для исследования из файла `toxic_comments.csv`.\n",
    "\n",
    "2. О качестве данных информации нет, поэтому как приступать к исследованию проведем обзор данных.\n",
    "3. Преобработка и подготовка данных:\n",
    "\n",
    "* проверка данных на наличие пропусков и дубликатов\n",
    "* предобработка текста для его дальнейшей подачи с модель перевода слов векторное представление:\n",
    "    * токенизация\n",
    "    * лематизация\n",
    "    * очистка отт стоп-слов и лишних символов\n",
    "    * добавление маркеров наччала и конца списка\n",
    "* перевод в векторное представление\n",
    "* подготовка выборок данных для построения моделей.\n",
    "\n",
    "4. Построение моделей машинного обучения:\n",
    "\n",
    " * `LogisticRegression`\n",
    " * `DecisionTreeClassifier`\n",
    " * `SGDClassifier`\n",
    " * `LGBMClassifier`\n",
    "\n",
    " Подбор лучших гиперпараметров для них.\n",
    "\n",
    " Выбор лучшей модели по заданным характеристикам\n",
    "\n",
    "5. Тестирование выбранной модели и оценка результатов.\n",
    "\n",
    "6. Оформление выводов по результатам исследования"
   ]
  },
  {
   "cell_type": "markdown",
   "metadata": {},
   "source": [
    "## Подготовка"
   ]
  },
  {
   "cell_type": "code",
   "execution_count": 1,
   "metadata": {},
   "outputs": [],
   "source": [
    "# установка лемматизатора\n",
    "#!pip install textblob"
   ]
  },
  {
   "cell_type": "code",
   "execution_count": 2,
   "metadata": {},
   "outputs": [
    {
     "name": "stderr",
     "output_type": "stream",
     "text": [
      "[nltk_data] Downloading package punkt to\n",
      "[nltk_data]     C:\\Users\\Lana\\AppData\\Roaming\\nltk_data...\n",
      "[nltk_data]   Package punkt is already up-to-date!\n",
      "[nltk_data] Downloading package averaged_perceptron_tagger to\n",
      "[nltk_data]     C:\\Users\\Lana\\AppData\\Roaming\\nltk_data...\n",
      "[nltk_data]   Package averaged_perceptron_tagger is already up-to-\n",
      "[nltk_data]       date!\n",
      "[nltk_data] Downloading package wordnet to\n",
      "[nltk_data]     C:\\Users\\Lana\\AppData\\Roaming\\nltk_data...\n",
      "[nltk_data]   Package wordnet is already up-to-date!\n"
     ]
    }
   ],
   "source": [
    "# импорт библиотек для выполения проекта\n",
    "import pandas as pd\n",
    "import numpy as np\n",
    "import re\n",
    "import nltk\n",
    "from nltk.corpus import stopwords\n",
    "\n",
    "nltk.download('punkt')\n",
    "nltk.download('averaged_perceptron_tagger')\n",
    "nltk.download('wordnet')\n",
    "\n",
    "# графика\n",
    "import seaborn as sns\n",
    "import matplotlib.pyplot as plt\n",
    "\n",
    "# импортируем функции и метрики из библиотеки sklearn\n",
    "from sklearn.model_selection import (train_test_split,\n",
    "                                     GridSearchCV)\n",
    "\n",
    "from sklearn.linear_model import (LogisticRegression,\n",
    "                                  SGDClassifier)\n",
    "from sklearn.pipeline import Pipeline\n",
    "from sklearn.tree import DecisionTreeClassifier\n",
    "\n",
    "from sklearn.dummy import DummyClassifier\n",
    "from sklearn.feature_extraction.text import (CountVectorizer,\n",
    "                                             TfidfTransformer)\n",
    "\n",
    "from sklearn.metrics import (f1_score, classification_report,\n",
    "                             confusion_matrix, ConfusionMatrixDisplay,\n",
    "                             roc_curve)\n",
    "\n",
    "# импортируем градиентные бустинги\n",
    "from lightgbm import LGBMClassifier\n",
    "\n",
    "# импортируем лемматизатор\n",
    "from textblob import TextBlob\n",
    "\n",
    "# предупреждения\n",
    "import warnings\n",
    "warnings.filterwarnings('ignore')\n",
    "\n",
    "# статус процесса\n",
    "from tqdm import tqdm\n",
    "tqdm.pandas()\n",
    "from datetime import datetime as dt"
   ]
  },
  {
   "cell_type": "code",
   "execution_count": 3,
   "metadata": {},
   "outputs": [],
   "source": [
    "# настроим отображение чисел и таблиц\n",
    "#pd.set_option('display.float_format', '{:.4f}'.format)\n",
    "pd.set_option('display.max_columns', 1000)\n",
    "pd.set_option('max_colwidth', 1000)\n",
    "pd.set_option('display.width', 500)\n",
    "# выберем общее формление для графиков\n",
    "sns.set(style=\"white\", palette=\"Spectral\")"
   ]
  },
  {
   "cell_type": "code",
   "execution_count": 4,
   "metadata": {},
   "outputs": [],
   "source": [
    "try:\n",
    "    df = pd.read_csv('./toxic_comments.csv')\n",
    "except FileNotFoundError:\n",
    "    df = pd.read_csv('/datasets/toxic_comments.csv.')"
   ]
  },
  {
   "cell_type": "code",
   "execution_count": 5,
   "metadata": {},
   "outputs": [],
   "source": [
    "# зафиксируем псевдослучайность random_state\n",
    "RS = 2023\n",
    "# количество фолдов для кросс-валидации\n",
    "CV = 3\n",
    "# стоп-слова\n",
    "SW = set(stopwords.words('english'))"
   ]
  },
  {
   "cell_type": "code",
   "execution_count": 6,
   "metadata": {},
   "outputs": [],
   "source": [
    "def data_info(data_name):\n",
    "    '''функция выводит информацию о данных'''\n",
    "    \n",
    "    print('\\n\\nДанные из выборки\\n')\n",
    "    display(data_name.head(5))\n",
    "    display(data_name.tail(5))\n",
    "    \n",
    "    print('-'*60)\n",
    "    print(f'\\n\\nКоличество признаков: {data_name.shape[1]}, Количество наблюдений: {data_name.shape[0]}\\n')\n",
    "    print('-'*60)\n",
    "    print('\\nИнформация о данных\\n')\n",
    "    info_list = []\n",
    "    for item in data_name.columns:\n",
    "        info_list.append({\n",
    "            'Признак': item,\n",
    "            'Тип данных': data_name.dtypes[item],\n",
    "            'Уникальных значений': data_name[item].nunique(),\n",
    "            '%Пропусков': data_name[item].isna().mean()*100\n",
    "        })\n",
    "    display(pd.DataFrame(info_list))\n",
    "    print('-'*60)\n",
    " \n",
    "    print(f'\\n\\nКоличество полных дубликатов в данных: {data_name.duplicated().sum()}')  "
   ]
  },
  {
   "cell_type": "code",
   "execution_count": 15,
   "metadata": {},
   "outputs": [],
   "source": [
    "def clear_text(text):\n",
    "    '''функция очистки текста \n",
    "    на входе: текст\n",
    "    на выходе: очищенный от всего кроме букв текст без лишних пробелов'''\n",
    "    text = text.lower()\n",
    "    text = re.sub(r'[^a-z]', ' ', text) \n",
    "    text = re.sub('\\s{2,}', ' ', text)\n",
    "    \n",
    "    split_list = text.split()\n",
    "    clear_text = ' '.join(split_list)\n",
    "    return clear_text"
   ]
  },
  {
   "cell_type": "code",
   "execution_count": 16,
   "metadata": {},
   "outputs": [],
   "source": [
    "def del_stop_words(text):\n",
    "    '''функция очистки текста от стоп-слов'''\n",
    "    words = TextBlob(text)\n",
    "    text_without_sw = [word for word in words.words if not word in SW]\n",
    "    return \" \".join(text_without_sw)"
   ]
  },
  {
   "cell_type": "code",
   "execution_count": 17,
   "metadata": {},
   "outputs": [],
   "source": [
    "def lemmatize_with_postag(text):\n",
    "    '''функция лематизации текста'''\n",
    "    sentence = TextBlob(text)\n",
    "    tag_dict = {\"J\": 'a', \n",
    "                \"N\": 'n', \n",
    "                \"V\": 'v', \n",
    "                \"R\": 'r'}\n",
    "    words_and_tags = [(w, tag_dict.get(pos[0], 'n')) for w, pos in sentence.tags]    \n",
    "    lemmatized_list = [wd.lemmatize(tag) for wd, tag in words_and_tags]\n",
    "    return \" \".join(lemmatized_list)"
   ]
  },
  {
   "cell_type": "code",
   "execution_count": 7,
   "metadata": {},
   "outputs": [],
   "source": [
    "def best_model(model, params, features, target):\n",
    "    '''функция подбора гиперпараметров для заданной модели\n",
    "    на входе: модель, параметры для подбора, фичи и таргет\n",
    "              способ подбора параметров, по умолчанию GridSearchCV\n",
    "    на выходе: подобранная модель и значение искомой метрики F1'''\n",
    "      \n",
    "     \n",
    "    # собираем пайплайн    \n",
    "    pipe = Pipeline([\n",
    "        ('vect', CountVectorizer(stop_words={'english'})),\n",
    "        ('tfidf', TfidfTransformer()),\n",
    "        ('clf', model)])  \n",
    "    \n",
    "    # подбор гиперпараметров\n",
    "    searcher = GridSearchCV(pipe,\n",
    "                            param_grid=params,\n",
    "                            scoring='f1',\n",
    "                            cv=CV,\n",
    "                            n_jobs=-1,\n",
    "                            verbose=True)\n",
    "   \n",
    "    search = searcher.fit(features, target)\n",
    "     \n",
    "        \n",
    "    list_best_params.append({'model': search.best_estimator_[-1],\n",
    "                             'best_estimator': search.best_estimator_,\n",
    "                             'pipe_params': search.best_params_,\n",
    "                             'F1': abs(search.best_score_),\n",
    "                             'time_fit': search.refit_time_})"
   ]
  },
  {
   "cell_type": "code",
   "execution_count": 8,
   "metadata": {},
   "outputs": [],
   "source": [
    "def print_result(list_for_print):\n",
    "    '''выводим таблицу с данными'''\n",
    "    # табличка с оптимизированными гиперпараметрами\n",
    "    df_best_models = pd.DataFrame(list_for_print)\n",
    "    display(df_best_models)"
   ]
  },
  {
   "cell_type": "markdown",
   "metadata": {},
   "source": [
    "Приступим к осмотру данных"
   ]
  },
  {
   "cell_type": "code",
   "execution_count": 9,
   "metadata": {},
   "outputs": [
    {
     "name": "stdout",
     "output_type": "stream",
     "text": [
      "\n",
      "\n",
      "Данные из выборки\n",
      "\n"
     ]
    },
    {
     "data": {
      "text/html": [
       "<div>\n",
       "<style scoped>\n",
       "    .dataframe tbody tr th:only-of-type {\n",
       "        vertical-align: middle;\n",
       "    }\n",
       "\n",
       "    .dataframe tbody tr th {\n",
       "        vertical-align: top;\n",
       "    }\n",
       "\n",
       "    .dataframe thead th {\n",
       "        text-align: right;\n",
       "    }\n",
       "</style>\n",
       "<table border=\"1\" class=\"dataframe\">\n",
       "  <thead>\n",
       "    <tr style=\"text-align: right;\">\n",
       "      <th></th>\n",
       "      <th>Unnamed: 0</th>\n",
       "      <th>text</th>\n",
       "      <th>toxic</th>\n",
       "    </tr>\n",
       "  </thead>\n",
       "  <tbody>\n",
       "    <tr>\n",
       "      <th>0</th>\n",
       "      <td>0</td>\n",
       "      <td>Explanation\\nWhy the edits made under my username Hardcore Metallica Fan were reverted? They weren't vandalisms, just closure on some GAs after I voted at New York Dolls FAC. And please don't remove the template from the talk page since I'm retired now.89.205.38.27</td>\n",
       "      <td>0</td>\n",
       "    </tr>\n",
       "    <tr>\n",
       "      <th>1</th>\n",
       "      <td>1</td>\n",
       "      <td>D'aww! He matches this background colour I'm seemingly stuck with. Thanks.  (talk) 21:51, January 11, 2016 (UTC)</td>\n",
       "      <td>0</td>\n",
       "    </tr>\n",
       "    <tr>\n",
       "      <th>2</th>\n",
       "      <td>2</td>\n",
       "      <td>Hey man, I'm really not trying to edit war. It's just that this guy is constantly removing relevant information and talking to me through edits instead of my talk page. He seems to care more about the formatting than the actual info.</td>\n",
       "      <td>0</td>\n",
       "    </tr>\n",
       "    <tr>\n",
       "      <th>3</th>\n",
       "      <td>3</td>\n",
       "      <td>\"\\nMore\\nI can't make any real suggestions on improvement - I wondered if the section statistics should be later on, or a subsection of \"\"types of accidents\"\"  -I think the references may need tidying so that they are all in the exact same format ie date format etc. I can do that later on, if no-one else does first - if you have any preferences for formatting style on references or want to do it yourself please let me know.\\n\\nThere appears to be a backlog on articles for review so I guess there may be a delay until a reviewer turns up. It's listed in the relevant form eg Wikipedia:Good_article_nominations#Transport  \"</td>\n",
       "      <td>0</td>\n",
       "    </tr>\n",
       "    <tr>\n",
       "      <th>4</th>\n",
       "      <td>4</td>\n",
       "      <td>You, sir, are my hero. Any chance you remember what page that's on?</td>\n",
       "      <td>0</td>\n",
       "    </tr>\n",
       "  </tbody>\n",
       "</table>\n",
       "</div>"
      ],
      "text/plain": [
       "   Unnamed: 0  \\\n",
       "0           0   \n",
       "1           1   \n",
       "2           2   \n",
       "3           3   \n",
       "4           4   \n",
       "\n",
       "                                                                                                                                                                                                                                                                                                                                                                                                                                                                                                                                                                                                                                                 text  \\\n",
       "0                                                                                                                                                                                                                                                                                                                                                                           Explanation\\nWhy the edits made under my username Hardcore Metallica Fan were reverted? They weren't vandalisms, just closure on some GAs after I voted at New York Dolls FAC. And please don't remove the template from the talk page since I'm retired now.89.205.38.27   \n",
       "1                                                                                                                                                                                                                                                                                                                                                                                                                                                                                                                                    D'aww! He matches this background colour I'm seemingly stuck with. Thanks.  (talk) 21:51, January 11, 2016 (UTC)   \n",
       "2                                                                                                                                                                                                                                                                                                                                                                                                           Hey man, I'm really not trying to edit war. It's just that this guy is constantly removing relevant information and talking to me through edits instead of my talk page. He seems to care more about the formatting than the actual info.   \n",
       "3  \"\\nMore\\nI can't make any real suggestions on improvement - I wondered if the section statistics should be later on, or a subsection of \"\"types of accidents\"\"  -I think the references may need tidying so that they are all in the exact same format ie date format etc. I can do that later on, if no-one else does first - if you have any preferences for formatting style on references or want to do it yourself please let me know.\\n\\nThere appears to be a backlog on articles for review so I guess there may be a delay until a reviewer turns up. It's listed in the relevant form eg Wikipedia:Good_article_nominations#Transport  \"   \n",
       "4                                                                                                                                                                                                                                                                                                                                                                                                                                                                                                                                                                                 You, sir, are my hero. Any chance you remember what page that's on?   \n",
       "\n",
       "   toxic  \n",
       "0      0  \n",
       "1      0  \n",
       "2      0  \n",
       "3      0  \n",
       "4      0  "
      ]
     },
     "metadata": {},
     "output_type": "display_data"
    },
    {
     "data": {
      "text/html": [
       "<div>\n",
       "<style scoped>\n",
       "    .dataframe tbody tr th:only-of-type {\n",
       "        vertical-align: middle;\n",
       "    }\n",
       "\n",
       "    .dataframe tbody tr th {\n",
       "        vertical-align: top;\n",
       "    }\n",
       "\n",
       "    .dataframe thead th {\n",
       "        text-align: right;\n",
       "    }\n",
       "</style>\n",
       "<table border=\"1\" class=\"dataframe\">\n",
       "  <thead>\n",
       "    <tr style=\"text-align: right;\">\n",
       "      <th></th>\n",
       "      <th>Unnamed: 0</th>\n",
       "      <th>text</th>\n",
       "      <th>toxic</th>\n",
       "    </tr>\n",
       "  </thead>\n",
       "  <tbody>\n",
       "    <tr>\n",
       "      <th>159287</th>\n",
       "      <td>159446</td>\n",
       "      <td>\":::::And for the second time of asking, when your view completely contradicts the coverage in reliable sources, why should anyone care what you feel? You can't even give a consistent argument - is the opening only supposed to mention significant aspects, or the \"\"most significant\"\" ones?   \\n\\n\"</td>\n",
       "      <td>0</td>\n",
       "    </tr>\n",
       "    <tr>\n",
       "      <th>159288</th>\n",
       "      <td>159447</td>\n",
       "      <td>You should be ashamed of yourself \\n\\nThat is a horrible thing you put on my talk page.  128.61.19.93</td>\n",
       "      <td>0</td>\n",
       "    </tr>\n",
       "    <tr>\n",
       "      <th>159289</th>\n",
       "      <td>159448</td>\n",
       "      <td>Spitzer \\n\\nUmm, theres no actual article for prostitution ring.  - Crunch Captain.</td>\n",
       "      <td>0</td>\n",
       "    </tr>\n",
       "    <tr>\n",
       "      <th>159290</th>\n",
       "      <td>159449</td>\n",
       "      <td>And it looks like it was actually you who put on the speedy to have the first version deleted now that I look at it.</td>\n",
       "      <td>0</td>\n",
       "    </tr>\n",
       "    <tr>\n",
       "      <th>159291</th>\n",
       "      <td>159450</td>\n",
       "      <td>\"\\nAnd ... I really don't think you understand.  I came here and my idea was bad right away.  What kind of community goes \"\"you have bad ideas\"\" go away, instead of helping rewrite them.   \"</td>\n",
       "      <td>0</td>\n",
       "    </tr>\n",
       "  </tbody>\n",
       "</table>\n",
       "</div>"
      ],
      "text/plain": [
       "        Unnamed: 0                                                                                                                                                                                                                                                                                                       text  toxic\n",
       "159287      159446  \":::::And for the second time of asking, when your view completely contradicts the coverage in reliable sources, why should anyone care what you feel? You can't even give a consistent argument - is the opening only supposed to mention significant aspects, or the \"\"most significant\"\" ones?   \\n\\n\"      0\n",
       "159288      159447                                                                                                                                                                                                      You should be ashamed of yourself \\n\\nThat is a horrible thing you put on my talk page.  128.61.19.93      0\n",
       "159289      159448                                                                                                                                                                                                                        Spitzer \\n\\nUmm, theres no actual article for prostitution ring.  - Crunch Captain.      0\n",
       "159290      159449                                                                                                                                                                                       And it looks like it was actually you who put on the speedy to have the first version deleted now that I look at it.      0\n",
       "159291      159450                                                                                                             \"\\nAnd ... I really don't think you understand.  I came here and my idea was bad right away.  What kind of community goes \"\"you have bad ideas\"\" go away, instead of helping rewrite them.   \"      0"
      ]
     },
     "metadata": {},
     "output_type": "display_data"
    },
    {
     "name": "stdout",
     "output_type": "stream",
     "text": [
      "------------------------------------------------------------\n",
      "\n",
      "\n",
      "Количество признаков: 3, Количество наблюдений: 159292\n",
      "\n",
      "------------------------------------------------------------\n",
      "\n",
      "Информация о данных\n",
      "\n"
     ]
    },
    {
     "data": {
      "text/html": [
       "<div>\n",
       "<style scoped>\n",
       "    .dataframe tbody tr th:only-of-type {\n",
       "        vertical-align: middle;\n",
       "    }\n",
       "\n",
       "    .dataframe tbody tr th {\n",
       "        vertical-align: top;\n",
       "    }\n",
       "\n",
       "    .dataframe thead th {\n",
       "        text-align: right;\n",
       "    }\n",
       "</style>\n",
       "<table border=\"1\" class=\"dataframe\">\n",
       "  <thead>\n",
       "    <tr style=\"text-align: right;\">\n",
       "      <th></th>\n",
       "      <th>Признак</th>\n",
       "      <th>Тип данных</th>\n",
       "      <th>Уникальных значений</th>\n",
       "      <th>%Пропусков</th>\n",
       "    </tr>\n",
       "  </thead>\n",
       "  <tbody>\n",
       "    <tr>\n",
       "      <th>0</th>\n",
       "      <td>Unnamed: 0</td>\n",
       "      <td>int64</td>\n",
       "      <td>159292</td>\n",
       "      <td>0.0</td>\n",
       "    </tr>\n",
       "    <tr>\n",
       "      <th>1</th>\n",
       "      <td>text</td>\n",
       "      <td>object</td>\n",
       "      <td>159292</td>\n",
       "      <td>0.0</td>\n",
       "    </tr>\n",
       "    <tr>\n",
       "      <th>2</th>\n",
       "      <td>toxic</td>\n",
       "      <td>int64</td>\n",
       "      <td>2</td>\n",
       "      <td>0.0</td>\n",
       "    </tr>\n",
       "  </tbody>\n",
       "</table>\n",
       "</div>"
      ],
      "text/plain": [
       "      Признак Тип данных  Уникальных значений  %Пропусков\n",
       "0  Unnamed: 0      int64               159292         0.0\n",
       "1        text     object               159292         0.0\n",
       "2       toxic      int64                    2         0.0"
      ]
     },
     "metadata": {},
     "output_type": "display_data"
    },
    {
     "name": "stdout",
     "output_type": "stream",
     "text": [
      "------------------------------------------------------------\n",
      "\n",
      "\n",
      "Количество полных дубликатов в данных: 0\n"
     ]
    }
   ],
   "source": [
    "data_info(df)"
   ]
  },
  {
   "cell_type": "markdown",
   "metadata": {},
   "source": [
    "Обзор данных показывает:\n",
    "* у нас имеются три столбца\n",
    "   - `Unnamed: 0` - похоже на ID комментария\n",
    "   - `text` - текст комментария\n",
    "   - `toxic` - целевой признак с разметкой токсичности комментариев\n",
    "* мы имеем дело с англоязычным текстом\n",
    "* пропусков, полных дубликатов  в данных нет\n",
    "* в данных преставлено 159 292 записи"
   ]
  },
  {
   "cell_type": "markdown",
   "metadata": {},
   "source": [
    "Учитывая вышеизложенное:\n",
    "* удалим признак `Unnamed: 0`, так как он в нашем случае всего лишь дублирует индексацию\n",
    "* проверим длину комментов на предмет их адекватности\n",
    "* проверис баланс классов в целевом признаке"
   ]
  },
  {
   "cell_type": "code",
   "execution_count": 10,
   "metadata": {},
   "outputs": [],
   "source": [
    "# удаляем столбец\n",
    "df.drop('Unnamed: 0', axis=1, inplace=True);"
   ]
  },
  {
   "cell_type": "code",
   "execution_count": 11,
   "metadata": {},
   "outputs": [
    {
     "name": "stdout",
     "output_type": "stream",
     "text": [
      "Описательная статистика количества символов в поле `text`\n"
     ]
    },
    {
     "data": {
      "text/plain": [
       "count    159292.000000\n",
       "mean        393.691303\n",
       "std         590.111825\n",
       "min           5.000000\n",
       "25%          95.000000\n",
       "50%         205.000000\n",
       "75%         435.000000\n",
       "max        5000.000000\n",
       "Name: text, dtype: float64"
      ]
     },
     "execution_count": 11,
     "metadata": {},
     "output_type": "execute_result"
    }
   ],
   "source": [
    "length = df['text'].str.len()\n",
    "print('Описательная статистика количества символов в поле `text`')\n",
    "length.describe()"
   ]
  },
  {
   "cell_type": "code",
   "execution_count": 12,
   "metadata": {},
   "outputs": [
    {
     "data": {
      "text/plain": [
       "889.0"
      ]
     },
     "execution_count": 12,
     "metadata": {},
     "output_type": "execute_result"
    }
   ],
   "source": [
    "length.quantile(0.9)"
   ]
  },
  {
   "cell_type": "code",
   "execution_count": 13,
   "metadata": {},
   "outputs": [
    {
     "data": {
      "image/png": "[encoded data removed]",
      "text/plain": [
       "<Figure size 432x288 with 1 Axes>"
      ]
     },
     "metadata": {},
     "output_type": "display_data"
    }
   ],
   "source": [
    "plt.figure(figsize=(6,4))\n",
    "length.hist(bins=50);\n",
    "plt.title('Распределение длины комментариев')\n",
    "plt.xlabel('Длина коммента')\n",
    "plt.ylabel('Частота наблюдений')\n",
    "plt.show()"
   ]
  },
  {
   "cell_type": "markdown",
   "metadata": {},
   "source": [
    "Если смотреть на имещиеся в сети данные о максимальной длине комментариев, то к примеру для Facebook это 7999 символов, для многих других сетей и сервисов и того больше. Таким образом, имеющиеся у нас коменты выглядят правдоподобными. Тем более, что 90% комментов укладываются в 1000 символов."
   ]
  },
  {
   "cell_type": "code",
   "execution_count": 14,
   "metadata": {},
   "outputs": [
    {
     "data": {
      "image/png": "[encoded data removed]",
      "text/plain": [
       "<Figure size 576x288 with 1 Axes>"
      ]
     },
     "metadata": {},
     "output_type": "display_data"
    }
   ],
   "source": [
    "# построим круговую диаграмму распределения целевого признака\n",
    "d_2 = df['toxic'].value_counts()\n",
    "\n",
    "plt.figure(figsize=(8,4))\n",
    "plt.title('Распределение целевого признака в строках')\n",
    "plt.pie(d_2, labels={'non toxic \"0\"', 'toxic \"1\"'}, autopct='%.1f%%');\n",
    "plt.show()"
   ]
  },
  {
   "cell_type": "markdown",
   "metadata": {},
   "source": [
    "Таким образом, имеем явный дисбаланс классов. Это надо учитывать при делении на выборки и построении моделей."
   ]
  },
  {
   "cell_type": "markdown",
   "metadata": {},
   "source": [
    "В нашем случае задача классификации текстов сводится к моделированию в два этапа:\n",
    "1. Модели перевода слов в векторное представление: исходные тексты преобразуются в векторы.\n",
    "2. Модели классификации: на основе векторов текстов получаются прогнозы."
   ]
  },
  {
   "cell_type": "markdown",
   "metadata": {},
   "source": [
    "Прежде чем перейти к векторному представлению слов, необходимо провести предобработку текста:\n",
    " * токенизацию каждого текста, то есть его разбивку на слова;\n",
    " * лемматизацию: приведение к начальной словарной форме;\n",
    " * очищение текста от стоп-слов и ненужных символов;\n",
    " * добавление маркеров начала и конца предложения.\n",
    "\n",
    "Затем полученные в ходе предобработки текста токены передадим модели, которая переводит их в векторные представления. \n",
    "\n",
    "А уже векторы передадим модели классификации для прогнозирования эмоциональной окраски текста — 0 («отрицательная») или 1 («положительная»)."
   ]
  },
  {
   "cell_type": "markdown",
   "metadata": {},
   "source": [
    "Очистим текст от лишних знаков и приведем его к нижнему регистру и проведем лемматизацию"
   ]
  },
  {
   "cell_type": "markdown",
   "metadata": {},
   "source": [
    "⚠️ Время лемматизации всей выборки составляет около 13 минут."
   ]
  },
  {
   "cell_type": "code",
   "execution_count": 18,
   "metadata": {
    "scrolled": true
   },
   "outputs": [
    {
     "name": "stderr",
     "output_type": "stream",
     "text": [
      "100%|██████████| 159292/159292 [00:06<00:00, 24727.65it/s]\n"
     ]
    }
   ],
   "source": [
    "df['clear_text'] =  df['text'].progress_apply(\n",
    "    lambda x: clear_text(str(x)))"
   ]
  },
  {
   "cell_type": "code",
   "execution_count": 19,
   "metadata": {},
   "outputs": [
    {
     "name": "stderr",
     "output_type": "stream",
     "text": [
      "100%|██████████| 159292/159292 [01:22<00:00, 1921.51it/s]"
     ]
    },
    {
     "name": "stdout",
     "output_type": "stream",
     "text": [
      "Время зачистки от стоп-слов всей выборки: 0:01:22.917404\n"
     ]
    },
    {
     "name": "stderr",
     "output_type": "stream",
     "text": [
      "\n"
     ]
    }
   ],
   "source": [
    "time_start = dt.now()\n",
    "df['clear_text'] =  df['clear_text'].progress_apply(del_stop_words)\n",
    "time_sw = (dt.now() - time_start)    \n",
    "print(f'Время зачистки от стоп-слов всей выборки: {time_sw}')"
   ]
  },
  {
   "cell_type": "code",
   "execution_count": 20,
   "metadata": {},
   "outputs": [
    {
     "name": "stderr",
     "output_type": "stream",
     "text": [
      "100%|██████████| 159292/159292 [09:27<00:00, 280.56it/s]"
     ]
    },
    {
     "name": "stdout",
     "output_type": "stream",
     "text": [
      "Время лемматизации всей выборки: 0:09:27.781503\n"
     ]
    },
    {
     "name": "stderr",
     "output_type": "stream",
     "text": [
      "\n"
     ]
    }
   ],
   "source": [
    "time_start = dt.now()\n",
    "df['lemma_text'] = df['clear_text'].progress_apply(lemmatize_with_postag)\n",
    "time_lemm = (dt.now() - time_start)    \n",
    "print(f'Время лемматизации всей выборки: {time_lemm}')"
   ]
  },
  {
   "cell_type": "code",
   "execution_count": 21,
   "metadata": {},
   "outputs": [
    {
     "data": {
      "text/html": [
       "<div>\n",
       "<style scoped>\n",
       "    .dataframe tbody tr th:only-of-type {\n",
       "        vertical-align: middle;\n",
       "    }\n",
       "\n",
       "    .dataframe tbody tr th {\n",
       "        vertical-align: top;\n",
       "    }\n",
       "\n",
       "    .dataframe thead th {\n",
       "        text-align: right;\n",
       "    }\n",
       "</style>\n",
       "<table border=\"1\" class=\"dataframe\">\n",
       "  <thead>\n",
       "    <tr style=\"text-align: right;\">\n",
       "      <th></th>\n",
       "      <th>text</th>\n",
       "      <th>toxic</th>\n",
       "      <th>clear_text</th>\n",
       "      <th>lemma_text</th>\n",
       "    </tr>\n",
       "  </thead>\n",
       "  <tbody>\n",
       "    <tr>\n",
       "      <th>0</th>\n",
       "      <td>Explanation\\nWhy the edits made under my username Hardcore Metallica Fan were reverted? They weren't vandalisms, just closure on some GAs after I voted at New York Dolls FAC. And please don't remove the template from the talk page since I'm retired now.89.205.38.27</td>\n",
       "      <td>0</td>\n",
       "      <td>explanation edits made username hardcore metallica fan reverted vandalisms closure gas voted new york dolls fac please remove template talk page since retired</td>\n",
       "      <td>explanation edits make username hardcore metallica fan revert vandalisms closure gas vote new york doll fac please remove template talk page since retire</td>\n",
       "    </tr>\n",
       "    <tr>\n",
       "      <th>1</th>\n",
       "      <td>D'aww! He matches this background colour I'm seemingly stuck with. Thanks.  (talk) 21:51, January 11, 2016 (UTC)</td>\n",
       "      <td>0</td>\n",
       "      <td>aww matches background colour seemingly stuck thanks talk january utc</td>\n",
       "      <td>aww match background colour seemingly stuck thanks talk january utc</td>\n",
       "    </tr>\n",
       "    <tr>\n",
       "      <th>2</th>\n",
       "      <td>Hey man, I'm really not trying to edit war. It's just that this guy is constantly removing relevant information and talking to me through edits instead of my talk page. He seems to care more about the formatting than the actual info.</td>\n",
       "      <td>0</td>\n",
       "      <td>hey man really trying edit war guy constantly removing relevant information talking edits instead talk page seems care formatting actual info</td>\n",
       "      <td>hey man really try edit war guy constantly remove relevant information talk edits instead talk page seem care format actual info</td>\n",
       "    </tr>\n",
       "    <tr>\n",
       "      <th>3</th>\n",
       "      <td>\"\\nMore\\nI can't make any real suggestions on improvement - I wondered if the section statistics should be later on, or a subsection of \"\"types of accidents\"\"  -I think the references may need tidying so that they are all in the exact same format ie date format etc. I can do that later on, if no-one else does first - if you have any preferences for formatting style on references or want to do it yourself please let me know.\\n\\nThere appears to be a backlog on articles for review so I guess there may be a delay until a reviewer turns up. It's listed in the relevant form eg Wikipedia:Good_article_nominations#Transport  \"</td>\n",
       "      <td>0</td>\n",
       "      <td>make real suggestions improvement wondered section statistics later subsection types accidents think references may need tidying exact format ie date format etc later one else first preferences formatting style references want please let know appears backlog articles review guess may delay reviewer turns listed relevant form eg wikipedia good article nominations transport</td>\n",
       "      <td>make real suggestion improvement wonder section statistic later subsection type accident think reference may need tidy exact format ie date format etc later one else first preference format style reference want please let know appear backlog article review guess may delay reviewer turn list relevant form eg wikipedia good article nomination transport</td>\n",
       "    </tr>\n",
       "    <tr>\n",
       "      <th>4</th>\n",
       "      <td>You, sir, are my hero. Any chance you remember what page that's on?</td>\n",
       "      <td>0</td>\n",
       "      <td>sir hero chance remember page</td>\n",
       "      <td>sir hero chance remember page</td>\n",
       "    </tr>\n",
       "  </tbody>\n",
       "</table>\n",
       "</div>"
      ],
      "text/plain": [
       "                                                                                                                                                                                                                                                                                                                                                                                                                                                                                                                                                                                                                                                 text  \\\n",
       "0                                                                                                                                                                                                                                                                                                                                                                           Explanation\\nWhy the edits made under my username Hardcore Metallica Fan were reverted? They weren't vandalisms, just closure on some GAs after I voted at New York Dolls FAC. And please don't remove the template from the talk page since I'm retired now.89.205.38.27   \n",
       "1                                                                                                                                                                                                                                                                                                                                                                                                                                                                                                                                    D'aww! He matches this background colour I'm seemingly stuck with. Thanks.  (talk) 21:51, January 11, 2016 (UTC)   \n",
       "2                                                                                                                                                                                                                                                                                                                                                                                                           Hey man, I'm really not trying to edit war. It's just that this guy is constantly removing relevant information and talking to me through edits instead of my talk page. He seems to care more about the formatting than the actual info.   \n",
       "3  \"\\nMore\\nI can't make any real suggestions on improvement - I wondered if the section statistics should be later on, or a subsection of \"\"types of accidents\"\"  -I think the references may need tidying so that they are all in the exact same format ie date format etc. I can do that later on, if no-one else does first - if you have any preferences for formatting style on references or want to do it yourself please let me know.\\n\\nThere appears to be a backlog on articles for review so I guess there may be a delay until a reviewer turns up. It's listed in the relevant form eg Wikipedia:Good_article_nominations#Transport  \"   \n",
       "4                                                                                                                                                                                                                                                                                                                                                                                                                                                                                                                                                                                 You, sir, are my hero. Any chance you remember what page that's on?   \n",
       "\n",
       "   toxic                                                                                                                                                                                                                                                                                                                                                                              clear_text  \\\n",
       "0      0                                                                                                                                                                                                                          explanation edits made username hardcore metallica fan reverted vandalisms closure gas voted new york dolls fac please remove template talk page since retired   \n",
       "1      0                                                                                                                                                                                                                                                                                                                   aww matches background colour seemingly stuck thanks talk january utc   \n",
       "2      0                                                                                                                                                                                                                                           hey man really trying edit war guy constantly removing relevant information talking edits instead talk page seems care formatting actual info   \n",
       "3      0  make real suggestions improvement wondered section statistics later subsection types accidents think references may need tidying exact format ie date format etc later one else first preferences formatting style references want please let know appears backlog articles review guess may delay reviewer turns listed relevant form eg wikipedia good article nominations transport   \n",
       "4      0                                                                                                                                                                                                                                                                                                                                                           sir hero chance remember page   \n",
       "\n",
       "                                                                                                                                                                                                                                                                                                                                                         lemma_text  \n",
       "0                                                                                                                                                                                                         explanation edits make username hardcore metallica fan revert vandalisms closure gas vote new york doll fac please remove template talk page since retire  \n",
       "1                                                                                                                                                                                                                                                                                               aww match background colour seemingly stuck thanks talk january utc  \n",
       "2                                                                                                                                                                                                                                  hey man really try edit war guy constantly remove relevant information talk edits instead talk page seem care format actual info  \n",
       "3  make real suggestion improvement wonder section statistic later subsection type accident think reference may need tidy exact format ie date format etc later one else first preference format style reference want please let know appear backlog article review guess may delay reviewer turn list relevant form eg wikipedia good article nomination transport  \n",
       "4                                                                                                                                                                                                                                                                                                                                     sir hero chance remember page  "
      ]
     },
     "execution_count": 21,
     "metadata": {},
     "output_type": "execute_result"
    }
   ],
   "source": [
    "df.head(5)"
   ]
  },
  {
   "cell_type": "markdown",
   "metadata": {},
   "source": [
    "Учитывая объемность данных. проведем исследовательскую часть на выборке в 50 000 объектов."
   ]
  },
  {
   "cell_type": "code",
   "execution_count": 24,
   "metadata": {},
   "outputs": [
    {
     "data": {
      "text/plain": [
       "(50000, 4)"
      ]
     },
     "execution_count": 24,
     "metadata": {},
     "output_type": "execute_result"
    }
   ],
   "source": [
    "df_sample = df.sample(n=50000, random_state=RS)\n",
    "df_sample.shape"
   ]
  },
  {
   "cell_type": "markdown",
   "metadata": {},
   "source": [
    "Проверим сохранилось ли распределение целевого признака"
   ]
  },
  {
   "cell_type": "code",
   "execution_count": 25,
   "metadata": {},
   "outputs": [
    {
     "data": {
      "image/png": "[encoded data removed]",
      "text/plain": [
       "<Figure size 576x288 with 1 Axes>"
      ]
     },
     "metadata": {},
     "output_type": "display_data"
    }
   ],
   "source": [
    "# построим круговую диаграмму распределения целевого признака\n",
    "d_2 = df_sample['toxic'].value_counts()\n",
    "\n",
    "plt.figure(figsize=(8,4))\n",
    "plt.title('Распределение целевого признака в строках')\n",
    "plt.pie(d_2, labels={'non toxic \"0\"', 'toxic \"1\"'}, autopct='%.1f%%');\n",
    "plt.show()"
   ]
  },
  {
   "cell_type": "markdown",
   "metadata": {},
   "source": [
    "Подготовим обучающую и тестовую выборки, не забывая про дисбаланс целевого признака"
   ]
  },
  {
   "cell_type": "code",
   "execution_count": 26,
   "metadata": {},
   "outputs": [
    {
     "data": {
      "text/plain": [
       "((50000,), (50000,))"
      ]
     },
     "execution_count": 26,
     "metadata": {},
     "output_type": "execute_result"
    }
   ],
   "source": [
    "X, y = df_sample['lemma_text'], df_sample['toxic']\n",
    "X.shape, y.shape"
   ]
  },
  {
   "cell_type": "code",
   "execution_count": 27,
   "metadata": {},
   "outputs": [],
   "source": [
    "(X_train, X_test, y_train, y_test) = train_test_split(X, y,\n",
    "                                                      test_size=0.20,\n",
    "                                                      random_state=RS, \n",
    "                                                      stratify=y) "
   ]
  },
  {
   "cell_type": "code",
   "execution_count": 28,
   "metadata": {},
   "outputs": [
    {
     "name": "stdout",
     "output_type": "stream",
     "text": [
      "Размер тестовой выборки(10000,)\n"
     ]
    }
   ],
   "source": [
    "print(f'Размер тестовой выборки{y_test.shape}')"
   ]
  },
  {
   "cell_type": "markdown",
   "metadata": {},
   "source": [
    "**Выводы:**\n",
    "\n",
    "В ходе подготовительной части были выполнены следующие шаги:\n",
    "* загружены данные и проведен их обзор\n",
    "* в данных пропусков и убликатов не обнаружено\n",
    "* выявлен дисбаланс классов в целевом признаке\n",
    "* проведена предобработка теккста перед его подачей в модель машинного обучения\n",
    " * текст очищен от лишних символов\n",
    " * удалены стоп-слова\n",
    " * проведена лемматизация слов\n",
    "* для дальнейшего исследования взята выборка в 50 000 объектов.\n",
    "* подготовлены обучающая и тестовая выборки.\n"
   ]
  },
  {
   "cell_type": "markdown",
   "metadata": {},
   "source": [
    "## Обучение"
   ]
  },
  {
   "cell_type": "markdown",
   "metadata": {},
   "source": [
    "Все модели будет исследовать одним методом: в `Pipeline` последовательно будем использовать\n",
    " - `CountVectorizer` -  реализует как токенизацию, так и подсчет вхождений слова в одном корпусе\n",
    " - `TfidfTransformer` - осуществляет \"взвешивание\" слов\n",
    " - `Classificator` - модель классификации\n",
    "    \n",
    "    При подборе параметров будем руководствоваться документацией `Sklearn`."
   ]
  },
  {
   "cell_type": "markdown",
   "metadata": {},
   "source": [
    "По классике жанра начнем подбор моделей с **LogisticRegression**:"
   ]
  },
  {
   "cell_type": "code",
   "execution_count": 29,
   "metadata": {},
   "outputs": [],
   "source": [
    "# списко для агрегации результатов\n",
    "list_best_params = []"
   ]
  },
  {
   "cell_type": "code",
   "execution_count": 30,
   "metadata": {},
   "outputs": [],
   "source": [
    "# задаем модель\n",
    "model_lr = LogisticRegression(class_weight='balanced')"
   ]
  },
  {
   "cell_type": "markdown",
   "metadata": {},
   "source": [
    "В результате подбора гиперпараметров в проекте оставлены значения, которые не совпадают с дефолтными параметрами, и установлены наиблизжайшие значения, для минимизации времени работы алгоритма."
   ]
  },
  {
   "cell_type": "code",
   "execution_count": 31,
   "metadata": {},
   "outputs": [],
   "source": [
    "# гиперпараметры для поиска\n",
    "params_lr = {\n",
    "#    'vect__ngram_range': [(1, 1), (1,2), (2,2)], #(1,1) - default\n",
    "#     'tfidf__use_idf': (True, False), #True - default\n",
    "#     'tfidf__smooth_idf': (True, False), #True - default\n",
    "    'tfidf__sublinear_tf': (True, False),\n",
    "    'clf__penalty': ['l2', 'l1'],   #l2\n",
    "    'clf__intercept_scaling': [0.1, 1, 3],\n",
    "    'clf__C': [0.1, 11, 21], \n",
    "         }"
   ]
  },
  {
   "cell_type": "code",
   "execution_count": 32,
   "metadata": {},
   "outputs": [
    {
     "name": "stdout",
     "output_type": "stream",
     "text": [
      "Fitting 3 folds for each of 36 candidates, totalling 108 fits\n"
     ]
    }
   ],
   "source": [
    "best_model(model_lr, params_lr, X_train, y_train)  "
   ]
  },
  {
   "cell_type": "code",
   "execution_count": 33,
   "metadata": {},
   "outputs": [
    {
     "data": {
      "text/html": [
       "<div>\n",
       "<style scoped>\n",
       "    .dataframe tbody tr th:only-of-type {\n",
       "        vertical-align: middle;\n",
       "    }\n",
       "\n",
       "    .dataframe tbody tr th {\n",
       "        vertical-align: top;\n",
       "    }\n",
       "\n",
       "    .dataframe thead th {\n",
       "        text-align: right;\n",
       "    }\n",
       "</style>\n",
       "<table border=\"1\" class=\"dataframe\">\n",
       "  <thead>\n",
       "    <tr style=\"text-align: right;\">\n",
       "      <th></th>\n",
       "      <th>model</th>\n",
       "      <th>best_estimator</th>\n",
       "      <th>pipe_params</th>\n",
       "      <th>F1</th>\n",
       "      <th>time_fit</th>\n",
       "    </tr>\n",
       "  </thead>\n",
       "  <tbody>\n",
       "    <tr>\n",
       "      <th>0</th>\n",
       "      <td>LogisticRegression(C=21, class_weight='balanced', intercept_scaling=0.1)</td>\n",
       "      <td>(CountVectorizer(stop_words={'english'}), TfidfTransformer(sublinear_tf=True), LogisticRegression(C=21, class_weight='balanced', intercept_scaling=0.1))</td>\n",
       "      <td>{'clf__C': 21, 'clf__intercept_scaling': 0.1, 'clf__penalty': 'l2', 'tfidf__sublinear_tf': True}</td>\n",
       "      <td>0.762601</td>\n",
       "      <td>2.910779</td>\n",
       "    </tr>\n",
       "  </tbody>\n",
       "</table>\n",
       "</div>"
      ],
      "text/plain": [
       "                                                                      model                                                                                                                                            best_estimator                                                                                       pipe_params        F1  time_fit\n",
       "0  LogisticRegression(C=21, class_weight='balanced', intercept_scaling=0.1)  (CountVectorizer(stop_words={'english'}), TfidfTransformer(sublinear_tf=True), LogisticRegression(C=21, class_weight='balanced', intercept_scaling=0.1))  {'clf__C': 21, 'clf__intercept_scaling': 0.1, 'clf__penalty': 'l2', 'tfidf__sublinear_tf': True}  0.762601  2.910779"
      ]
     },
     "metadata": {},
     "output_type": "display_data"
    }
   ],
   "source": [
    "print_result(list_best_params)"
   ]
  },
  {
   "cell_type": "markdown",
   "metadata": {},
   "source": [
    "**DecisionTreeClassifier**"
   ]
  },
  {
   "cell_type": "code",
   "execution_count": 34,
   "metadata": {},
   "outputs": [],
   "source": [
    "# задаем модель\n",
    "model_dt = DecisionTreeClassifier(random_state=RS)"
   ]
  },
  {
   "cell_type": "code",
   "execution_count": 35,
   "metadata": {},
   "outputs": [],
   "source": [
    "# гиперпараметры для поиска\n",
    "params_dt = {\n",
    "#    'vect__ngram_range': [(1, 1), (2,2)], #(1,1) - default\n",
    "#    'tfidf__use_idf': (True, False), #True - default\n",
    "    'tfidf__smooth_idf': (True, False),\n",
    "#    'tfidf__sublinear_tf': (True, False), #False - default\n",
    "    'tfidf__norm': ['l1','l2'],\n",
    "    'clf__max_depth': [None] + [6, 9],\n",
    "    'clf__class_weight': [None, 'balanced']\n",
    "          }"
   ]
  },
  {
   "cell_type": "code",
   "execution_count": 36,
   "metadata": {},
   "outputs": [
    {
     "name": "stdout",
     "output_type": "stream",
     "text": [
      "Fitting 3 folds for each of 24 candidates, totalling 72 fits\n"
     ]
    }
   ],
   "source": [
    "best_model(model_dt, params_dt, X_train, y_train)  "
   ]
  },
  {
   "cell_type": "code",
   "execution_count": 37,
   "metadata": {},
   "outputs": [
    {
     "data": {
      "text/html": [
       "<div>\n",
       "<style scoped>\n",
       "    .dataframe tbody tr th:only-of-type {\n",
       "        vertical-align: middle;\n",
       "    }\n",
       "\n",
       "    .dataframe tbody tr th {\n",
       "        vertical-align: top;\n",
       "    }\n",
       "\n",
       "    .dataframe thead th {\n",
       "        text-align: right;\n",
       "    }\n",
       "</style>\n",
       "<table border=\"1\" class=\"dataframe\">\n",
       "  <thead>\n",
       "    <tr style=\"text-align: right;\">\n",
       "      <th></th>\n",
       "      <th>model</th>\n",
       "      <th>best_estimator</th>\n",
       "      <th>pipe_params</th>\n",
       "      <th>F1</th>\n",
       "      <th>time_fit</th>\n",
       "    </tr>\n",
       "  </thead>\n",
       "  <tbody>\n",
       "    <tr>\n",
       "      <th>0</th>\n",
       "      <td>LogisticRegression(C=21, class_weight='balanced', intercept_scaling=0.1)</td>\n",
       "      <td>(CountVectorizer(stop_words={'english'}), TfidfTransformer(sublinear_tf=True), LogisticRegression(C=21, class_weight='balanced', intercept_scaling=0.1))</td>\n",
       "      <td>{'clf__C': 21, 'clf__intercept_scaling': 0.1, 'clf__penalty': 'l2', 'tfidf__sublinear_tf': True}</td>\n",
       "      <td>0.762601</td>\n",
       "      <td>2.910779</td>\n",
       "    </tr>\n",
       "    <tr>\n",
       "      <th>1</th>\n",
       "      <td>DecisionTreeClassifier(random_state=2023)</td>\n",
       "      <td>(CountVectorizer(stop_words={'english'}), TfidfTransformer(norm='l1'), DecisionTreeClassifier(random_state=2023))</td>\n",
       "      <td>{'clf__class_weight': None, 'clf__max_depth': None, 'tfidf__norm': 'l1', 'tfidf__smooth_idf': True}</td>\n",
       "      <td>0.708321</td>\n",
       "      <td>70.434759</td>\n",
       "    </tr>\n",
       "  </tbody>\n",
       "</table>\n",
       "</div>"
      ],
      "text/plain": [
       "                                                                      model                                                                                                                                            best_estimator                                                                                          pipe_params        F1   time_fit\n",
       "0  LogisticRegression(C=21, class_weight='balanced', intercept_scaling=0.1)  (CountVectorizer(stop_words={'english'}), TfidfTransformer(sublinear_tf=True), LogisticRegression(C=21, class_weight='balanced', intercept_scaling=0.1))     {'clf__C': 21, 'clf__intercept_scaling': 0.1, 'clf__penalty': 'l2', 'tfidf__sublinear_tf': True}  0.762601   2.910779\n",
       "1                                 DecisionTreeClassifier(random_state=2023)                                         (CountVectorizer(stop_words={'english'}), TfidfTransformer(norm='l1'), DecisionTreeClassifier(random_state=2023))  {'clf__class_weight': None, 'clf__max_depth': None, 'tfidf__norm': 'l1', 'tfidf__smooth_idf': True}  0.708321  70.434759"
      ]
     },
     "metadata": {},
     "output_type": "display_data"
    }
   ],
   "source": [
    "print_result(list_best_params)"
   ]
  },
  {
   "cell_type": "markdown",
   "metadata": {},
   "source": [
    "**SGDClassifier**"
   ]
  },
  {
   "cell_type": "markdown",
   "metadata": {},
   "source": [
    "В документации `Sklearn` при разборе работы с текстами рекомендуется для улучшения качества использоваться метод опорных векторов. В качестве более быстрого из алгоритмов используем стохастический градиентный спуск (`SGD`)"
   ]
  },
  {
   "cell_type": "code",
   "execution_count": 38,
   "metadata": {},
   "outputs": [],
   "source": [
    "# задаем модель\n",
    "model_sgd = SGDClassifier(random_state=RS)"
   ]
  },
  {
   "cell_type": "code",
   "execution_count": 39,
   "metadata": {},
   "outputs": [],
   "source": [
    "# гиперпараметры для поиска\n",
    "params_sgd = {\n",
    "#     'vect__ngram_range': [(1, 1), (2,2)], #(1,1) - default\n",
    "#     'tfidf__use_idf': (True, False), #True - default\n",
    "    'tfidf__smooth_idf': (True, False),\n",
    "    'tfidf__sublinear_tf': (True, False),\n",
    "    'tfidf__norm': ['l1','l2'],\n",
    "    'clf__loss': ['hinge', 'modified_huber'],\n",
    "    'clf__penalty': ['l1','l2'],\n",
    "    'clf__alpha': [1e-05, 1e-04, 1e+03, 1e+04],\n",
    "    'clf__class_weight': [None, 'balanced']\n",
    "#     'clf__learning_rate': ['optimal', 'adaptive'] #'optimal' - default\n",
    "          }"
   ]
  },
  {
   "cell_type": "code",
   "execution_count": 40,
   "metadata": {},
   "outputs": [
    {
     "name": "stdout",
     "output_type": "stream",
     "text": [
      "Fitting 3 folds for each of 256 candidates, totalling 768 fits\n"
     ]
    }
   ],
   "source": [
    "best_model(model_sgd, params_sgd, X_train, y_train)  "
   ]
  },
  {
   "cell_type": "code",
   "execution_count": 41,
   "metadata": {},
   "outputs": [
    {
     "data": {
      "text/html": [
       "<div>\n",
       "<style scoped>\n",
       "    .dataframe tbody tr th:only-of-type {\n",
       "        vertical-align: middle;\n",
       "    }\n",
       "\n",
       "    .dataframe tbody tr th {\n",
       "        vertical-align: top;\n",
       "    }\n",
       "\n",
       "    .dataframe thead th {\n",
       "        text-align: right;\n",
       "    }\n",
       "</style>\n",
       "<table border=\"1\" class=\"dataframe\">\n",
       "  <thead>\n",
       "    <tr style=\"text-align: right;\">\n",
       "      <th></th>\n",
       "      <th>model</th>\n",
       "      <th>best_estimator</th>\n",
       "      <th>pipe_params</th>\n",
       "      <th>F1</th>\n",
       "      <th>time_fit</th>\n",
       "    </tr>\n",
       "  </thead>\n",
       "  <tbody>\n",
       "    <tr>\n",
       "      <th>0</th>\n",
       "      <td>LogisticRegression(C=21, class_weight='balanced', intercept_scaling=0.1)</td>\n",
       "      <td>(CountVectorizer(stop_words={'english'}), TfidfTransformer(sublinear_tf=True), LogisticRegression(C=21, class_weight='balanced', intercept_scaling=0.1))</td>\n",
       "      <td>{'clf__C': 21, 'clf__intercept_scaling': 0.1, 'clf__penalty': 'l2', 'tfidf__sublinear_tf': True}</td>\n",
       "      <td>0.762601</td>\n",
       "      <td>2.910779</td>\n",
       "    </tr>\n",
       "    <tr>\n",
       "      <th>1</th>\n",
       "      <td>DecisionTreeClassifier(random_state=2023)</td>\n",
       "      <td>(CountVectorizer(stop_words={'english'}), TfidfTransformer(norm='l1'), DecisionTreeClassifier(random_state=2023))</td>\n",
       "      <td>{'clf__class_weight': None, 'clf__max_depth': None, 'tfidf__norm': 'l1', 'tfidf__smooth_idf': True}</td>\n",
       "      <td>0.708321</td>\n",
       "      <td>70.434759</td>\n",
       "    </tr>\n",
       "    <tr>\n",
       "      <th>2</th>\n",
       "      <td>SGDClassifier(alpha=1e-05, penalty='l1', random_state=2023)</td>\n",
       "      <td>(CountVectorizer(stop_words={'english'}), TfidfTransformer(smooth_idf=False, sublinear_tf=True), SGDClassifier(alpha=1e-05, penalty='l1', random_state=2023))</td>\n",
       "      <td>{'clf__alpha': 1e-05, 'clf__class_weight': None, 'clf__loss': 'hinge', 'clf__penalty': 'l1', 'tfidf__norm': 'l2', 'tfidf__smooth_idf': False, 'tfidf__sublinear_tf': True}</td>\n",
       "      <td>0.772614</td>\n",
       "      <td>1.777626</td>\n",
       "    </tr>\n",
       "  </tbody>\n",
       "</table>\n",
       "</div>"
      ],
      "text/plain": [
       "                                                                      model                                                                                                                                                 best_estimator                                                                                                                                                                 pipe_params        F1   time_fit\n",
       "0  LogisticRegression(C=21, class_weight='balanced', intercept_scaling=0.1)       (CountVectorizer(stop_words={'english'}), TfidfTransformer(sublinear_tf=True), LogisticRegression(C=21, class_weight='balanced', intercept_scaling=0.1))                                                                            {'clf__C': 21, 'clf__intercept_scaling': 0.1, 'clf__penalty': 'l2', 'tfidf__sublinear_tf': True}  0.762601   2.910779\n",
       "1                                 DecisionTreeClassifier(random_state=2023)                                              (CountVectorizer(stop_words={'english'}), TfidfTransformer(norm='l1'), DecisionTreeClassifier(random_state=2023))                                                                         {'clf__class_weight': None, 'clf__max_depth': None, 'tfidf__norm': 'l1', 'tfidf__smooth_idf': True}  0.708321  70.434759\n",
       "2               SGDClassifier(alpha=1e-05, penalty='l1', random_state=2023)  (CountVectorizer(stop_words={'english'}), TfidfTransformer(smooth_idf=False, sublinear_tf=True), SGDClassifier(alpha=1e-05, penalty='l1', random_state=2023))  {'clf__alpha': 1e-05, 'clf__class_weight': None, 'clf__loss': 'hinge', 'clf__penalty': 'l1', 'tfidf__norm': 'l2', 'tfidf__smooth_idf': False, 'tfidf__sublinear_tf': True}  0.772614   1.777626"
      ]
     },
     "metadata": {},
     "output_type": "display_data"
    }
   ],
   "source": [
    "print_result(list_best_params)"
   ]
  },
  {
   "cell_type": "markdown",
   "metadata": {},
   "source": [
    "**LGBMClassifier**"
   ]
  },
  {
   "cell_type": "code",
   "execution_count": 42,
   "metadata": {},
   "outputs": [],
   "source": [
    "# подберем для каждой модификации гиперпараметры\n",
    "# задаем модель\n",
    "model_lgbm = LGBMClassifier(random_state=RS, n_jobs=-1)\n",
    "\n",
    "# гиперпараметры для поиска\n",
    "params_lgbm = {\n",
    "#    'vect__ngram_range': [(1, 1), (2,2)], #(1,1) - default\n",
    "#    'tfidf__use_idf': (True, False), #True - default\n",
    "#    'tfidf__smooth_idf': (True, False), #True - default\n",
    "    'tfidf__sublinear_tf': (True, False),\n",
    "    'tfidf__norm': [None, 'l1','l2'], #l2 - default\n",
    "#     'clf__learning_rate': ['optimal', 'adaptive'] #'optimal' - default\n",
    "#    'clf__class_weight': [None, 'balanced'], #None - default\n",
    "    'clf__n_estimators': [100, 200],\n",
    "    'clf__learning_rate': [0.3, 0.4]\n",
    "}"
   ]
  },
  {
   "cell_type": "code",
   "execution_count": 43,
   "metadata": {},
   "outputs": [
    {
     "name": "stdout",
     "output_type": "stream",
     "text": [
      "Fitting 3 folds for each of 24 candidates, totalling 72 fits\n"
     ]
    }
   ],
   "source": [
    "best_model(model_lgbm, params_lgbm, X_train, y_train)  "
   ]
  },
  {
   "cell_type": "code",
   "execution_count": 44,
   "metadata": {},
   "outputs": [
    {
     "data": {
      "text/html": [
       "<div>\n",
       "<style scoped>\n",
       "    .dataframe tbody tr th:only-of-type {\n",
       "        vertical-align: middle;\n",
       "    }\n",
       "\n",
       "    .dataframe tbody tr th {\n",
       "        vertical-align: top;\n",
       "    }\n",
       "\n",
       "    .dataframe thead th {\n",
       "        text-align: right;\n",
       "    }\n",
       "</style>\n",
       "<table border=\"1\" class=\"dataframe\">\n",
       "  <thead>\n",
       "    <tr style=\"text-align: right;\">\n",
       "      <th></th>\n",
       "      <th>model</th>\n",
       "      <th>best_estimator</th>\n",
       "      <th>pipe_params</th>\n",
       "      <th>F1</th>\n",
       "      <th>time_fit</th>\n",
       "    </tr>\n",
       "  </thead>\n",
       "  <tbody>\n",
       "    <tr>\n",
       "      <th>0</th>\n",
       "      <td>LogisticRegression(C=21, class_weight='balanced', intercept_scaling=0.1)</td>\n",
       "      <td>(CountVectorizer(stop_words={'english'}), TfidfTransformer(sublinear_tf=True), LogisticRegression(C=21, class_weight='balanced', intercept_scaling=0.1))</td>\n",
       "      <td>{'clf__C': 21, 'clf__intercept_scaling': 0.1, 'clf__penalty': 'l2', 'tfidf__sublinear_tf': True}</td>\n",
       "      <td>0.762601</td>\n",
       "      <td>2.910779</td>\n",
       "    </tr>\n",
       "    <tr>\n",
       "      <th>1</th>\n",
       "      <td>DecisionTreeClassifier(random_state=2023)</td>\n",
       "      <td>(CountVectorizer(stop_words={'english'}), TfidfTransformer(norm='l1'), DecisionTreeClassifier(random_state=2023))</td>\n",
       "      <td>{'clf__class_weight': None, 'clf__max_depth': None, 'tfidf__norm': 'l1', 'tfidf__smooth_idf': True}</td>\n",
       "      <td>0.708321</td>\n",
       "      <td>70.434759</td>\n",
       "    </tr>\n",
       "    <tr>\n",
       "      <th>2</th>\n",
       "      <td>SGDClassifier(alpha=1e-05, penalty='l1', random_state=2023)</td>\n",
       "      <td>(CountVectorizer(stop_words={'english'}), TfidfTransformer(smooth_idf=False, sublinear_tf=True), SGDClassifier(alpha=1e-05, penalty='l1', random_state=2023))</td>\n",
       "      <td>{'clf__alpha': 1e-05, 'clf__class_weight': None, 'clf__loss': 'hinge', 'clf__penalty': 'l1', 'tfidf__norm': 'l2', 'tfidf__smooth_idf': False, 'tfidf__sublinear_tf': True}</td>\n",
       "      <td>0.772614</td>\n",
       "      <td>1.777626</td>\n",
       "    </tr>\n",
       "    <tr>\n",
       "      <th>3</th>\n",
       "      <td>LGBMClassifier(learning_rate=0.3, n_estimators=200, random_state=2023)</td>\n",
       "      <td>(CountVectorizer(stop_words={'english'}), TfidfTransformer(norm=None, sublinear_tf=True), LGBMClassifier(learning_rate=0.3, n_estimators=200, random_state=2023))</td>\n",
       "      <td>{'clf__learning_rate': 0.3, 'clf__n_estimators': 200, 'tfidf__norm': None, 'tfidf__sublinear_tf': True}</td>\n",
       "      <td>0.751722</td>\n",
       "      <td>3.496179</td>\n",
       "    </tr>\n",
       "  </tbody>\n",
       "</table>\n",
       "</div>"
      ],
      "text/plain": [
       "                                                                      model                                                                                                                                                     best_estimator                                                                                                                                                                 pipe_params        F1   time_fit\n",
       "0  LogisticRegression(C=21, class_weight='balanced', intercept_scaling=0.1)           (CountVectorizer(stop_words={'english'}), TfidfTransformer(sublinear_tf=True), LogisticRegression(C=21, class_weight='balanced', intercept_scaling=0.1))                                                                            {'clf__C': 21, 'clf__intercept_scaling': 0.1, 'clf__penalty': 'l2', 'tfidf__sublinear_tf': True}  0.762601   2.910779\n",
       "1                                 DecisionTreeClassifier(random_state=2023)                                                  (CountVectorizer(stop_words={'english'}), TfidfTransformer(norm='l1'), DecisionTreeClassifier(random_state=2023))                                                                         {'clf__class_weight': None, 'clf__max_depth': None, 'tfidf__norm': 'l1', 'tfidf__smooth_idf': True}  0.708321  70.434759\n",
       "2               SGDClassifier(alpha=1e-05, penalty='l1', random_state=2023)      (CountVectorizer(stop_words={'english'}), TfidfTransformer(smooth_idf=False, sublinear_tf=True), SGDClassifier(alpha=1e-05, penalty='l1', random_state=2023))  {'clf__alpha': 1e-05, 'clf__class_weight': None, 'clf__loss': 'hinge', 'clf__penalty': 'l1', 'tfidf__norm': 'l2', 'tfidf__smooth_idf': False, 'tfidf__sublinear_tf': True}  0.772614   1.777626\n",
       "3    LGBMClassifier(learning_rate=0.3, n_estimators=200, random_state=2023)  (CountVectorizer(stop_words={'english'}), TfidfTransformer(norm=None, sublinear_tf=True), LGBMClassifier(learning_rate=0.3, n_estimators=200, random_state=2023))                                                                     {'clf__learning_rate': 0.3, 'clf__n_estimators': 200, 'tfidf__norm': None, 'tfidf__sublinear_tf': True}  0.751722   3.496179"
      ]
     },
     "metadata": {},
     "output_type": "display_data"
    }
   ],
   "source": [
    "print_result(list_best_params)"
   ]
  },
  {
   "cell_type": "markdown",
   "metadata": {},
   "source": [
    "**Выводы:**\n",
    "\n",
    "были исследованы следующие модели:\n",
    "* `LogisticRegression`\n",
    "* `DecisionTreeClassifier`\n",
    "* `SGDClassifier`\n",
    "* `LGBMClassifier`\n",
    "\n",
    "Проведен подбор гиперпараметров\n",
    "\n",
    "Лучшей моделью по установленной метрике `F1` себя `SGDClassifier`, которые как раз был рекомендован в документации `sklearn`. Именно ее и проверим на тестовой выборке"
   ]
  },
  {
   "cell_type": "markdown",
   "metadata": {},
   "source": [
    "# Тестирование"
   ]
  },
  {
   "cell_type": "code",
   "execution_count": 45,
   "metadata": {},
   "outputs": [],
   "source": [
    "results = pd.DataFrame(list_best_params)\n",
    "best_model = results['best_estimator'][2]"
   ]
  },
  {
   "cell_type": "code",
   "execution_count": 58,
   "metadata": {},
   "outputs": [
    {
     "name": "stdout",
     "output_type": "stream",
     "text": [
      "F1 на тестовой выборке: 0.80\n"
     ]
    }
   ],
   "source": [
    "predicted = best_model.predict(X_test)\n",
    "print(f'F1 на тестовой выборке: {f1_score(y_test, predicted):.2f}')"
   ]
  },
  {
   "cell_type": "code",
   "execution_count": 59,
   "metadata": {
    "scrolled": true
   },
   "outputs": [
    {
     "name": "stdout",
     "output_type": "stream",
     "text": [
      "              precision    recall  f1-score   support\n",
      "\n",
      "           0       0.97      0.99      0.98      8989\n",
      "           1       0.85      0.75      0.80      1011\n",
      "\n",
      "    accuracy                           0.96     10000\n",
      "   macro avg       0.91      0.87      0.89     10000\n",
      "weighted avg       0.96      0.96      0.96     10000\n",
      "\n"
     ]
    }
   ],
   "source": [
    "# посмотрим отчет о метриках\n",
    "print(classification_report(y_test, predicted))"
   ]
  },
  {
   "cell_type": "markdown",
   "metadata": {},
   "source": [
    "* `Recall`- описывает, как хорошо модель разобралась в особенностях положительного класса и распознала его.\n",
    "* `Precision` - выявляет, не переусердствует ли модель, присваивая положительные метки.\n",
    "* `F1`- среднее гармоническое полноты и точности, так сказать \"золотая середина\" между Recall и Precision\n",
    "* `Accuracy` – доля объектов, для которых мы правильно предсказали класс"
   ]
  },
  {
   "cell_type": "markdown",
   "metadata": {},
   "source": [
    "Визуализируем `ConfusionMatrix` "
   ]
  },
  {
   "cell_type": "code",
   "execution_count": null,
   "metadata": {},
   "outputs": [],
   "source": [
    "cm = confusion_matrix(y_test, predicted)"
   ]
  },
  {
   "cell_type": "code",
   "execution_count": 68,
   "metadata": {},
   "outputs": [
    {
     "data": {
      "text/plain": [
       "<Figure size 576x432 with 0 Axes>"
      ]
     },
     "metadata": {},
     "output_type": "display_data"
    },
    {
     "data": {
      "image/png": "[encoded data removed]",
      "text/plain": [
       "<Figure size 432x288 with 2 Axes>"
      ]
     },
     "metadata": {},
     "output_type": "display_data"
    }
   ],
   "source": [
    "cm = confusion_matrix(y_test, predicted)\n",
    "# confusion matrix\n",
    "plt.figure(figsize=(8,6));\n",
    "\n",
    "disp = ConfusionMatrixDisplay(confusion_matrix=cm)\n",
    "disp.plot()\n",
    "plt.title('Матрица ошибок')\n",
    "plt.grid(False)\n",
    "plt.show()"
   ]
  },
  {
   "cell_type": "markdown",
   "metadata": {},
   "source": [
    "## Выводы"
   ]
  },
  {
   "cell_type": "markdown",
   "metadata": {},
   "source": [
    "В ходе реализации проекта были выполнены следующие этапы:\n",
    "\n",
    "1. загружены и изучены данные\n",
    "2. проведена преобработка текста\n",
    "    * очистка текста\n",
    "    * лемматизация\n",
    "3. данные разбиты на обучающую и тестовую выборки\n",
    "4. Проведено построение моделей ML и подбор гиперпараметров.\n",
    "При исследовании использовался `Pipeline`, в котором последовательно использовались векторизация `CountVectorizer`, `TFIDFTransformer` и классификаторы:\n",
    "    * `LogisticRegression`\n",
    "    * `DecisionTreeClassifier`\n",
    "    * `SGDClassifier`\n",
    "    * `LGBMClassifier`\n",
    " * подобраны лучшие гиперпараметры\n",
    " * выбрана лучшия модель для тестирования\n",
    "\n",
    "5. Проверено качество лучшие модели на тестовой выборке.   \n",
    "\n",
    "    В `SGDClassifier` при тестировании достугнут целевой уровень метрики `F1`.\n",
    "* Итоговый показатель `F1` составил - 0.8. \n",
    "\n",
    "Судя по матрице ошибок, метрикам  наша тестовая модель совсем неплохо справляется с задачей."
   ]
  }
 ],
 "metadata": {
  "kernelspec": {
   "display_name": "Python 3 (ipykernel)",
   "language": "python",
   "name": "python3"
  },
  "language_info": {
   "codemirror_mode": {
    "name": "ipython",
    "version": 3
   },
   "file_extension": ".py",
   "mimetype": "text/x-python",
   "name": "python",
   "nbconvert_exporter": "python",
   "pygments_lexer": "ipython3",
   "version": "3.9.12"
  },
  "toc": {
   "base_numbering": 1,
   "nav_menu": {
    "height": "172.986px",
    "width": "297.118px"
   },
   "number_sections": true,
   "sideBar": true,
   "skip_h1_title": true,
   "title_cell": "Содержание",
   "title_sidebar": "Contents",
   "toc_cell": true,
   "toc_position": {
    "height": "calc(100% - 180px)",
    "left": "10px",
    "top": "150px",
    "width": "302.391px"
   },
   "toc_section_display": true,
   "toc_window_display": false
  }
 },
 "nbformat": 4,
 "nbformat_minor": 2
}
