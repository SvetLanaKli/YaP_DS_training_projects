{
 "cells": [
  {
   "cell_type": "markdown",
   "metadata": {
    "id": "A9SWvC4fXwbC"
   },
   "source": [
    "# Определение стоимости автомобилей"
   ]
  },
  {
   "cell_type": "markdown",
   "metadata": {
    "toc": true
   },
   "source": [
    "<h1>Оглавление<span class=\"tocSkip\"></span></h1>\n",
    "<div class=\"toc\"><ul class=\"toc-item\"><li><span><a href=\"#Введение\" data-toc-modified-id=\"Введение-1\"><span class=\"toc-item-num\">1&nbsp;&nbsp;</span>Введение</a></span><ul class=\"toc-item\"><li><span><a href=\"#Описание-проекта\" data-toc-modified-id=\"Описание-проекта-1.1\"><span class=\"toc-item-num\">1.1&nbsp;&nbsp;</span>Описание проекта</a></span></li><li><span><a href=\"#Цель-исследования\" data-toc-modified-id=\"Цель-исследования-1.2\"><span class=\"toc-item-num\">1.2&nbsp;&nbsp;</span>Цель исследования</a></span></li><li><span><a href=\"#План-исследования\" data-toc-modified-id=\"План-исследования-1.3\"><span class=\"toc-item-num\">1.3&nbsp;&nbsp;</span>План исследования</a></span></li></ul></li><li><span><a href=\"#Подготовка-данных\" data-toc-modified-id=\"Подготовка-данных-2\"><span class=\"toc-item-num\">2&nbsp;&nbsp;</span>Подготовка данных</a></span></li><li><span><a href=\"#Построение-модели\" data-toc-modified-id=\"Построение-модели-3\"><span class=\"toc-item-num\">3&nbsp;&nbsp;</span>Построение модели</a></span><ul class=\"toc-item\"><li><span><a href=\"#Подготовка-выборок\" data-toc-modified-id=\"Подготовка-выборок-3.1\"><span class=\"toc-item-num\">3.1&nbsp;&nbsp;</span>Подготовка выборок</a></span></li><li><span><a href=\"#Обучение-моделей\" data-toc-modified-id=\"Обучение-моделей-3.2\"><span class=\"toc-item-num\">3.2&nbsp;&nbsp;</span>Обучение моделей</a></span><ul class=\"toc-item\"><li><span><a href=\"#LinearRegression\" data-toc-modified-id=\"LinearRegression-3.2.1\"><span class=\"toc-item-num\">3.2.1&nbsp;&nbsp;</span>LinearRegression</a></span></li><li><span><a href=\"#Ridge\" data-toc-modified-id=\"Ridge-3.2.2\"><span class=\"toc-item-num\">3.2.2&nbsp;&nbsp;</span>Ridge</a></span></li><li><span><a href=\"#DecisionTreeRegressor\" data-toc-modified-id=\"DecisionTreeRegressor-3.2.3\"><span class=\"toc-item-num\">3.2.3&nbsp;&nbsp;</span>DecisionTreeRegressor</a></span></li><li><span><a href=\"#LGBMRegressor\" data-toc-modified-id=\"LGBMRegressor-3.2.4\"><span class=\"toc-item-num\">3.2.4&nbsp;&nbsp;</span>LGBMRegressor</a></span></li><li><span><a href=\"#CatBoostRegressor\" data-toc-modified-id=\"CatBoostRegressor-3.2.5\"><span class=\"toc-item-num\">3.2.5&nbsp;&nbsp;</span>CatBoostRegressor</a></span></li></ul></li></ul></li><li><span><a href=\"#Тестирование-модели\" data-toc-modified-id=\"Тестирование-модели-4\"><span class=\"toc-item-num\">4&nbsp;&nbsp;</span>Тестирование модели</a></span></li><li><span><a href=\"#Выводы\" data-toc-modified-id=\"Выводы-5\"><span class=\"toc-item-num\">5&nbsp;&nbsp;</span>Выводы</a></span></li></ul></div>"
   ]
  },
  {
   "cell_type": "markdown",
   "metadata": {},
   "source": [
    "## Введение"
   ]
  },
  {
   "cell_type": "markdown",
   "metadata": {},
   "source": [
    "### Описание проекта"
   ]
  },
  {
   "cell_type": "markdown",
   "metadata": {
    "id": "zzKcWno_XwbF"
   },
   "source": [
    "Сервис по продаже автомобилей с пробегом разрабатывает приложение для привлечения новых клиентов. В нём можно быстро узнать рыночную стоимость своего автомобиля. \n",
    "На основе исторических данных автомобилей(технические характеристики, комплектации и цены автомобилей) необходимо построить модель для определения стоимости. \n",
    "\n",
    "Заказчику важны:\n",
    "- качество предсказания;\n",
    "- скорость предсказания;\n",
    "- время обучения модели."
   ]
  },
  {
   "cell_type": "markdown",
   "metadata": {
    "id": "UWqY1KINZ2_P"
   },
   "source": [
    "### Цель исследования"
   ]
  },
  {
   "cell_type": "markdown",
   "metadata": {
    "id": "kbxHVkSlbjuu"
   },
   "source": [
    "Разработка системы рекомендации стоимости автомобиля на основе его описания."
   ]
  },
  {
   "cell_type": "markdown",
   "metadata": {
    "id": "wGn7hCY8cX6c"
   },
   "source": [
    "### План исследования"
   ]
  },
  {
   "cell_type": "markdown",
   "metadata": {
    "id": "ARtaQoc0dpq6"
   },
   "source": [
    "1. Подготовка данных для исследования:\n",
    "* Загрузка и обзор данных.\n",
    "* Преобработка данных:\n",
    "    * проверка данных на наличие пропусков и аномалий и их влияние на исследование \n",
    "    * исправление ошибок и заполнения пропусков, которые не приведут к искажению результатов исследования. \n",
    "    * анализ признаков на их информативность для построения модели.\n",
    "\n",
    "2. Построение модели машинного обучения.\n",
    "\n",
    "* Подготовка выборок данных для построения моделей.\n",
    "* Построение и обучение моделей регессии:\n",
    "   * `Linear`\n",
    "   * `Ridge`\n",
    "   * `DecisionTree`\n",
    "   * `LightGBM`, \n",
    "   * `CatBoosting` \n",
    "* Подбор лучших гиперпараметров для них.\n",
    "* Выбор лучшей модели по характеристикам, заданным заказчиком.\n",
    "\n",
    "3. Тестирование выбранной модели и оценка результатов.\n",
    "\n",
    "4. Оформление выводов по результатам исследования"
   ]
  },
  {
   "cell_type": "markdown",
   "metadata": {
    "id": "9-XApFU1XwbG"
   },
   "source": [
    "## Подготовка данных"
   ]
  },
  {
   "cell_type": "markdown",
   "metadata": {
    "id": "FMPdpNwp0MCb"
   },
   "source": [
    "На данном этапе мы сделаем следующее:\n",
    "1. Загрузим данные.\n",
    "2. Изучим данные. \n",
    "3. Заполним пропущенные значения и обработаем аномалии в столбцах. \n",
    "4. Удалим неинформативные признаки и сгенерируем новые при необходимости."
   ]
  },
  {
   "cell_type": "code",
   "execution_count": 2,
   "metadata": {},
   "outputs": [],
   "source": [
    "# установим модули\n",
    "#!pip install phik\n",
    "#!pip install lightgbm"
   ]
  },
  {
   "cell_type": "code",
   "execution_count": 9,
   "metadata": {
    "scrolled": false
   },
   "outputs": [],
   "source": [
    "#!pip install catboost==1.2"
   ]
  },
  {
   "cell_type": "code",
   "execution_count": 8,
   "metadata": {},
   "outputs": [],
   "source": [
    "#!pip install category_encoders"
   ]
  },
  {
   "cell_type": "code",
   "execution_count": 10,
   "metadata": {
    "id": "zf_Ud6v6XwbH"
   },
   "outputs": [],
   "source": [
    "# импорт библиотек для выполения проекта\n",
    "import pandas as pd\n",
    "import numpy as np\n",
    "import phik\n",
    "import category_encoders as ce\n",
    "\n",
    "from datetime import datetime as dt\n",
    "from scipy import stats\n",
    "\n",
    "# графика\n",
    "import seaborn as sns\n",
    "import matplotlib.pyplot as plt\n",
    "\n",
    "# импортируем функции и метрики из библиотеки sklearn\n",
    "from sklearn.model_selection import (train_test_split,\n",
    "                                     GridSearchCV)\n",
    "\n",
    "from sklearn.linear_model import LinearRegression, Ridge\n",
    "from sklearn.pipeline import Pipeline\n",
    "from sklearn.tree import DecisionTreeRegressor\n",
    "from sklearn.preprocessing import (StandardScaler,\n",
    "                                   OneHotEncoder)\n",
    "from sklearn.compose import ColumnTransformer\n",
    "from sklearn.dummy import DummyRegressor\n",
    "\n",
    "# метрики\n",
    "from sklearn.metrics import mean_squared_error\n",
    "\n",
    "# импортируем градиентные бустинги\n",
    "from catboost import (CatBoostRegressor,\n",
    "                      Pool)\n",
    "from lightgbm import LGBMRegressor\n",
    "\n",
    "# предупреждения\n",
    "import warnings\n",
    "warnings.filterwarnings('ignore')"
   ]
  },
  {
   "cell_type": "code",
   "execution_count": 11,
   "metadata": {},
   "outputs": [],
   "source": [
    "# настроим отображение чисел и таблиц\n",
    "pd.set_option('display.float_format', '{:.4f}'.format)\n",
    "pd.set_option('display.max_columns', 1000)\n",
    "pd.set_option('max_colwidth', 1000)\n",
    "pd.set_option('display.width', 500)\n",
    "# выберем общее формление для графиков\n",
    "sns.set(style=\"white\", palette=\"Spectral\")"
   ]
  },
  {
   "cell_type": "code",
   "execution_count": 12,
   "metadata": {},
   "outputs": [],
   "source": [
    "try:\n",
    "    data = pd.read_csv('./autos.csv')\n",
    "except:\n",
    "    data = pd.read_csv('/datasets/autos.csv')"
   ]
  },
  {
   "cell_type": "code",
   "execution_count": 13,
   "metadata": {},
   "outputs": [],
   "source": [
    "# зафиксируем псевдослучайность random_state\n",
    "RS = 2023\n",
    "# количество фолдов для кросс-валидации\n",
    "CV = 3\n",
    "# сохраним исхоный размер данных\n",
    "OLD_SHAPE = data.shape"
   ]
  },
  {
   "cell_type": "code",
   "execution_count": 14,
   "metadata": {},
   "outputs": [],
   "source": [
    "def data_info(data_name):\n",
    "    '''функция выводит информацию о данных'''\n",
    "    \n",
    "    print('\\n\\nДанные из выборки\\n')\n",
    "    display(data_name.head(5))\n",
    "    display(data_name.tail(5))\n",
    "\n",
    "    print(f'\\n\\nКоличество признаков: {data_name.shape[1]}, Количество наблюдений: {data_name.shape[0]}\\n')\n",
    "    \n",
    "    print('\\nИнформация о данных\\n')\n",
    "    info_list = []\n",
    "    for item in data_name.columns:\n",
    "        info_list.append({\n",
    "            'Признак': item,\n",
    "            'Тип данных': data_name.dtypes[item],\n",
    "            'Уникальных значений': data_name[item].nunique(),\n",
    "            '%Пропусков': data_name[item].isna().mean()*100\n",
    "        })\n",
    "    display(pd.DataFrame(info_list))\n",
    "   \n",
    "\n",
    "    print(f'\\n\\nКоличество полных дубликатов в данных: {data_name.duplicated().sum()}')\n",
    "\n",
    "    print('\\n\\nОписательная статистика ')\n",
    "    display(data_name.describe())"
   ]
  },
  {
   "cell_type": "code",
   "execution_count": 15,
   "metadata": {},
   "outputs": [],
   "source": [
    "def best_model(model, params, features, target, cat_col_low, cat_col_higth, num_col):\n",
    "    '''функция подбора гиперпараметров для заданной модели\n",
    "    на входе: модель, параметры для подбора, фичи и таргет,\n",
    "              категориальные признаки, числовые признаки,\n",
    "              способ подбора параметров, по умолчанию GridSearchCV\n",
    "    на выходе: подобранная модель и значение искомой метрики RSME'''\n",
    "      \n",
    "    preprocessor = ColumnTransformer(transformers=[\n",
    "    ('OHE', OneHotEncoder(handle_unknown='ignore', sparse=True), cat_col_low),\n",
    "    ('target', ce.TargetEncoder(min_samples_leaf=20, smoothing=10), cat_col_higth),\n",
    "    ('scaler', StandardScaler(), num_col)])\n",
    "    \n",
    "    # собираем пайплайн    \n",
    "    pipe = Pipeline(steps=[\n",
    "        ('preprocessor', preprocessor),\n",
    "        ('model', model)])  \n",
    "    \n",
    "    # подбор гиперпараметров\n",
    "    searcher = GridSearchCV(pipe,\n",
    "                            param_grid=params,\n",
    "                            scoring='neg_root_mean_squared_error',\n",
    "                            cv=CV,\n",
    "                            n_jobs=-1,\n",
    "                            verbose=5)\n",
    "\n",
    "    time_start = dt.now()\n",
    "    search = searcher.fit(features, target)\n",
    "    time_search = (dt.now() - time_start)\n",
    "    \n",
    "    # вычисляем время работы с лучшими параметрами\n",
    "    pipe.set_params(**search.best_params_)\n",
    "    \n",
    "    time_start = dt.now()\n",
    "    pipe.fit(features, target)\n",
    "    time_fit = (dt.now() - time_start)\n",
    "    \n",
    "    time_start = dt.now()\n",
    "    pipe.predict(features)\n",
    "    time_predict = (dt.now() - time_start)\n",
    "    \n",
    "    list_best_params.append({'model': search.best_estimator_[-1],\n",
    "                             'model_params': search.best_params_,\n",
    "                             'RSME': abs(search.best_score_),\n",
    "                             'time_search': time_search,\n",
    "                             'time_fit': time_fit,\n",
    "                             'time_predict': time_predict})"
   ]
  },
  {
   "cell_type": "code",
   "execution_count": 16,
   "metadata": {},
   "outputs": [],
   "source": [
    "def del_info(data):\n",
    "    ''' функция выводит информацию о проценте удаленных данных'''\n",
    "    \n",
    "    new_shape = data.shape\n",
    "    percent_del = round(((1 - new_shape[0] / OLD_SHAPE[0]) *100), 1)\n",
    "    print(f'\\nНа текущий момент удалено {percent_del}% от исходного объема данных')"
   ]
  },
  {
   "cell_type": "code",
   "execution_count": 17,
   "metadata": {},
   "outputs": [],
   "source": [
    "def add_mode_isna(data, column):\n",
    "    ''' функция заполнения пропусков исходя из моды значений'''\n",
    "    \n",
    "    if data[column].notna().any():\n",
    "        mode = stats.mode(data[column].dropna())[0][0]\n",
    "        data[column].fillna(mode, inplace=True)\n",
    "    return data"
   ]
  },
  {
   "cell_type": "code",
   "execution_count": 18,
   "metadata": {},
   "outputs": [],
   "source": [
    "def print_result(list_for_print):\n",
    "    '''выводим таблицу с данными'''\n",
    "    # табличка с оптимизированными гиперпараметрами\n",
    "    df_best_models = pd.DataFrame(list_for_print)\n",
    "    display(df_best_models.head(10))"
   ]
  },
  {
   "cell_type": "markdown",
   "metadata": {},
   "source": [
    "Приступим к осмотру данных"
   ]
  },
  {
   "cell_type": "code",
   "execution_count": 19,
   "metadata": {
    "scrolled": false
   },
   "outputs": [
    {
     "name": "stdout",
     "output_type": "stream",
     "text": [
      "\n",
      "\n",
      "Данные из выборки\n",
      "\n"
     ]
    },
    {
     "data": {
      "text/html": [
       "<div>\n",
       "<style scoped>\n",
       "    .dataframe tbody tr th:only-of-type {\n",
       "        vertical-align: middle;\n",
       "    }\n",
       "\n",
       "    .dataframe tbody tr th {\n",
       "        vertical-align: top;\n",
       "    }\n",
       "\n",
       "    .dataframe thead th {\n",
       "        text-align: right;\n",
       "    }\n",
       "</style>\n",
       "<table border=\"1\" class=\"dataframe\">\n",
       "  <thead>\n",
       "    <tr style=\"text-align: right;\">\n",
       "      <th></th>\n",
       "      <th>DateCrawled</th>\n",
       "      <th>Price</th>\n",
       "      <th>VehicleType</th>\n",
       "      <th>RegistrationYear</th>\n",
       "      <th>Gearbox</th>\n",
       "      <th>Power</th>\n",
       "      <th>Model</th>\n",
       "      <th>Kilometer</th>\n",
       "      <th>RegistrationMonth</th>\n",
       "      <th>FuelType</th>\n",
       "      <th>Brand</th>\n",
       "      <th>Repaired</th>\n",
       "      <th>DateCreated</th>\n",
       "      <th>NumberOfPictures</th>\n",
       "      <th>PostalCode</th>\n",
       "      <th>LastSeen</th>\n",
       "    </tr>\n",
       "  </thead>\n",
       "  <tbody>\n",
       "    <tr>\n",
       "      <th>0</th>\n",
       "      <td>2016-03-24 11:52:17</td>\n",
       "      <td>480</td>\n",
       "      <td>NaN</td>\n",
       "      <td>1993</td>\n",
       "      <td>manual</td>\n",
       "      <td>0</td>\n",
       "      <td>golf</td>\n",
       "      <td>150000</td>\n",
       "      <td>0</td>\n",
       "      <td>petrol</td>\n",
       "      <td>volkswagen</td>\n",
       "      <td>NaN</td>\n",
       "      <td>2016-03-24 00:00:00</td>\n",
       "      <td>0</td>\n",
       "      <td>70435</td>\n",
       "      <td>2016-04-07 03:16:57</td>\n",
       "    </tr>\n",
       "    <tr>\n",
       "      <th>1</th>\n",
       "      <td>2016-03-24 10:58:45</td>\n",
       "      <td>18300</td>\n",
       "      <td>coupe</td>\n",
       "      <td>2011</td>\n",
       "      <td>manual</td>\n",
       "      <td>190</td>\n",
       "      <td>NaN</td>\n",
       "      <td>125000</td>\n",
       "      <td>5</td>\n",
       "      <td>gasoline</td>\n",
       "      <td>audi</td>\n",
       "      <td>yes</td>\n",
       "      <td>2016-03-24 00:00:00</td>\n",
       "      <td>0</td>\n",
       "      <td>66954</td>\n",
       "      <td>2016-04-07 01:46:50</td>\n",
       "    </tr>\n",
       "    <tr>\n",
       "      <th>2</th>\n",
       "      <td>2016-03-14 12:52:21</td>\n",
       "      <td>9800</td>\n",
       "      <td>suv</td>\n",
       "      <td>2004</td>\n",
       "      <td>auto</td>\n",
       "      <td>163</td>\n",
       "      <td>grand</td>\n",
       "      <td>125000</td>\n",
       "      <td>8</td>\n",
       "      <td>gasoline</td>\n",
       "      <td>jeep</td>\n",
       "      <td>NaN</td>\n",
       "      <td>2016-03-14 00:00:00</td>\n",
       "      <td>0</td>\n",
       "      <td>90480</td>\n",
       "      <td>2016-04-05 12:47:46</td>\n",
       "    </tr>\n",
       "    <tr>\n",
       "      <th>3</th>\n",
       "      <td>2016-03-17 16:54:04</td>\n",
       "      <td>1500</td>\n",
       "      <td>small</td>\n",
       "      <td>2001</td>\n",
       "      <td>manual</td>\n",
       "      <td>75</td>\n",
       "      <td>golf</td>\n",
       "      <td>150000</td>\n",
       "      <td>6</td>\n",
       "      <td>petrol</td>\n",
       "      <td>volkswagen</td>\n",
       "      <td>no</td>\n",
       "      <td>2016-03-17 00:00:00</td>\n",
       "      <td>0</td>\n",
       "      <td>91074</td>\n",
       "      <td>2016-03-17 17:40:17</td>\n",
       "    </tr>\n",
       "    <tr>\n",
       "      <th>4</th>\n",
       "      <td>2016-03-31 17:25:20</td>\n",
       "      <td>3600</td>\n",
       "      <td>small</td>\n",
       "      <td>2008</td>\n",
       "      <td>manual</td>\n",
       "      <td>69</td>\n",
       "      <td>fabia</td>\n",
       "      <td>90000</td>\n",
       "      <td>7</td>\n",
       "      <td>gasoline</td>\n",
       "      <td>skoda</td>\n",
       "      <td>no</td>\n",
       "      <td>2016-03-31 00:00:00</td>\n",
       "      <td>0</td>\n",
       "      <td>60437</td>\n",
       "      <td>2016-04-06 10:17:21</td>\n",
       "    </tr>\n",
       "  </tbody>\n",
       "</table>\n",
       "</div>"
      ],
      "text/plain": [
       "           DateCrawled  Price VehicleType  RegistrationYear Gearbox  Power  Model  Kilometer  RegistrationMonth  FuelType       Brand Repaired          DateCreated  NumberOfPictures  PostalCode             LastSeen\n",
       "0  2016-03-24 11:52:17    480         NaN              1993  manual      0   golf     150000                  0    petrol  volkswagen      NaN  2016-03-24 00:00:00                 0       70435  2016-04-07 03:16:57\n",
       "1  2016-03-24 10:58:45  18300       coupe              2011  manual    190    NaN     125000                  5  gasoline        audi      yes  2016-03-24 00:00:00                 0       66954  2016-04-07 01:46:50\n",
       "2  2016-03-14 12:52:21   9800         suv              2004    auto    163  grand     125000                  8  gasoline        jeep      NaN  2016-03-14 00:00:00                 0       90480  2016-04-05 12:47:46\n",
       "3  2016-03-17 16:54:04   1500       small              2001  manual     75   golf     150000                  6    petrol  volkswagen       no  2016-03-17 00:00:00                 0       91074  2016-03-17 17:40:17\n",
       "4  2016-03-31 17:25:20   3600       small              2008  manual     69  fabia      90000                  7  gasoline       skoda       no  2016-03-31 00:00:00                 0       60437  2016-04-06 10:17:21"
      ]
     },
     "metadata": {},
     "output_type": "display_data"
    },
    {
     "data": {
      "text/html": [
       "<div>\n",
       "<style scoped>\n",
       "    .dataframe tbody tr th:only-of-type {\n",
       "        vertical-align: middle;\n",
       "    }\n",
       "\n",
       "    .dataframe tbody tr th {\n",
       "        vertical-align: top;\n",
       "    }\n",
       "\n",
       "    .dataframe thead th {\n",
       "        text-align: right;\n",
       "    }\n",
       "</style>\n",
       "<table border=\"1\" class=\"dataframe\">\n",
       "  <thead>\n",
       "    <tr style=\"text-align: right;\">\n",
       "      <th></th>\n",
       "      <th>DateCrawled</th>\n",
       "      <th>Price</th>\n",
       "      <th>VehicleType</th>\n",
       "      <th>RegistrationYear</th>\n",
       "      <th>Gearbox</th>\n",
       "      <th>Power</th>\n",
       "      <th>Model</th>\n",
       "      <th>Kilometer</th>\n",
       "      <th>RegistrationMonth</th>\n",
       "      <th>FuelType</th>\n",
       "      <th>Brand</th>\n",
       "      <th>Repaired</th>\n",
       "      <th>DateCreated</th>\n",
       "      <th>NumberOfPictures</th>\n",
       "      <th>PostalCode</th>\n",
       "      <th>LastSeen</th>\n",
       "    </tr>\n",
       "  </thead>\n",
       "  <tbody>\n",
       "    <tr>\n",
       "      <th>354364</th>\n",
       "      <td>2016-03-21 09:50:58</td>\n",
       "      <td>0</td>\n",
       "      <td>NaN</td>\n",
       "      <td>2005</td>\n",
       "      <td>manual</td>\n",
       "      <td>0</td>\n",
       "      <td>colt</td>\n",
       "      <td>150000</td>\n",
       "      <td>7</td>\n",
       "      <td>petrol</td>\n",
       "      <td>mitsubishi</td>\n",
       "      <td>yes</td>\n",
       "      <td>2016-03-21 00:00:00</td>\n",
       "      <td>0</td>\n",
       "      <td>2694</td>\n",
       "      <td>2016-03-21 10:42:49</td>\n",
       "    </tr>\n",
       "    <tr>\n",
       "      <th>354365</th>\n",
       "      <td>2016-03-14 17:48:27</td>\n",
       "      <td>2200</td>\n",
       "      <td>NaN</td>\n",
       "      <td>2005</td>\n",
       "      <td>NaN</td>\n",
       "      <td>0</td>\n",
       "      <td>NaN</td>\n",
       "      <td>20000</td>\n",
       "      <td>1</td>\n",
       "      <td>NaN</td>\n",
       "      <td>sonstige_autos</td>\n",
       "      <td>NaN</td>\n",
       "      <td>2016-03-14 00:00:00</td>\n",
       "      <td>0</td>\n",
       "      <td>39576</td>\n",
       "      <td>2016-04-06 00:46:52</td>\n",
       "    </tr>\n",
       "    <tr>\n",
       "      <th>354366</th>\n",
       "      <td>2016-03-05 19:56:21</td>\n",
       "      <td>1199</td>\n",
       "      <td>convertible</td>\n",
       "      <td>2000</td>\n",
       "      <td>auto</td>\n",
       "      <td>101</td>\n",
       "      <td>fortwo</td>\n",
       "      <td>125000</td>\n",
       "      <td>3</td>\n",
       "      <td>petrol</td>\n",
       "      <td>smart</td>\n",
       "      <td>no</td>\n",
       "      <td>2016-03-05 00:00:00</td>\n",
       "      <td>0</td>\n",
       "      <td>26135</td>\n",
       "      <td>2016-03-11 18:17:12</td>\n",
       "    </tr>\n",
       "    <tr>\n",
       "      <th>354367</th>\n",
       "      <td>2016-03-19 18:57:12</td>\n",
       "      <td>9200</td>\n",
       "      <td>bus</td>\n",
       "      <td>1996</td>\n",
       "      <td>manual</td>\n",
       "      <td>102</td>\n",
       "      <td>transporter</td>\n",
       "      <td>150000</td>\n",
       "      <td>3</td>\n",
       "      <td>gasoline</td>\n",
       "      <td>volkswagen</td>\n",
       "      <td>no</td>\n",
       "      <td>2016-03-19 00:00:00</td>\n",
       "      <td>0</td>\n",
       "      <td>87439</td>\n",
       "      <td>2016-04-07 07:15:26</td>\n",
       "    </tr>\n",
       "    <tr>\n",
       "      <th>354368</th>\n",
       "      <td>2016-03-20 19:41:08</td>\n",
       "      <td>3400</td>\n",
       "      <td>wagon</td>\n",
       "      <td>2002</td>\n",
       "      <td>manual</td>\n",
       "      <td>100</td>\n",
       "      <td>golf</td>\n",
       "      <td>150000</td>\n",
       "      <td>6</td>\n",
       "      <td>gasoline</td>\n",
       "      <td>volkswagen</td>\n",
       "      <td>NaN</td>\n",
       "      <td>2016-03-20 00:00:00</td>\n",
       "      <td>0</td>\n",
       "      <td>40764</td>\n",
       "      <td>2016-03-24 12:45:21</td>\n",
       "    </tr>\n",
       "  </tbody>\n",
       "</table>\n",
       "</div>"
      ],
      "text/plain": [
       "                DateCrawled  Price  VehicleType  RegistrationYear Gearbox  Power        Model  Kilometer  RegistrationMonth  FuelType           Brand Repaired          DateCreated  NumberOfPictures  PostalCode             LastSeen\n",
       "354364  2016-03-21 09:50:58      0          NaN              2005  manual      0         colt     150000                  7    petrol      mitsubishi      yes  2016-03-21 00:00:00                 0        2694  2016-03-21 10:42:49\n",
       "354365  2016-03-14 17:48:27   2200          NaN              2005     NaN      0          NaN      20000                  1       NaN  sonstige_autos      NaN  2016-03-14 00:00:00                 0       39576  2016-04-06 00:46:52\n",
       "354366  2016-03-05 19:56:21   1199  convertible              2000    auto    101       fortwo     125000                  3    petrol           smart       no  2016-03-05 00:00:00                 0       26135  2016-03-11 18:17:12\n",
       "354367  2016-03-19 18:57:12   9200          bus              1996  manual    102  transporter     150000                  3  gasoline      volkswagen       no  2016-03-19 00:00:00                 0       87439  2016-04-07 07:15:26\n",
       "354368  2016-03-20 19:41:08   3400        wagon              2002  manual    100         golf     150000                  6  gasoline      volkswagen      NaN  2016-03-20 00:00:00                 0       40764  2016-03-24 12:45:21"
      ]
     },
     "metadata": {},
     "output_type": "display_data"
    },
    {
     "name": "stdout",
     "output_type": "stream",
     "text": [
      "\n",
      "\n",
      "Количество признаков: 16, Количество наблюдений: 354369\n",
      "\n",
      "\n",
      "Информация о данных\n",
      "\n"
     ]
    },
    {
     "data": {
      "text/html": [
       "<div>\n",
       "<style scoped>\n",
       "    .dataframe tbody tr th:only-of-type {\n",
       "        vertical-align: middle;\n",
       "    }\n",
       "\n",
       "    .dataframe tbody tr th {\n",
       "        vertical-align: top;\n",
       "    }\n",
       "\n",
       "    .dataframe thead th {\n",
       "        text-align: right;\n",
       "    }\n",
       "</style>\n",
       "<table border=\"1\" class=\"dataframe\">\n",
       "  <thead>\n",
       "    <tr style=\"text-align: right;\">\n",
       "      <th></th>\n",
       "      <th>Признак</th>\n",
       "      <th>Тип данных</th>\n",
       "      <th>Уникальных значений</th>\n",
       "      <th>%Пропусков</th>\n",
       "    </tr>\n",
       "  </thead>\n",
       "  <tbody>\n",
       "    <tr>\n",
       "      <th>0</th>\n",
       "      <td>DateCrawled</td>\n",
       "      <td>object</td>\n",
       "      <td>271174</td>\n",
       "      <td>0.0000</td>\n",
       "    </tr>\n",
       "    <tr>\n",
       "      <th>1</th>\n",
       "      <td>Price</td>\n",
       "      <td>int64</td>\n",
       "      <td>3731</td>\n",
       "      <td>0.0000</td>\n",
       "    </tr>\n",
       "    <tr>\n",
       "      <th>2</th>\n",
       "      <td>VehicleType</td>\n",
       "      <td>object</td>\n",
       "      <td>8</td>\n",
       "      <td>10.5794</td>\n",
       "    </tr>\n",
       "    <tr>\n",
       "      <th>3</th>\n",
       "      <td>RegistrationYear</td>\n",
       "      <td>int64</td>\n",
       "      <td>151</td>\n",
       "      <td>0.0000</td>\n",
       "    </tr>\n",
       "    <tr>\n",
       "      <th>4</th>\n",
       "      <td>Gearbox</td>\n",
       "      <td>object</td>\n",
       "      <td>2</td>\n",
       "      <td>5.5967</td>\n",
       "    </tr>\n",
       "    <tr>\n",
       "      <th>5</th>\n",
       "      <td>Power</td>\n",
       "      <td>int64</td>\n",
       "      <td>712</td>\n",
       "      <td>0.0000</td>\n",
       "    </tr>\n",
       "    <tr>\n",
       "      <th>6</th>\n",
       "      <td>Model</td>\n",
       "      <td>object</td>\n",
       "      <td>250</td>\n",
       "      <td>5.5606</td>\n",
       "    </tr>\n",
       "    <tr>\n",
       "      <th>7</th>\n",
       "      <td>Kilometer</td>\n",
       "      <td>int64</td>\n",
       "      <td>13</td>\n",
       "      <td>0.0000</td>\n",
       "    </tr>\n",
       "    <tr>\n",
       "      <th>8</th>\n",
       "      <td>RegistrationMonth</td>\n",
       "      <td>int64</td>\n",
       "      <td>13</td>\n",
       "      <td>0.0000</td>\n",
       "    </tr>\n",
       "    <tr>\n",
       "      <th>9</th>\n",
       "      <td>FuelType</td>\n",
       "      <td>object</td>\n",
       "      <td>7</td>\n",
       "      <td>9.2827</td>\n",
       "    </tr>\n",
       "    <tr>\n",
       "      <th>10</th>\n",
       "      <td>Brand</td>\n",
       "      <td>object</td>\n",
       "      <td>40</td>\n",
       "      <td>0.0000</td>\n",
       "    </tr>\n",
       "    <tr>\n",
       "      <th>11</th>\n",
       "      <td>Repaired</td>\n",
       "      <td>object</td>\n",
       "      <td>2</td>\n",
       "      <td>20.0791</td>\n",
       "    </tr>\n",
       "    <tr>\n",
       "      <th>12</th>\n",
       "      <td>DateCreated</td>\n",
       "      <td>object</td>\n",
       "      <td>109</td>\n",
       "      <td>0.0000</td>\n",
       "    </tr>\n",
       "    <tr>\n",
       "      <th>13</th>\n",
       "      <td>NumberOfPictures</td>\n",
       "      <td>int64</td>\n",
       "      <td>1</td>\n",
       "      <td>0.0000</td>\n",
       "    </tr>\n",
       "    <tr>\n",
       "      <th>14</th>\n",
       "      <td>PostalCode</td>\n",
       "      <td>int64</td>\n",
       "      <td>8143</td>\n",
       "      <td>0.0000</td>\n",
       "    </tr>\n",
       "    <tr>\n",
       "      <th>15</th>\n",
       "      <td>LastSeen</td>\n",
       "      <td>object</td>\n",
       "      <td>179150</td>\n",
       "      <td>0.0000</td>\n",
       "    </tr>\n",
       "  </tbody>\n",
       "</table>\n",
       "</div>"
      ],
      "text/plain": [
       "              Признак Тип данных  Уникальных значений  %Пропусков\n",
       "0         DateCrawled     object               271174      0.0000\n",
       "1               Price      int64                 3731      0.0000\n",
       "2         VehicleType     object                    8     10.5794\n",
       "3    RegistrationYear      int64                  151      0.0000\n",
       "4             Gearbox     object                    2      5.5967\n",
       "5               Power      int64                  712      0.0000\n",
       "6               Model     object                  250      5.5606\n",
       "7           Kilometer      int64                   13      0.0000\n",
       "8   RegistrationMonth      int64                   13      0.0000\n",
       "9            FuelType     object                    7      9.2827\n",
       "10              Brand     object                   40      0.0000\n",
       "11           Repaired     object                    2     20.0791\n",
       "12        DateCreated     object                  109      0.0000\n",
       "13   NumberOfPictures      int64                    1      0.0000\n",
       "14         PostalCode      int64                 8143      0.0000\n",
       "15           LastSeen     object               179150      0.0000"
      ]
     },
     "metadata": {},
     "output_type": "display_data"
    },
    {
     "name": "stdout",
     "output_type": "stream",
     "text": [
      "\n",
      "\n",
      "Количество полных дубликатов в данных: 4\n",
      "\n",
      "\n",
      "Описательная статистика \n"
     ]
    },
    {
     "data": {
      "text/html": [
       "<div>\n",
       "<style scoped>\n",
       "    .dataframe tbody tr th:only-of-type {\n",
       "        vertical-align: middle;\n",
       "    }\n",
       "\n",
       "    .dataframe tbody tr th {\n",
       "        vertical-align: top;\n",
       "    }\n",
       "\n",
       "    .dataframe thead th {\n",
       "        text-align: right;\n",
       "    }\n",
       "</style>\n",
       "<table border=\"1\" class=\"dataframe\">\n",
       "  <thead>\n",
       "    <tr style=\"text-align: right;\">\n",
       "      <th></th>\n",
       "      <th>Price</th>\n",
       "      <th>RegistrationYear</th>\n",
       "      <th>Power</th>\n",
       "      <th>Kilometer</th>\n",
       "      <th>RegistrationMonth</th>\n",
       "      <th>NumberOfPictures</th>\n",
       "      <th>PostalCode</th>\n",
       "    </tr>\n",
       "  </thead>\n",
       "  <tbody>\n",
       "    <tr>\n",
       "      <th>count</th>\n",
       "      <td>354369.0000</td>\n",
       "      <td>354369.0000</td>\n",
       "      <td>354369.0000</td>\n",
       "      <td>354369.0000</td>\n",
       "      <td>354369.0000</td>\n",
       "      <td>354369.0000</td>\n",
       "      <td>354369.0000</td>\n",
       "    </tr>\n",
       "    <tr>\n",
       "      <th>mean</th>\n",
       "      <td>4416.6568</td>\n",
       "      <td>2004.2344</td>\n",
       "      <td>110.0943</td>\n",
       "      <td>128211.1725</td>\n",
       "      <td>5.7146</td>\n",
       "      <td>0.0000</td>\n",
       "      <td>50508.6891</td>\n",
       "    </tr>\n",
       "    <tr>\n",
       "      <th>std</th>\n",
       "      <td>4514.1585</td>\n",
       "      <td>90.2280</td>\n",
       "      <td>189.8504</td>\n",
       "      <td>37905.3415</td>\n",
       "      <td>3.7264</td>\n",
       "      <td>0.0000</td>\n",
       "      <td>25783.0962</td>\n",
       "    </tr>\n",
       "    <tr>\n",
       "      <th>min</th>\n",
       "      <td>0.0000</td>\n",
       "      <td>1000.0000</td>\n",
       "      <td>0.0000</td>\n",
       "      <td>5000.0000</td>\n",
       "      <td>0.0000</td>\n",
       "      <td>0.0000</td>\n",
       "      <td>1067.0000</td>\n",
       "    </tr>\n",
       "    <tr>\n",
       "      <th>25%</th>\n",
       "      <td>1050.0000</td>\n",
       "      <td>1999.0000</td>\n",
       "      <td>69.0000</td>\n",
       "      <td>125000.0000</td>\n",
       "      <td>3.0000</td>\n",
       "      <td>0.0000</td>\n",
       "      <td>30165.0000</td>\n",
       "    </tr>\n",
       "    <tr>\n",
       "      <th>50%</th>\n",
       "      <td>2700.0000</td>\n",
       "      <td>2003.0000</td>\n",
       "      <td>105.0000</td>\n",
       "      <td>150000.0000</td>\n",
       "      <td>6.0000</td>\n",
       "      <td>0.0000</td>\n",
       "      <td>49413.0000</td>\n",
       "    </tr>\n",
       "    <tr>\n",
       "      <th>75%</th>\n",
       "      <td>6400.0000</td>\n",
       "      <td>2008.0000</td>\n",
       "      <td>143.0000</td>\n",
       "      <td>150000.0000</td>\n",
       "      <td>9.0000</td>\n",
       "      <td>0.0000</td>\n",
       "      <td>71083.0000</td>\n",
       "    </tr>\n",
       "    <tr>\n",
       "      <th>max</th>\n",
       "      <td>20000.0000</td>\n",
       "      <td>9999.0000</td>\n",
       "      <td>20000.0000</td>\n",
       "      <td>150000.0000</td>\n",
       "      <td>12.0000</td>\n",
       "      <td>0.0000</td>\n",
       "      <td>99998.0000</td>\n",
       "    </tr>\n",
       "  </tbody>\n",
       "</table>\n",
       "</div>"
      ],
      "text/plain": [
       "            Price  RegistrationYear       Power   Kilometer  RegistrationMonth  NumberOfPictures  PostalCode\n",
       "count 354369.0000       354369.0000 354369.0000 354369.0000        354369.0000       354369.0000 354369.0000\n",
       "mean    4416.6568         2004.2344    110.0943 128211.1725             5.7146            0.0000  50508.6891\n",
       "std     4514.1585           90.2280    189.8504  37905.3415             3.7264            0.0000  25783.0962\n",
       "min        0.0000         1000.0000      0.0000   5000.0000             0.0000            0.0000   1067.0000\n",
       "25%     1050.0000         1999.0000     69.0000 125000.0000             3.0000            0.0000  30165.0000\n",
       "50%     2700.0000         2003.0000    105.0000 150000.0000             6.0000            0.0000  49413.0000\n",
       "75%     6400.0000         2008.0000    143.0000 150000.0000             9.0000            0.0000  71083.0000\n",
       "max    20000.0000         9999.0000  20000.0000 150000.0000            12.0000            0.0000  99998.0000"
      ]
     },
     "metadata": {},
     "output_type": "display_data"
    }
   ],
   "source": [
    "data_info(data)"
   ]
  },
  {
   "cell_type": "markdown",
   "metadata": {},
   "source": [
    "Обзор данных показывает:\n",
    "\n",
    "1. К исследованию представлены более 350 тыс. наблюдений, содержащие 16 признаков\n",
    "2. Среди признаков имеются числовые, категориальные и строковые данные\n",
    "3. Имеются пропуски в данных: \n",
    "  * `VehicleType` - 10.6%\n",
    "  * `Gearbox` - 5.6%\n",
    "  * `Model` - 5.6%\n",
    "  * `FuelType` - 9.3%\n",
    "  * `Repaired` - 20.1%\n",
    "4. Согласно описательной статистике имеются аномалии в данных:\n",
    "  * Нулевые значение целевого признаков `Price`,`Power`\t\n",
    "  * `RegistrationYear` - транспорт зарегистрированный в 1000 и 9999гг.\n",
    "5. В признаке `NumberOfPictures` все данные заполнены `0`, соответственно и ценность данного признака 0. \n",
    "6. Выявлено 4 полных дубликата. "
   ]
  },
  {
   "cell_type": "markdown",
   "metadata": {},
   "source": [
    "Учитывая вышеизженное:\n",
    " 1. Следуя хорошему \"змеиному\" стилю, переименуем признаки используя:\n",
    "    * нижний регистр\n",
    "    * знак \"__\" для смыслового разделения\n",
    " 2. Удалим полные дубликаты\n",
    " 3. Рассмотрим остальные признаки подробнее, с целью принятия решений о судьбе пропусков и аномалий.\n",
    " 4. Удалим признак `NumberOfPictures`, а также иные неинформативные признаки\n",
    " 5. Проверим корреляцию признаков\n"
   ]
  },
  {
   "cell_type": "code",
   "execution_count": 20,
   "metadata": {},
   "outputs": [],
   "source": [
    "# переименуем столбцы\n",
    "list_name = []\n",
    "for item in data.columns:\n",
    "    new_name = ''.join([(' '+i if i.isupper() else i) for i in item]).strip().split()\n",
    "    list_name.append('_'.join(new_name).lower())\n",
    "data.columns = list_name"
   ]
  },
  {
   "cell_type": "code",
   "execution_count": 21,
   "metadata": {},
   "outputs": [],
   "source": [
    "# список признаков к удалению\n",
    "list_to_delete = ['number_of_pictures']"
   ]
  },
  {
   "cell_type": "code",
   "execution_count": 22,
   "metadata": {},
   "outputs": [],
   "source": [
    "# удалим полные дубликаты\n",
    "data.drop_duplicates(inplace=True)"
   ]
  },
  {
   "cell_type": "markdown",
   "metadata": {},
   "source": [
    "Рассмотрим хронологические признаки (в данных признаках нет пропусков), оценим их информативность:\n",
    " * `date_crawled`\n",
    " * `date_created`\t\n",
    " * `last_seen`\n",
    " \n",
    "Преобразуем признаки к соответствующему типу с округлением до дня. "
   ]
  },
  {
   "cell_type": "code",
   "execution_count": 23,
   "metadata": {},
   "outputs": [],
   "source": [
    "list_date = ['date_crawled', 'date_created', 'last_seen']\n",
    "for item in list_date:\n",
    "    data[item] = pd.to_datetime(data[item], \n",
    "                                format='%Y-%m-%d', \n",
    "                                errors='ignore').dt.round('1D')"
   ]
  },
  {
   "cell_type": "code",
   "execution_count": 24,
   "metadata": {},
   "outputs": [
    {
     "data": {
      "text/html": [
       "<div>\n",
       "<style scoped>\n",
       "    .dataframe tbody tr th:only-of-type {\n",
       "        vertical-align: middle;\n",
       "    }\n",
       "\n",
       "    .dataframe tbody tr th {\n",
       "        vertical-align: top;\n",
       "    }\n",
       "\n",
       "    .dataframe thead th {\n",
       "        text-align: right;\n",
       "    }\n",
       "</style>\n",
       "<table border=\"1\" class=\"dataframe\">\n",
       "  <thead>\n",
       "    <tr style=\"text-align: right;\">\n",
       "      <th></th>\n",
       "      <th>date_crawled</th>\n",
       "      <th>date_created</th>\n",
       "      <th>last_seen</th>\n",
       "    </tr>\n",
       "  </thead>\n",
       "  <tbody>\n",
       "    <tr>\n",
       "      <th>count</th>\n",
       "      <td>354365</td>\n",
       "      <td>354365</td>\n",
       "      <td>354365</td>\n",
       "    </tr>\n",
       "    <tr>\n",
       "      <th>unique</th>\n",
       "      <td>34</td>\n",
       "      <td>109</td>\n",
       "      <td>34</td>\n",
       "    </tr>\n",
       "    <tr>\n",
       "      <th>top</th>\n",
       "      <td>2016-04-04 00:00:00</td>\n",
       "      <td>2016-04-03 00:00:00</td>\n",
       "      <td>2016-04-06 00:00:00</td>\n",
       "    </tr>\n",
       "    <tr>\n",
       "      <th>freq</th>\n",
       "      <td>13591</td>\n",
       "      <td>13718</td>\n",
       "      <td>75688</td>\n",
       "    </tr>\n",
       "    <tr>\n",
       "      <th>first</th>\n",
       "      <td>2016-03-06 00:00:00</td>\n",
       "      <td>2014-03-10 00:00:00</td>\n",
       "      <td>2016-03-06 00:00:00</td>\n",
       "    </tr>\n",
       "    <tr>\n",
       "      <th>last</th>\n",
       "      <td>2016-04-08 00:00:00</td>\n",
       "      <td>2016-04-07 00:00:00</td>\n",
       "      <td>2016-04-08 00:00:00</td>\n",
       "    </tr>\n",
       "  </tbody>\n",
       "</table>\n",
       "</div>"
      ],
      "text/plain": [
       "               date_crawled         date_created            last_seen\n",
       "count                354365               354365               354365\n",
       "unique                   34                  109                   34\n",
       "top     2016-04-04 00:00:00  2016-04-03 00:00:00  2016-04-06 00:00:00\n",
       "freq                  13591                13718                75688\n",
       "first   2016-03-06 00:00:00  2014-03-10 00:00:00  2016-03-06 00:00:00\n",
       "last    2016-04-08 00:00:00  2016-04-07 00:00:00  2016-04-08 00:00:00"
      ]
     },
     "execution_count": 24,
     "metadata": {},
     "output_type": "execute_result"
    }
   ],
   "source": [
    "# немного статистики\n",
    "data[list_date].describe()"
   ]
  },
  {
   "cell_type": "code",
   "execution_count": 25,
   "metadata": {},
   "outputs": [
    {
     "data": {
      "image/png": "[encoded data removed]",
      "text/plain": [
       "<Figure size 720x288 with 1 Axes>"
      ]
     },
     "metadata": {},
     "output_type": "display_data"
    },
    {
     "data": {
      "image/png": "[encoded data removed]",
      "text/plain": [
       "<Figure size 720x288 with 1 Axes>"
      ]
     },
     "metadata": {},
     "output_type": "display_data"
    },
    {
     "data": {
      "image/png": "[encoded data removed]",
      "text/plain": [
       "<Figure size 720x288 with 1 Axes>"
      ]
     },
     "metadata": {},
     "output_type": "display_data"
    }
   ],
   "source": [
    "# посмотрим как распределены наблюдения по датам\n",
    "for item in list_date:\n",
    "    plt.figure(figsize=(10,4))\n",
    "    data[item].hist(bins=data[item].nunique());\n",
    "    plt.xlim(data[item].min(), data[item].max())\n",
    "    plt.xlabel(f'интервалы значений признака {item}')\n",
    "    plt.ylabel('частота наблюдений')\n",
    "    plt.title(f'Распределение признака {item}')\n",
    "    plt.show;"
   ]
  },
  {
   "cell_type": "code",
   "execution_count": 26,
   "metadata": {},
   "outputs": [
    {
     "name": "stdout",
     "output_type": "stream",
     "text": [
      "Количество анкет до ноября 2015: 8\n"
     ]
    }
   ],
   "source": [
    "print(f'Количество анкет до ноября 2015:', data.query('date_created < \"2015-11-01\"').date_crawled.count())"
   ]
  },
  {
   "cell_type": "markdown",
   "metadata": {},
   "source": [
    "Из анализа хронологических признаков можно сделать предположение, что сервис \"Не бит, не крашен\" начал свою активную работу c конца 2015 года, именно с этого времени начинается активный прирост количества анкет и скачиваний.\n",
    "\n",
    "Наблюдения до ноября 2015 года удалим из рассмотрения, считая из тестовыми.\n",
    "Также удалим признаки `date_crawled`, `last_seen`, так как на ценообразование они явно никак не влияют, а только усложнят нашу модель."
   ]
  },
  {
   "cell_type": "code",
   "execution_count": 27,
   "metadata": {},
   "outputs": [],
   "source": [
    "# удалим тестовые анкеты\n",
    "data = data.query('date_created > \"2015-11-01\"')"
   ]
  },
  {
   "cell_type": "code",
   "execution_count": 28,
   "metadata": {},
   "outputs": [],
   "source": [
    "# дополним список признаков для удаления\n",
    "list_to_delete = list_to_delete + ['date_crawled', 'last_seen']"
   ]
  },
  {
   "cell_type": "markdown",
   "metadata": {},
   "source": [
    "Продолжим с хронологией:\n",
    " * `registration_year`\n",
    " * `registration_month`\n",
    " \n",
    "В этих признаках также отсуствуют пропуски. Необходимо оценить адекватность данных."
   ]
  },
  {
   "cell_type": "markdown",
   "metadata": {},
   "source": [
    "Википедия нам говорит, что первые известные чертежи автомобиля (с пружинным приводом) принадлежат Леонардо да Винчи, однако ни действующего экземпляра, ни сведений о его существовании до наших дней не дошло... \n",
    "\n",
    "Только последнее десятилетие XIX века считается временем зарождения автомобильной промышленности.\n",
    "Также из гистограммы и статистики видно, что имеются автомобили из будущего.\n",
    "\n",
    "Проверим данные признака `registration_year` на адекватность:\n",
    " * проверим авто до 1890 года\n",
    " * записи с авто после 2016-04-08 (крайняя дата выгрузки анкеты) "
   ]
  },
  {
   "cell_type": "code",
   "execution_count": 29,
   "metadata": {},
   "outputs": [],
   "source": [
    "# фильтры по годам регистрации\n",
    "filter_past_auto = data['registration_year'] < 1890\n",
    "filter_future_auto = (data['registration_year'] > data['date_created'].max().year) | \\\n",
    "                   ((data['registration_year'] == data['date_created'].max().year) & \\\n",
    "                  (data['registration_month'] >= data['date_created'].max().month))"
   ]
  },
  {
   "cell_type": "code",
   "execution_count": 30,
   "metadata": {},
   "outputs": [
    {
     "name": "stdout",
     "output_type": "stream",
     "text": [
      "Количество авто, зарегистрированных до 1890 года: 66\n",
      "Количество авто, зарегистрированных после 4 месяца 2016 составляет: 19892\n"
     ]
    }
   ],
   "source": [
    "print(f'Количество авто, зарегистрированных до 1890 года: {data[filter_past_auto].shape[0]}')\n",
    "print(f'Количество авто, зарегистрированных после {data.date_created.max().month} месяца {data.date_created.max().year} составляет: \\\n",
    "{data[filter_future_auto].shape[0]}')"
   ]
  },
  {
   "cell_type": "markdown",
   "metadata": {},
   "source": [
    "Удалим эти данные из рассмотрения."
   ]
  },
  {
   "cell_type": "code",
   "execution_count": 31,
   "metadata": {},
   "outputs": [
    {
     "name": "stdout",
     "output_type": "stream",
     "text": [
      "\n",
      "На текущий момент удалено 5.6% от исходного объема данных\n"
     ]
    }
   ],
   "source": [
    "data = data[~(filter_past_auto | filter_future_auto)]\n",
    "del_info(data)"
   ]
  },
  {
   "cell_type": "markdown",
   "metadata": {},
   "source": [
    "Признак `registration_month` сделал свое дело, и далее можно его внести в список на удаление, так как объективно цена авто менее зависит от месяца его регистрации, чем от года."
   ]
  },
  {
   "cell_type": "code",
   "execution_count": 32,
   "metadata": {},
   "outputs": [],
   "source": [
    "# дополним список признаков для удаления\n",
    "list_to_delete.append('registration_month')"
   ]
  },
  {
   "cell_type": "markdown",
   "metadata": {},
   "source": [
    "**Ретро** автомобилями признаются автомобили старше 30 лет с момента их регистрации.\n",
    "\n",
    "Учитывая этот факт, а так же то, что прогнозирование стоимости таких автомобилей - это уже вопрос экспертной деятельности, исключим из рассмотрения автомобили старше 30 лет. \n",
    "\n",
    "Мы располагаем данными системы с декабря 2015 по начало апреля 2016 года, оставим для рассмотрения автомобили зарегистрированные не позже 1985 года."
   ]
  },
  {
   "cell_type": "code",
   "execution_count": 33,
   "metadata": {},
   "outputs": [
    {
     "name": "stdout",
     "output_type": "stream",
     "text": [
      "Количество ретро автомобилей: 6138\n"
     ]
    }
   ],
   "source": [
    "# фильтры по ретро\n",
    "filter_retro_auto = data['registration_year'] <= 1985\n",
    "print(f'Количество ретро автомобилей: {data[filter_retro_auto].shape[0]}')"
   ]
  },
  {
   "cell_type": "code",
   "execution_count": 34,
   "metadata": {},
   "outputs": [
    {
     "name": "stdout",
     "output_type": "stream",
     "text": [
      "\n",
      "На текущий момент удалено 7.4% от исходного объема данных\n"
     ]
    }
   ],
   "source": [
    "data = data[~(filter_retro_auto)]\n",
    "del_info(data)"
   ]
  },
  {
   "cell_type": "code",
   "execution_count": 35,
   "metadata": {},
   "outputs": [
    {
     "data": {
      "image/png": "[encoded data removed]",
      "text/plain": [
       "<Figure size 720x216 with 1 Axes>"
      ]
     },
     "metadata": {},
     "output_type": "display_data"
    }
   ],
   "source": [
    "plt.figure(figsize=(10,3))\n",
    "data['registration_year'].hist(bins=30);\n",
    "plt.xlabel('интервалы значений признака')\n",
    "plt.ylabel('частота наблюдений')\n",
    "plt.title('Распределение признака registration_year')\n",
    "plt.show;"
   ]
  },
  {
   "cell_type": "markdown",
   "metadata": {},
   "source": [
    "Проведя обработку аномалий и выбросов, мы получили достаточно приличное распределение признака `registration_year`"
   ]
  },
  {
   "cell_type": "markdown",
   "metadata": {},
   "source": [
    "Последний штрих с признаками хронологии -  создадим дополнительную колонку `age`, содержащую информацию о возрасте авто.\n",
    "После чего, признаки `date_created` и `registration_year` внесем в список на удаление."
   ]
  },
  {
   "cell_type": "code",
   "execution_count": 36,
   "metadata": {},
   "outputs": [],
   "source": [
    "data['age'] = data['date_created'].dt.year - data['registration_year']"
   ]
  },
  {
   "cell_type": "code",
   "execution_count": 37,
   "metadata": {},
   "outputs": [],
   "source": [
    "# дополним список признаков для удаления\n",
    "list_to_delete = list_to_delete + ['registration_year', 'date_created']"
   ]
  },
  {
   "cell_type": "markdown",
   "metadata": {},
   "source": [
    "С датами разобрались, идем дальше"
   ]
  },
  {
   "cell_type": "code",
   "execution_count": 38,
   "metadata": {},
   "outputs": [
    {
     "data": {
      "text/plain": [
       "array([ 1067,  1068,  1069, ..., 99994, 99996, 99998], dtype=int64)"
      ]
     },
     "execution_count": 38,
     "metadata": {},
     "output_type": "execute_result"
    }
   ],
   "source": [
    "# проверим значения признака\n",
    "np.sort(data['postal_code'].unique())"
   ]
  },
  {
   "cell_type": "markdown",
   "metadata": {},
   "source": [
    "Признак `postal_code` являются почтовыми индексами. По характеру данных можно предположить, что это все индексы Германии (если допустить, что в индексах до 10000 пропущен `0` в первой позиции).\n",
    "Так как географически данные принадлежат одному государству, скорее всего корреляция между стоимостью автомобиля и почтовым индексом продавца вряд ли значительная. \n",
    "\n",
    "Поэтому исключим данный признак из рассмотрения."
   ]
  },
  {
   "cell_type": "code",
   "execution_count": 39,
   "metadata": {},
   "outputs": [],
   "source": [
    "# дополним список признаков для удаления\n",
    "list_to_delete.append('postal_code')"
   ]
  },
  {
   "cell_type": "code",
   "execution_count": 40,
   "metadata": {},
   "outputs": [],
   "source": [
    "# уалим неинформативные столбцы\n",
    "data = data.drop(list_to_delete, axis=1)"
   ]
  },
  {
   "cell_type": "markdown",
   "metadata": {},
   "source": [
    "Посмотрим на распределение числовых признаков:\n",
    " * `price`\n",
    " * `power`\n",
    " * `kilometer`"
   ]
  },
  {
   "cell_type": "markdown",
   "metadata": {},
   "source": [
    "Рассмотрим целевой признак `price`. Оценим выбросы и аномалии."
   ]
  },
  {
   "cell_type": "code",
   "execution_count": 41,
   "metadata": {},
   "outputs": [
    {
     "data": {
      "image/png": "[encoded data removed]",
      "text/plain": [
       "<Figure size 1008x432 with 2 Axes>"
      ]
     },
     "metadata": {},
     "output_type": "display_data"
    }
   ],
   "source": [
    "# построим распределение признака\n",
    "fig, axs = plt.subplots(1, 2, figsize=(14,6));\n",
    "fig. suptitle('Распределение признака price');\n",
    "sns.boxplot(data=data, x='price', ax=axs[0]);\n",
    "sns.histplot(data=data, x='price',ax=axs[1], kde=True);"
   ]
  },
  {
   "cell_type": "markdown",
   "metadata": {},
   "source": [
    "По графикам видно, что имеется более 14 тыс.наблюдений с ценами близкими к нулю."
   ]
  },
  {
   "cell_type": "code",
   "execution_count": 42,
   "metadata": {},
   "outputs": [],
   "source": [
    "filter_chip = data['price'] <= 100\n",
    "filter_expensive = data['price'] >= 17500"
   ]
  },
  {
   "cell_type": "code",
   "execution_count": 43,
   "metadata": {},
   "outputs": [
    {
     "name": "stdout",
     "output_type": "stream",
     "text": [
      "Количество авто дешевле 100 евро: 12408\n",
      "Количество авто дороже 17500 евро: 6669\n"
     ]
    }
   ],
   "source": [
    "print('Количество авто дешевле 100 евро:', data[filter_chip].shape[0])\n",
    "print('Количество авто дороже 17500 евро:', data[filter_expensive].shape[0])"
   ]
  },
  {
   "cell_type": "code",
   "execution_count": 44,
   "metadata": {},
   "outputs": [
    {
     "data": {
      "text/html": [
       "<div>\n",
       "<style scoped>\n",
       "    .dataframe tbody tr th:only-of-type {\n",
       "        vertical-align: middle;\n",
       "    }\n",
       "\n",
       "    .dataframe tbody tr th {\n",
       "        vertical-align: top;\n",
       "    }\n",
       "\n",
       "    .dataframe thead th {\n",
       "        text-align: right;\n",
       "    }\n",
       "</style>\n",
       "<table border=\"1\" class=\"dataframe\">\n",
       "  <thead>\n",
       "    <tr style=\"text-align: right;\">\n",
       "      <th></th>\n",
       "      <th>count</th>\n",
       "      <th>mean</th>\n",
       "    </tr>\n",
       "    <tr>\n",
       "      <th>price</th>\n",
       "      <th></th>\n",
       "      <th></th>\n",
       "    </tr>\n",
       "  </thead>\n",
       "  <tbody>\n",
       "    <tr>\n",
       "      <th>17500</th>\n",
       "      <td>535</td>\n",
       "      <td>6.6804</td>\n",
       "    </tr>\n",
       "    <tr>\n",
       "      <th>18500</th>\n",
       "      <td>476</td>\n",
       "      <td>5.9958</td>\n",
       "    </tr>\n",
       "    <tr>\n",
       "      <th>19500</th>\n",
       "      <td>415</td>\n",
       "      <td>6.3711</td>\n",
       "    </tr>\n",
       "    <tr>\n",
       "      <th>17900</th>\n",
       "      <td>389</td>\n",
       "      <td>6.3470</td>\n",
       "    </tr>\n",
       "    <tr>\n",
       "      <th>19900</th>\n",
       "      <td>359</td>\n",
       "      <td>6.1727</td>\n",
       "    </tr>\n",
       "    <tr>\n",
       "      <th>18900</th>\n",
       "      <td>348</td>\n",
       "      <td>6.1925</td>\n",
       "    </tr>\n",
       "    <tr>\n",
       "      <th>18000</th>\n",
       "      <td>273</td>\n",
       "      <td>6.5018</td>\n",
       "    </tr>\n",
       "    <tr>\n",
       "      <th>19999</th>\n",
       "      <td>268</td>\n",
       "      <td>5.9590</td>\n",
       "    </tr>\n",
       "    <tr>\n",
       "      <th>20000</th>\n",
       "      <td>248</td>\n",
       "      <td>6.5202</td>\n",
       "    </tr>\n",
       "    <tr>\n",
       "      <th>19000</th>\n",
       "      <td>210</td>\n",
       "      <td>6.1048</td>\n",
       "    </tr>\n",
       "  </tbody>\n",
       "</table>\n",
       "</div>"
      ],
      "text/plain": [
       "       count   mean\n",
       "price              \n",
       "17500    535 6.6804\n",
       "18500    476 5.9958\n",
       "19500    415 6.3711\n",
       "17900    389 6.3470\n",
       "19900    359 6.1727\n",
       "18900    348 6.1925\n",
       "18000    273 6.5018\n",
       "19999    268 5.9590\n",
       "20000    248 6.5202\n",
       "19000    210 6.1048"
      ]
     },
     "execution_count": 44,
     "metadata": {},
     "output_type": "execute_result"
    }
   ],
   "source": [
    "# проверим, что там в дорогих авто\n",
    "(data[filter_expensive].\n",
    " pivot_table(index='price', values='age', aggfunc={'mean', 'count'}).\n",
    " sort_values(by='count', ascending=False).head(10))"
   ]
  },
  {
   "cell_type": "code",
   "execution_count": 45,
   "metadata": {},
   "outputs": [
    {
     "data": {
      "text/html": [
       "<div>\n",
       "<style scoped>\n",
       "    .dataframe tbody tr th:only-of-type {\n",
       "        vertical-align: middle;\n",
       "    }\n",
       "\n",
       "    .dataframe tbody tr th {\n",
       "        vertical-align: top;\n",
       "    }\n",
       "\n",
       "    .dataframe thead th {\n",
       "        text-align: right;\n",
       "    }\n",
       "</style>\n",
       "<table border=\"1\" class=\"dataframe\">\n",
       "  <thead>\n",
       "    <tr style=\"text-align: right;\">\n",
       "      <th></th>\n",
       "      <th>count</th>\n",
       "      <th>mean</th>\n",
       "    </tr>\n",
       "    <tr>\n",
       "      <th>price</th>\n",
       "      <th></th>\n",
       "      <th></th>\n",
       "    </tr>\n",
       "  </thead>\n",
       "  <tbody>\n",
       "    <tr>\n",
       "      <th>0</th>\n",
       "      <td>9208</td>\n",
       "      <td>15.9832</td>\n",
       "    </tr>\n",
       "    <tr>\n",
       "      <th>1</th>\n",
       "      <td>1010</td>\n",
       "      <td>15.8614</td>\n",
       "    </tr>\n",
       "    <tr>\n",
       "      <th>100</th>\n",
       "      <td>959</td>\n",
       "      <td>17.9645</td>\n",
       "    </tr>\n",
       "    <tr>\n",
       "      <th>50</th>\n",
       "      <td>298</td>\n",
       "      <td>16.7953</td>\n",
       "    </tr>\n",
       "    <tr>\n",
       "      <th>80</th>\n",
       "      <td>135</td>\n",
       "      <td>17.8963</td>\n",
       "    </tr>\n",
       "    <tr>\n",
       "      <th>99</th>\n",
       "      <td>100</td>\n",
       "      <td>16.1800</td>\n",
       "    </tr>\n",
       "    <tr>\n",
       "      <th>10</th>\n",
       "      <td>78</td>\n",
       "      <td>15.9231</td>\n",
       "    </tr>\n",
       "    <tr>\n",
       "      <th>70</th>\n",
       "      <td>65</td>\n",
       "      <td>16.2308</td>\n",
       "    </tr>\n",
       "    <tr>\n",
       "      <th>60</th>\n",
       "      <td>54</td>\n",
       "      <td>17.0370</td>\n",
       "    </tr>\n",
       "    <tr>\n",
       "      <th>75</th>\n",
       "      <td>51</td>\n",
       "      <td>15.2353</td>\n",
       "    </tr>\n",
       "  </tbody>\n",
       "</table>\n",
       "</div>"
      ],
      "text/plain": [
       "       count    mean\n",
       "price               \n",
       "0       9208 15.9832\n",
       "1       1010 15.8614\n",
       "100      959 17.9645\n",
       "50       298 16.7953\n",
       "80       135 17.8963\n",
       "99       100 16.1800\n",
       "10        78 15.9231\n",
       "70        65 16.2308\n",
       "60        54 17.0370\n",
       "75        51 15.2353"
      ]
     },
     "execution_count": 45,
     "metadata": {},
     "output_type": "execute_result"
    }
   ],
   "source": [
    "# проверим, что там в авто до 100 евро\n",
    "(data[filter_chip].\n",
    " pivot_table(index='price', values='age', aggfunc={'mean', 'count'}).\n",
    " sort_values(by='count', ascending=False).head(10))"
   ]
  },
  {
   "cell_type": "markdown",
   "metadata": {},
   "source": [
    "Из анализа данных видно:\n",
    "* в сегменте до 100 евро преобладают авто с пропусками в данных, а также авто cтарше 15 лет.\n",
    "* в авто дороже 17 500 евро представлены достаточно свежие автомобили, не старше 7 лет.\n",
    "\n",
    "Таким образом:\n",
    "* удалим из рассмотрения условно \"бесплатные\" авто, так как заказчика вряд ли интересуют объявлени о благотворительности\n",
    "* а вот дорогие авто все оставим, так как это наиболее интересный сегмент.\n"
   ]
  },
  {
   "cell_type": "code",
   "execution_count": 46,
   "metadata": {},
   "outputs": [
    {
     "name": "stdout",
     "output_type": "stream",
     "text": [
      "\n",
      "На текущий момент удалено 10.9% от исходного объема данных\n"
     ]
    }
   ],
   "source": [
    "# фильтруем данные \n",
    "data = data[~filter_chip]\n",
    "del_info(data)"
   ]
  },
  {
   "cell_type": "markdown",
   "metadata": {},
   "source": [
    "Рассмотрим признак `power`. "
   ]
  },
  {
   "cell_type": "markdown",
   "metadata": {},
   "source": [
    "* Признак `power` имеет очень неправдоподоые значений судя по описательной статистике.\n",
    "* Наяндексив информацию о самых мощных автомобилях (с мощностью более 800 л.с.), имеющих стоимость нескольно млн. долларов/евро (явно не наш сегмент).\n",
    "* Можно смело удалять их наших данных все авто с мощностью более 500 л.с. "
   ]
  },
  {
   "cell_type": "code",
   "execution_count": 47,
   "metadata": {},
   "outputs": [
    {
     "name": "stdout",
     "output_type": "stream",
     "text": [
      "Количество авто, скрывающих более 500 л.с.: 368\n"
     ]
    }
   ],
   "source": [
    "filter_power = data['power'] > 500\n",
    "print('Количество авто, скрывающих более 500 л.с.:', data[filter_power].shape[0])"
   ]
  },
  {
   "cell_type": "code",
   "execution_count": 48,
   "metadata": {},
   "outputs": [
    {
     "name": "stdout",
     "output_type": "stream",
     "text": [
      "\n",
      "На текущий момент удалено 11.0% от исходного объема данных\n"
     ]
    }
   ],
   "source": [
    "data = data[~filter_power]\n",
    "del_info(data)"
   ]
  },
  {
   "cell_type": "code",
   "execution_count": 49,
   "metadata": {},
   "outputs": [
    {
     "data": {
      "image/png": "[encoded data removed]",
      "text/plain": [
       "<Figure size 1008x432 with 2 Axes>"
      ]
     },
     "metadata": {},
     "output_type": "display_data"
    }
   ],
   "source": [
    "# построим распределение признака\n",
    "fig, axs = plt.subplots(1, 2, figsize=(14,6))\n",
    "fig. suptitle('Распределение признака power')\n",
    "sns.boxplot(data=data, x='power', ax=axs[0]);\n",
    "sns.histplot(data=data, x='power',ax=axs[1], kde=True)\n",
    "plt.show()"
   ]
  },
  {
   "cell_type": "code",
   "execution_count": 50,
   "metadata": {},
   "outputs": [
    {
     "name": "stdout",
     "output_type": "stream",
     "text": [
      "Количество авто, скрывающих информацию о мощности: 28648\n"
     ]
    }
   ],
   "source": [
    "print('Количество авто, скрывающих информацию о мощности:', data[data['power'] == 0].shape[0])"
   ]
  },
  {
   "cell_type": "markdown",
   "metadata": {},
   "source": [
    "Достаточно много записей с отсуствующей информацией о мощности автомобиля, но без нее, как и без возраста авто, предсказать цену на авто мы не сможем объективно."
   ]
  },
  {
   "cell_type": "code",
   "execution_count": 51,
   "metadata": {},
   "outputs": [
    {
     "name": "stdout",
     "output_type": "stream",
     "text": [
      "\n",
      "На текущий момент удалено 19.1% от исходного объема данных\n"
     ]
    }
   ],
   "source": [
    "data = data[data['power']!= 0]\n",
    "del_info(data)"
   ]
  },
  {
   "cell_type": "markdown",
   "metadata": {},
   "source": [
    "Последний числовой признак `kilometr`"
   ]
  },
  {
   "cell_type": "code",
   "execution_count": 52,
   "metadata": {},
   "outputs": [
    {
     "data": {
      "image/png": "[encoded data removed]",
      "text/plain": [
       "<Figure size 864x432 with 2 Axes>"
      ]
     },
     "metadata": {},
     "output_type": "display_data"
    }
   ],
   "source": [
    "# построим распределение признака\n",
    "fig, axs = plt.subplots(1, 2, figsize=(12,6))\n",
    "fig. suptitle('Распределение признака kilometer')\n",
    "sns.boxplot(data=data, x='kilometer', ax=axs[0]);\n",
    "sns.histplot(data=data, x='kilometer',ax=axs[1], kde=True)\n",
    "plt.show()"
   ]
  },
  {
   "cell_type": "markdown",
   "metadata": {},
   "source": [
    "В данном признаке все выглядит объективно:\n",
    "* бывают авто и без пробега\n",
    "* и с пробегом 150 тыс.км., что характерно для авто старше 7 лет.\n",
    "\n",
    "Сгенирируем дополнительный признак - пробег в год `km_per_year`"
   ]
  },
  {
   "cell_type": "code",
   "execution_count": 53,
   "metadata": {},
   "outputs": [],
   "source": [
    "# сгенерируем признак, уберем бесконечность, преобразуем к целочисленному типу\n",
    "data['km_per_year'] = round(data['kilometer'] / data['age'])\n",
    "data.loc[data['km_per_year'] == np.inf, 'km_per_year'] = data['kilometer']\n",
    "data['km_per_year'] = data['km_per_year'].astype('Int32')"
   ]
  },
  {
   "cell_type": "markdown",
   "metadata": {},
   "source": [
    "Надо разобраться с **пропусками** в данных и оставшимися признаками:\n",
    "* `vehicle_type`\n",
    "* `gearbox`\n",
    "* `model`\n",
    "* `fuel_type`\n",
    "* `brand`\n",
    "* `repaired`\n",
    "\n",
    "Посмотрим, что у нас осталось после зачистки аномальных значений."
   ]
  },
  {
   "cell_type": "code",
   "execution_count": 54,
   "metadata": {},
   "outputs": [
    {
     "name": "stdout",
     "output_type": "stream",
     "text": [
      "% Пропусков в данных\n"
     ]
    },
    {
     "data": {
      "text/html": [
       "<style type=\"text/css\">\n",
       "#T_5940c_row0_col0, #T_5940c_row3_col0, #T_5940c_row5_col0, #T_5940c_row7_col0, #T_5940c_row9_col0, #T_5940c_row10_col0 {\n",
       "  background-color: #fff7fb;\n",
       "  color: #000000;\n",
       "}\n",
       "#T_5940c_row1_col0, #T_5940c_row2_col0 {\n",
       "  background-color: #e8e4f0;\n",
       "  color: #000000;\n",
       "}\n",
       "#T_5940c_row4_col0 {\n",
       "  background-color: #d9d8ea;\n",
       "  color: #000000;\n",
       "}\n",
       "#T_5940c_row6_col0 {\n",
       "  background-color: #acc0dd;\n",
       "  color: #000000;\n",
       "}\n",
       "#T_5940c_row8_col0 {\n",
       "  background-color: #023858;\n",
       "  color: #f1f1f1;\n",
       "}\n",
       "</style>\n",
       "<table id=\"T_5940c\">\n",
       "  <thead>\n",
       "    <tr>\n",
       "      <th class=\"blank level0\" >&nbsp;</th>\n",
       "      <th id=\"T_5940c_level0_col0\" class=\"col_heading level0 col0\" >0</th>\n",
       "    </tr>\n",
       "  </thead>\n",
       "  <tbody>\n",
       "    <tr>\n",
       "      <th id=\"T_5940c_level0_row0\" class=\"row_heading level0 row0\" >price</th>\n",
       "      <td id=\"T_5940c_row0_col0\" class=\"data row0 col0\" >0.000000</td>\n",
       "    </tr>\n",
       "    <tr>\n",
       "      <th id=\"T_5940c_level0_row1\" class=\"row_heading level0 row1\" >vehicle_type</th>\n",
       "      <td id=\"T_5940c_row1_col0\" class=\"data row1 col0\" >2.000000</td>\n",
       "    </tr>\n",
       "    <tr>\n",
       "      <th id=\"T_5940c_level0_row2\" class=\"row_heading level0 row2\" >gearbox</th>\n",
       "      <td id=\"T_5940c_row2_col0\" class=\"data row2 col0\" >2.000000</td>\n",
       "    </tr>\n",
       "    <tr>\n",
       "      <th id=\"T_5940c_level0_row3\" class=\"row_heading level0 row3\" >power</th>\n",
       "      <td id=\"T_5940c_row3_col0\" class=\"data row3 col0\" >0.000000</td>\n",
       "    </tr>\n",
       "    <tr>\n",
       "      <th id=\"T_5940c_level0_row4\" class=\"row_heading level0 row4\" >model</th>\n",
       "      <td id=\"T_5940c_row4_col0\" class=\"data row4 col0\" >3.000000</td>\n",
       "    </tr>\n",
       "    <tr>\n",
       "      <th id=\"T_5940c_level0_row5\" class=\"row_heading level0 row5\" >kilometer</th>\n",
       "      <td id=\"T_5940c_row5_col0\" class=\"data row5 col0\" >0.000000</td>\n",
       "    </tr>\n",
       "    <tr>\n",
       "      <th id=\"T_5940c_level0_row6\" class=\"row_heading level0 row6\" >fuel_type</th>\n",
       "      <td id=\"T_5940c_row6_col0\" class=\"data row6 col0\" >5.000000</td>\n",
       "    </tr>\n",
       "    <tr>\n",
       "      <th id=\"T_5940c_level0_row7\" class=\"row_heading level0 row7\" >brand</th>\n",
       "      <td id=\"T_5940c_row7_col0\" class=\"data row7 col0\" >0.000000</td>\n",
       "    </tr>\n",
       "    <tr>\n",
       "      <th id=\"T_5940c_level0_row8\" class=\"row_heading level0 row8\" >repaired</th>\n",
       "      <td id=\"T_5940c_row8_col0\" class=\"data row8 col0\" >14.000000</td>\n",
       "    </tr>\n",
       "    <tr>\n",
       "      <th id=\"T_5940c_level0_row9\" class=\"row_heading level0 row9\" >age</th>\n",
       "      <td id=\"T_5940c_row9_col0\" class=\"data row9 col0\" >0.000000</td>\n",
       "    </tr>\n",
       "    <tr>\n",
       "      <th id=\"T_5940c_level0_row10\" class=\"row_heading level0 row10\" >km_per_year</th>\n",
       "      <td id=\"T_5940c_row10_col0\" class=\"data row10 col0\" >0.000000</td>\n",
       "    </tr>\n",
       "  </tbody>\n",
       "</table>\n"
      ],
      "text/plain": [
       "<pandas.io.formats.style.Styler at 0x22997a5a610>"
      ]
     },
     "execution_count": 54,
     "metadata": {},
     "output_type": "execute_result"
    }
   ],
   "source": [
    "print('% Пропусков в данных')\n",
    "pd.DataFrame(round(data.isna().mean()*100,)).style.background_gradient()"
   ]
  },
  {
   "cell_type": "markdown",
   "metadata": {},
   "source": [
    "Признак `repaired` имеет большую долю пропусков. \n",
    "\n",
    "Данный признак заполним значением `unk` - unknown, так как других логичных вариантов заполнения не имеется, при этом не ухудшая качество данных."
   ]
  },
  {
   "cell_type": "code",
   "execution_count": 55,
   "metadata": {},
   "outputs": [],
   "source": [
    "data['repaired'] = data['repaired'].fillna('unk')"
   ]
  },
  {
   "cell_type": "markdown",
   "metadata": {},
   "source": [
    "Подозрительно одинаковый процент пропусков в признаках ...`vehicle_type`, `gearbox`, `model`\n",
    "Возможно это технический сбой или ошибки. \n",
    "\n",
    "Отберем данные, с отсуствующей информацией в этих полях:"
   ]
  },
  {
   "cell_type": "code",
   "execution_count": 56,
   "metadata": {},
   "outputs": [
    {
     "data": {
      "text/plain": [
       "210"
      ]
     },
     "execution_count": 56,
     "metadata": {},
     "output_type": "execute_result"
    }
   ],
   "source": [
    "data[(data['vehicle_type'].isna() & data['model'].isna() & data['gearbox'].isna())].shape[0]"
   ]
  },
  {
   "cell_type": "markdown",
   "metadata": {},
   "source": [
    "Удаляем эти максимально неинформативные строки:"
   ]
  },
  {
   "cell_type": "code",
   "execution_count": 57,
   "metadata": {},
   "outputs": [
    {
     "name": "stdout",
     "output_type": "stream",
     "text": [
      "\n",
      "На текущий момент удалено 19.1% от исходного объема данных\n"
     ]
    }
   ],
   "source": [
    "data = data[~(data['vehicle_type'].isna() & data['model'].isna() & data['gearbox'].isna())]\n",
    "del_info(data)"
   ]
  },
  {
   "cell_type": "code",
   "execution_count": 58,
   "metadata": {},
   "outputs": [
    {
     "name": "stdout",
     "output_type": "stream",
     "text": [
      "Количество пропусков в данных\n"
     ]
    },
    {
     "data": {
      "text/html": [
       "<style type=\"text/css\">\n",
       "#T_b53a6_row0_col0, #T_b53a6_row3_col0, #T_b53a6_row5_col0, #T_b53a6_row7_col0, #T_b53a6_row8_col0, #T_b53a6_row9_col0, #T_b53a6_row10_col0 {\n",
       "  background-color: #fff7fb;\n",
       "  color: #000000;\n",
       "}\n",
       "#T_b53a6_row1_col0 {\n",
       "  background-color: #75a9cf;\n",
       "  color: #f1f1f1;\n",
       "}\n",
       "#T_b53a6_row2_col0 {\n",
       "  background-color: #adc1dd;\n",
       "  color: #000000;\n",
       "}\n",
       "#T_b53a6_row4_col0 {\n",
       "  background-color: #0a73b2;\n",
       "  color: #f1f1f1;\n",
       "}\n",
       "#T_b53a6_row6_col0 {\n",
       "  background-color: #023858;\n",
       "  color: #f1f1f1;\n",
       "}\n",
       "</style>\n",
       "<table id=\"T_b53a6\">\n",
       "  <thead>\n",
       "    <tr>\n",
       "      <th class=\"blank level0\" >&nbsp;</th>\n",
       "      <th id=\"T_b53a6_level0_col0\" class=\"col_heading level0 col0\" >0</th>\n",
       "    </tr>\n",
       "  </thead>\n",
       "  <tbody>\n",
       "    <tr>\n",
       "      <th id=\"T_b53a6_level0_row0\" class=\"row_heading level0 row0\" >price</th>\n",
       "      <td id=\"T_b53a6_row0_col0\" class=\"data row0 col0\" >0</td>\n",
       "    </tr>\n",
       "    <tr>\n",
       "      <th id=\"T_b53a6_level0_row1\" class=\"row_heading level0 row1\" >vehicle_type</th>\n",
       "      <td id=\"T_b53a6_row1_col0\" class=\"data row1 col0\" >6526</td>\n",
       "    </tr>\n",
       "    <tr>\n",
       "      <th id=\"T_b53a6_level0_row2\" class=\"row_heading level0 row2\" >gearbox</th>\n",
       "      <td id=\"T_b53a6_row2_col0\" class=\"data row2 col0\" >4662</td>\n",
       "    </tr>\n",
       "    <tr>\n",
       "      <th id=\"T_b53a6_level0_row3\" class=\"row_heading level0 row3\" >power</th>\n",
       "      <td id=\"T_b53a6_row3_col0\" class=\"data row3 col0\" >0</td>\n",
       "    </tr>\n",
       "    <tr>\n",
       "      <th id=\"T_b53a6_level0_row4\" class=\"row_heading level0 row4\" >model</th>\n",
       "      <td id=\"T_b53a6_row4_col0\" class=\"data row4 col0\" >9694</td>\n",
       "    </tr>\n",
       "    <tr>\n",
       "      <th id=\"T_b53a6_level0_row5\" class=\"row_heading level0 row5\" >kilometer</th>\n",
       "      <td id=\"T_b53a6_row5_col0\" class=\"data row5 col0\" >0</td>\n",
       "    </tr>\n",
       "    <tr>\n",
       "      <th id=\"T_b53a6_level0_row6\" class=\"row_heading level0 row6\" >fuel_type</th>\n",
       "      <td id=\"T_b53a6_row6_col0\" class=\"data row6 col0\" >13154</td>\n",
       "    </tr>\n",
       "    <tr>\n",
       "      <th id=\"T_b53a6_level0_row7\" class=\"row_heading level0 row7\" >brand</th>\n",
       "      <td id=\"T_b53a6_row7_col0\" class=\"data row7 col0\" >0</td>\n",
       "    </tr>\n",
       "    <tr>\n",
       "      <th id=\"T_b53a6_level0_row8\" class=\"row_heading level0 row8\" >repaired</th>\n",
       "      <td id=\"T_b53a6_row8_col0\" class=\"data row8 col0\" >0</td>\n",
       "    </tr>\n",
       "    <tr>\n",
       "      <th id=\"T_b53a6_level0_row9\" class=\"row_heading level0 row9\" >age</th>\n",
       "      <td id=\"T_b53a6_row9_col0\" class=\"data row9 col0\" >0</td>\n",
       "    </tr>\n",
       "    <tr>\n",
       "      <th id=\"T_b53a6_level0_row10\" class=\"row_heading level0 row10\" >km_per_year</th>\n",
       "      <td id=\"T_b53a6_row10_col0\" class=\"data row10 col0\" >0</td>\n",
       "    </tr>\n",
       "  </tbody>\n",
       "</table>\n"
      ],
      "text/plain": [
       "<pandas.io.formats.style.Styler at 0x22996d19e80>"
      ]
     },
     "execution_count": 58,
     "metadata": {},
     "output_type": "execute_result"
    }
   ],
   "source": [
    "print('Количество пропусков в данных')\n",
    "pd.DataFrame(round(data.isna().sum(),)).style.background_gradient()"
   ]
  },
  {
   "cell_type": "code",
   "execution_count": 59,
   "metadata": {},
   "outputs": [
    {
     "data": {
      "image/png": "[encoded data removed]",
      "text/plain": [
       "<Figure size 936x288 with 2 Axes>"
      ]
     },
     "metadata": {},
     "output_type": "display_data"
    },
    {
     "data": {
      "image/png": "[encoded data removed]",
      "text/plain": [
       "<Figure size 936x288 with 2 Axes>"
      ]
     },
     "metadata": {},
     "output_type": "display_data"
    },
    {
     "data": {
      "image/png": "[encoded data removed]",
      "text/plain": [
       "<Figure size 936x288 with 2 Axes>"
      ]
     },
     "metadata": {},
     "output_type": "display_data"
    }
   ],
   "source": [
    "# построим распределение признака\n",
    "for item in ['vehicle_type', 'gearbox', 'fuel_type']:\n",
    "    df_item = pd.DataFrame(data[item].value_counts())\n",
    "    fig, axs = plt.subplots(1, 2, figsize=(13,4))\n",
    "    fig. suptitle(f'Распределение признака \"{item}\"')\n",
    "    axs[0].pie(df_item[item], \n",
    "               labels= df_item.index, \n",
    "               autopct='%.0f%%')\n",
    "    sns.countplot(data=data, x=item, ax=axs[1])\n",
    "    plt.show()"
   ]
  },
  {
   "cell_type": "markdown",
   "metadata": {},
   "source": [
    "Значения признаков `vehicle_type`, `gearbox`, `fuel_type` соответствуют действительным характеристикам для авто.\n"
   ]
  },
  {
   "cell_type": "code",
   "execution_count": 60,
   "metadata": {},
   "outputs": [],
   "source": [
    "data_brand = (data.\n",
    "              pivot_table(index='brand', values='model', aggfunc='count').\n",
    "              reset_index().\n",
    "              sort_values(by='model', ascending=False).\n",
    "              head(10))"
   ]
  },
  {
   "cell_type": "code",
   "execution_count": 62,
   "metadata": {},
   "outputs": [
    {
     "data": {
      "image/png": "[encoded data removed]",
      "text/plain": [
       "<Figure size 864x432 with 1 Axes>"
      ]
     },
     "metadata": {},
     "output_type": "display_data"
    }
   ],
   "source": [
    "plt.figure(figsize=(12,6))\n",
    "plt.pie(x=data_brand['model'], labels= data_brand['brand'], autopct='%.0f%%');\n",
    "plt.title('Распределение ТОП-10 брендов');\n",
    "plt.show()"
   ]
  },
  {
   "cell_type": "markdown",
   "metadata": {},
   "source": [
    "По распределению данных можно сделать выводы:\n",
    "* самый популярный автомобильный бренд Volkswagen\n",
    "* самый распрастраненный вид топлива - бензин\n",
    "* почти 80% автомоблей с автоматической КПП\n",
    "* наиболее популярные типы авто - седан и \"малолитражки\".\n",
    "\n",
    "Таким образом, мы имеет дело с объективными данными.\n",
    "Осталось решить судьбу оставшихся пропусков."
   ]
  },
  {
   "cell_type": "markdown",
   "metadata": {},
   "source": [
    "Начнем с признака `model`.\n",
    "\n",
    "Заполним в несколько этапов:\n",
    "* наиболее частым значением в рамках бренда и мощности.\n",
    "* в рамках бренда\n",
    "* значением `unknown`"
   ]
  },
  {
   "cell_type": "code",
   "execution_count": 63,
   "metadata": {},
   "outputs": [],
   "source": [
    "# заполними пропуски 1 этап\n",
    "data_grouped = data.groupby(['brand', 'power'])\n",
    "data = data_grouped.apply(add_mode_isna, 'model')"
   ]
  },
  {
   "cell_type": "code",
   "execution_count": 64,
   "metadata": {},
   "outputs": [],
   "source": [
    "# заполними пропуски 2 этап\n",
    "data_grouped = data.groupby(['brand'])\n",
    "data = data_grouped.apply(add_mode_isna, 'model')"
   ]
  },
  {
   "cell_type": "code",
   "execution_count": 65,
   "metadata": {},
   "outputs": [],
   "source": [
    "data['model'] = data['model'].fillna('unknown')"
   ]
  },
  {
   "cell_type": "code",
   "execution_count": 66,
   "metadata": {},
   "outputs": [
    {
     "name": "stdout",
     "output_type": "stream",
     "text": [
      "Количество пропусков в данных\n"
     ]
    },
    {
     "data": {
      "text/html": [
       "<style type=\"text/css\">\n",
       "#T_b7e9a_row0_col0, #T_b7e9a_row3_col0, #T_b7e9a_row4_col0, #T_b7e9a_row5_col0, #T_b7e9a_row7_col0, #T_b7e9a_row8_col0, #T_b7e9a_row9_col0, #T_b7e9a_row10_col0 {\n",
       "  background-color: #fff7fb;\n",
       "  color: #000000;\n",
       "}\n",
       "#T_b7e9a_row1_col0 {\n",
       "  background-color: #75a9cf;\n",
       "  color: #f1f1f1;\n",
       "}\n",
       "#T_b7e9a_row2_col0 {\n",
       "  background-color: #adc1dd;\n",
       "  color: #000000;\n",
       "}\n",
       "#T_b7e9a_row6_col0 {\n",
       "  background-color: #023858;\n",
       "  color: #f1f1f1;\n",
       "}\n",
       "</style>\n",
       "<table id=\"T_b7e9a\">\n",
       "  <thead>\n",
       "    <tr>\n",
       "      <th class=\"blank level0\" >&nbsp;</th>\n",
       "      <th id=\"T_b7e9a_level0_col0\" class=\"col_heading level0 col0\" >0</th>\n",
       "    </tr>\n",
       "  </thead>\n",
       "  <tbody>\n",
       "    <tr>\n",
       "      <th id=\"T_b7e9a_level0_row0\" class=\"row_heading level0 row0\" >price</th>\n",
       "      <td id=\"T_b7e9a_row0_col0\" class=\"data row0 col0\" >0</td>\n",
       "    </tr>\n",
       "    <tr>\n",
       "      <th id=\"T_b7e9a_level0_row1\" class=\"row_heading level0 row1\" >vehicle_type</th>\n",
       "      <td id=\"T_b7e9a_row1_col0\" class=\"data row1 col0\" >6526</td>\n",
       "    </tr>\n",
       "    <tr>\n",
       "      <th id=\"T_b7e9a_level0_row2\" class=\"row_heading level0 row2\" >gearbox</th>\n",
       "      <td id=\"T_b7e9a_row2_col0\" class=\"data row2 col0\" >4662</td>\n",
       "    </tr>\n",
       "    <tr>\n",
       "      <th id=\"T_b7e9a_level0_row3\" class=\"row_heading level0 row3\" >power</th>\n",
       "      <td id=\"T_b7e9a_row3_col0\" class=\"data row3 col0\" >0</td>\n",
       "    </tr>\n",
       "    <tr>\n",
       "      <th id=\"T_b7e9a_level0_row4\" class=\"row_heading level0 row4\" >model</th>\n",
       "      <td id=\"T_b7e9a_row4_col0\" class=\"data row4 col0\" >0</td>\n",
       "    </tr>\n",
       "    <tr>\n",
       "      <th id=\"T_b7e9a_level0_row5\" class=\"row_heading level0 row5\" >kilometer</th>\n",
       "      <td id=\"T_b7e9a_row5_col0\" class=\"data row5 col0\" >0</td>\n",
       "    </tr>\n",
       "    <tr>\n",
       "      <th id=\"T_b7e9a_level0_row6\" class=\"row_heading level0 row6\" >fuel_type</th>\n",
       "      <td id=\"T_b7e9a_row6_col0\" class=\"data row6 col0\" >13154</td>\n",
       "    </tr>\n",
       "    <tr>\n",
       "      <th id=\"T_b7e9a_level0_row7\" class=\"row_heading level0 row7\" >brand</th>\n",
       "      <td id=\"T_b7e9a_row7_col0\" class=\"data row7 col0\" >0</td>\n",
       "    </tr>\n",
       "    <tr>\n",
       "      <th id=\"T_b7e9a_level0_row8\" class=\"row_heading level0 row8\" >repaired</th>\n",
       "      <td id=\"T_b7e9a_row8_col0\" class=\"data row8 col0\" >0</td>\n",
       "    </tr>\n",
       "    <tr>\n",
       "      <th id=\"T_b7e9a_level0_row9\" class=\"row_heading level0 row9\" >age</th>\n",
       "      <td id=\"T_b7e9a_row9_col0\" class=\"data row9 col0\" >0</td>\n",
       "    </tr>\n",
       "    <tr>\n",
       "      <th id=\"T_b7e9a_level0_row10\" class=\"row_heading level0 row10\" >km_per_year</th>\n",
       "      <td id=\"T_b7e9a_row10_col0\" class=\"data row10 col0\" >0</td>\n",
       "    </tr>\n",
       "  </tbody>\n",
       "</table>\n"
      ],
      "text/plain": [
       "<pandas.io.formats.style.Styler at 0x22995accb20>"
      ]
     },
     "execution_count": 66,
     "metadata": {},
     "output_type": "execute_result"
    }
   ],
   "source": [
    "print('Количество пропусков в данных')\n",
    "pd.DataFrame(round(data.isna().sum(),)).style.background_gradient()"
   ]
  },
  {
   "cell_type": "markdown",
   "metadata": {},
   "source": [
    "С остальными признаками поступим аналогично. Подбирать наиболее частое значение будем в рамках бренда и модели:"
   ]
  },
  {
   "cell_type": "code",
   "execution_count": 67,
   "metadata": {},
   "outputs": [],
   "source": [
    "# завернем все в цикл, чтобы не копипастить код\n",
    "for item in ['vehicle_type', 'gearbox', 'fuel_type']:\n",
    "    data_grouped = data.groupby(['brand', 'model'])\n",
    "    data = data_grouped.apply(add_mode_isna, item)"
   ]
  },
  {
   "cell_type": "code",
   "execution_count": 68,
   "metadata": {},
   "outputs": [
    {
     "name": "stdout",
     "output_type": "stream",
     "text": [
      "Количество пропусков в данных\n"
     ]
    },
    {
     "data": {
      "text/html": [
       "<style type=\"text/css\">\n",
       "#T_166d1_row0_col0, #T_166d1_row1_col0, #T_166d1_row2_col0, #T_166d1_row3_col0, #T_166d1_row4_col0, #T_166d1_row5_col0, #T_166d1_row6_col0, #T_166d1_row7_col0, #T_166d1_row8_col0, #T_166d1_row9_col0, #T_166d1_row10_col0 {\n",
       "  background-color: #fff7fb;\n",
       "  color: #000000;\n",
       "}\n",
       "</style>\n",
       "<table id=\"T_166d1\">\n",
       "  <thead>\n",
       "    <tr>\n",
       "      <th class=\"blank level0\" >&nbsp;</th>\n",
       "      <th id=\"T_166d1_level0_col0\" class=\"col_heading level0 col0\" >0</th>\n",
       "    </tr>\n",
       "  </thead>\n",
       "  <tbody>\n",
       "    <tr>\n",
       "      <th id=\"T_166d1_level0_row0\" class=\"row_heading level0 row0\" >price</th>\n",
       "      <td id=\"T_166d1_row0_col0\" class=\"data row0 col0\" >0</td>\n",
       "    </tr>\n",
       "    <tr>\n",
       "      <th id=\"T_166d1_level0_row1\" class=\"row_heading level0 row1\" >vehicle_type</th>\n",
       "      <td id=\"T_166d1_row1_col0\" class=\"data row1 col0\" >0</td>\n",
       "    </tr>\n",
       "    <tr>\n",
       "      <th id=\"T_166d1_level0_row2\" class=\"row_heading level0 row2\" >gearbox</th>\n",
       "      <td id=\"T_166d1_row2_col0\" class=\"data row2 col0\" >0</td>\n",
       "    </tr>\n",
       "    <tr>\n",
       "      <th id=\"T_166d1_level0_row3\" class=\"row_heading level0 row3\" >power</th>\n",
       "      <td id=\"T_166d1_row3_col0\" class=\"data row3 col0\" >0</td>\n",
       "    </tr>\n",
       "    <tr>\n",
       "      <th id=\"T_166d1_level0_row4\" class=\"row_heading level0 row4\" >model</th>\n",
       "      <td id=\"T_166d1_row4_col0\" class=\"data row4 col0\" >0</td>\n",
       "    </tr>\n",
       "    <tr>\n",
       "      <th id=\"T_166d1_level0_row5\" class=\"row_heading level0 row5\" >kilometer</th>\n",
       "      <td id=\"T_166d1_row5_col0\" class=\"data row5 col0\" >0</td>\n",
       "    </tr>\n",
       "    <tr>\n",
       "      <th id=\"T_166d1_level0_row6\" class=\"row_heading level0 row6\" >fuel_type</th>\n",
       "      <td id=\"T_166d1_row6_col0\" class=\"data row6 col0\" >0</td>\n",
       "    </tr>\n",
       "    <tr>\n",
       "      <th id=\"T_166d1_level0_row7\" class=\"row_heading level0 row7\" >brand</th>\n",
       "      <td id=\"T_166d1_row7_col0\" class=\"data row7 col0\" >0</td>\n",
       "    </tr>\n",
       "    <tr>\n",
       "      <th id=\"T_166d1_level0_row8\" class=\"row_heading level0 row8\" >repaired</th>\n",
       "      <td id=\"T_166d1_row8_col0\" class=\"data row8 col0\" >0</td>\n",
       "    </tr>\n",
       "    <tr>\n",
       "      <th id=\"T_166d1_level0_row9\" class=\"row_heading level0 row9\" >age</th>\n",
       "      <td id=\"T_166d1_row9_col0\" class=\"data row9 col0\" >0</td>\n",
       "    </tr>\n",
       "    <tr>\n",
       "      <th id=\"T_166d1_level0_row10\" class=\"row_heading level0 row10\" >km_per_year</th>\n",
       "      <td id=\"T_166d1_row10_col0\" class=\"data row10 col0\" >0</td>\n",
       "    </tr>\n",
       "  </tbody>\n",
       "</table>\n"
      ],
      "text/plain": [
       "<pandas.io.formats.style.Styler at 0x22996e36c40>"
      ]
     },
     "execution_count": 68,
     "metadata": {},
     "output_type": "execute_result"
    }
   ],
   "source": [
    "# проверка пропусков\n",
    "print('Количество пропусков в данных')\n",
    "pd.DataFrame(round(data.isna().sum(),)).style.background_gradient()"
   ]
  },
  {
   "cell_type": "markdown",
   "metadata": {},
   "source": [
    "Проверим корреляцию признаков:"
   ]
  },
  {
   "cell_type": "code",
   "execution_count": 69,
   "metadata": {},
   "outputs": [
    {
     "name": "stdout",
     "output_type": "stream",
     "text": [
      "interval columns not set, guessing: ['price', 'power', 'kilometer', 'age', 'km_per_year']\n"
     ]
    },
    {
     "data": {
      "image/png": "[encoded data removed]",
      "text/plain": [
       "<Figure size 864x720 with 2 Axes>"
      ]
     },
     "metadata": {},
     "output_type": "display_data"
    }
   ],
   "source": [
    "# визуализируем матрицу корреляции\n",
    "phik_overview = data.phik_matrix()\n",
    "mask = np.triu(np.ones_like(phik_overview, dtype=bool));\n",
    "plt.figure(figsize=(12,10))\n",
    "sns.heatmap(phik_overview, mask=mask,\n",
    "          annot=True, \n",
    "          fmt=\".2f\", \n",
    "          linewidth=.5).set(title=r'Матрица корреляции признаков $\\phi_K$');\n",
    "plt.show();"
   ]
  },
  {
   "cell_type": "markdown",
   "metadata": {},
   "source": [
    "**Вывод:**\n",
    "\n",
    "на этапе произведены следующие шаги:\n",
    "* загружены и исследованы данные\n",
    "* осуществлено удаление аномалий и заполнение пропусков\n",
    "* созданы дополнительные признаки и удалены неиформативные\n",
    "* матрица корреляции свидетельсвует о наличии зависимости между признаками:\n",
    "   * `brand` и `model`\n",
    "   * `vehicle_type` и `model`\n",
    "* целевой признак не имеет сильной корреляции ни с одним из признаков, более значительное влияние на цену, судя по матрице корреляции оказывают\n",
    "   * `age` и `model`"
   ]
  },
  {
   "cell_type": "markdown",
   "metadata": {
    "id": "-002QiRjXwbH"
   },
   "source": [
    "## Построение модели"
   ]
  },
  {
   "cell_type": "markdown",
   "metadata": {},
   "source": [
    "На этом этапе нам предстоит выполнить следующие шаги:\n",
    "\n",
    "1. подготовка выборок для обучения и тестирования моделей\n",
    "2. обучение разных моделей для задачи регрессии и подбор гиперпараметров:\n",
    "   * `Linear`\n",
    "   * `Ridge`\n",
    "   * `DecisionTree`\n",
    "   * `LightGBM`, \n",
    "   * `CatBoost` \n",
    "3. Анализ времени обучения, предсказания и качества моделей.\n",
    "4. Выбор лучшей модели по критериям заказчика."
   ]
  },
  {
   "cell_type": "markdown",
   "metadata": {},
   "source": [
    "### Подготовка выборок"
   ]
  },
  {
   "cell_type": "code",
   "execution_count": 70,
   "metadata": {},
   "outputs": [],
   "source": [
    "# подготовим фичи и таргеты\n",
    "features = data.drop('price', axis=1)\n",
    "target = data['price']"
   ]
  },
  {
   "cell_type": "code",
   "execution_count": 71,
   "metadata": {},
   "outputs": [
    {
     "name": "stdout",
     "output_type": "stream",
     "text": [
      "Размер исходных данных: 286627\n",
      "Размер обучающей выборки: 214970\n",
      "Размер тестовой выборки: 71657\n"
     ]
    }
   ],
   "source": [
    "# разобьем выборку на обучающую и тестовую\n",
    "features_train, features_test, target_train, target_test = train_test_split(\n",
    "    features, target, test_size=0.25, random_state=RS)\n",
    "  \n",
    "# проверим размеры выборок\n",
    "print(f'Размер исходных данных: {data.shape[0]}')\n",
    "print(f'Размер обучающей выборки: {features_train.shape[0]}')\n",
    "print(f'Размер тестовой выборки: {features_test.shape[0]}')"
   ]
  },
  {
   "cell_type": "markdown",
   "metadata": {},
   "source": [
    "Для оценки качества моделей по заданию используем метрику `RSME`, она позволит оценить эффективность предсказания цены в тех же единицах, что и целевой показатель. При этом значение метрики должно быть менее 2500."
   ]
  },
  {
   "cell_type": "code",
   "execution_count": 72,
   "metadata": {},
   "outputs": [],
   "source": [
    "# определяем признаки\n",
    "numerical_features = ['power', 'kilometer', 'age', 'km_per_year']\n",
    "categorical_features_low = ['vehicle_type', 'gearbox', 'fuel_type', 'repaired']\n",
    "categorical_features_higth = ['brand', 'model']"
   ]
  },
  {
   "cell_type": "code",
   "execution_count": 73,
   "metadata": {},
   "outputs": [],
   "source": [
    "# список для агрегации результатов\n",
    "list_best_params = []"
   ]
  },
  {
   "cell_type": "markdown",
   "metadata": {},
   "source": [
    "### Обучение моделей"
   ]
  },
  {
   "cell_type": "markdown",
   "metadata": {},
   "source": [
    "Начнем по традиции с линейных моделей:\n",
    "   * `Linear`\n",
    "   * `Ridge`\n",
    "\n",
    "Так как наши модели не умеют работать с категориальными признаками и чувствительны к масштабу числовых признаков проведем подготовку данных встроенными средства `Sklearn`\n",
    "   * кодирование категорий с помощью `OneHotEncoder`\n",
    "   * масштабирование числовых с помощью `StandartScaler`\n",
    "    \n",
    "Подбор гиперпараметров осуществим с помощью `GridSearchCV`.\n",
    "\n",
    "Чтобы избежать утечек данных все шаги завернем в конвеер -  `Pipeline`."
   ]
  },
  {
   "cell_type": "markdown",
   "metadata": {},
   "source": [
    "  #### LinearRegression"
   ]
  },
  {
   "cell_type": "code",
   "execution_count": 76,
   "metadata": {},
   "outputs": [],
   "source": [
    "# подберем для каждой модели оптимальные  гиперпараметры\n",
    "model_lr = LinearRegression()\n",
    "# гиперпараметры для поиска\n",
    "params_lr = {}"
   ]
  },
  {
   "cell_type": "code",
   "execution_count": 77,
   "metadata": {},
   "outputs": [
    {
     "name": "stdout",
     "output_type": "stream",
     "text": [
      "Fitting 3 folds for each of 1 candidates, totalling 3 fits\n"
     ]
    }
   ],
   "source": [
    "best_model(model_lr, params_lr, \n",
    "           features_train, target_train, \n",
    "           categorical_features_low, categorical_features_higth, numerical_features)"
   ]
  },
  {
   "cell_type": "code",
   "execution_count": 78,
   "metadata": {},
   "outputs": [
    {
     "data": {
      "text/html": [
       "<div>\n",
       "<style scoped>\n",
       "    .dataframe tbody tr th:only-of-type {\n",
       "        vertical-align: middle;\n",
       "    }\n",
       "\n",
       "    .dataframe tbody tr th {\n",
       "        vertical-align: top;\n",
       "    }\n",
       "\n",
       "    .dataframe thead th {\n",
       "        text-align: right;\n",
       "    }\n",
       "</style>\n",
       "<table border=\"1\" class=\"dataframe\">\n",
       "  <thead>\n",
       "    <tr style=\"text-align: right;\">\n",
       "      <th></th>\n",
       "      <th>model</th>\n",
       "      <th>model_params</th>\n",
       "      <th>RSME</th>\n",
       "      <th>time_search</th>\n",
       "      <th>time_fit</th>\n",
       "      <th>time_predict</th>\n",
       "    </tr>\n",
       "  </thead>\n",
       "  <tbody>\n",
       "    <tr>\n",
       "      <th>0</th>\n",
       "      <td>LinearRegression()</td>\n",
       "      <td>{}</td>\n",
       "      <td>2471.4599</td>\n",
       "      <td>0 days 00:00:04.412088</td>\n",
       "      <td>0 days 00:00:00.983507</td>\n",
       "      <td>0 days 00:00:00.424385</td>\n",
       "    </tr>\n",
       "  </tbody>\n",
       "</table>\n",
       "</div>"
      ],
      "text/plain": [
       "                model model_params      RSME            time_search               time_fit           time_predict\n",
       "0  LinearRegression()           {} 2471.4599 0 days 00:00:04.412088 0 days 00:00:00.983507 0 days 00:00:00.424385"
      ]
     },
     "metadata": {},
     "output_type": "display_data"
    }
   ],
   "source": [
    "print_result(list_best_params)"
   ]
  },
  {
   "cell_type": "markdown",
   "metadata": {},
   "source": [
    "`RSME` на дефолтных параметрах модели в допустимых заданием границах, но это только начало."
   ]
  },
  {
   "cell_type": "markdown",
   "metadata": {},
   "source": [
    "#### Ridge"
   ]
  },
  {
   "cell_type": "code",
   "execution_count": 79,
   "metadata": {},
   "outputs": [],
   "source": [
    "model_r = Ridge(random_state=RS)\n",
    "# гиперпараметры для поиска\n",
    "params_r = {#'model__alpha': [0.0001, 0.01, 0.1, 1],\n",
    "            'model__alpha': [0.1, 1],\n",
    "            #'model__solver': ['svd', 'lsqr', 'sparse_cg', 'sag']\n",
    "            'model__solver': ['svd', 'sag']}"
   ]
  },
  {
   "cell_type": "code",
   "execution_count": 80,
   "metadata": {
    "scrolled": true
   },
   "outputs": [
    {
     "name": "stdout",
     "output_type": "stream",
     "text": [
      "Fitting 3 folds for each of 16 candidates, totalling 48 fits\n"
     ]
    }
   ],
   "source": [
    "best_model(model_r, params_r,\n",
    "           features_train, target_train,\n",
    "           categorical_features_low, categorical_features_higth, numerical_features)"
   ]
  },
  {
   "cell_type": "code",
   "execution_count": 81,
   "metadata": {},
   "outputs": [
    {
     "data": {
      "text/html": [
       "<div>\n",
       "<style scoped>\n",
       "    .dataframe tbody tr th:only-of-type {\n",
       "        vertical-align: middle;\n",
       "    }\n",
       "\n",
       "    .dataframe tbody tr th {\n",
       "        vertical-align: top;\n",
       "    }\n",
       "\n",
       "    .dataframe thead th {\n",
       "        text-align: right;\n",
       "    }\n",
       "</style>\n",
       "<table border=\"1\" class=\"dataframe\">\n",
       "  <thead>\n",
       "    <tr style=\"text-align: right;\">\n",
       "      <th></th>\n",
       "      <th>model</th>\n",
       "      <th>model_params</th>\n",
       "      <th>RSME</th>\n",
       "      <th>time_search</th>\n",
       "      <th>time_fit</th>\n",
       "      <th>time_predict</th>\n",
       "    </tr>\n",
       "  </thead>\n",
       "  <tbody>\n",
       "    <tr>\n",
       "      <th>0</th>\n",
       "      <td>LinearRegression()</td>\n",
       "      <td>{}</td>\n",
       "      <td>2471.4599</td>\n",
       "      <td>0 days 00:00:04.412088</td>\n",
       "      <td>0 days 00:00:00.983507</td>\n",
       "      <td>0 days 00:00:00.424385</td>\n",
       "    </tr>\n",
       "    <tr>\n",
       "      <th>1</th>\n",
       "      <td>Ridge(alpha=1, random_state=2023, solver='svd')</td>\n",
       "      <td>{'model__alpha': 1, 'model__solver': 'svd'}</td>\n",
       "      <td>2471.4585</td>\n",
       "      <td>0 days 00:01:43.274240</td>\n",
       "      <td>0 days 00:00:01.047127</td>\n",
       "      <td>0 days 00:00:00.423387</td>\n",
       "    </tr>\n",
       "  </tbody>\n",
       "</table>\n",
       "</div>"
      ],
      "text/plain": [
       "                                             model                                 model_params      RSME            time_search               time_fit           time_predict\n",
       "0                               LinearRegression()                                           {} 2471.4599 0 days 00:00:04.412088 0 days 00:00:00.983507 0 days 00:00:00.424385\n",
       "1  Ridge(alpha=1, random_state=2023, solver='svd')  {'model__alpha': 1, 'model__solver': 'svd'} 2471.4585 0 days 00:01:43.274240 0 days 00:00:01.047127 0 days 00:00:00.423387"
      ]
     },
     "metadata": {},
     "output_type": "display_data"
    }
   ],
   "source": [
    "# табличка с оптимизированными гиперпараметрами\n",
    "print_result(list_best_params)"
   ]
  },
  {
   "cell_type": "markdown",
   "metadata": {},
   "source": [
    "Подбор гиперпараметров не улучших значение метрики на модели `Ridge` по сравнению с `LinearRegression` с параметрами по умолчанию."
   ]
  },
  {
   "cell_type": "markdown",
   "metadata": {},
   "source": [
    "#### DecisionTreeRegressor"
   ]
  },
  {
   "cell_type": "markdown",
   "metadata": {},
   "source": [
    "Проверим как себя поведет базовая \"деревянная\" модель"
   ]
  },
  {
   "cell_type": "code",
   "execution_count": 82,
   "metadata": {},
   "outputs": [],
   "source": [
    "model_dt = DecisionTreeRegressor(random_state=RS)\n",
    "# гиперпараметры для поиска\n",
    "params_dt = {'model__max_depth': [None] + [i for i in range(6, 8)]}"
   ]
  },
  {
   "cell_type": "code",
   "execution_count": 83,
   "metadata": {},
   "outputs": [
    {
     "name": "stdout",
     "output_type": "stream",
     "text": [
      "Fitting 3 folds for each of 3 candidates, totalling 9 fits\n"
     ]
    }
   ],
   "source": [
    "best_model(model_dt, params_dt, \n",
    "           features_train, target_train, \n",
    "           categorical_features_low, categorical_features_higth, numerical_features)"
   ]
  },
  {
   "cell_type": "code",
   "execution_count": 84,
   "metadata": {},
   "outputs": [
    {
     "data": {
      "text/html": [
       "<div>\n",
       "<style scoped>\n",
       "    .dataframe tbody tr th:only-of-type {\n",
       "        vertical-align: middle;\n",
       "    }\n",
       "\n",
       "    .dataframe tbody tr th {\n",
       "        vertical-align: top;\n",
       "    }\n",
       "\n",
       "    .dataframe thead th {\n",
       "        text-align: right;\n",
       "    }\n",
       "</style>\n",
       "<table border=\"1\" class=\"dataframe\">\n",
       "  <thead>\n",
       "    <tr style=\"text-align: right;\">\n",
       "      <th></th>\n",
       "      <th>model</th>\n",
       "      <th>model_params</th>\n",
       "      <th>RSME</th>\n",
       "      <th>time_search</th>\n",
       "      <th>time_fit</th>\n",
       "      <th>time_predict</th>\n",
       "    </tr>\n",
       "  </thead>\n",
       "  <tbody>\n",
       "    <tr>\n",
       "      <th>0</th>\n",
       "      <td>LinearRegression()</td>\n",
       "      <td>{}</td>\n",
       "      <td>2471.4599</td>\n",
       "      <td>0 days 00:00:04.412088</td>\n",
       "      <td>0 days 00:00:00.983507</td>\n",
       "      <td>0 days 00:00:00.424385</td>\n",
       "    </tr>\n",
       "    <tr>\n",
       "      <th>1</th>\n",
       "      <td>Ridge(alpha=1, random_state=2023, solver='svd')</td>\n",
       "      <td>{'model__alpha': 1, 'model__solver': 'svd'}</td>\n",
       "      <td>2471.4585</td>\n",
       "      <td>0 days 00:01:43.274240</td>\n",
       "      <td>0 days 00:00:01.047127</td>\n",
       "      <td>0 days 00:00:00.423387</td>\n",
       "    </tr>\n",
       "    <tr>\n",
       "      <th>2</th>\n",
       "      <td>DecisionTreeRegressor(random_state=2023)</td>\n",
       "      <td>{'model__max_depth': None}</td>\n",
       "      <td>1844.3033</td>\n",
       "      <td>0 days 00:00:05.425255</td>\n",
       "      <td>0 days 00:00:02.153533</td>\n",
       "      <td>0 days 00:00:00.480138</td>\n",
       "    </tr>\n",
       "  </tbody>\n",
       "</table>\n",
       "</div>"
      ],
      "text/plain": [
       "                                             model                                 model_params      RSME            time_search               time_fit           time_predict\n",
       "0                               LinearRegression()                                           {} 2471.4599 0 days 00:00:04.412088 0 days 00:00:00.983507 0 days 00:00:00.424385\n",
       "1  Ridge(alpha=1, random_state=2023, solver='svd')  {'model__alpha': 1, 'model__solver': 'svd'} 2471.4585 0 days 00:01:43.274240 0 days 00:00:01.047127 0 days 00:00:00.423387\n",
       "2         DecisionTreeRegressor(random_state=2023)                   {'model__max_depth': None} 1844.3033 0 days 00:00:05.425255 0 days 00:00:02.153533 0 days 00:00:00.480138"
      ]
     },
     "metadata": {},
     "output_type": "display_data"
    }
   ],
   "source": [
    "# табличка с оптимизированными гиперпараметрами\n",
    "print_result(list_best_params)"
   ]
  },
  {
   "cell_type": "markdown",
   "metadata": {},
   "source": [
    "Результат уже получше. Посмотрим, что нам выдадут бустинги:\n",
    "   * `LGBMRegressor`\n",
    "   * `CatBoostRegressor`"
   ]
  },
  {
   "cell_type": "markdown",
   "metadata": {},
   "source": [
    "#### LGBMRegressor"
   ]
  },
  {
   "cell_type": "markdown",
   "metadata": {},
   "source": [
    "Для минимизации времени подбора параметров, ограничимся наиболее значимыми из них:"
   ]
  },
  {
   "cell_type": "code",
   "execution_count": 85,
   "metadata": {},
   "outputs": [],
   "source": [
    "model_lgbm = LGBMRegressor(random_state=RS)\n",
    "params_lgbm = {\n",
    "    #'model__n_estimators': [1000, 2000, 2500]\n",
    "    'model__n_estimators': [1500, 2500],\n",
    "    'model__learning_rate': [0.1, 0.2]\n",
    "}"
   ]
  },
  {
   "cell_type": "code",
   "execution_count": 86,
   "metadata": {},
   "outputs": [
    {
     "name": "stdout",
     "output_type": "stream",
     "text": [
      "Fitting 3 folds for each of 4 candidates, totalling 12 fits\n"
     ]
    }
   ],
   "source": [
    "best_model(model_lgbm, params_lgbm, \n",
    "           features_train, target_train, \n",
    "           categorical_features_low, categorical_features_higth, numerical_features)"
   ]
  },
  {
   "cell_type": "code",
   "execution_count": 87,
   "metadata": {},
   "outputs": [
    {
     "data": {
      "text/html": [
       "<div>\n",
       "<style scoped>\n",
       "    .dataframe tbody tr th:only-of-type {\n",
       "        vertical-align: middle;\n",
       "    }\n",
       "\n",
       "    .dataframe tbody tr th {\n",
       "        vertical-align: top;\n",
       "    }\n",
       "\n",
       "    .dataframe thead th {\n",
       "        text-align: right;\n",
       "    }\n",
       "</style>\n",
       "<table border=\"1\" class=\"dataframe\">\n",
       "  <thead>\n",
       "    <tr style=\"text-align: right;\">\n",
       "      <th></th>\n",
       "      <th>model</th>\n",
       "      <th>model_params</th>\n",
       "      <th>RSME</th>\n",
       "      <th>time_search</th>\n",
       "      <th>time_fit</th>\n",
       "      <th>time_predict</th>\n",
       "    </tr>\n",
       "  </thead>\n",
       "  <tbody>\n",
       "    <tr>\n",
       "      <th>0</th>\n",
       "      <td>LinearRegression()</td>\n",
       "      <td>{}</td>\n",
       "      <td>2471.4599</td>\n",
       "      <td>0 days 00:00:04.412088</td>\n",
       "      <td>0 days 00:00:00.983507</td>\n",
       "      <td>0 days 00:00:00.424385</td>\n",
       "    </tr>\n",
       "    <tr>\n",
       "      <th>1</th>\n",
       "      <td>Ridge(alpha=1, random_state=2023, solver='svd')</td>\n",
       "      <td>{'model__alpha': 1, 'model__solver': 'svd'}</td>\n",
       "      <td>2471.4585</td>\n",
       "      <td>0 days 00:01:43.274240</td>\n",
       "      <td>0 days 00:00:01.047127</td>\n",
       "      <td>0 days 00:00:00.423387</td>\n",
       "    </tr>\n",
       "    <tr>\n",
       "      <th>2</th>\n",
       "      <td>DecisionTreeRegressor(random_state=2023)</td>\n",
       "      <td>{'model__max_depth': None}</td>\n",
       "      <td>1844.3033</td>\n",
       "      <td>0 days 00:00:05.425255</td>\n",
       "      <td>0 days 00:00:02.153533</td>\n",
       "      <td>0 days 00:00:00.480138</td>\n",
       "    </tr>\n",
       "    <tr>\n",
       "      <th>3</th>\n",
       "      <td>LGBMRegressor(n_estimators=2500, random_state=2023)</td>\n",
       "      <td>{'model__learning_rate': 0.1, 'model__n_estimators': 2500}</td>\n",
       "      <td>1454.2807</td>\n",
       "      <td>0 days 00:01:09.435192</td>\n",
       "      <td>0 days 00:00:12.898005</td>\n",
       "      <td>0 days 00:00:02.977216</td>\n",
       "    </tr>\n",
       "  </tbody>\n",
       "</table>\n",
       "</div>"
      ],
      "text/plain": [
       "                                                 model                                                model_params      RSME            time_search               time_fit           time_predict\n",
       "0                                   LinearRegression()                                                          {} 2471.4599 0 days 00:00:04.412088 0 days 00:00:00.983507 0 days 00:00:00.424385\n",
       "1      Ridge(alpha=1, random_state=2023, solver='svd')                 {'model__alpha': 1, 'model__solver': 'svd'} 2471.4585 0 days 00:01:43.274240 0 days 00:00:01.047127 0 days 00:00:00.423387\n",
       "2             DecisionTreeRegressor(random_state=2023)                                  {'model__max_depth': None} 1844.3033 0 days 00:00:05.425255 0 days 00:00:02.153533 0 days 00:00:00.480138\n",
       "3  LGBMRegressor(n_estimators=2500, random_state=2023)  {'model__learning_rate': 0.1, 'model__n_estimators': 2500} 1454.2807 0 days 00:01:09.435192 0 days 00:00:12.898005 0 days 00:00:02.977216"
      ]
     },
     "metadata": {},
     "output_type": "display_data"
    }
   ],
   "source": [
    "# табличка с оптимизированными гиперпараметрами\n",
    "print_result(list_best_params)"
   ]
  },
  {
   "cell_type": "markdown",
   "metadata": {},
   "source": [
    "Целевая метрика значительно улучшилась, но вот время обучения выросло."
   ]
  },
  {
   "cell_type": "markdown",
   "metadata": {},
   "source": [
    "#### CatBoostRegressor"
   ]
  },
  {
   "cell_type": "markdown",
   "metadata": {},
   "source": [
    "На десерт!"
   ]
  },
  {
   "cell_type": "markdown",
   "metadata": {},
   "source": [
    "С этим бустингом используем родной метод поиска по сетке из библиотеки CatBoost , да еще и графики красивые строит!"
   ]
  },
  {
   "cell_type": "markdown",
   "metadata": {},
   "source": [
    "<span class=\"mark\"><span class=\"mark\">Warning</span>\n",
    "\n",
    "\"Do not use one-hot encoding during preprocessing. This affects both the training speed and the resulting quality\".</span>"
   ]
  },
  {
   "cell_type": "markdown",
   "metadata": {},
   "source": [
    "Последуем предупреждению и не будем делать OHE. Подадим, как везде рекомендую в модель наши необработанные данные."
   ]
  },
  {
   "cell_type": "code",
   "execution_count": 88,
   "metadata": {},
   "outputs": [],
   "source": [
    "# создадим модель\n",
    "model_cb = CatBoostRegressor(random_state=RS, \n",
    "                             loss_function='RMSE',\n",
    "                             verbose=False,\n",
    "                             thread_count=-1)\n",
    "pool_train = Pool(features_train, target_train, \n",
    "                  cat_features=(categorical_features_low + categorical_features_higth))"
   ]
  },
  {
   "cell_type": "markdown",
   "metadata": {},
   "source": [
    "В ходе работы над проектом, перебирались неоднократно параметры, ниже для поиска оставлены максимально приближенные к оптимальным.\n",
    "\n",
    "С помощью встроенных методом поиска гиперпараметров, а также их визуалиацией, был сделан вывод, что приглубине на итоговое зачение `RSME` лучше влияет увеличение числа итераций, чем углубление дерева.\n",
    "\n",
    "Визаулизация явно показывает, что приувеличении максимальной глубины дерева алгоритм переобучается, и разрыв между обучающей выборкой и тестовой растет."
   ]
  },
  {
   "cell_type": "markdown",
   "metadata": {},
   "source": [
    "   **график RSME (на трейне и тесте)**\n"
   ]
  },
  {
   "attachments": {
    "image.png": {
     "image/png": "[encoded data removed]"
    }
   },
   "cell_type": "markdown",
   "metadata": {},
   "source": [
    "![image.png](attachment:image.png)\n"
   ]
  },
  {
   "cell_type": "code",
   "execution_count": 89,
   "metadata": {},
   "outputs": [],
   "source": [
    "# # # гиперпараметры для поиска\n",
    "# params_cb = {'iterations':[500, 1000],\n",
    "#              'learning_rate': [0.1],\n",
    "#              'depth': [8, 10],\n",
    "#              'l2_leaf_reg': [9]\n",
    "#             }\n",
    "# # гиперпараметры для поиска - итоговые, чтобы ускорить\n",
    "params_cb = {'iterations':[1000],\n",
    "             'learning_rate': [0.1],\n",
    "             'depth': [10],\n",
    "             'l2_leaf_reg': [9]\n",
    "            }"
   ]
  },
  {
   "cell_type": "code",
   "execution_count": 90,
   "metadata": {},
   "outputs": [
    {
     "data": {
      "application/vnd.jupyter.widget-view+json": {
       "model_id": "3c54a7892605487f951b894d1251fc94",
       "version_major": 2,
       "version_minor": 0
      },
      "text/plain": [
       "MetricVisualizer(layout=Layout(align_self='stretch', height='500px'))"
      ]
     },
     "metadata": {},
     "output_type": "display_data"
    },
    {
     "name": "stdout",
     "output_type": "stream",
     "text": [
      "\n",
      "bestTest = 1466.359326\n",
      "bestIteration = 999\n",
      "\n",
      "0:\tloss: 1466.3593263\tbest: 1466.3593263 (0)\ttotal: 3m 58s\tremaining: 0us\n",
      "Estimating final quality...\n",
      "Training on fold [0/3]\n",
      "\n",
      "bestTest = 1485.998965\n",
      "bestIteration = 997\n",
      "\n",
      "Training on fold [1/3]\n",
      "\n",
      "bestTest = 1453.44095\n",
      "bestIteration = 996\n",
      "\n",
      "Training on fold [2/3]\n",
      "\n",
      "bestTest = 1467.244098\n",
      "bestIteration = 996\n",
      "\n"
     ]
    }
   ],
   "source": [
    "# # подброб гиперпараметров\n",
    "time_start = dt.now()\n",
    "search_cb = model_cb.randomized_search(params_cb,\n",
    "                                       pool_train,\n",
    "                                       plot=True)\n",
    "time_search = dt.now() - time_start"
   ]
  },
  {
   "cell_type": "code",
   "execution_count": 91,
   "metadata": {},
   "outputs": [
    {
     "data": {
      "text/html": [
       "<div>\n",
       "<style scoped>\n",
       "    .dataframe tbody tr th:only-of-type {\n",
       "        vertical-align: middle;\n",
       "    }\n",
       "\n",
       "    .dataframe tbody tr th {\n",
       "        vertical-align: top;\n",
       "    }\n",
       "\n",
       "    .dataframe thead th {\n",
       "        text-align: right;\n",
       "    }\n",
       "</style>\n",
       "<table border=\"1\" class=\"dataframe\">\n",
       "  <thead>\n",
       "    <tr style=\"text-align: right;\">\n",
       "      <th></th>\n",
       "      <th>iterations</th>\n",
       "      <th>test-RMSE-mean</th>\n",
       "      <th>test-RMSE-std</th>\n",
       "      <th>train-RMSE-mean</th>\n",
       "      <th>train-RMSE-std</th>\n",
       "    </tr>\n",
       "  </thead>\n",
       "  <tbody>\n",
       "    <tr>\n",
       "      <th>0</th>\n",
       "      <td>0</td>\n",
       "      <td>6146.7504</td>\n",
       "      <td>18.9889</td>\n",
       "      <td>6145.1988</td>\n",
       "      <td>5.7916</td>\n",
       "    </tr>\n",
       "    <tr>\n",
       "      <th>1</th>\n",
       "      <td>1</td>\n",
       "      <td>5631.7704</td>\n",
       "      <td>16.5493</td>\n",
       "      <td>5628.6463</td>\n",
       "      <td>7.0948</td>\n",
       "    </tr>\n",
       "    <tr>\n",
       "      <th>2</th>\n",
       "      <td>2</td>\n",
       "      <td>5172.8077</td>\n",
       "      <td>15.3519</td>\n",
       "      <td>5169.2754</td>\n",
       "      <td>7.3356</td>\n",
       "    </tr>\n",
       "    <tr>\n",
       "      <th>3</th>\n",
       "      <td>3</td>\n",
       "      <td>4765.1287</td>\n",
       "      <td>13.7135</td>\n",
       "      <td>4761.1408</td>\n",
       "      <td>7.3634</td>\n",
       "    </tr>\n",
       "    <tr>\n",
       "      <th>4</th>\n",
       "      <td>4</td>\n",
       "      <td>4396.7157</td>\n",
       "      <td>10.9991</td>\n",
       "      <td>4391.5861</td>\n",
       "      <td>9.3173</td>\n",
       "    </tr>\n",
       "    <tr>\n",
       "      <th>...</th>\n",
       "      <td>...</td>\n",
       "      <td>...</td>\n",
       "      <td>...</td>\n",
       "      <td>...</td>\n",
       "      <td>...</td>\n",
       "    </tr>\n",
       "    <tr>\n",
       "      <th>995</th>\n",
       "      <td>995</td>\n",
       "      <td>1468.9898</td>\n",
       "      <td>16.3487</td>\n",
       "      <td>1281.6259</td>\n",
       "      <td>6.0431</td>\n",
       "    </tr>\n",
       "    <tr>\n",
       "      <th>996</th>\n",
       "      <td>996</td>\n",
       "      <td>1468.9226</td>\n",
       "      <td>16.3854</td>\n",
       "      <td>1281.4256</td>\n",
       "      <td>6.0240</td>\n",
       "    </tr>\n",
       "    <tr>\n",
       "      <th>997</th>\n",
       "      <td>997</td>\n",
       "      <td>1468.9117</td>\n",
       "      <td>16.3191</td>\n",
       "      <td>1281.3134</td>\n",
       "      <td>6.1346</td>\n",
       "    </tr>\n",
       "    <tr>\n",
       "      <th>998</th>\n",
       "      <td>998</td>\n",
       "      <td>1468.9249</td>\n",
       "      <td>16.3203</td>\n",
       "      <td>1281.1726</td>\n",
       "      <td>6.1380</td>\n",
       "    </tr>\n",
       "    <tr>\n",
       "      <th>999</th>\n",
       "      <td>999</td>\n",
       "      <td>1468.9262</td>\n",
       "      <td>16.3251</td>\n",
       "      <td>1281.0228</td>\n",
       "      <td>6.0512</td>\n",
       "    </tr>\n",
       "  </tbody>\n",
       "</table>\n",
       "<p>1000 rows × 5 columns</p>\n",
       "</div>"
      ],
      "text/plain": [
       "     iterations  test-RMSE-mean  test-RMSE-std  train-RMSE-mean  train-RMSE-std\n",
       "0             0       6146.7504        18.9889        6145.1988          5.7916\n",
       "1             1       5631.7704        16.5493        5628.6463          7.0948\n",
       "2             2       5172.8077        15.3519        5169.2754          7.3356\n",
       "3             3       4765.1287        13.7135        4761.1408          7.3634\n",
       "4             4       4396.7157        10.9991        4391.5861          9.3173\n",
       "..          ...             ...            ...              ...             ...\n",
       "995         995       1468.9898        16.3487        1281.6259          6.0431\n",
       "996         996       1468.9226        16.3854        1281.4256          6.0240\n",
       "997         997       1468.9117        16.3191        1281.3134          6.1346\n",
       "998         998       1468.9249        16.3203        1281.1726          6.1380\n",
       "999         999       1468.9262        16.3251        1281.0228          6.0512\n",
       "\n",
       "[1000 rows x 5 columns]"
      ]
     },
     "execution_count": 91,
     "metadata": {},
     "output_type": "execute_result"
    }
   ],
   "source": [
    "pd.DataFrame(search_cb['cv_results'])"
   ]
  },
  {
   "cell_type": "code",
   "execution_count": 92,
   "metadata": {},
   "outputs": [],
   "source": [
    "# вычисляем время работы с лучшими параметрами\n",
    "time_start = dt.now()\n",
    "model_cb.fit(features_train, target_train, \n",
    "             cat_features=(categorical_features_low + categorical_features_higth))\n",
    "time_fit = (dt.now() - time_start)\n",
    "\n",
    "time_start = dt.now()\n",
    "model_cb.predict(features_train)\n",
    "time_predict = (dt.now() - time_start)"
   ]
  },
  {
   "cell_type": "code",
   "execution_count": 93,
   "metadata": {},
   "outputs": [],
   "source": [
    "list_best_params.append({'model': 'CatBoostRegressor()',\n",
    "                         'model_params': model_cb.get_params(),\n",
    "                         'RSME': model_cb.best_score_.get('learn').get('RMSE'),\n",
    "                         'time_search': time_search,\n",
    "                         'time_fit': time_fit,\n",
    "                         'time_predict': time_predict})"
   ]
  },
  {
   "cell_type": "code",
   "execution_count": 94,
   "metadata": {},
   "outputs": [
    {
     "data": {
      "text/html": [
       "<div>\n",
       "<style scoped>\n",
       "    .dataframe tbody tr th:only-of-type {\n",
       "        vertical-align: middle;\n",
       "    }\n",
       "\n",
       "    .dataframe tbody tr th {\n",
       "        vertical-align: top;\n",
       "    }\n",
       "\n",
       "    .dataframe thead th {\n",
       "        text-align: right;\n",
       "    }\n",
       "</style>\n",
       "<table border=\"1\" class=\"dataframe\">\n",
       "  <thead>\n",
       "    <tr style=\"text-align: right;\">\n",
       "      <th></th>\n",
       "      <th>model</th>\n",
       "      <th>model_params</th>\n",
       "      <th>RSME</th>\n",
       "      <th>time_search</th>\n",
       "      <th>time_fit</th>\n",
       "      <th>time_predict</th>\n",
       "    </tr>\n",
       "  </thead>\n",
       "  <tbody>\n",
       "    <tr>\n",
       "      <th>0</th>\n",
       "      <td>LinearRegression()</td>\n",
       "      <td>{}</td>\n",
       "      <td>2471.4599</td>\n",
       "      <td>0 days 00:00:04.412088</td>\n",
       "      <td>0 days 00:00:00.983507</td>\n",
       "      <td>0 days 00:00:00.424385</td>\n",
       "    </tr>\n",
       "    <tr>\n",
       "      <th>1</th>\n",
       "      <td>Ridge(alpha=1, random_state=2023, solver='svd')</td>\n",
       "      <td>{'model__alpha': 1, 'model__solver': 'svd'}</td>\n",
       "      <td>2471.4585</td>\n",
       "      <td>0 days 00:01:43.274240</td>\n",
       "      <td>0 days 00:00:01.047127</td>\n",
       "      <td>0 days 00:00:00.423387</td>\n",
       "    </tr>\n",
       "    <tr>\n",
       "      <th>2</th>\n",
       "      <td>DecisionTreeRegressor(random_state=2023)</td>\n",
       "      <td>{'model__max_depth': None}</td>\n",
       "      <td>1844.3033</td>\n",
       "      <td>0 days 00:00:05.425255</td>\n",
       "      <td>0 days 00:00:02.153533</td>\n",
       "      <td>0 days 00:00:00.480138</td>\n",
       "    </tr>\n",
       "    <tr>\n",
       "      <th>3</th>\n",
       "      <td>LGBMRegressor(n_estimators=2500, random_state=2023)</td>\n",
       "      <td>{'model__learning_rate': 0.1, 'model__n_estimators': 2500}</td>\n",
       "      <td>1454.2807</td>\n",
       "      <td>0 days 00:01:09.435192</td>\n",
       "      <td>0 days 00:00:12.898005</td>\n",
       "      <td>0 days 00:00:02.977216</td>\n",
       "    </tr>\n",
       "    <tr>\n",
       "      <th>4</th>\n",
       "      <td>CatBoostRegressor()</td>\n",
       "      <td>{'loss_function': 'RMSE', 'verbose': False, 'random_state': 2023, 'depth': 10, 'l2_leaf_reg': 9, 'iterations': 1000, 'learning_rate': 0.1}</td>\n",
       "      <td>1315.0692</td>\n",
       "      <td>0 days 00:19:32.315932</td>\n",
       "      <td>0 days 00:04:19.567244</td>\n",
       "      <td>0 days 00:00:01.210280</td>\n",
       "    </tr>\n",
       "  </tbody>\n",
       "</table>\n",
       "</div>"
      ],
      "text/plain": [
       "                                                 model                                                                                                                                model_params      RSME            time_search               time_fit           time_predict\n",
       "0                                   LinearRegression()                                                                                                                                          {} 2471.4599 0 days 00:00:04.412088 0 days 00:00:00.983507 0 days 00:00:00.424385\n",
       "1      Ridge(alpha=1, random_state=2023, solver='svd')                                                                                                 {'model__alpha': 1, 'model__solver': 'svd'} 2471.4585 0 days 00:01:43.274240 0 days 00:00:01.047127 0 days 00:00:00.423387\n",
       "2             DecisionTreeRegressor(random_state=2023)                                                                                                                  {'model__max_depth': None} 1844.3033 0 days 00:00:05.425255 0 days 00:00:02.153533 0 days 00:00:00.480138\n",
       "3  LGBMRegressor(n_estimators=2500, random_state=2023)                                                                                  {'model__learning_rate': 0.1, 'model__n_estimators': 2500} 1454.2807 0 days 00:01:09.435192 0 days 00:00:12.898005 0 days 00:00:02.977216\n",
       "4                                  CatBoostRegressor()  {'loss_function': 'RMSE', 'verbose': False, 'random_state': 2023, 'depth': 10, 'l2_leaf_reg': 9, 'iterations': 1000, 'learning_rate': 0.1} 1315.0692 0 days 00:19:32.315932 0 days 00:04:19.567244 0 days 00:00:01.210280"
      ]
     },
     "metadata": {},
     "output_type": "display_data"
    }
   ],
   "source": [
    "# табличка с оптимизированными гиперпараметрами\n",
    "print_result(list_best_params)"
   ]
  },
  {
   "cell_type": "markdown",
   "metadata": {},
   "source": [
    "Как видно из приведенного свода данных, \n",
    "* наилучшие результаты на обучающей выборке показала модели `CatBoostRegressor` и  `LGBMRegressor`\n",
    "* но при этом если рассматривать данные, которые мы получили в результате подбора гиперпараметров `CatBoostRegressor`, то видна существенная разница метрики на обучающей и валидационной выборках.\n",
    "* Время обучения модели `CatBoost` - более 4 минут, что существенно по сравнению с конкурентами(((\n",
    "* По времени обучения модели лидирует `LGBMRegressor`, а вот по времени предсказания - уступает `CatBoostRegressor` "
   ]
  },
  {
   "cell_type": "markdown",
   "metadata": {
    "id": "7GiW1TZGXwbI"
   },
   "source": [
    "## Тестирование модели"
   ]
  },
  {
   "cell_type": "markdown",
   "metadata": {},
   "source": [
    "Поэтому проверим обе модели на тестовой выборке.\n",
    "\n",
    "  * `LGBMRegressor`\n",
    "  * `CatBoostRegressor`\n",
    "  \n",
    "так как они дают схожие результаты, но при этом время обучения больше у `CatBoostRegressor`, но меньше время предсказания.\n",
    "\n"
   ]
  },
  {
   "cell_type": "markdown",
   "metadata": {},
   "source": [
    "`CatBoostRegressor`"
   ]
  },
  {
   "cell_type": "code",
   "execution_count": 95,
   "metadata": {
    "scrolled": true
   },
   "outputs": [
    {
     "name": "stdout",
     "output_type": "stream",
     "text": [
      "RSME модели CatboostRegressor: 1464.75\n",
      "Время предсказания на тестовой выборке модели CatboostRegressor: 0:00:00.391250\n"
     ]
    }
   ],
   "source": [
    "time_start = dt.now()\n",
    "predictions = model_cb.predict(features_test, thread_count=-1)\n",
    "time_predict = dt.now() - time_start\n",
    "\n",
    "rsme_cb = mean_squared_error(target_test, predictions, squared=False)\n",
    "\n",
    "print(f'RSME модели CatboostRegressor: {rsme_cb:.2f}')\n",
    "print(f'Время предсказания на тестовой выборке модели CatboostRegressor: {time_predict}')"
   ]
  },
  {
   "cell_type": "markdown",
   "metadata": {},
   "source": [
    "* Метрика на тесте вышла ровно такой, которая и была рассчитана на этапе подбора гиперпараметров. Это очень радует! \n",
    "\n",
    "* Следовательно, можно ориентироваться смело на показатели, полученные при кросс-валидации / подборе параметров.\n",
    "\n",
    "* Время предсказания 37 милисекунд! Отлично!"
   ]
  },
  {
   "cell_type": "markdown",
   "metadata": {},
   "source": [
    "`LGBMRegressor`"
   ]
  },
  {
   "cell_type": "code",
   "execution_count": 96,
   "metadata": {},
   "outputs": [],
   "source": [
    "model_lgbm = LGBMRegressor(learning_rate=0.1, n_estimators=2500, random_state=RS)\n",
    "preprocessor = ColumnTransformer(transformers=[\n",
    "    ('OHE', OneHotEncoder(handle_unknown='ignore', sparse=True), \n",
    "     categorical_features_low),\n",
    "    ('target', ce.TargetEncoder(min_samples_leaf=20, smoothing=10), \n",
    "     categorical_features_higth),\n",
    "    ('scaler', StandardScaler(), numerical_features)])\n",
    "\n",
    "pipe = Pipeline(steps=[\n",
    "    ('preprocessor', preprocessor),\n",
    "    ('model', model_lgbm)\n",
    "])  "
   ]
  },
  {
   "cell_type": "code",
   "execution_count": 97,
   "metadata": {},
   "outputs": [],
   "source": [
    "time_start = dt.now()\n",
    "pipe.fit(features_train, target_train)\n",
    "time_fit = (dt.now() - time_start)\n",
    "\n",
    "time_start = dt.now()\n",
    "predictions = pipe.predict(features_test)\n",
    "time_predict = (dt.now() - time_start)"
   ]
  },
  {
   "cell_type": "code",
   "execution_count": 98,
   "metadata": {},
   "outputs": [
    {
     "name": "stdout",
     "output_type": "stream",
     "text": [
      "RSME модели LGBMRegressor: 1431.54\n",
      "Время предсказания на тестовой выборке модели LGBMRegressor: 0:00:01.028070\n"
     ]
    }
   ],
   "source": [
    "rsme_lgbm = mean_squared_error(target_test, predictions, squared=False)\n",
    "\n",
    "print(f'RSME модели LGBMRegressor: {rsme_lgbm:.2f}')\n",
    "print(f'Время предсказания на тестовой выборке модели LGBMRegressor: {time_predict}')"
   ]
  },
  {
   "cell_type": "markdown",
   "metadata": {},
   "source": [
    "А вот эта модель результат показала даже лучше, чем ожидалось. А вот время предсказания более секунды, что дольше чем у `CatBoostRegressor`. Поэтому выбор все-таки за заказчиком, так как однозначного лидера нет."
   ]
  },
  {
   "cell_type": "markdown",
   "metadata": {},
   "source": [
    "## Выводы"
   ]
  },
  {
   "cell_type": "markdown",
   "metadata": {},
   "source": [
    "В ходе реализации проекта были выполнены следующие этапы:\n",
    "\n",
    "1. подготовка данных\n",
    "\n",
    "* загружены и изучены данные\n",
    "* проанализированы признаки, неинформативные признаки удалены из выборки\n",
    "* проведена преобработка данных\n",
    "* проведен анализ данных, аномальные данные исключены из рассмотрения\n",
    "* сгенерированы дополнительные признаки\n",
    "\n",
    "2. Построение ML и подбор гиперпараметров\n",
    "\n",
    "* данные разбиты на обучающую и тестовую выборки\n",
    "* построены модели, проведена оценка метрики методом кросс-валидации\n",
    "  - `LinearRegression`\n",
    "  - `Ridge`\n",
    "  - `DecisionTree`\n",
    "  - `LightGBM`\n",
    "  - `CatBoosting`\n",
    "* проведена оценка времени обучения, времени предсказания\n",
    "* подобраны лучшие гиперпараметры\n",
    "* выбрана лучшая модель по показателям метрики и критериям заказчика\n",
    "\n",
    "3. Проверено качество лучших модели на тестовой выборке.\n",
    "\n",
    "В итоге все-таки победила `LightGBM`, у нее оказался лучший `RSME`:\n",
    "* Итоговый показатель `RSME` составил - 1431.54\n",
    "* Время предсказания - более секунды.\n",
    "\n",
    "Дополнительно модель проверена на адекватность c помощью `DummyRegressor` - он молниеносный, но бестолковый в нашем случае."
   ]
  }
 ],
 "metadata": {
  "colab": {
   "provenance": []
  },
  "kernelspec": {
   "display_name": "Python 3 (ipykernel)",
   "language": "python",
   "name": "python3"
  },
  "language_info": {
   "codemirror_mode": {
    "name": "ipython",
    "version": 3
   },
   "file_extension": ".py",
   "mimetype": "text/x-python",
   "name": "python",
   "nbconvert_exporter": "python",
   "pygments_lexer": "ipython3",
   "version": "3.9.12"
  },
  "toc": {
   "base_numbering": 1,
   "nav_menu": {},
   "number_sections": true,
   "sideBar": true,
   "skip_h1_title": true,
   "title_cell": "Оглавление",
   "title_sidebar": "Contents",
   "toc_cell": true,
   "toc_position": {
    "height": "calc(100% - 180px)",
    "left": "10px",
    "top": "150px",
    "width": "165px"
   },
   "toc_section_display": true,
   "toc_window_display": true
  }
 },
 "nbformat": 4,
 "nbformat_minor": 1
}
