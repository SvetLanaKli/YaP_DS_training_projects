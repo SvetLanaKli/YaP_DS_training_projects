{
 "cells": [
  {
   "cell_type": "markdown",
   "id": "88597b3f",
   "metadata": {
    "deletable": false,
    "editable": false,
    "id": "c81daeeb"
   },
   "source": [
    "# Исследование надежности заемщиков\n"
   ]
  },
  {
   "cell_type": "markdown",
   "id": "fc89cf5f",
   "metadata": {
    "tags": []
   },
   "source": [
    "## Описание проекта\n",
    "Заказчик — кредитный отдел банка. Нужно разобраться, влияет ли семейное положение и количество детей клиента на факт погашения кредита в срок. Входные данные от банка — статистика о платёжеспособности клиентов.\n",
    "\n",
    "Результаты исследования будут учтены при построении модели кредитного скоринга — специальной системы, которая оценивает способность потенциального заёмщика вернуть кредит банку."
   ]
  },
  {
   "cell_type": "markdown",
   "id": "8990f1ae",
   "metadata": {
    "deletable": false,
    "editable": false,
    "id": "827c20bf",
    "jupyter": {
     "source_hidden": true
    },
    "tags": []
   },
   "source": [
    "Во второй части проекта вы выполните шаги 3 и 4. Их вручную проверит ревьюер.\n",
    "Чтобы вам не пришлось писать код заново для шагов 1 и 2, мы добавили авторские решения в ячейки с кодом. \n",
    "\n"
   ]
  },
  {
   "cell_type": "markdown",
   "id": "350c7238",
   "metadata": {
    "deletable": false,
    "editable": false,
    "id": "744d7639"
   },
   "source": [
    "## Откройте таблицу и изучите общую информацию о данных"
   ]
  },
  {
   "cell_type": "markdown",
   "id": "f3c9a27e",
   "metadata": {
    "deletable": false,
    "editable": false,
    "id": "e7a14c31"
   },
   "source": [
    "**Задание 1. Импортируйте библиотеку pandas. Считайте данные из csv-файла в датафрейм и сохраните в переменную `data`. Путь к файлу:**\n",
    "\n",
    "`/datasets/data.csv`"
   ]
  },
  {
   "cell_type": "code",
   "execution_count": 1,
   "id": "773d1938",
   "metadata": {
    "deletable": false,
    "id": "7bcf75c9"
   },
   "outputs": [],
   "source": [
    "import pandas as pd"
   ]
  },
  {
   "cell_type": "code",
   "execution_count": 2,
   "id": "61d23248",
   "metadata": {},
   "outputs": [],
   "source": [
    "try:\n",
    "    data = pd.read_csv('/datasets/data.csv')\n",
    "except:\n",
    "    data = pd.read_csv('/another_folder/datasets/data.csv')"
   ]
  },
  {
   "cell_type": "markdown",
   "id": "6c9679da",
   "metadata": {
    "deletable": false,
    "editable": false,
    "id": "b8038fe3"
   },
   "source": [
    "**Задание 2. Выведите первые 20 строчек датафрейма `data` на экран.**"
   ]
  },
  {
   "cell_type": "code",
   "execution_count": 3,
   "id": "322d0f19",
   "metadata": {
    "deletable": false,
    "id": "2a7cab99",
    "outputId": "1a8f3ef2-d323-4ec2-ddf7-89670b5944c4"
   },
   "outputs": [
    {
     "data": {
      "text/html": [
       "<div>\n",
       "<style scoped>\n",
       "    .dataframe tbody tr th:only-of-type {\n",
       "        vertical-align: middle;\n",
       "    }\n",
       "\n",
       "    .dataframe tbody tr th {\n",
       "        vertical-align: top;\n",
       "    }\n",
       "\n",
       "    .dataframe thead th {\n",
       "        text-align: right;\n",
       "    }\n",
       "</style>\n",
       "<table border=\"1\" class=\"dataframe\">\n",
       "  <thead>\n",
       "    <tr style=\"text-align: right;\">\n",
       "      <th></th>\n",
       "      <th>children</th>\n",
       "      <th>days_employed</th>\n",
       "      <th>dob_years</th>\n",
       "      <th>education</th>\n",
       "      <th>education_id</th>\n",
       "      <th>family_status</th>\n",
       "      <th>family_status_id</th>\n",
       "      <th>gender</th>\n",
       "      <th>income_type</th>\n",
       "      <th>debt</th>\n",
       "      <th>total_income</th>\n",
       "      <th>purpose</th>\n",
       "    </tr>\n",
       "  </thead>\n",
       "  <tbody>\n",
       "    <tr>\n",
       "      <th>0</th>\n",
       "      <td>1</td>\n",
       "      <td>-8437.673028</td>\n",
       "      <td>42</td>\n",
       "      <td>высшее</td>\n",
       "      <td>0</td>\n",
       "      <td>женат / замужем</td>\n",
       "      <td>0</td>\n",
       "      <td>F</td>\n",
       "      <td>сотрудник</td>\n",
       "      <td>0</td>\n",
       "      <td>253875.639453</td>\n",
       "      <td>покупка жилья</td>\n",
       "    </tr>\n",
       "    <tr>\n",
       "      <th>1</th>\n",
       "      <td>1</td>\n",
       "      <td>-4024.803754</td>\n",
       "      <td>36</td>\n",
       "      <td>среднее</td>\n",
       "      <td>1</td>\n",
       "      <td>женат / замужем</td>\n",
       "      <td>0</td>\n",
       "      <td>F</td>\n",
       "      <td>сотрудник</td>\n",
       "      <td>0</td>\n",
       "      <td>112080.014102</td>\n",
       "      <td>приобретение автомобиля</td>\n",
       "    </tr>\n",
       "    <tr>\n",
       "      <th>2</th>\n",
       "      <td>0</td>\n",
       "      <td>-5623.422610</td>\n",
       "      <td>33</td>\n",
       "      <td>Среднее</td>\n",
       "      <td>1</td>\n",
       "      <td>женат / замужем</td>\n",
       "      <td>0</td>\n",
       "      <td>M</td>\n",
       "      <td>сотрудник</td>\n",
       "      <td>0</td>\n",
       "      <td>145885.952297</td>\n",
       "      <td>покупка жилья</td>\n",
       "    </tr>\n",
       "    <tr>\n",
       "      <th>3</th>\n",
       "      <td>3</td>\n",
       "      <td>-4124.747207</td>\n",
       "      <td>32</td>\n",
       "      <td>среднее</td>\n",
       "      <td>1</td>\n",
       "      <td>женат / замужем</td>\n",
       "      <td>0</td>\n",
       "      <td>M</td>\n",
       "      <td>сотрудник</td>\n",
       "      <td>0</td>\n",
       "      <td>267628.550329</td>\n",
       "      <td>дополнительное образование</td>\n",
       "    </tr>\n",
       "    <tr>\n",
       "      <th>4</th>\n",
       "      <td>0</td>\n",
       "      <td>340266.072047</td>\n",
       "      <td>53</td>\n",
       "      <td>среднее</td>\n",
       "      <td>1</td>\n",
       "      <td>гражданский брак</td>\n",
       "      <td>1</td>\n",
       "      <td>F</td>\n",
       "      <td>пенсионер</td>\n",
       "      <td>0</td>\n",
       "      <td>158616.077870</td>\n",
       "      <td>сыграть свадьбу</td>\n",
       "    </tr>\n",
       "    <tr>\n",
       "      <th>5</th>\n",
       "      <td>0</td>\n",
       "      <td>-926.185831</td>\n",
       "      <td>27</td>\n",
       "      <td>высшее</td>\n",
       "      <td>0</td>\n",
       "      <td>гражданский брак</td>\n",
       "      <td>1</td>\n",
       "      <td>M</td>\n",
       "      <td>компаньон</td>\n",
       "      <td>0</td>\n",
       "      <td>255763.565419</td>\n",
       "      <td>покупка жилья</td>\n",
       "    </tr>\n",
       "    <tr>\n",
       "      <th>6</th>\n",
       "      <td>0</td>\n",
       "      <td>-2879.202052</td>\n",
       "      <td>43</td>\n",
       "      <td>высшее</td>\n",
       "      <td>0</td>\n",
       "      <td>женат / замужем</td>\n",
       "      <td>0</td>\n",
       "      <td>F</td>\n",
       "      <td>компаньон</td>\n",
       "      <td>0</td>\n",
       "      <td>240525.971920</td>\n",
       "      <td>операции с жильем</td>\n",
       "    </tr>\n",
       "    <tr>\n",
       "      <th>7</th>\n",
       "      <td>0</td>\n",
       "      <td>-152.779569</td>\n",
       "      <td>50</td>\n",
       "      <td>СРЕДНЕЕ</td>\n",
       "      <td>1</td>\n",
       "      <td>женат / замужем</td>\n",
       "      <td>0</td>\n",
       "      <td>M</td>\n",
       "      <td>сотрудник</td>\n",
       "      <td>0</td>\n",
       "      <td>135823.934197</td>\n",
       "      <td>образование</td>\n",
       "    </tr>\n",
       "    <tr>\n",
       "      <th>8</th>\n",
       "      <td>2</td>\n",
       "      <td>-6929.865299</td>\n",
       "      <td>35</td>\n",
       "      <td>ВЫСШЕЕ</td>\n",
       "      <td>0</td>\n",
       "      <td>гражданский брак</td>\n",
       "      <td>1</td>\n",
       "      <td>F</td>\n",
       "      <td>сотрудник</td>\n",
       "      <td>0</td>\n",
       "      <td>95856.832424</td>\n",
       "      <td>на проведение свадьбы</td>\n",
       "    </tr>\n",
       "    <tr>\n",
       "      <th>9</th>\n",
       "      <td>0</td>\n",
       "      <td>-2188.756445</td>\n",
       "      <td>41</td>\n",
       "      <td>среднее</td>\n",
       "      <td>1</td>\n",
       "      <td>женат / замужем</td>\n",
       "      <td>0</td>\n",
       "      <td>M</td>\n",
       "      <td>сотрудник</td>\n",
       "      <td>0</td>\n",
       "      <td>144425.938277</td>\n",
       "      <td>покупка жилья для семьи</td>\n",
       "    </tr>\n",
       "    <tr>\n",
       "      <th>10</th>\n",
       "      <td>2</td>\n",
       "      <td>-4171.483647</td>\n",
       "      <td>36</td>\n",
       "      <td>высшее</td>\n",
       "      <td>0</td>\n",
       "      <td>женат / замужем</td>\n",
       "      <td>0</td>\n",
       "      <td>M</td>\n",
       "      <td>компаньон</td>\n",
       "      <td>0</td>\n",
       "      <td>113943.491460</td>\n",
       "      <td>покупка недвижимости</td>\n",
       "    </tr>\n",
       "    <tr>\n",
       "      <th>11</th>\n",
       "      <td>0</td>\n",
       "      <td>-792.701887</td>\n",
       "      <td>40</td>\n",
       "      <td>среднее</td>\n",
       "      <td>1</td>\n",
       "      <td>женат / замужем</td>\n",
       "      <td>0</td>\n",
       "      <td>F</td>\n",
       "      <td>сотрудник</td>\n",
       "      <td>0</td>\n",
       "      <td>77069.234271</td>\n",
       "      <td>покупка коммерческой недвижимости</td>\n",
       "    </tr>\n",
       "    <tr>\n",
       "      <th>12</th>\n",
       "      <td>0</td>\n",
       "      <td>NaN</td>\n",
       "      <td>65</td>\n",
       "      <td>среднее</td>\n",
       "      <td>1</td>\n",
       "      <td>гражданский брак</td>\n",
       "      <td>1</td>\n",
       "      <td>M</td>\n",
       "      <td>пенсионер</td>\n",
       "      <td>0</td>\n",
       "      <td>NaN</td>\n",
       "      <td>сыграть свадьбу</td>\n",
       "    </tr>\n",
       "    <tr>\n",
       "      <th>13</th>\n",
       "      <td>0</td>\n",
       "      <td>-1846.641941</td>\n",
       "      <td>54</td>\n",
       "      <td>неоконченное высшее</td>\n",
       "      <td>2</td>\n",
       "      <td>женат / замужем</td>\n",
       "      <td>0</td>\n",
       "      <td>F</td>\n",
       "      <td>сотрудник</td>\n",
       "      <td>0</td>\n",
       "      <td>130458.228857</td>\n",
       "      <td>приобретение автомобиля</td>\n",
       "    </tr>\n",
       "    <tr>\n",
       "      <th>14</th>\n",
       "      <td>0</td>\n",
       "      <td>-1844.956182</td>\n",
       "      <td>56</td>\n",
       "      <td>высшее</td>\n",
       "      <td>0</td>\n",
       "      <td>гражданский брак</td>\n",
       "      <td>1</td>\n",
       "      <td>F</td>\n",
       "      <td>компаньон</td>\n",
       "      <td>1</td>\n",
       "      <td>165127.911772</td>\n",
       "      <td>покупка жилой недвижимости</td>\n",
       "    </tr>\n",
       "    <tr>\n",
       "      <th>15</th>\n",
       "      <td>1</td>\n",
       "      <td>-972.364419</td>\n",
       "      <td>26</td>\n",
       "      <td>среднее</td>\n",
       "      <td>1</td>\n",
       "      <td>женат / замужем</td>\n",
       "      <td>0</td>\n",
       "      <td>F</td>\n",
       "      <td>сотрудник</td>\n",
       "      <td>0</td>\n",
       "      <td>116820.904450</td>\n",
       "      <td>строительство собственной недвижимости</td>\n",
       "    </tr>\n",
       "    <tr>\n",
       "      <th>16</th>\n",
       "      <td>0</td>\n",
       "      <td>-1719.934226</td>\n",
       "      <td>35</td>\n",
       "      <td>среднее</td>\n",
       "      <td>1</td>\n",
       "      <td>женат / замужем</td>\n",
       "      <td>0</td>\n",
       "      <td>F</td>\n",
       "      <td>сотрудник</td>\n",
       "      <td>0</td>\n",
       "      <td>289202.704229</td>\n",
       "      <td>недвижимость</td>\n",
       "    </tr>\n",
       "    <tr>\n",
       "      <th>17</th>\n",
       "      <td>0</td>\n",
       "      <td>-2369.999720</td>\n",
       "      <td>33</td>\n",
       "      <td>высшее</td>\n",
       "      <td>0</td>\n",
       "      <td>гражданский брак</td>\n",
       "      <td>1</td>\n",
       "      <td>M</td>\n",
       "      <td>сотрудник</td>\n",
       "      <td>0</td>\n",
       "      <td>90410.586745</td>\n",
       "      <td>строительство недвижимости</td>\n",
       "    </tr>\n",
       "    <tr>\n",
       "      <th>18</th>\n",
       "      <td>0</td>\n",
       "      <td>400281.136913</td>\n",
       "      <td>53</td>\n",
       "      <td>среднее</td>\n",
       "      <td>1</td>\n",
       "      <td>вдовец / вдова</td>\n",
       "      <td>2</td>\n",
       "      <td>F</td>\n",
       "      <td>пенсионер</td>\n",
       "      <td>0</td>\n",
       "      <td>56823.777243</td>\n",
       "      <td>на покупку подержанного автомобиля</td>\n",
       "    </tr>\n",
       "    <tr>\n",
       "      <th>19</th>\n",
       "      <td>0</td>\n",
       "      <td>-10038.818549</td>\n",
       "      <td>48</td>\n",
       "      <td>СРЕДНЕЕ</td>\n",
       "      <td>1</td>\n",
       "      <td>в разводе</td>\n",
       "      <td>3</td>\n",
       "      <td>F</td>\n",
       "      <td>сотрудник</td>\n",
       "      <td>0</td>\n",
       "      <td>242831.107982</td>\n",
       "      <td>на покупку своего автомобиля</td>\n",
       "    </tr>\n",
       "  </tbody>\n",
       "</table>\n",
       "</div>"
      ],
      "text/plain": [
       "    children  days_employed  dob_years            education  education_id  \\\n",
       "0          1   -8437.673028         42               высшее             0   \n",
       "1          1   -4024.803754         36              среднее             1   \n",
       "2          0   -5623.422610         33              Среднее             1   \n",
       "3          3   -4124.747207         32              среднее             1   \n",
       "4          0  340266.072047         53              среднее             1   \n",
       "5          0    -926.185831         27               высшее             0   \n",
       "6          0   -2879.202052         43               высшее             0   \n",
       "7          0    -152.779569         50              СРЕДНЕЕ             1   \n",
       "8          2   -6929.865299         35               ВЫСШЕЕ             0   \n",
       "9          0   -2188.756445         41              среднее             1   \n",
       "10         2   -4171.483647         36               высшее             0   \n",
       "11         0    -792.701887         40              среднее             1   \n",
       "12         0            NaN         65              среднее             1   \n",
       "13         0   -1846.641941         54  неоконченное высшее             2   \n",
       "14         0   -1844.956182         56               высшее             0   \n",
       "15         1    -972.364419         26              среднее             1   \n",
       "16         0   -1719.934226         35              среднее             1   \n",
       "17         0   -2369.999720         33               высшее             0   \n",
       "18         0  400281.136913         53              среднее             1   \n",
       "19         0  -10038.818549         48              СРЕДНЕЕ             1   \n",
       "\n",
       "       family_status  family_status_id gender income_type  debt  \\\n",
       "0    женат / замужем                 0      F   сотрудник     0   \n",
       "1    женат / замужем                 0      F   сотрудник     0   \n",
       "2    женат / замужем                 0      M   сотрудник     0   \n",
       "3    женат / замужем                 0      M   сотрудник     0   \n",
       "4   гражданский брак                 1      F   пенсионер     0   \n",
       "5   гражданский брак                 1      M   компаньон     0   \n",
       "6    женат / замужем                 0      F   компаньон     0   \n",
       "7    женат / замужем                 0      M   сотрудник     0   \n",
       "8   гражданский брак                 1      F   сотрудник     0   \n",
       "9    женат / замужем                 0      M   сотрудник     0   \n",
       "10   женат / замужем                 0      M   компаньон     0   \n",
       "11   женат / замужем                 0      F   сотрудник     0   \n",
       "12  гражданский брак                 1      M   пенсионер     0   \n",
       "13   женат / замужем                 0      F   сотрудник     0   \n",
       "14  гражданский брак                 1      F   компаньон     1   \n",
       "15   женат / замужем                 0      F   сотрудник     0   \n",
       "16   женат / замужем                 0      F   сотрудник     0   \n",
       "17  гражданский брак                 1      M   сотрудник     0   \n",
       "18    вдовец / вдова                 2      F   пенсионер     0   \n",
       "19         в разводе                 3      F   сотрудник     0   \n",
       "\n",
       "     total_income                                 purpose  \n",
       "0   253875.639453                           покупка жилья  \n",
       "1   112080.014102                 приобретение автомобиля  \n",
       "2   145885.952297                           покупка жилья  \n",
       "3   267628.550329              дополнительное образование  \n",
       "4   158616.077870                         сыграть свадьбу  \n",
       "5   255763.565419                           покупка жилья  \n",
       "6   240525.971920                       операции с жильем  \n",
       "7   135823.934197                             образование  \n",
       "8    95856.832424                   на проведение свадьбы  \n",
       "9   144425.938277                 покупка жилья для семьи  \n",
       "10  113943.491460                    покупка недвижимости  \n",
       "11   77069.234271       покупка коммерческой недвижимости  \n",
       "12            NaN                         сыграть свадьбу  \n",
       "13  130458.228857                 приобретение автомобиля  \n",
       "14  165127.911772              покупка жилой недвижимости  \n",
       "15  116820.904450  строительство собственной недвижимости  \n",
       "16  289202.704229                            недвижимость  \n",
       "17   90410.586745              строительство недвижимости  \n",
       "18   56823.777243      на покупку подержанного автомобиля  \n",
       "19  242831.107982            на покупку своего автомобиля  "
      ]
     },
     "execution_count": 3,
     "metadata": {},
     "output_type": "execute_result"
    }
   ],
   "source": [
    "data.head(20)"
   ]
  },
  {
   "cell_type": "markdown",
   "id": "5a7258a6",
   "metadata": {
    "deletable": false,
    "editable": false,
    "id": "1c12e233"
   },
   "source": [
    "**Задание 3. Выведите основную информацию о датафрейме с помощью метода `info()`.**"
   ]
  },
  {
   "cell_type": "code",
   "execution_count": 4,
   "id": "d728245f",
   "metadata": {
    "deletable": false,
    "id": "2b757bca",
    "outputId": "15376089-8dad-46c9-b520-c05248d43158"
   },
   "outputs": [
    {
     "name": "stdout",
     "output_type": "stream",
     "text": [
      "<class 'pandas.core.frame.DataFrame'>\n",
      "RangeIndex: 21525 entries, 0 to 21524\n",
      "Data columns (total 12 columns):\n",
      " #   Column            Non-Null Count  Dtype  \n",
      "---  ------            --------------  -----  \n",
      " 0   children          21525 non-null  int64  \n",
      " 1   days_employed     19351 non-null  float64\n",
      " 2   dob_years         21525 non-null  int64  \n",
      " 3   education         21525 non-null  object \n",
      " 4   education_id      21525 non-null  int64  \n",
      " 5   family_status     21525 non-null  object \n",
      " 6   family_status_id  21525 non-null  int64  \n",
      " 7   gender            21525 non-null  object \n",
      " 8   income_type       21525 non-null  object \n",
      " 9   debt              21525 non-null  int64  \n",
      " 10  total_income      19351 non-null  float64\n",
      " 11  purpose           21525 non-null  object \n",
      "dtypes: float64(2), int64(5), object(5)\n",
      "memory usage: 2.0+ MB\n"
     ]
    }
   ],
   "source": [
    "data.info()"
   ]
  },
  {
   "cell_type": "markdown",
   "id": "fecf29cf",
   "metadata": {
    "deletable": false,
    "editable": false,
    "id": "333ec665"
   },
   "source": [
    "## Предобработка данных"
   ]
  },
  {
   "cell_type": "markdown",
   "id": "7a018078",
   "metadata": {
    "deletable": false,
    "editable": false,
    "id": "02d92d53"
   },
   "source": [
    "### Удаление пропусков"
   ]
  },
  {
   "cell_type": "markdown",
   "id": "d6bc3079",
   "metadata": {
    "deletable": false,
    "editable": false,
    "id": "cd84967c"
   },
   "source": [
    "**Задание 4. Выведите количество пропущенных значений для каждого столбца. Используйте комбинацию двух методов.**"
   ]
  },
  {
   "cell_type": "code",
   "execution_count": 5,
   "id": "7e90e807",
   "metadata": {
    "deletable": false,
    "id": "7f9b2309",
    "outputId": "81f4d817-781c-465c-ed15-91ce4446810d"
   },
   "outputs": [
    {
     "data": {
      "text/plain": [
       "children               0\n",
       "days_employed       2174\n",
       "dob_years              0\n",
       "education              0\n",
       "education_id           0\n",
       "family_status          0\n",
       "family_status_id       0\n",
       "gender                 0\n",
       "income_type            0\n",
       "debt                   0\n",
       "total_income        2174\n",
       "purpose                0\n",
       "dtype: int64"
      ]
     },
     "execution_count": 5,
     "metadata": {},
     "output_type": "execute_result"
    }
   ],
   "source": [
    "data.isna().sum()"
   ]
  },
  {
   "cell_type": "markdown",
   "id": "b909161b",
   "metadata": {
    "deletable": false,
    "editable": false,
    "id": "db86e27b"
   },
   "source": [
    "**Задание 5. В двух столбцах есть пропущенные значения. Один из них — `days_employed`. Пропуски в этом столбце вы обработаете на следующем этапе. Другой столбец с пропущенными значениями — `total_income` — хранит данные о доходах. На сумму дохода сильнее всего влияет тип занятости, поэтому заполнить пропуски в этом столбце нужно медианным значением по каждому типу из столбца `income_type`. Например, у человека с типом занятости `сотрудник` пропуск в столбце `total_income` должен быть заполнен медианным доходом среди всех записей с тем же типом.**"
   ]
  },
  {
   "cell_type": "code",
   "execution_count": 6,
   "id": "8b3c5f35",
   "metadata": {
    "deletable": false,
    "id": "42006a93"
   },
   "outputs": [],
   "source": [
    "for t in data['income_type'].unique():\n",
    "    data.loc[(data['income_type'] == t) & (data['total_income'].isna()), 'total_income'] = \\\n",
    "    data.loc[(data['income_type'] == t), 'total_income'].median()"
   ]
  },
  {
   "cell_type": "markdown",
   "id": "e2edd1e7",
   "metadata": {
    "deletable": false,
    "editable": false,
    "id": "89da5ece"
   },
   "source": [
    "### Обработка аномальных значений"
   ]
  },
  {
   "cell_type": "markdown",
   "id": "5bbc7571",
   "metadata": {
    "deletable": false,
    "editable": false,
    "id": "57964554"
   },
   "source": [
    "**Задание 6. В данных могут встречаться артефакты (аномалии) — значения, которые не отражают действительность и появились по какой-то ошибке. таким артефактом будет отрицательное количество дней трудового стажа в столбце `days_employed`. Для реальных данных это нормально. Обработайте значения в этом столбце: замените все отрицательные значения положительными с помощью метода `abs()`.**"
   ]
  },
  {
   "cell_type": "code",
   "execution_count": 7,
   "id": "f1489eab",
   "metadata": {
    "deletable": false,
    "id": "f6f055bf"
   },
   "outputs": [],
   "source": [
    "data['days_employed'] = data['days_employed'].abs()"
   ]
  },
  {
   "cell_type": "markdown",
   "id": "ebc49d5a",
   "metadata": {
    "deletable": false,
    "editable": false,
    "id": "6107dd2f"
   },
   "source": [
    "**Задание 7. Для каждого типа занятости выведите медианное значение трудового стажа `days_employed` в днях.**"
   ]
  },
  {
   "cell_type": "code",
   "execution_count": 8,
   "id": "af8a5c22",
   "metadata": {
    "deletable": false,
    "id": "85a5faf6",
    "outputId": "801ef80e-522b-4668-f34e-565af7432bcf"
   },
   "outputs": [
    {
     "data": {
      "text/plain": [
       "income_type\n",
       "безработный        366413.652744\n",
       "в декрете            3296.759962\n",
       "госслужащий          2689.368353\n",
       "компаньон            1547.382223\n",
       "пенсионер          365213.306266\n",
       "предприниматель       520.848083\n",
       "сотрудник            1574.202821\n",
       "студент               578.751554\n",
       "Name: days_employed, dtype: float64"
      ]
     },
     "execution_count": 8,
     "metadata": {},
     "output_type": "execute_result"
    }
   ],
   "source": [
    "data.groupby('income_type')['days_employed'].agg('median')"
   ]
  },
  {
   "cell_type": "markdown",
   "id": "5e7f3180",
   "metadata": {
    "deletable": false,
    "editable": false,
    "id": "38d1a030"
   },
   "source": [
    "У двух типов (безработные и пенсионеры) получатся аномально большие значения. Исправить такие значения сложно, поэтому оставьте их как есть. Тем более этот столбец не понадобится вам для исследования."
   ]
  },
  {
   "cell_type": "markdown",
   "id": "baaab930",
   "metadata": {
    "deletable": false,
    "editable": false,
    "id": "d8a9f147"
   },
   "source": [
    "**Задание 8. Выведите перечень уникальных значений столбца `children`.**"
   ]
  },
  {
   "cell_type": "code",
   "execution_count": 9,
   "id": "95bc1636",
   "metadata": {
    "deletable": false,
    "id": "ef5056eb",
    "outputId": "6975b15c-7f95-4697-d16d-a0c79b657b03"
   },
   "outputs": [
    {
     "data": {
      "text/plain": [
       "array([ 1,  0,  3,  2, -1,  4, 20,  5], dtype=int64)"
      ]
     },
     "execution_count": 9,
     "metadata": {},
     "output_type": "execute_result"
    }
   ],
   "source": [
    "data['children'].unique()"
   ]
  },
  {
   "cell_type": "markdown",
   "id": "2522cff9",
   "metadata": {
    "deletable": false,
    "editable": false,
    "id": "40b9ebf2"
   },
   "source": [
    "**Задание 9. В столбце `children` есть два аномальных значения. Удалите строки, в которых встречаются такие аномальные значения из датафрейма `data`.**"
   ]
  },
  {
   "cell_type": "code",
   "execution_count": 10,
   "id": "aa361a1a",
   "metadata": {
    "deletable": false,
    "id": "3ff9801d"
   },
   "outputs": [],
   "source": [
    "data = data[(data['children'] != -1) & (data['children'] != 20)]"
   ]
  },
  {
   "cell_type": "markdown",
   "id": "a7934ee3",
   "metadata": {
    "deletable": false,
    "editable": false,
    "id": "bbc4d0ce"
   },
   "source": [
    "**Задание 10. Ещё раз выведите перечень уникальных значений столбца `children`, чтобы убедиться, что артефакты удалены.**"
   ]
  },
  {
   "cell_type": "code",
   "execution_count": 11,
   "id": "8aea3e78",
   "metadata": {
    "deletable": false,
    "id": "ad4fa8b7",
    "outputId": "b2097101-d49d-44d9-901b-32a65c9463d1"
   },
   "outputs": [
    {
     "data": {
      "text/plain": [
       "array([1, 0, 3, 2, 4, 5], dtype=int64)"
      ]
     },
     "execution_count": 11,
     "metadata": {},
     "output_type": "execute_result"
    }
   ],
   "source": [
    "data['children'].unique()"
   ]
  },
  {
   "cell_type": "markdown",
   "id": "25b3247e",
   "metadata": {
    "deletable": false,
    "editable": false,
    "id": "75440b63"
   },
   "source": [
    "### Удаление пропусков (продолжение)"
   ]
  },
  {
   "cell_type": "markdown",
   "id": "c5c1a138",
   "metadata": {
    "deletable": false,
    "editable": false,
    "id": "f4ea573f"
   },
   "source": [
    "**Задание 11. Заполните пропуски в столбце `days_employed` медианными значениями по каждого типа занятости `income_type`.**"
   ]
  },
  {
   "cell_type": "code",
   "execution_count": 12,
   "id": "c54b4cf2",
   "metadata": {
    "deletable": false,
    "id": "af6b1a7e"
   },
   "outputs": [],
   "source": [
    "for t in data['income_type'].unique():\n",
    "    data.loc[(data['income_type'] == t) & (data['days_employed'].isna()), 'days_employed'] = \\\n",
    "    data.loc[(data['income_type'] == t), 'days_employed'].median()"
   ]
  },
  {
   "cell_type": "markdown",
   "id": "e0487b65",
   "metadata": {
    "deletable": false,
    "editable": false,
    "id": "2753f40d"
   },
   "source": [
    "**Задание 12. Убедитесь, что все пропуски заполнены. Проверьте себя и ещё раз выведите количество пропущенных значений для каждого столбца с помощью двух методов.**"
   ]
  },
  {
   "cell_type": "code",
   "execution_count": 13,
   "id": "367d31fd",
   "metadata": {
    "deletable": false,
    "id": "55f78bc2",
    "outputId": "8da1e4e1-358e-4e87-98c9-f261bce0a7b2"
   },
   "outputs": [
    {
     "data": {
      "text/plain": [
       "children            0\n",
       "days_employed       0\n",
       "dob_years           0\n",
       "education           0\n",
       "education_id        0\n",
       "family_status       0\n",
       "family_status_id    0\n",
       "gender              0\n",
       "income_type         0\n",
       "debt                0\n",
       "total_income        0\n",
       "purpose             0\n",
       "dtype: int64"
      ]
     },
     "execution_count": 13,
     "metadata": {},
     "output_type": "execute_result"
    }
   ],
   "source": [
    "data.isna().sum()"
   ]
  },
  {
   "cell_type": "markdown",
   "id": "c62583c8",
   "metadata": {
    "deletable": false,
    "editable": false,
    "id": "ddc81e43"
   },
   "source": [
    "### Изменение типов данных"
   ]
  },
  {
   "cell_type": "markdown",
   "id": "abc6870e",
   "metadata": {
    "deletable": false,
    "editable": false,
    "id": "42d19d24"
   },
   "source": [
    "**Задание 13. Замените вещественный тип данных в столбце `total_income` на целочисленный с помощью метода `astype()`.**"
   ]
  },
  {
   "cell_type": "code",
   "execution_count": 14,
   "id": "7374a752",
   "metadata": {
    "deletable": false,
    "id": "920b65ad"
   },
   "outputs": [],
   "source": [
    "data['total_income'] = data['total_income'].astype(int)"
   ]
  },
  {
   "cell_type": "markdown",
   "id": "0f7284c2",
   "metadata": {
    "deletable": false,
    "editable": false,
    "id": "80c420ba"
   },
   "source": [
    "### Обработка дубликатов"
   ]
  },
  {
   "cell_type": "markdown",
   "id": "ed0125b8",
   "metadata": {
    "deletable": false,
    "editable": false
   },
   "source": [
    "**Задание 14. Обработайте неявные дубликаты в столбце `education`. В этом столбце есть одни и те же значения, но записанные по-разному: с использованием заглавных и строчных букв. Приведите их к нижнему регистру. Проверьте остальные столбцы.**"
   ]
  },
  {
   "cell_type": "code",
   "execution_count": 15,
   "id": "75d9489c",
   "metadata": {
    "deletable": false
   },
   "outputs": [],
   "source": [
    "data['education'] = data['education'].str.lower()"
   ]
  },
  {
   "cell_type": "markdown",
   "id": "9cdb5718",
   "metadata": {
    "deletable": false,
    "editable": false,
    "id": "dc587695"
   },
   "source": [
    "**Задание 15. Выведите на экран количество строк-дубликатов в данных. Если такие строки присутствуют, удалите их.**"
   ]
  },
  {
   "cell_type": "code",
   "execution_count": 16,
   "id": "9061658a",
   "metadata": {
    "deletable": false,
    "id": "3ee445e4",
    "outputId": "9684deba-1934-42d1-99e1-cda61740f822"
   },
   "outputs": [
    {
     "data": {
      "text/plain": [
       "71"
      ]
     },
     "execution_count": 16,
     "metadata": {},
     "output_type": "execute_result"
    }
   ],
   "source": [
    "data.duplicated().sum()"
   ]
  },
  {
   "cell_type": "code",
   "execution_count": 17,
   "id": "84e31201",
   "metadata": {
    "deletable": false,
    "id": "8575fe05"
   },
   "outputs": [],
   "source": [
    "data = data.drop_duplicates()"
   ]
  },
  {
   "cell_type": "markdown",
   "id": "3bd8db12",
   "metadata": {
    "deletable": false,
    "editable": false,
    "id": "9904cf55"
   },
   "source": [
    "### Категоризация данных"
   ]
  },
  {
   "cell_type": "markdown",
   "id": "a7d2b370",
   "metadata": {
    "deletable": false,
    "editable": false,
    "id": "72fcc8a2"
   },
   "source": [
    "**Задание 16. На основании диапазонов, указанных ниже, создайте в датафрейме `data` столбец `total_income_category` с категориями:**\n",
    "\n",
    "- 0–30000 — `'E'`;\n",
    "- 30001–50000 — `'D'`;\n",
    "- 50001–200000 — `'C'`;\n",
    "- 200001–1000000 — `'B'`;\n",
    "- 1000001 и выше — `'A'`.\n",
    "\n",
    "\n",
    "**Например, кредитополучателю с доходом 25000 нужно назначить категорию `'E'`, а клиенту, получающему 235000, — `'B'`. Используйте собственную функцию с именем `categorize_income()` и метод `apply()`.**"
   ]
  },
  {
   "cell_type": "code",
   "execution_count": 18,
   "id": "337762ed",
   "metadata": {
    "deletable": false,
    "id": "e1771346"
   },
   "outputs": [],
   "source": [
    "def categorize_income(income):\n",
    "    try:\n",
    "        if 0 <= income <= 30000:\n",
    "            return 'E'\n",
    "        elif 30001 <= income <= 50000:\n",
    "            return 'D'\n",
    "        elif 50001 <= income <= 200000:\n",
    "            return 'C'\n",
    "        elif 200001 <= income <= 1000000:\n",
    "            return 'B'\n",
    "        elif income >= 1000001:\n",
    "            return 'A'\n",
    "    except:\n",
    "        pass"
   ]
  },
  {
   "cell_type": "code",
   "execution_count": 19,
   "id": "7e5c0f0a",
   "metadata": {
    "deletable": false,
    "id": "d5f3586d"
   },
   "outputs": [],
   "source": [
    "data['total_income_category'] = data['total_income'].apply(categorize_income)"
   ]
  },
  {
   "cell_type": "markdown",
   "id": "4523aa6c",
   "metadata": {
    "deletable": false,
    "editable": false,
    "id": "dde49b5c"
   },
   "source": [
    "**Задание 17. Выведите на экран перечень уникальных целей взятия кредита из столбца `purpose`.**"
   ]
  },
  {
   "cell_type": "code",
   "execution_count": 20,
   "id": "380c4a38",
   "metadata": {
    "deletable": false,
    "id": "f67ce9b3",
    "outputId": "673c12d9-7d7e-4ae0-9812-c622c89dd244"
   },
   "outputs": [
    {
     "data": {
      "text/plain": [
       "array(['покупка жилья', 'приобретение автомобиля',\n",
       "       'дополнительное образование', 'сыграть свадьбу',\n",
       "       'операции с жильем', 'образование', 'на проведение свадьбы',\n",
       "       'покупка жилья для семьи', 'покупка недвижимости',\n",
       "       'покупка коммерческой недвижимости', 'покупка жилой недвижимости',\n",
       "       'строительство собственной недвижимости', 'недвижимость',\n",
       "       'строительство недвижимости', 'на покупку подержанного автомобиля',\n",
       "       'на покупку своего автомобиля',\n",
       "       'операции с коммерческой недвижимостью',\n",
       "       'строительство жилой недвижимости', 'жилье',\n",
       "       'операции со своей недвижимостью', 'автомобили',\n",
       "       'заняться образованием', 'сделка с подержанным автомобилем',\n",
       "       'получение образования', 'автомобиль', 'свадьба',\n",
       "       'получение дополнительного образования', 'покупка своего жилья',\n",
       "       'операции с недвижимостью', 'получение высшего образования',\n",
       "       'свой автомобиль', 'сделка с автомобилем',\n",
       "       'профильное образование', 'высшее образование',\n",
       "       'покупка жилья для сдачи', 'на покупку автомобиля', 'ремонт жилью',\n",
       "       'заняться высшим образованием'], dtype=object)"
      ]
     },
     "execution_count": 20,
     "metadata": {},
     "output_type": "execute_result"
    }
   ],
   "source": [
    "data['purpose'].unique()"
   ]
  },
  {
   "cell_type": "markdown",
   "id": "37330ef7",
   "metadata": {
    "deletable": false,
    "editable": false,
    "id": "85d0aef0"
   },
   "source": [
    "**Задание 18. Создайте функцию, которая на основании данных из столбца `purpose` сформирует новый столбец `purpose_category`, в который войдут следующие категории:**\n",
    "\n",
    "- `'операции с автомобилем'`,\n",
    "- `'операции с недвижимостью'`,\n",
    "- `'проведение свадьбы'`,\n",
    "- `'получение образования'`.\n",
    "\n",
    "**Например, если в столбце `purpose` находится подстрока `'на покупку автомобиля'`, то в столбце `purpose_category` должна появиться строка `'операции с автомобилем'`.**\n",
    "\n",
    "**Используйте собственную функцию с именем `categorize_purpose()` и метод `apply()`. Изучите данные в столбце `purpose` и определите, какие подстроки помогут вам правильно определить категорию.**"
   ]
  },
  {
   "cell_type": "code",
   "execution_count": 21,
   "id": "faff8035",
   "metadata": {
    "deletable": false,
    "id": "e149fab4"
   },
   "outputs": [],
   "source": [
    "def categorize_purpose(row):\n",
    "    try:\n",
    "        if 'автом' in row:\n",
    "            return 'операции с автомобилем'\n",
    "        elif 'жил' in row or 'недвиж' in row:\n",
    "            return 'операции с недвижимостью'\n",
    "        elif 'свад' in row:\n",
    "            return 'проведение свадьбы'\n",
    "        elif 'образов' in row:\n",
    "            return 'получение образования'\n",
    "    except:\n",
    "        return 'нет категории'"
   ]
  },
  {
   "cell_type": "code",
   "execution_count": 22,
   "id": "01eabeae",
   "metadata": {
    "deletable": false,
    "id": "bf36e69b"
   },
   "outputs": [],
   "source": [
    "data['purpose_category'] = data['purpose'].apply(categorize_purpose)"
   ]
  },
  {
   "cell_type": "markdown",
   "id": "34c3f256",
   "metadata": {
    "deletable": false,
    "editable": false,
    "id": "09b242bf"
   },
   "source": [
    "### Шаг 3. Исследуйте данные и ответьте на вопросы"
   ]
  },
  {
   "cell_type": "markdown",
   "id": "afab8487",
   "metadata": {
    "deletable": false,
    "editable": false,
    "id": "c5d66278"
   },
   "source": [
    "#### 3.1 Есть ли зависимость между количеством детей и возвратом кредита в срок?"
   ]
  },
  {
   "cell_type": "code",
   "execution_count": 23,
   "id": "abca1664",
   "metadata": {
    "deletable": false,
    "id": "2cacfc4a"
   },
   "outputs": [
    {
     "data": {
      "text/html": [
       "<div>\n",
       "<style scoped>\n",
       "    .dataframe tbody tr th:only-of-type {\n",
       "        vertical-align: middle;\n",
       "    }\n",
       "\n",
       "    .dataframe tbody tr th {\n",
       "        vertical-align: top;\n",
       "    }\n",
       "\n",
       "    .dataframe thead th {\n",
       "        text-align: right;\n",
       "    }\n",
       "</style>\n",
       "<table border=\"1\" class=\"dataframe\">\n",
       "  <thead>\n",
       "    <tr style=\"text-align: right;\">\n",
       "      <th></th>\n",
       "      <th>children</th>\n",
       "      <th>count</th>\n",
       "      <th>mean</th>\n",
       "      <th>sum</th>\n",
       "    </tr>\n",
       "  </thead>\n",
       "  <tbody>\n",
       "    <tr>\n",
       "      <th>0</th>\n",
       "      <td>0</td>\n",
       "      <td>14091.0</td>\n",
       "      <td>0.075438</td>\n",
       "      <td>1063.0</td>\n",
       "    </tr>\n",
       "    <tr>\n",
       "      <th>1</th>\n",
       "      <td>1</td>\n",
       "      <td>4808.0</td>\n",
       "      <td>0.092346</td>\n",
       "      <td>444.0</td>\n",
       "    </tr>\n",
       "    <tr>\n",
       "      <th>2</th>\n",
       "      <td>2</td>\n",
       "      <td>2052.0</td>\n",
       "      <td>0.094542</td>\n",
       "      <td>194.0</td>\n",
       "    </tr>\n",
       "    <tr>\n",
       "      <th>3</th>\n",
       "      <td>3</td>\n",
       "      <td>330.0</td>\n",
       "      <td>0.081818</td>\n",
       "      <td>27.0</td>\n",
       "    </tr>\n",
       "    <tr>\n",
       "      <th>4</th>\n",
       "      <td>4</td>\n",
       "      <td>41.0</td>\n",
       "      <td>0.097561</td>\n",
       "      <td>4.0</td>\n",
       "    </tr>\n",
       "    <tr>\n",
       "      <th>5</th>\n",
       "      <td>5</td>\n",
       "      <td>9.0</td>\n",
       "      <td>0.000000</td>\n",
       "      <td>0.0</td>\n",
       "    </tr>\n",
       "  </tbody>\n",
       "</table>\n",
       "</div>"
      ],
      "text/plain": [
       "   children    count      mean     sum\n",
       "0         0  14091.0  0.075438  1063.0\n",
       "1         1   4808.0  0.092346   444.0\n",
       "2         2   2052.0  0.094542   194.0\n",
       "3         3    330.0  0.081818    27.0\n",
       "4         4     41.0  0.097561     4.0\n",
       "5         5      9.0  0.000000     0.0"
      ]
     },
     "execution_count": 23,
     "metadata": {},
     "output_type": "execute_result"
    }
   ],
   "source": [
    "# создадим сводную таблицу с группировкой по количеству детей в семье\n",
    "# в качестве агрегатных значение вычислим количество записей count и количество задолженностей sum в каждой группе\n",
    "# для дальнейшего удобства работы с таблицей осуществим сброс индексов и уйдем от двойной индексации\n",
    "debt_children = data.pivot_table(index = 'children', values = 'debt', aggfunc = {'count', 'sum', 'mean'}).reset_index().rename_axis(None, axis=1)\n",
    "debt_children"
   ]
  },
  {
   "cell_type": "code",
   "execution_count": 24,
   "id": "3948e9a6",
   "metadata": {},
   "outputs": [],
   "source": [
    "# посчитаем процент каждой группы заемщиков в выборке для оценки репрезентативности результатов\n",
    "debt_children ['percent_group'] = round((debt_children['count'] / len(data) * 100), 2)"
   ]
  },
  {
   "cell_type": "code",
   "execution_count": 25,
   "id": "6b1d7454",
   "metadata": {},
   "outputs": [],
   "source": [
    "# преобразуем долю в проценты для удобства\n",
    "debt_children ['mean'] = round((debt_children ['mean'] * 100), 2)"
   ]
  },
  {
   "cell_type": "code",
   "execution_count": 26,
   "id": "4ff719c2",
   "metadata": {},
   "outputs": [
    {
     "data": {
      "text/html": [
       "<div>\n",
       "<style scoped>\n",
       "    .dataframe tbody tr th:only-of-type {\n",
       "        vertical-align: middle;\n",
       "    }\n",
       "\n",
       "    .dataframe tbody tr th {\n",
       "        vertical-align: top;\n",
       "    }\n",
       "\n",
       "    .dataframe thead th {\n",
       "        text-align: right;\n",
       "    }\n",
       "</style>\n",
       "<table border=\"1\" class=\"dataframe\">\n",
       "  <thead>\n",
       "    <tr style=\"text-align: right;\">\n",
       "      <th></th>\n",
       "      <th>Кол-во детей</th>\n",
       "      <th>Кол-во заемщиков</th>\n",
       "      <th>% просрочек</th>\n",
       "      <th>Кол-во просрочек</th>\n",
       "      <th>% группы</th>\n",
       "    </tr>\n",
       "  </thead>\n",
       "  <tbody>\n",
       "    <tr>\n",
       "      <th>0</th>\n",
       "      <td>0</td>\n",
       "      <td>14091.0</td>\n",
       "      <td>7.54</td>\n",
       "      <td>1063.0</td>\n",
       "      <td>66.06</td>\n",
       "    </tr>\n",
       "    <tr>\n",
       "      <th>1</th>\n",
       "      <td>1</td>\n",
       "      <td>4808.0</td>\n",
       "      <td>9.23</td>\n",
       "      <td>444.0</td>\n",
       "      <td>22.54</td>\n",
       "    </tr>\n",
       "    <tr>\n",
       "      <th>2</th>\n",
       "      <td>2</td>\n",
       "      <td>2052.0</td>\n",
       "      <td>9.45</td>\n",
       "      <td>194.0</td>\n",
       "      <td>9.62</td>\n",
       "    </tr>\n",
       "    <tr>\n",
       "      <th>3</th>\n",
       "      <td>3</td>\n",
       "      <td>330.0</td>\n",
       "      <td>8.18</td>\n",
       "      <td>27.0</td>\n",
       "      <td>1.55</td>\n",
       "    </tr>\n",
       "    <tr>\n",
       "      <th>4</th>\n",
       "      <td>4</td>\n",
       "      <td>41.0</td>\n",
       "      <td>9.76</td>\n",
       "      <td>4.0</td>\n",
       "      <td>0.19</td>\n",
       "    </tr>\n",
       "    <tr>\n",
       "      <th>5</th>\n",
       "      <td>5</td>\n",
       "      <td>9.0</td>\n",
       "      <td>0.00</td>\n",
       "      <td>0.0</td>\n",
       "      <td>0.04</td>\n",
       "    </tr>\n",
       "  </tbody>\n",
       "</table>\n",
       "</div>"
      ],
      "text/plain": [
       "   Кол-во детей  Кол-во заемщиков  % просрочек  Кол-во просрочек  % группы\n",
       "0             0           14091.0         7.54            1063.0     66.06\n",
       "1             1            4808.0         9.23             444.0     22.54\n",
       "2             2            2052.0         9.45             194.0      9.62\n",
       "3             3             330.0         8.18              27.0      1.55\n",
       "4             4              41.0         9.76               4.0      0.19\n",
       "5             5               9.0         0.00               0.0      0.04"
      ]
     },
     "execution_count": 26,
     "metadata": {},
     "output_type": "execute_result"
    }
   ],
   "source": [
    "#Для удобства переименуем название столбцов\n",
    "debt_children.rename(columns={'children': 'Кол-во детей', 'count' : 'Кол-во заемщиков', 'sum' : 'Кол-во просрочек', \n",
    "                              'mean' : '% просрочек', 'percent_group' : '% группы'})"
   ]
  },
  {
   "cell_type": "markdown",
   "id": "9a231bde",
   "metadata": {
    "deletable": false,
    "id": "3a6b99ec"
   },
   "source": [
    "**Вывод:** \n",
    "* Семьи с 3 и более детьми становятся заемщиками банка очень редко - процент таких заемщиков составляет в общей сложности 1,78% в кредитной выборке. Поэтому эти данные не будем использовать для поиска закономерностей.\n",
    "* **Лидерами по возврату кредитов** являются семьи без детей, процент задолженности составляет 7.54%. Процент таких заемщиков в выборке банка 66%, таким образом можно сделать вывод, что люди без детей, охотнее привлекают заемные средства.\n",
    "* Семьи с детьми возвращают кредиты хуже. С увеличением количества детей ухудшается и качество кредитов и уменьшается их доля в кредитном портфеле банка."
   ]
  },
  {
   "cell_type": "markdown",
   "id": "8f68e92f",
   "metadata": {
    "deletable": false,
    "editable": false,
    "id": "97be82ca"
   },
   "source": [
    "#### 3.2 Есть ли зависимость между семейным положением и возвратом кредита в срок?"
   ]
  },
  {
   "cell_type": "code",
   "execution_count": 27,
   "id": "0adadfe1",
   "metadata": {
    "deletable": false,
    "id": "dc3f7ee8"
   },
   "outputs": [
    {
     "data": {
      "text/html": [
       "<div>\n",
       "<style scoped>\n",
       "    .dataframe tbody tr th:only-of-type {\n",
       "        vertical-align: middle;\n",
       "    }\n",
       "\n",
       "    .dataframe tbody tr th {\n",
       "        vertical-align: top;\n",
       "    }\n",
       "\n",
       "    .dataframe thead th {\n",
       "        text-align: right;\n",
       "    }\n",
       "</style>\n",
       "<table border=\"1\" class=\"dataframe\">\n",
       "  <thead>\n",
       "    <tr style=\"text-align: right;\">\n",
       "      <th></th>\n",
       "      <th>family_status_id</th>\n",
       "      <th>count</th>\n",
       "      <th>mean</th>\n",
       "      <th>sum</th>\n",
       "    </tr>\n",
       "  </thead>\n",
       "  <tbody>\n",
       "    <tr>\n",
       "      <th>0</th>\n",
       "      <td>0</td>\n",
       "      <td>12261.0</td>\n",
       "      <td>0.075606</td>\n",
       "      <td>927.0</td>\n",
       "    </tr>\n",
       "    <tr>\n",
       "      <th>1</th>\n",
       "      <td>1</td>\n",
       "      <td>4134.0</td>\n",
       "      <td>0.093130</td>\n",
       "      <td>385.0</td>\n",
       "    </tr>\n",
       "    <tr>\n",
       "      <th>2</th>\n",
       "      <td>2</td>\n",
       "      <td>951.0</td>\n",
       "      <td>0.066246</td>\n",
       "      <td>63.0</td>\n",
       "    </tr>\n",
       "    <tr>\n",
       "      <th>3</th>\n",
       "      <td>3</td>\n",
       "      <td>1189.0</td>\n",
       "      <td>0.070648</td>\n",
       "      <td>84.0</td>\n",
       "    </tr>\n",
       "    <tr>\n",
       "      <th>4</th>\n",
       "      <td>4</td>\n",
       "      <td>2796.0</td>\n",
       "      <td>0.097639</td>\n",
       "      <td>273.0</td>\n",
       "    </tr>\n",
       "  </tbody>\n",
       "</table>\n",
       "</div>"
      ],
      "text/plain": [
       "   family_status_id    count      mean    sum\n",
       "0                 0  12261.0  0.075606  927.0\n",
       "1                 1   4134.0  0.093130  385.0\n",
       "2                 2    951.0  0.066246   63.0\n",
       "3                 3   1189.0  0.070648   84.0\n",
       "4                 4   2796.0  0.097639  273.0"
      ]
     },
     "execution_count": 27,
     "metadata": {},
     "output_type": "execute_result"
    }
   ],
   "source": [
    "# создадим сводную таблицу с группировкой по семейному положению\n",
    "# в качестве агрегатных значение вычислим количество записей count и количество задолженностей sum в каждой группе\n",
    "# для дальнейшего удобства работы с таблицей осуществим сброс индексов и уйдем от двойной индексации\n",
    "debt_family = data.pivot_table(index = 'family_status_id', values = 'debt', \n",
    "                               aggfunc = {'count', 'sum', 'mean'}).reset_index().rename_axis(None, axis=1)\n",
    "debt_family"
   ]
  },
  {
   "cell_type": "code",
   "execution_count": 28,
   "id": "442ca25a",
   "metadata": {},
   "outputs": [
    {
     "data": {
      "text/html": [
       "<div>\n",
       "<style scoped>\n",
       "    .dataframe tbody tr th:only-of-type {\n",
       "        vertical-align: middle;\n",
       "    }\n",
       "\n",
       "    .dataframe tbody tr th {\n",
       "        vertical-align: top;\n",
       "    }\n",
       "\n",
       "    .dataframe thead th {\n",
       "        text-align: right;\n",
       "    }\n",
       "</style>\n",
       "<table border=\"1\" class=\"dataframe\">\n",
       "  <thead>\n",
       "    <tr style=\"text-align: right;\">\n",
       "      <th></th>\n",
       "      <th>family_status_id</th>\n",
       "      <th>family_status</th>\n",
       "    </tr>\n",
       "  </thead>\n",
       "  <tbody>\n",
       "    <tr>\n",
       "      <th>0</th>\n",
       "      <td>0</td>\n",
       "      <td>женат / замужем</td>\n",
       "    </tr>\n",
       "    <tr>\n",
       "      <th>1</th>\n",
       "      <td>1</td>\n",
       "      <td>гражданский брак</td>\n",
       "    </tr>\n",
       "    <tr>\n",
       "      <th>2</th>\n",
       "      <td>2</td>\n",
       "      <td>вдовец / вдова</td>\n",
       "    </tr>\n",
       "    <tr>\n",
       "      <th>3</th>\n",
       "      <td>3</td>\n",
       "      <td>в разводе</td>\n",
       "    </tr>\n",
       "    <tr>\n",
       "      <th>4</th>\n",
       "      <td>4</td>\n",
       "      <td>Не женат / не замужем</td>\n",
       "    </tr>\n",
       "  </tbody>\n",
       "</table>\n",
       "</div>"
      ],
      "text/plain": [
       "   family_status_id          family_status\n",
       "0                 0        женат / замужем\n",
       "1                 1       гражданский брак\n",
       "2                 2         вдовец / вдова\n",
       "3                 3              в разводе\n",
       "4                 4  Не женат / не замужем"
      ]
     },
     "execution_count": 28,
     "metadata": {},
     "output_type": "execute_result"
    }
   ],
   "source": [
    "# создадим новую таблицу family_dict, удалим дубликаты и сбросим индексы\n",
    "family_dict = data[['family_status_id', 'family_status']].drop_duplicates().reset_index(drop=True)\n",
    "family_dict"
   ]
  },
  {
   "cell_type": "code",
   "execution_count": 29,
   "id": "abbf3c25",
   "metadata": {},
   "outputs": [],
   "source": [
    "# из таблицы family_dict подставим family_status, соответствующие family_status_id путем объединения таблиц\n",
    "debt_family = debt_family.merge(family_dict, on='family_status_id', how='left')"
   ]
  },
  {
   "cell_type": "code",
   "execution_count": 30,
   "id": "8778ece9",
   "metadata": {},
   "outputs": [],
   "source": [
    "# преобразуем долю в проценты для удобства\n",
    "debt_family ['mean'] = round((debt_family ['mean'] * 100), 2)"
   ]
  },
  {
   "cell_type": "code",
   "execution_count": 31,
   "id": "ff1badc8",
   "metadata": {},
   "outputs": [
    {
     "data": {
      "text/html": [
       "<div>\n",
       "<style scoped>\n",
       "    .dataframe tbody tr th:only-of-type {\n",
       "        vertical-align: middle;\n",
       "    }\n",
       "\n",
       "    .dataframe tbody tr th {\n",
       "        vertical-align: top;\n",
       "    }\n",
       "\n",
       "    .dataframe thead th {\n",
       "        text-align: right;\n",
       "    }\n",
       "</style>\n",
       "<table border=\"1\" class=\"dataframe\">\n",
       "  <thead>\n",
       "    <tr style=\"text-align: right;\">\n",
       "      <th></th>\n",
       "      <th>family_status_id</th>\n",
       "      <th>count</th>\n",
       "      <th>mean</th>\n",
       "      <th>sum</th>\n",
       "      <th>family_status</th>\n",
       "      <th>percent_group</th>\n",
       "    </tr>\n",
       "  </thead>\n",
       "  <tbody>\n",
       "    <tr>\n",
       "      <th>0</th>\n",
       "      <td>0</td>\n",
       "      <td>12261.0</td>\n",
       "      <td>7.56</td>\n",
       "      <td>927.0</td>\n",
       "      <td>женат / замужем</td>\n",
       "      <td>57.48</td>\n",
       "    </tr>\n",
       "    <tr>\n",
       "      <th>1</th>\n",
       "      <td>1</td>\n",
       "      <td>4134.0</td>\n",
       "      <td>9.31</td>\n",
       "      <td>385.0</td>\n",
       "      <td>гражданский брак</td>\n",
       "      <td>19.38</td>\n",
       "    </tr>\n",
       "    <tr>\n",
       "      <th>2</th>\n",
       "      <td>2</td>\n",
       "      <td>951.0</td>\n",
       "      <td>6.62</td>\n",
       "      <td>63.0</td>\n",
       "      <td>вдовец / вдова</td>\n",
       "      <td>4.46</td>\n",
       "    </tr>\n",
       "    <tr>\n",
       "      <th>3</th>\n",
       "      <td>3</td>\n",
       "      <td>1189.0</td>\n",
       "      <td>7.06</td>\n",
       "      <td>84.0</td>\n",
       "      <td>в разводе</td>\n",
       "      <td>5.57</td>\n",
       "    </tr>\n",
       "    <tr>\n",
       "      <th>4</th>\n",
       "      <td>4</td>\n",
       "      <td>2796.0</td>\n",
       "      <td>9.76</td>\n",
       "      <td>273.0</td>\n",
       "      <td>Не женат / не замужем</td>\n",
       "      <td>13.11</td>\n",
       "    </tr>\n",
       "  </tbody>\n",
       "</table>\n",
       "</div>"
      ],
      "text/plain": [
       "   family_status_id    count  mean    sum          family_status  \\\n",
       "0                 0  12261.0  7.56  927.0        женат / замужем   \n",
       "1                 1   4134.0  9.31  385.0       гражданский брак   \n",
       "2                 2    951.0  6.62   63.0         вдовец / вдова   \n",
       "3                 3   1189.0  7.06   84.0              в разводе   \n",
       "4                 4   2796.0  9.76  273.0  Не женат / не замужем   \n",
       "\n",
       "   percent_group  \n",
       "0          57.48  \n",
       "1          19.38  \n",
       "2           4.46  \n",
       "3           5.57  \n",
       "4          13.11  "
      ]
     },
     "execution_count": 31,
     "metadata": {},
     "output_type": "execute_result"
    }
   ],
   "source": [
    "# посчитаем долю каждой группы заемщиков в выборке для оценки репрезентативности результатов\n",
    "debt_family ['percent_group'] = round((debt_family['count'] / len(data) * 100), 2)\n",
    "debt_family"
   ]
  },
  {
   "cell_type": "code",
   "execution_count": 32,
   "id": "650b3701",
   "metadata": {},
   "outputs": [
    {
     "data": {
      "text/html": [
       "<div>\n",
       "<style scoped>\n",
       "    .dataframe tbody tr th:only-of-type {\n",
       "        vertical-align: middle;\n",
       "    }\n",
       "\n",
       "    .dataframe tbody tr th {\n",
       "        vertical-align: top;\n",
       "    }\n",
       "\n",
       "    .dataframe thead th {\n",
       "        text-align: right;\n",
       "    }\n",
       "</style>\n",
       "<table border=\"1\" class=\"dataframe\">\n",
       "  <thead>\n",
       "    <tr style=\"text-align: right;\">\n",
       "      <th></th>\n",
       "      <th>Семейное положение</th>\n",
       "      <th>Кол-во заемщиков</th>\n",
       "      <th>Кол-во просрочек</th>\n",
       "      <th>% просрочек</th>\n",
       "      <th>% группы</th>\n",
       "    </tr>\n",
       "  </thead>\n",
       "  <tbody>\n",
       "    <tr>\n",
       "      <th>0</th>\n",
       "      <td>женат / замужем</td>\n",
       "      <td>12261.0</td>\n",
       "      <td>927.0</td>\n",
       "      <td>7.56</td>\n",
       "      <td>57.48</td>\n",
       "    </tr>\n",
       "    <tr>\n",
       "      <th>1</th>\n",
       "      <td>гражданский брак</td>\n",
       "      <td>4134.0</td>\n",
       "      <td>385.0</td>\n",
       "      <td>9.31</td>\n",
       "      <td>19.38</td>\n",
       "    </tr>\n",
       "    <tr>\n",
       "      <th>2</th>\n",
       "      <td>вдовец / вдова</td>\n",
       "      <td>951.0</td>\n",
       "      <td>63.0</td>\n",
       "      <td>6.62</td>\n",
       "      <td>4.46</td>\n",
       "    </tr>\n",
       "    <tr>\n",
       "      <th>3</th>\n",
       "      <td>в разводе</td>\n",
       "      <td>1189.0</td>\n",
       "      <td>84.0</td>\n",
       "      <td>7.06</td>\n",
       "      <td>5.57</td>\n",
       "    </tr>\n",
       "    <tr>\n",
       "      <th>4</th>\n",
       "      <td>Не женат / не замужем</td>\n",
       "      <td>2796.0</td>\n",
       "      <td>273.0</td>\n",
       "      <td>9.76</td>\n",
       "      <td>13.11</td>\n",
       "    </tr>\n",
       "  </tbody>\n",
       "</table>\n",
       "</div>"
      ],
      "text/plain": [
       "      Семейное положение  Кол-во заемщиков  Кол-во просрочек  % просрочек  \\\n",
       "0        женат / замужем           12261.0             927.0         7.56   \n",
       "1       гражданский брак            4134.0             385.0         9.31   \n",
       "2         вдовец / вдова             951.0              63.0         6.62   \n",
       "3              в разводе            1189.0              84.0         7.06   \n",
       "4  Не женат / не замужем            2796.0             273.0         9.76   \n",
       "\n",
       "   % группы  \n",
       "0     57.48  \n",
       "1     19.38  \n",
       "2      4.46  \n",
       "3      5.57  \n",
       "4     13.11  "
      ]
     },
     "execution_count": 32,
     "metadata": {},
     "output_type": "execute_result"
    }
   ],
   "source": [
    "#Для удобства переименуем название столбцов\n",
    "debt_family[['family_status', 'count' ,'sum', 'mean', 'percent_group']].rename(columns={\n",
    "    'family_status': 'Семейное положение', 'count' : 'Кол-во заемщиков','sum' : 'Кол-во просрочек',\n",
    "    'mean' : '% просрочек', 'percent_group' : '% группы'})"
   ]
  },
  {
   "cell_type": "markdown",
   "id": "d0f61ed1",
   "metadata": {
    "deletable": false,
    "id": "1cef7837"
   },
   "source": [
    "**Вывод:** \n",
    "* самыми надежными заемщиками в исследуемой выборке являются вдовы/вдовцы и лица, находящиеся в разводе. При этом доля таких заемщиков составляет 4,5% и 5,6% соответсвенно.\n",
    "* Самыми проблемными заемщиками являются не женатые/ не замужние граждане."
   ]
  },
  {
   "cell_type": "markdown",
   "id": "f86dfd31",
   "metadata": {
    "deletable": false,
    "editable": false,
    "id": "1e8b2fca"
   },
   "source": [
    "#### 3.3 Есть ли зависимость между уровнем дохода и возвратом кредита в срок?"
   ]
  },
  {
   "cell_type": "code",
   "execution_count": 33,
   "id": "1710fb59",
   "metadata": {
    "deletable": false,
    "id": "cd7e3720"
   },
   "outputs": [
    {
     "data": {
      "text/html": [
       "<div>\n",
       "<style scoped>\n",
       "    .dataframe tbody tr th:only-of-type {\n",
       "        vertical-align: middle;\n",
       "    }\n",
       "\n",
       "    .dataframe tbody tr th {\n",
       "        vertical-align: top;\n",
       "    }\n",
       "\n",
       "    .dataframe thead th {\n",
       "        text-align: right;\n",
       "    }\n",
       "</style>\n",
       "<table border=\"1\" class=\"dataframe\">\n",
       "  <thead>\n",
       "    <tr style=\"text-align: right;\">\n",
       "      <th></th>\n",
       "      <th>total_income_category</th>\n",
       "      <th>count</th>\n",
       "      <th>mean</th>\n",
       "      <th>sum</th>\n",
       "    </tr>\n",
       "  </thead>\n",
       "  <tbody>\n",
       "    <tr>\n",
       "      <th>0</th>\n",
       "      <td>A</td>\n",
       "      <td>25.0</td>\n",
       "      <td>0.080000</td>\n",
       "      <td>2.0</td>\n",
       "    </tr>\n",
       "    <tr>\n",
       "      <th>1</th>\n",
       "      <td>B</td>\n",
       "      <td>5014.0</td>\n",
       "      <td>0.070602</td>\n",
       "      <td>354.0</td>\n",
       "    </tr>\n",
       "    <tr>\n",
       "      <th>2</th>\n",
       "      <td>C</td>\n",
       "      <td>15921.0</td>\n",
       "      <td>0.084982</td>\n",
       "      <td>1353.0</td>\n",
       "    </tr>\n",
       "    <tr>\n",
       "      <th>3</th>\n",
       "      <td>D</td>\n",
       "      <td>349.0</td>\n",
       "      <td>0.060172</td>\n",
       "      <td>21.0</td>\n",
       "    </tr>\n",
       "    <tr>\n",
       "      <th>4</th>\n",
       "      <td>E</td>\n",
       "      <td>22.0</td>\n",
       "      <td>0.090909</td>\n",
       "      <td>2.0</td>\n",
       "    </tr>\n",
       "  </tbody>\n",
       "</table>\n",
       "</div>"
      ],
      "text/plain": [
       "  total_income_category    count      mean     sum\n",
       "0                     A     25.0  0.080000     2.0\n",
       "1                     B   5014.0  0.070602   354.0\n",
       "2                     C  15921.0  0.084982  1353.0\n",
       "3                     D    349.0  0.060172    21.0\n",
       "4                     E     22.0  0.090909     2.0"
      ]
     },
     "execution_count": 33,
     "metadata": {},
     "output_type": "execute_result"
    }
   ],
   "source": [
    "# создадим сводную таблицу с группировкой по категорийному признаку total_income_category\n",
    "# в качестве агрегатных значение вычислим количество записей count и количество задолженностей sum в каждой группе\n",
    "# для дальнейшего удобства работы с таблицей осуществим сброс индексов и уйдем от двойной индексации\n",
    "debt_income = data.pivot_table(index = 'total_income_category', values = 'debt', \n",
    "                               aggfunc = {'count', 'sum', 'mean'}).reset_index().rename_axis(None, axis=1)\n",
    "debt_income"
   ]
  },
  {
   "cell_type": "code",
   "execution_count": 34,
   "id": "7435beff",
   "metadata": {},
   "outputs": [],
   "source": [
    "# преобразуем долю в проценты для удобства\n",
    "debt_income ['mean'] = round((debt_income ['mean'] * 100), 2)"
   ]
  },
  {
   "cell_type": "code",
   "execution_count": 35,
   "id": "e22ad1fc",
   "metadata": {},
   "outputs": [
    {
     "data": {
      "text/html": [
       "<div>\n",
       "<style scoped>\n",
       "    .dataframe tbody tr th:only-of-type {\n",
       "        vertical-align: middle;\n",
       "    }\n",
       "\n",
       "    .dataframe tbody tr th {\n",
       "        vertical-align: top;\n",
       "    }\n",
       "\n",
       "    .dataframe thead th {\n",
       "        text-align: right;\n",
       "    }\n",
       "</style>\n",
       "<table border=\"1\" class=\"dataframe\">\n",
       "  <thead>\n",
       "    <tr style=\"text-align: right;\">\n",
       "      <th></th>\n",
       "      <th>total_income_category</th>\n",
       "      <th>count</th>\n",
       "      <th>mean</th>\n",
       "      <th>sum</th>\n",
       "      <th>percent_group</th>\n",
       "    </tr>\n",
       "  </thead>\n",
       "  <tbody>\n",
       "    <tr>\n",
       "      <th>0</th>\n",
       "      <td>A</td>\n",
       "      <td>25.0</td>\n",
       "      <td>8.00</td>\n",
       "      <td>2.0</td>\n",
       "      <td>0.12</td>\n",
       "    </tr>\n",
       "    <tr>\n",
       "      <th>1</th>\n",
       "      <td>B</td>\n",
       "      <td>5014.0</td>\n",
       "      <td>7.06</td>\n",
       "      <td>354.0</td>\n",
       "      <td>23.51</td>\n",
       "    </tr>\n",
       "    <tr>\n",
       "      <th>2</th>\n",
       "      <td>C</td>\n",
       "      <td>15921.0</td>\n",
       "      <td>8.50</td>\n",
       "      <td>1353.0</td>\n",
       "      <td>74.64</td>\n",
       "    </tr>\n",
       "    <tr>\n",
       "      <th>3</th>\n",
       "      <td>D</td>\n",
       "      <td>349.0</td>\n",
       "      <td>6.02</td>\n",
       "      <td>21.0</td>\n",
       "      <td>1.64</td>\n",
       "    </tr>\n",
       "    <tr>\n",
       "      <th>4</th>\n",
       "      <td>E</td>\n",
       "      <td>22.0</td>\n",
       "      <td>9.09</td>\n",
       "      <td>2.0</td>\n",
       "      <td>0.10</td>\n",
       "    </tr>\n",
       "  </tbody>\n",
       "</table>\n",
       "</div>"
      ],
      "text/plain": [
       "  total_income_category    count  mean     sum  percent_group\n",
       "0                     A     25.0  8.00     2.0           0.12\n",
       "1                     B   5014.0  7.06   354.0          23.51\n",
       "2                     C  15921.0  8.50  1353.0          74.64\n",
       "3                     D    349.0  6.02    21.0           1.64\n",
       "4                     E     22.0  9.09     2.0           0.10"
      ]
     },
     "execution_count": 35,
     "metadata": {},
     "output_type": "execute_result"
    }
   ],
   "source": [
    "# посчитаем долю каждой группы заемщиков в выборке для оценки репрезентативности результатов\n",
    "debt_income ['percent_group'] = round((debt_income['count'] / len(data) * 100), 2)\n",
    "debt_income"
   ]
  },
  {
   "cell_type": "code",
   "execution_count": 36,
   "id": "41bdf7aa",
   "metadata": {},
   "outputs": [],
   "source": [
    "# сделаем столбец с расшифровкой категории дохода заемщика\n",
    "for t_i_c in debt_income['total_income_category']:\n",
    "    try:\n",
    "        if t_i_c == 'E':\n",
    "            debt_income.loc[debt_income['total_income_category'] == t_i_c, 'level_income'] = 'доход до 30000'\n",
    "        elif t_i_c == 'D':\n",
    "            debt_income.loc[debt_income['total_income_category'] == t_i_c, 'level_income'] = 'доход от 30001 до 50000'\n",
    "        elif t_i_c == 'C':\n",
    "            debt_income.loc[debt_income['total_income_category'] == t_i_c, 'level_income'] = 'доход от 50001 до 200000'\n",
    "        elif t_i_c == 'B':\n",
    "            debt_income.loc[debt_income['total_income_category'] == t_i_c, 'level_income'] = 'доход от 200001 до 1000000'\n",
    "        elif t_i_c == 'A':\n",
    "            debt_income.loc[debt_income['total_income_category'] == t_i_c, 'level_income'] = 'доход более 1000001'\n",
    "    except:\n",
    "        pass"
   ]
  },
  {
   "cell_type": "code",
   "execution_count": 37,
   "id": "9560758a",
   "metadata": {
    "scrolled": true
   },
   "outputs": [
    {
     "data": {
      "text/html": [
       "<div>\n",
       "<style scoped>\n",
       "    .dataframe tbody tr th:only-of-type {\n",
       "        vertical-align: middle;\n",
       "    }\n",
       "\n",
       "    .dataframe tbody tr th {\n",
       "        vertical-align: top;\n",
       "    }\n",
       "\n",
       "    .dataframe thead th {\n",
       "        text-align: right;\n",
       "    }\n",
       "</style>\n",
       "<table border=\"1\" class=\"dataframe\">\n",
       "  <thead>\n",
       "    <tr style=\"text-align: right;\">\n",
       "      <th></th>\n",
       "      <th>Категория дохода</th>\n",
       "      <th>Уровень дохода</th>\n",
       "      <th>Кол-во заемщиков</th>\n",
       "      <th>Кол-во просрочек</th>\n",
       "      <th>% просрочек</th>\n",
       "      <th>% группы</th>\n",
       "    </tr>\n",
       "  </thead>\n",
       "  <tbody>\n",
       "    <tr>\n",
       "      <th>0</th>\n",
       "      <td>A</td>\n",
       "      <td>доход более 1000001</td>\n",
       "      <td>25.0</td>\n",
       "      <td>2.0</td>\n",
       "      <td>8.00</td>\n",
       "      <td>0.12</td>\n",
       "    </tr>\n",
       "    <tr>\n",
       "      <th>1</th>\n",
       "      <td>B</td>\n",
       "      <td>доход от 200001 до 1000000</td>\n",
       "      <td>5014.0</td>\n",
       "      <td>354.0</td>\n",
       "      <td>7.06</td>\n",
       "      <td>23.51</td>\n",
       "    </tr>\n",
       "    <tr>\n",
       "      <th>2</th>\n",
       "      <td>C</td>\n",
       "      <td>доход от 50001 до 200000</td>\n",
       "      <td>15921.0</td>\n",
       "      <td>1353.0</td>\n",
       "      <td>8.50</td>\n",
       "      <td>74.64</td>\n",
       "    </tr>\n",
       "    <tr>\n",
       "      <th>3</th>\n",
       "      <td>D</td>\n",
       "      <td>доход от 30001 до 50000</td>\n",
       "      <td>349.0</td>\n",
       "      <td>21.0</td>\n",
       "      <td>6.02</td>\n",
       "      <td>1.64</td>\n",
       "    </tr>\n",
       "    <tr>\n",
       "      <th>4</th>\n",
       "      <td>E</td>\n",
       "      <td>доход до 30000</td>\n",
       "      <td>22.0</td>\n",
       "      <td>2.0</td>\n",
       "      <td>9.09</td>\n",
       "      <td>0.10</td>\n",
       "    </tr>\n",
       "  </tbody>\n",
       "</table>\n",
       "</div>"
      ],
      "text/plain": [
       "  Категория дохода              Уровень дохода  Кол-во заемщиков  \\\n",
       "0                A         доход более 1000001              25.0   \n",
       "1                B  доход от 200001 до 1000000            5014.0   \n",
       "2                C    доход от 50001 до 200000           15921.0   \n",
       "3                D     доход от 30001 до 50000             349.0   \n",
       "4                E              доход до 30000              22.0   \n",
       "\n",
       "   Кол-во просрочек  % просрочек  % группы  \n",
       "0               2.0         8.00      0.12  \n",
       "1             354.0         7.06     23.51  \n",
       "2            1353.0         8.50     74.64  \n",
       "3              21.0         6.02      1.64  \n",
       "4               2.0         9.09      0.10  "
      ]
     },
     "execution_count": 37,
     "metadata": {},
     "output_type": "execute_result"
    }
   ],
   "source": [
    "#Для удобства переименуем название столбцов\n",
    "debt_income[['total_income_category', 'level_income', 'count','sum', 'mean', 'percent_group']].rename(columns={\n",
    "    'total_income_category': 'Категория дохода', 'level_income': 'Уровень дохода', 'count' : 'Кол-во заемщиков',\n",
    "     'sum' : 'Кол-во просрочек', 'mean' : '% просрочек', 'percent_group' : '% группы'})"
   ]
  },
  {
   "cell_type": "markdown",
   "id": "036407a0",
   "metadata": {
    "deletable": false,
    "id": "e8593def"
   },
   "source": [
    "**Вывод:** \n",
    "* Минимальный уровень просрочки наблюдается у заемщиков категории *D* (уровень дохода от 30001 до 50000).\n",
    "* Максимальный уровень просроченной задолженности у лиц категории *E* с доходами до 30000. \n",
    "* Категории *D* *E* в исследуемой выборке являются несущественными.\n",
    "* Основной сегмент заемщиков, представлен клиентами с доходами от 50001 до 1000000 (*категории C и B*). \n",
    "* Более надежными заемщиками являются клиенты категории *B*. "
   ]
  },
  {
   "cell_type": "markdown",
   "id": "b5c7fc9f",
   "metadata": {
    "deletable": false,
    "editable": false,
    "id": "99ecbd1f"
   },
   "source": [
    "#### 3.4 Как разные цели кредита влияют на его возврат в срок?"
   ]
  },
  {
   "cell_type": "code",
   "execution_count": 38,
   "id": "4e07b734",
   "metadata": {
    "deletable": false,
    "id": "2b687290"
   },
   "outputs": [
    {
     "data": {
      "text/html": [
       "<div>\n",
       "<style scoped>\n",
       "    .dataframe tbody tr th:only-of-type {\n",
       "        vertical-align: middle;\n",
       "    }\n",
       "\n",
       "    .dataframe tbody tr th {\n",
       "        vertical-align: top;\n",
       "    }\n",
       "\n",
       "    .dataframe thead th {\n",
       "        text-align: right;\n",
       "    }\n",
       "</style>\n",
       "<table border=\"1\" class=\"dataframe\">\n",
       "  <thead>\n",
       "    <tr style=\"text-align: right;\">\n",
       "      <th></th>\n",
       "      <th>purpose_category</th>\n",
       "      <th>count</th>\n",
       "      <th>sum</th>\n",
       "    </tr>\n",
       "  </thead>\n",
       "  <tbody>\n",
       "    <tr>\n",
       "      <th>0</th>\n",
       "      <td>операции с автомобилем</td>\n",
       "      <td>4279</td>\n",
       "      <td>400</td>\n",
       "    </tr>\n",
       "    <tr>\n",
       "      <th>1</th>\n",
       "      <td>операции с недвижимостью</td>\n",
       "      <td>10751</td>\n",
       "      <td>780</td>\n",
       "    </tr>\n",
       "    <tr>\n",
       "      <th>2</th>\n",
       "      <td>получение образования</td>\n",
       "      <td>3988</td>\n",
       "      <td>369</td>\n",
       "    </tr>\n",
       "    <tr>\n",
       "      <th>3</th>\n",
       "      <td>проведение свадьбы</td>\n",
       "      <td>2313</td>\n",
       "      <td>183</td>\n",
       "    </tr>\n",
       "  </tbody>\n",
       "</table>\n",
       "</div>"
      ],
      "text/plain": [
       "           purpose_category  count  sum\n",
       "0    операции с автомобилем   4279  400\n",
       "1  операции с недвижимостью  10751  780\n",
       "2     получение образования   3988  369\n",
       "3        проведение свадьбы   2313  183"
      ]
     },
     "execution_count": 38,
     "metadata": {},
     "output_type": "execute_result"
    }
   ],
   "source": [
    "# создадим сводную таблицу с группировкой по категорийному признаку purpose_category\n",
    "# в качестве агрегатных значение вычислим количество записей count и количество задолженностей sum в каждой группе\n",
    "# для дальнейшего удобства работы с таблицей осуществим сброс индексов и уйдем от двойной индексации\n",
    "debt_purpose = data.pivot_table(index = 'purpose_category', values = 'debt', \n",
    "                               aggfunc = {'count', 'sum'}).reset_index().rename_axis(None, axis=1)\n",
    "debt_purpose"
   ]
  },
  {
   "cell_type": "code",
   "execution_count": 39,
   "id": "d9d54010",
   "metadata": {},
   "outputs": [
    {
     "data": {
      "text/html": [
       "<div>\n",
       "<style scoped>\n",
       "    .dataframe tbody tr th:only-of-type {\n",
       "        vertical-align: middle;\n",
       "    }\n",
       "\n",
       "    .dataframe tbody tr th {\n",
       "        vertical-align: top;\n",
       "    }\n",
       "\n",
       "    .dataframe thead th {\n",
       "        text-align: right;\n",
       "    }\n",
       "</style>\n",
       "<table border=\"1\" class=\"dataframe\">\n",
       "  <thead>\n",
       "    <tr style=\"text-align: right;\">\n",
       "      <th></th>\n",
       "      <th>purpose_category</th>\n",
       "      <th>count</th>\n",
       "      <th>sum</th>\n",
       "      <th>percent_debt</th>\n",
       "      <th>percent_group</th>\n",
       "    </tr>\n",
       "  </thead>\n",
       "  <tbody>\n",
       "    <tr>\n",
       "      <th>0</th>\n",
       "      <td>операции с автомобилем</td>\n",
       "      <td>4279</td>\n",
       "      <td>400</td>\n",
       "      <td>9.35</td>\n",
       "      <td>20.06</td>\n",
       "    </tr>\n",
       "    <tr>\n",
       "      <th>1</th>\n",
       "      <td>операции с недвижимостью</td>\n",
       "      <td>10751</td>\n",
       "      <td>780</td>\n",
       "      <td>7.26</td>\n",
       "      <td>50.40</td>\n",
       "    </tr>\n",
       "    <tr>\n",
       "      <th>2</th>\n",
       "      <td>получение образования</td>\n",
       "      <td>3988</td>\n",
       "      <td>369</td>\n",
       "      <td>9.25</td>\n",
       "      <td>18.70</td>\n",
       "    </tr>\n",
       "    <tr>\n",
       "      <th>3</th>\n",
       "      <td>проведение свадьбы</td>\n",
       "      <td>2313</td>\n",
       "      <td>183</td>\n",
       "      <td>7.91</td>\n",
       "      <td>10.84</td>\n",
       "    </tr>\n",
       "  </tbody>\n",
       "</table>\n",
       "</div>"
      ],
      "text/plain": [
       "           purpose_category  count  sum  percent_debt  percent_group\n",
       "0    операции с автомобилем   4279  400          9.35          20.06\n",
       "1  операции с недвижимостью  10751  780          7.26          50.40\n",
       "2     получение образования   3988  369          9.25          18.70\n",
       "3        проведение свадьбы   2313  183          7.91          10.84"
      ]
     },
     "execution_count": 39,
     "metadata": {},
     "output_type": "execute_result"
    }
   ],
   "source": [
    "# расчитаем процент невозврата в каждой группе \n",
    "debt_purpose ['percent_debt'] = round((debt_purpose['sum'] / debt_purpose['count'] * 100), 2)\n",
    "# посчитаем долю каждой группы заемщиков в выборке для оценки репрезентативности результатов\n",
    "debt_purpose ['percent_group'] = round((debt_purpose['count'] / len(data) * 100), 2)\n",
    "debt_purpose"
   ]
  },
  {
   "cell_type": "code",
   "execution_count": 40,
   "id": "47b331a2",
   "metadata": {},
   "outputs": [
    {
     "data": {
      "text/html": [
       "<div>\n",
       "<style scoped>\n",
       "    .dataframe tbody tr th:only-of-type {\n",
       "        vertical-align: middle;\n",
       "    }\n",
       "\n",
       "    .dataframe tbody tr th {\n",
       "        vertical-align: top;\n",
       "    }\n",
       "\n",
       "    .dataframe thead th {\n",
       "        text-align: right;\n",
       "    }\n",
       "</style>\n",
       "<table border=\"1\" class=\"dataframe\">\n",
       "  <thead>\n",
       "    <tr style=\"text-align: right;\">\n",
       "      <th></th>\n",
       "      <th>Цель кредита</th>\n",
       "      <th>Кол-во заемщиков</th>\n",
       "      <th>Кол-во просрочек</th>\n",
       "      <th>% просрочек</th>\n",
       "      <th>% группы кредитов</th>\n",
       "    </tr>\n",
       "  </thead>\n",
       "  <tbody>\n",
       "    <tr>\n",
       "      <th>0</th>\n",
       "      <td>операции с автомобилем</td>\n",
       "      <td>4279</td>\n",
       "      <td>400</td>\n",
       "      <td>9.35</td>\n",
       "      <td>20.06</td>\n",
       "    </tr>\n",
       "    <tr>\n",
       "      <th>1</th>\n",
       "      <td>операции с недвижимостью</td>\n",
       "      <td>10751</td>\n",
       "      <td>780</td>\n",
       "      <td>7.26</td>\n",
       "      <td>50.40</td>\n",
       "    </tr>\n",
       "    <tr>\n",
       "      <th>2</th>\n",
       "      <td>получение образования</td>\n",
       "      <td>3988</td>\n",
       "      <td>369</td>\n",
       "      <td>9.25</td>\n",
       "      <td>18.70</td>\n",
       "    </tr>\n",
       "    <tr>\n",
       "      <th>3</th>\n",
       "      <td>проведение свадьбы</td>\n",
       "      <td>2313</td>\n",
       "      <td>183</td>\n",
       "      <td>7.91</td>\n",
       "      <td>10.84</td>\n",
       "    </tr>\n",
       "  </tbody>\n",
       "</table>\n",
       "</div>"
      ],
      "text/plain": [
       "               Цель кредита  Кол-во заемщиков  Кол-во просрочек  % просрочек  \\\n",
       "0    операции с автомобилем              4279               400         9.35   \n",
       "1  операции с недвижимостью             10751               780         7.26   \n",
       "2     получение образования              3988               369         9.25   \n",
       "3        проведение свадьбы              2313               183         7.91   \n",
       "\n",
       "   % группы кредитов  \n",
       "0              20.06  \n",
       "1              50.40  \n",
       "2              18.70  \n",
       "3              10.84  "
      ]
     },
     "execution_count": 40,
     "metadata": {},
     "output_type": "execute_result"
    }
   ],
   "source": [
    "#Для удобства переименуем название столбцов\n",
    "debt_purpose[['purpose_category', 'count','sum', 'percent_debt', 'percent_group']].rename(columns={\n",
    "    'purpose_category': 'Цель кредита', 'count' : 'Кол-во заемщиков', 'sum' : 'Кол-во просрочек', \n",
    "    'percent_debt' : '% просрочек', 'percent_group' : '% группы кредитов'})"
   ]
  },
  {
   "cell_type": "markdown",
   "id": "161afc5c",
   "metadata": {
    "deletable": false,
    "id": "b4bb2ce6"
   },
   "source": [
    "**Вывод:** \n",
    "* Основная доля кредитов привлекалась (более 50%) для операций с недвижимость, в данной категории минимальный уровень просрочки.\n",
    "* Кредиты на проведения свадьбы находятся на втором месте по благонадержности. Процент таких кредитов составляет 11% в исследуемой выборке.\n",
    "* Кредитов, направленных на образование, почти 4000, при этом уровень просрочки составляет 9.25%. \n",
    "* Немного больше кредитов, привлечено на операции с автомобилями, но и качество данных кредитов также немного хуже.\n",
    "* Лидерами по просроченной задолженности в данной выборке являются кредиты с автомобилями."
   ]
  },
  {
   "cell_type": "markdown",
   "id": "100e1ee3",
   "metadata": {
    "deletable": false,
    "editable": false,
    "id": "09c3ac4c"
   },
   "source": [
    "#### 3.5 Приведите возможные причины появления пропусков в исходных данных."
   ]
  },
  {
   "cell_type": "code",
   "execution_count": 41,
   "id": "d98c5bac",
   "metadata": {},
   "outputs": [],
   "source": [
    "# проведем маленькое расследование \n",
    "# возьмем исходный датафрей\n",
    "try:\n",
    "    data_nan= pd.read_csv('/datasets/data.csv')\n",
    "except:\n",
    "    data_nan = pd.read_csv('/another_folder/datasets/data.csv')"
   ]
  },
  {
   "cell_type": "code",
   "execution_count": 42,
   "id": "bd5b5225",
   "metadata": {},
   "outputs": [
    {
     "name": "stdout",
     "output_type": "stream",
     "text": [
      "<class 'pandas.core.frame.DataFrame'>\n",
      "Int64Index: 2174 entries, 12 to 21510\n",
      "Data columns (total 12 columns):\n",
      " #   Column            Non-Null Count  Dtype  \n",
      "---  ------            --------------  -----  \n",
      " 0   children          2174 non-null   int64  \n",
      " 1   days_employed     0 non-null      float64\n",
      " 2   dob_years         2174 non-null   int64  \n",
      " 3   education         2174 non-null   object \n",
      " 4   education_id      2174 non-null   int64  \n",
      " 5   family_status     2174 non-null   object \n",
      " 6   family_status_id  2174 non-null   int64  \n",
      " 7   gender            2174 non-null   object \n",
      " 8   income_type       2174 non-null   object \n",
      " 9   debt              2174 non-null   int64  \n",
      " 10  total_income      0 non-null      float64\n",
      " 11  purpose           2174 non-null   object \n",
      "dtypes: float64(2), int64(5), object(5)\n",
      "memory usage: 220.8+ KB\n"
     ]
    }
   ],
   "source": [
    "# выведем информацию о выборке, в которой пропущены данные о доходах заемщика\n",
    "data_nan[data_nan['total_income'].isna()].info()"
   ]
  },
  {
   "cell_type": "code",
   "execution_count": 43,
   "id": "6a009b80",
   "metadata": {},
   "outputs": [],
   "source": [
    "# выберем записи с отсуствующими значениями\n",
    "data_nan = data_nan[data_nan['total_income'].isna()]"
   ]
  },
  {
   "cell_type": "markdown",
   "id": "ea3ed27f",
   "metadata": {},
   "source": [
    "Проверим предположение о том, что пропуск значение в поле total_income и days_employed коррелируют друг с другом."
   ]
  },
  {
   "cell_type": "code",
   "execution_count": 44,
   "id": "18e0da1c",
   "metadata": {},
   "outputs": [
    {
     "data": {
      "text/plain": [
       "income_type\n",
       "госслужащий        0.0\n",
       "компаньон          0.0\n",
       "пенсионер          0.0\n",
       "предприниматель    0.0\n",
       "сотрудник          0.0\n",
       "Name: days_employed, dtype: float64"
      ]
     },
     "execution_count": 44,
     "metadata": {},
     "output_type": "execute_result"
    }
   ],
   "source": [
    "# сгруппируем по столбцу тип занятости (income_type) и оценим интересующую нас колонку days_employed\n",
    "# если есть хотя бы одно не нулевое значение, мы получим сумму, отличную от нуля\n",
    "data_nan.groupby('income_type')['days_employed'].sum()"
   ]
  },
  {
   "cell_type": "code",
   "execution_count": 45,
   "id": "a6563213",
   "metadata": {},
   "outputs": [
    {
     "data": {
      "text/plain": [
       "income_type\n",
       "госслужащий         147\n",
       "компаньон           508\n",
       "пенсионер           413\n",
       "предприниматель       1\n",
       "сотрудник          1105\n",
       "Name: children, dtype: int64"
      ]
     },
     "execution_count": 45,
     "metadata": {},
     "output_type": "execute_result"
    }
   ],
   "source": [
    "# проверим как распределены пропуски по группам занятости\n",
    "data_nan.groupby('income_type')['children'].count()"
   ]
  },
  {
   "cell_type": "markdown",
   "id": "377b4811",
   "metadata": {
    "deletable": false,
    "id": "9da2ceda"
   },
   "source": [
    "*Ответ:* массовые пропуски в данных согласно проведеному анализу не связаны с человеческим фактором и скорее всего являются результатом технического сбоя (например, не подгрузились данные из одной системы учета сотрудников в общую базу по кредитам).\n",
    "Единичные пропуски скорее всего связаны с человеческим фактором. "
   ]
  },
  {
   "cell_type": "markdown",
   "id": "5b5be58c",
   "metadata": {
    "deletable": false,
    "editable": false,
    "id": "7b0487d6"
   },
   "source": [
    "#### 3.6 Объясните, почему заполнить пропуски медианным значением — лучшее решение для количественных переменных."
   ]
  },
  {
   "cell_type": "markdown",
   "id": "7c0c7d3f",
   "metadata": {
    "deletable": false,
    "id": "7ecf2b8e"
   },
   "source": [
    "*Ответ:* медианное значение не подвергается воздействию выбросов (аномалий) в данных, как среднее значение. А заполнение нулями - сильно повлияет на статистику."
   ]
  },
  {
   "cell_type": "markdown",
   "id": "ed0c2b26",
   "metadata": {
    "deletable": false,
    "editable": false,
    "id": "6db5255a"
   },
   "source": [
    "### Шаг 4: общий вывод."
   ]
  },
  {
   "cell_type": "markdown",
   "id": "a2c915d3",
   "metadata": {
    "deletable": false,
    "id": "bad65432"
   },
   "source": [
    "В ходе проекта была исследована статистику платёжеспособности клиентов банка по представленным кредитным отделом данным.\n",
    "Целью являлось проверка гипотезы влияния семейного положения и количества детей клиента на факты погашения кредита в срок. Результаты проверки этих гипотез должны быть учтены при построении модели кредитного скоринга."
   ]
  },
  {
   "cell_type": "markdown",
   "id": "6bfe973e",
   "metadata": {},
   "source": [
    "**Перед проверкой гипотез был проведен обзор и предобработка данных:**\n",
    "\n",
    "* Проверка данных на пропущенные значения выявила пропуски в двух столбцах `income_type` и `days_employed`. Анализ причин появления пропусков в данных столбцах указывает, что данные в данных колонках пропущены в результате технического сбоя.\n",
    "Пропуски в столбце `income_type`, который оказывает существенное влияние на анализ выборки, были заполнены медианными значениями для каждого типа занятости.\n",
    "Пропуски в `days_employed` на текущем этапе исследования не заполнялись, так как в исследовании вышеуказанных гипотез не участвовали.\n",
    "\n",
    "* Были удалены артефакты (аномалии) — значения, которые не отражают действительность и появились по какой-то ошибке и полные дубликаты.\n",
    "\n",
    "* Проведена категоризация данных по столбцам \n",
    "   `total_income` - все клиенты были разделены на категории в зависимости от размера их дохода.\n",
    "   `purpose` - все цели привлечения денежных средств клиентами были разделены на 4 группы."
   ]
  },
  {
   "cell_type": "markdown",
   "id": "2f8557ed",
   "metadata": {},
   "source": [
    "**Проверены гипотезы и выявлены следующие закономерности:**\n",
    "\n",
    "*Влияние семейного положения на возврат кредита в срок*\n",
    "\n",
    "Гипотеза, о том, что семейное положение оказывает влияние на возврат крдеита в срок подтвердилась.\n",
    "* Люди, находящиеся, либо ранее бывшие в официальных отношениях, возвращают кредиты лучше, чем, граждане не состоящие в браке.\n",
    "* Самыми надежными заемщиками в исследуемой выборке являются вдовы/вдовцы и лица, находящиеся в разводе. При этом совокупный портфель кредитов таких заемщиков около 10%. 6,6% и 7% составляют кредиты, возвращенные не в срок.\n",
    "* Самыми проблемными заемщиками являются не женатые/не замужние граждане (9,8% просроченных кредитов, 13% в кредитном портфеле банка) и граждане, состоящие в гражданском браке (9,3% просроченных кредитов, 19% в кредитном портфеле банка).\n",
    "* Максимальный количество кредитов выдано гражданам, находящимся в официальном браке - 57,5% в кредитном портфеле банка. Процент невозврата 7,6%.\n",
    "\n",
    "Таким образом, заемщики, находящиеся в официальном браке, либо ранее в нем состоящие, являются более ответственными в плане платежной дисциплины.\n",
    "\n",
    "*Влияние количества детей на возврат кредита в срок*\n",
    "\n",
    "\n",
    "Гипотеза о влиянии наличия детей у клиента на возврат кредита потверждена. \n",
    "* При наличии детей вероятность возврата кредита в срок снижается.\n",
    "* Семьи с 3 и более детьми становятся заемщиками банка очень редко - процент таких заемщиков составляет в общей сложности 1,78% в кредитной выборке. Поэтому эти данные не используем для оценки наличия закономерностей.\n",
    "* Лидерами по возврату кредитов являются семьи без детей, процент задолженности составляет 7.54%. Процент таких заемщиков в выборке банка 66%, таким образом можно сделать вывод, что люди без детей, охотнее привлекают и возвращают в срок заемные средства.\n",
    "* Семьи с детьми возвращают кредиты хуже. С увеличением количества детей ухудшается и качество кредитов и уменьшается их доля в кредитном портфеле банка:\n",
    "     - клиенты с одним ребенком составляют 22,5% от общего количества заемщиков, 9,2% кредитов возвращены не в срок.\n",
    "     - клиенты, имеющие 2 детей -           9,6% от общего количества заемщиков, 9,5% кредитов возвращены не в срок.\n",
    "\n",
    "*Влияние уровня дохода на возврат кредита в срок*\n",
    "\n",
    "\n",
    "В результате выявления зависимостей между уровнем дохода и возратом кредита установлено:\n",
    "* Общий кредитный портфель клиентов категории D (уровень дохода от 30001 до 50000), E (доходы до 30000) и A (доходы свяше 1000000) составляет менее 2%, и является несущественным при проведении анализа.\n",
    "* Основной сегмент заемщиков, представлен клиентами с доходами от 50001 до 1000000 (категории C и B).\n",
    "* Более надежными заемщиками являются клиенты категории B (доходы свыше 200000), процент просрочек составляет 7%, а кредитный портфель - 23,5% от общего кредитного портфеля.\n",
    "* Количество клиентов категории C (доходы до 200000) почти в 3 раза больше, а уровень просроченной задолженности на 1,5% выше.\n",
    "* Этот результат мог оказаться иным, если бы не пропуски в данных, которые были заполнены нами на основании медианных значений по типу занятости.\n",
    "\n",
    "*Влияние цели кредита на его возврат в срок*\n",
    "* Основная доля кредитов привлекалась (более 50%) для операций с недвижимость, в данной категории минимальный уровень просрочки - 7,3%, что объясняется скорее всего тем, что в качестве обеспечения по кредиту выступало недвижимое имущество.\n",
    "* Кредиты на проведения свадьбы находятся на втором месте по благонадержности. Процент таких кредитов составляет 11% в исследуемой выборке, и 7,9% - невозврата в установленный срок.\n",
    "* Кредитов, направленных на образование, почти 4000 или 18,7% от кредитного портфеля, при этом уровень просрочки составляет 9.25%.\n",
    "* Немного больше кредитов (20% из выборки), привлечено на операции с автомобилями, но и качество данных кредитов также немного хуже (9,35% просроченной задолженности).\n",
    "* Лидерами по просроченной задолженности в данной выборке являются кредиты с автомобилями. \n",
    "* Таким образом кредиты на приобретени автомобилей являются более рискованными, чем беззалоговые крдеиты на проведение свадебных мероприятий.\n"
   ]
  },
  {
   "cell_type": "markdown",
   "id": "8a96dac5",
   "metadata": {},
   "source": [
    "На основании вышеизложенного **наиболее привлекательным** для банка клиентом является гражданин \n",
    "- состоящий/ранее бывший в браке;\n",
    "- не имеющий несовершеннолетних детей;\n",
    "- с уровнем дохода свыше 200000\n",
    "\n",
    "Предпочтительная цель привлечения кредитных средств:\n",
    "- приобретение недвижимости\n",
    "- проведение свадебных мероприятий"
   ]
  },
  {
   "cell_type": "markdown",
   "id": "07071c10",
   "metadata": {},
   "source": [
    "При этом можно рекомендовать \n",
    "1. при построении скоринговой модели сегментировать на более мелкие категории уровень дохода заемщика;\n",
    "2. проработать вопрос дополнения/заполнения пропусков данными из других систем банка."
   ]
  },
  {
   "cell_type": "markdown",
   "id": "9afb599a",
   "metadata": {},
   "source": [
    "Согласно проведенно анализа можно сделать следующие выводы:\n",
    " - клиенты, находящиеся в браке, либо в разводе обладают лучшей платежной дисциплиной по сравнению с людьми, не состоящими в официальных отношениях;\n",
    " - самыми надежными клиентами банка являются вдовы и вдовцы;\n",
    " - при наличии детей вероятность возврата кредита в срок снижается;\n",
    " - прослеживается тендеция, что заемщики с большим количеством детей реже берут кредиты."
   ]
  },
  {
   "cell_type": "code",
   "execution_count": null,
   "id": "b2f40665",
   "metadata": {},
   "outputs": [],
   "source": []
  }
 ],
 "metadata": {
  "ExecuteTimeLog": [
   {
    "duration": 51,
    "start_time": "2023-02-06T23:41:19.776Z"
   },
   {
    "duration": 679,
    "start_time": "2023-02-06T23:41:37.491Z"
   },
   {
    "duration": 22,
    "start_time": "2023-02-06T23:41:38.171Z"
   },
   {
    "duration": 15,
    "start_time": "2023-02-06T23:41:38.194Z"
   },
   {
    "duration": 9,
    "start_time": "2023-02-06T23:41:38.211Z"
   },
   {
    "duration": 41,
    "start_time": "2023-02-06T23:41:38.222Z"
   },
   {
    "duration": 4,
    "start_time": "2023-02-06T23:41:38.265Z"
   },
   {
    "duration": 13,
    "start_time": "2023-02-06T23:41:38.270Z"
   },
   {
    "duration": 4,
    "start_time": "2023-02-06T23:41:38.284Z"
   },
   {
    "duration": 10,
    "start_time": "2023-02-06T23:41:38.290Z"
   },
   {
    "duration": 4,
    "start_time": "2023-02-06T23:41:38.303Z"
   },
   {
    "duration": 60,
    "start_time": "2023-02-06T23:41:38.308Z"
   },
   {
    "duration": 10,
    "start_time": "2023-02-06T23:41:38.370Z"
   },
   {
    "duration": 13,
    "start_time": "2023-02-06T23:41:38.381Z"
   },
   {
    "duration": 13,
    "start_time": "2023-02-06T23:41:38.396Z"
   },
   {
    "duration": 18,
    "start_time": "2023-02-06T23:41:38.410Z"
   },
   {
    "duration": 34,
    "start_time": "2023-02-06T23:41:38.429Z"
   },
   {
    "duration": 3,
    "start_time": "2023-02-06T23:41:38.465Z"
   },
   {
    "duration": 13,
    "start_time": "2023-02-06T23:41:38.470Z"
   },
   {
    "duration": 8,
    "start_time": "2023-02-06T23:41:38.485Z"
   },
   {
    "duration": 13,
    "start_time": "2023-02-06T23:41:38.495Z"
   },
   {
    "duration": 13,
    "start_time": "2023-02-06T23:41:38.510Z"
   },
   {
    "duration": 21,
    "start_time": "2023-02-06T23:41:50.096Z"
   },
   {
    "duration": 11,
    "start_time": "2023-02-06T23:41:53.588Z"
   },
   {
    "duration": 6,
    "start_time": "2023-02-06T23:41:56.725Z"
   },
   {
    "duration": 9,
    "start_time": "2023-02-06T23:41:58.745Z"
   },
   {
    "duration": 27,
    "start_time": "2023-02-06T23:44:13.666Z"
   },
   {
    "duration": 11,
    "start_time": "2023-02-06T23:44:15.666Z"
   },
   {
    "duration": 13,
    "start_time": "2023-02-06T23:44:17.395Z"
   },
   {
    "duration": 6,
    "start_time": "2023-02-06T23:44:19.166Z"
   },
   {
    "duration": 11,
    "start_time": "2023-02-06T23:44:20.569Z"
   },
   {
    "duration": 12,
    "start_time": "2023-02-06T23:44:22.974Z"
   },
   {
    "duration": 30,
    "start_time": "2023-02-06T23:45:53.995Z"
   },
   {
    "duration": 16,
    "start_time": "2023-02-06T23:45:55.377Z"
   },
   {
    "duration": 8,
    "start_time": "2023-02-06T23:45:56.814Z"
   },
   {
    "duration": 12,
    "start_time": "2023-02-06T23:45:58.338Z"
   },
   {
    "duration": 19,
    "start_time": "2023-02-06T23:47:33.045Z"
   },
   {
    "duration": 11,
    "start_time": "2023-02-06T23:47:34.088Z"
   },
   {
    "duration": 13,
    "start_time": "2023-02-06T23:47:35.397Z"
   },
   {
    "duration": 69,
    "start_time": "2023-02-06T23:49:19.286Z"
   },
   {
    "duration": 14,
    "start_time": "2023-02-06T23:49:20.391Z"
   },
   {
    "duration": 4,
    "start_time": "2023-02-06T23:49:23.516Z"
   },
   {
    "duration": 7,
    "start_time": "2023-02-06T23:49:25.605Z"
   },
   {
    "duration": 6,
    "start_time": "2023-02-06T23:49:27.567Z"
   },
   {
    "duration": 99,
    "start_time": "2023-02-06T23:51:12.475Z"
   },
   {
    "duration": 477,
    "start_time": "2023-02-06T23:53:54.655Z"
   },
   {
    "duration": 21,
    "start_time": "2023-02-06T23:53:55.133Z"
   },
   {
    "duration": 14,
    "start_time": "2023-02-06T23:53:55.155Z"
   },
   {
    "duration": 9,
    "start_time": "2023-02-06T23:53:55.171Z"
   },
   {
    "duration": 37,
    "start_time": "2023-02-06T23:53:55.181Z"
   },
   {
    "duration": 3,
    "start_time": "2023-02-06T23:53:55.219Z"
   },
   {
    "duration": 26,
    "start_time": "2023-02-06T23:53:55.224Z"
   },
   {
    "duration": 4,
    "start_time": "2023-02-06T23:53:55.251Z"
   },
   {
    "duration": 7,
    "start_time": "2023-02-06T23:53:55.257Z"
   },
   {
    "duration": 3,
    "start_time": "2023-02-06T23:53:55.267Z"
   },
   {
    "duration": 32,
    "start_time": "2023-02-06T23:53:55.271Z"
   },
   {
    "duration": 9,
    "start_time": "2023-02-06T23:53:55.304Z"
   },
   {
    "duration": 34,
    "start_time": "2023-02-06T23:53:55.315Z"
   },
   {
    "duration": 13,
    "start_time": "2023-02-06T23:53:55.350Z"
   },
   {
    "duration": 20,
    "start_time": "2023-02-06T23:53:55.364Z"
   },
   {
    "duration": 16,
    "start_time": "2023-02-06T23:53:55.386Z"
   },
   {
    "duration": 3,
    "start_time": "2023-02-06T23:53:55.404Z"
   },
   {
    "duration": 12,
    "start_time": "2023-02-06T23:53:55.409Z"
   },
   {
    "duration": 28,
    "start_time": "2023-02-06T23:53:55.423Z"
   },
   {
    "duration": 11,
    "start_time": "2023-02-06T23:53:55.453Z"
   },
   {
    "duration": 21,
    "start_time": "2023-02-06T23:53:55.466Z"
   },
   {
    "duration": 22,
    "start_time": "2023-02-06T23:53:55.488Z"
   },
   {
    "duration": 9,
    "start_time": "2023-02-06T23:53:55.512Z"
   },
   {
    "duration": 6,
    "start_time": "2023-02-06T23:53:55.522Z"
   },
   {
    "duration": 25,
    "start_time": "2023-02-06T23:53:55.529Z"
   },
   {
    "duration": 16,
    "start_time": "2023-02-06T23:53:55.556Z"
   },
   {
    "duration": 9,
    "start_time": "2023-02-06T23:53:55.573Z"
   },
   {
    "duration": 9,
    "start_time": "2023-02-06T23:53:55.585Z"
   },
   {
    "duration": 4,
    "start_time": "2023-02-06T23:53:55.596Z"
   },
   {
    "duration": 49,
    "start_time": "2023-02-06T23:53:55.601Z"
   },
   {
    "duration": 11,
    "start_time": "2023-02-06T23:53:55.652Z"
   },
   {
    "duration": 23,
    "start_time": "2023-02-06T23:53:55.664Z"
   },
   {
    "duration": 11,
    "start_time": "2023-02-06T23:53:55.689Z"
   },
   {
    "duration": 9,
    "start_time": "2023-02-06T23:53:55.701Z"
   },
   {
    "duration": 14,
    "start_time": "2023-02-06T23:53:55.711Z"
   },
   {
    "duration": 39,
    "start_time": "2023-02-06T23:53:55.727Z"
   },
   {
    "duration": 9,
    "start_time": "2023-02-06T23:53:55.767Z"
   },
   {
    "duration": 14,
    "start_time": "2023-02-06T23:53:55.778Z"
   },
   {
    "duration": 66,
    "start_time": "2023-02-06T23:53:55.794Z"
   },
   {
    "duration": 11,
    "start_time": "2023-02-06T23:53:55.861Z"
   },
   {
    "duration": 4,
    "start_time": "2023-02-06T23:53:55.874Z"
   },
   {
    "duration": 16,
    "start_time": "2023-02-06T23:53:55.879Z"
   },
   {
    "duration": 8,
    "start_time": "2023-02-06T23:53:55.897Z"
   },
   {
    "duration": 86,
    "start_time": "2023-02-07T17:10:23.054Z"
   },
   {
    "duration": 494,
    "start_time": "2023-02-07T17:27:09.066Z"
   },
   {
    "duration": 21,
    "start_time": "2023-02-07T17:27:09.561Z"
   },
   {
    "duration": 13,
    "start_time": "2023-02-07T17:27:09.584Z"
   },
   {
    "duration": 11,
    "start_time": "2023-02-07T17:27:09.599Z"
   },
   {
    "duration": 30,
    "start_time": "2023-02-07T17:27:09.612Z"
   },
   {
    "duration": 3,
    "start_time": "2023-02-07T17:27:09.644Z"
   },
   {
    "duration": 11,
    "start_time": "2023-02-07T17:27:09.648Z"
   },
   {
    "duration": 6,
    "start_time": "2023-02-07T17:27:09.660Z"
   },
   {
    "duration": 12,
    "start_time": "2023-02-07T17:27:09.668Z"
   },
   {
    "duration": 3,
    "start_time": "2023-02-07T17:27:09.683Z"
   },
   {
    "duration": 48,
    "start_time": "2023-02-07T17:27:09.688Z"
   },
   {
    "duration": 9,
    "start_time": "2023-02-07T17:27:09.738Z"
   },
   {
    "duration": 6,
    "start_time": "2023-02-07T17:27:09.748Z"
   },
   {
    "duration": 12,
    "start_time": "2023-02-07T17:27:09.755Z"
   },
   {
    "duration": 24,
    "start_time": "2023-02-07T17:27:09.768Z"
   },
   {
    "duration": 16,
    "start_time": "2023-02-07T17:27:09.809Z"
   },
   {
    "duration": 3,
    "start_time": "2023-02-07T17:27:09.827Z"
   },
   {
    "duration": 16,
    "start_time": "2023-02-07T17:27:09.831Z"
   },
   {
    "duration": 5,
    "start_time": "2023-02-07T17:27:09.848Z"
   },
   {
    "duration": 5,
    "start_time": "2023-02-07T17:27:09.854Z"
   },
   {
    "duration": 12,
    "start_time": "2023-02-07T17:27:09.861Z"
   },
   {
    "duration": 35,
    "start_time": "2023-02-07T17:27:09.875Z"
   },
   {
    "duration": 9,
    "start_time": "2023-02-07T17:27:09.912Z"
   },
   {
    "duration": 7,
    "start_time": "2023-02-07T17:27:09.922Z"
   },
   {
    "duration": 11,
    "start_time": "2023-02-07T17:27:09.930Z"
   },
   {
    "duration": 17,
    "start_time": "2023-02-07T17:27:09.942Z"
   },
   {
    "duration": 9,
    "start_time": "2023-02-07T17:27:09.960Z"
   },
   {
    "duration": 21,
    "start_time": "2023-02-07T17:27:09.972Z"
   },
   {
    "duration": 5,
    "start_time": "2023-02-07T17:27:10.009Z"
   },
   {
    "duration": 14,
    "start_time": "2023-02-07T17:27:10.015Z"
   },
   {
    "duration": 14,
    "start_time": "2023-02-07T17:27:10.030Z"
   },
   {
    "duration": 33,
    "start_time": "2023-02-07T17:27:10.046Z"
   },
   {
    "duration": 10,
    "start_time": "2023-02-07T17:27:10.080Z"
   },
   {
    "duration": 22,
    "start_time": "2023-02-07T17:27:10.091Z"
   },
   {
    "duration": 21,
    "start_time": "2023-02-07T17:27:10.114Z"
   },
   {
    "duration": 19,
    "start_time": "2023-02-07T17:27:10.136Z"
   },
   {
    "duration": 10,
    "start_time": "2023-02-07T17:27:10.156Z"
   },
   {
    "duration": 10,
    "start_time": "2023-02-07T17:27:10.167Z"
   },
   {
    "duration": 62,
    "start_time": "2023-02-07T17:27:10.179Z"
   },
   {
    "duration": 12,
    "start_time": "2023-02-07T17:27:10.242Z"
   },
   {
    "duration": 4,
    "start_time": "2023-02-07T17:27:10.256Z"
   },
   {
    "duration": 7,
    "start_time": "2023-02-07T17:27:10.261Z"
   },
   {
    "duration": 9,
    "start_time": "2023-02-07T17:27:10.270Z"
   },
   {
    "duration": 10,
    "start_time": "2023-02-07T17:27:35.175Z"
   }
  ],
  "colab": {
   "name": "dpp_template_part2.ipynb",
   "provenance": []
  },
  "kernelspec": {
   "display_name": "Python 3 (ipykernel)",
   "language": "python",
   "name": "python3"
  },
  "language_info": {
   "codemirror_mode": {
    "name": "ipython",
    "version": 3
   },
   "file_extension": ".py",
   "mimetype": "text/x-python",
   "name": "python",
   "nbconvert_exporter": "python",
   "pygments_lexer": "ipython3",
   "version": "3.9.12"
  },
  "toc": {
   "base_numbering": 1,
   "nav_menu": {},
   "number_sections": true,
   "sideBar": true,
   "skip_h1_title": true,
   "title_cell": "Table of Contents",
   "title_sidebar": "Contents",
   "toc_cell": false,
   "toc_position": {},
   "toc_section_display": true,
   "toc_window_display": false
  }
 },
 "nbformat": 4,
 "nbformat_minor": 5
}
