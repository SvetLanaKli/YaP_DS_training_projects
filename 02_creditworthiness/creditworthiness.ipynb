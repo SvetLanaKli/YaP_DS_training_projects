{
 "cells": [
  {
   "cell_type": "markdown",
   "id": "0d99bdd0",
   "metadata": {},
   "source": [
    "# Исследование надежности заемщиков"
   ]
  },
  {
   "cell_type": "markdown",
   "id": "6920ef93",
   "metadata": {},
   "source": [
    "\n",
    "## Описание проекта\n",
    "Заказчик — кредитный отдел банка. Нужно разобраться, влияет ли семейное положение и количество детей клиента на факт погашения кредита в срок. Входные данные от банка — статистика о платёжеспособности клиентов.\n",
    "\n",
    "Результаты исследования будут учтены при построении модели кредитного скоринга — специальной системы, которая оценивает способность потенциального заёмщика вернуть кредит банку."
   ]
  },
  {
   "cell_type": "markdown",
   "id": "87e9c3b0",
   "metadata": {},
   "source": [
    "## План выполнения проекта\n",
    "1. Откроем и изучим данные\n",
    "2. Проведем предобработку данных\n",
    "    * проверка на наличие пропусков/дубликатов\n",
    "    * заполнение пропусков\n",
    "    * удаление аномалий\n",
    "    * преобразование типов данных\n",
    "    * обработка дубликатов\n",
    "    * создание дополнительных категориальных признаков"
   ]
  },
  {
   "cell_type": "markdown",
   "id": "f56a8135",
   "metadata": {},
   "source": [
    "# Загрузка и обзор данных"
   ]
  },
  {
   "cell_type": "code",
   "execution_count": 1,
   "id": "ed3490e9",
   "metadata": {},
   "outputs": [],
   "source": [
    "# импорт библиотеки pandas\n",
    "import pandas as pd"
   ]
  },
  {
   "cell_type": "code",
   "execution_count": 2,
   "id": "c5a956a8",
   "metadata": {},
   "outputs": [],
   "source": [
    "# загрузка файла\n",
    "try:\n",
    "    data = pd.read_csv('data.csv')\n",
    "except:\n",
    "    data = pd.read_csv('/another_folder/datasets/data.csv')"
   ]
  },
  {
   "cell_type": "markdown",
   "id": "3eadbef9",
   "metadata": {},
   "source": [
    "Выведем первые 20 строчек датафрейма data на экран."
   ]
  },
  {
   "cell_type": "code",
   "execution_count": 3,
   "id": "dca8e57a",
   "metadata": {},
   "outputs": [
    {
     "data": {
      "text/html": [
       "<div>\n",
       "<style scoped>\n",
       "    .dataframe tbody tr th:only-of-type {\n",
       "        vertical-align: middle;\n",
       "    }\n",
       "\n",
       "    .dataframe tbody tr th {\n",
       "        vertical-align: top;\n",
       "    }\n",
       "\n",
       "    .dataframe thead th {\n",
       "        text-align: right;\n",
       "    }\n",
       "</style>\n",
       "<table border=\"1\" class=\"dataframe\">\n",
       "  <thead>\n",
       "    <tr style=\"text-align: right;\">\n",
       "      <th></th>\n",
       "      <th>children</th>\n",
       "      <th>days_employed</th>\n",
       "      <th>dob_years</th>\n",
       "      <th>education</th>\n",
       "      <th>education_id</th>\n",
       "      <th>family_status</th>\n",
       "      <th>family_status_id</th>\n",
       "      <th>gender</th>\n",
       "      <th>income_type</th>\n",
       "      <th>debt</th>\n",
       "      <th>total_income</th>\n",
       "      <th>purpose</th>\n",
       "    </tr>\n",
       "  </thead>\n",
       "  <tbody>\n",
       "    <tr>\n",
       "      <th>0</th>\n",
       "      <td>1</td>\n",
       "      <td>-8437.673028</td>\n",
       "      <td>42</td>\n",
       "      <td>высшее</td>\n",
       "      <td>0</td>\n",
       "      <td>женат / замужем</td>\n",
       "      <td>0</td>\n",
       "      <td>F</td>\n",
       "      <td>сотрудник</td>\n",
       "      <td>0</td>\n",
       "      <td>253875.639453</td>\n",
       "      <td>покупка жилья</td>\n",
       "    </tr>\n",
       "    <tr>\n",
       "      <th>1</th>\n",
       "      <td>1</td>\n",
       "      <td>-4024.803754</td>\n",
       "      <td>36</td>\n",
       "      <td>среднее</td>\n",
       "      <td>1</td>\n",
       "      <td>женат / замужем</td>\n",
       "      <td>0</td>\n",
       "      <td>F</td>\n",
       "      <td>сотрудник</td>\n",
       "      <td>0</td>\n",
       "      <td>112080.014102</td>\n",
       "      <td>приобретение автомобиля</td>\n",
       "    </tr>\n",
       "    <tr>\n",
       "      <th>2</th>\n",
       "      <td>0</td>\n",
       "      <td>-5623.422610</td>\n",
       "      <td>33</td>\n",
       "      <td>Среднее</td>\n",
       "      <td>1</td>\n",
       "      <td>женат / замужем</td>\n",
       "      <td>0</td>\n",
       "      <td>M</td>\n",
       "      <td>сотрудник</td>\n",
       "      <td>0</td>\n",
       "      <td>145885.952297</td>\n",
       "      <td>покупка жилья</td>\n",
       "    </tr>\n",
       "    <tr>\n",
       "      <th>3</th>\n",
       "      <td>3</td>\n",
       "      <td>-4124.747207</td>\n",
       "      <td>32</td>\n",
       "      <td>среднее</td>\n",
       "      <td>1</td>\n",
       "      <td>женат / замужем</td>\n",
       "      <td>0</td>\n",
       "      <td>M</td>\n",
       "      <td>сотрудник</td>\n",
       "      <td>0</td>\n",
       "      <td>267628.550329</td>\n",
       "      <td>дополнительное образование</td>\n",
       "    </tr>\n",
       "    <tr>\n",
       "      <th>4</th>\n",
       "      <td>0</td>\n",
       "      <td>340266.072047</td>\n",
       "      <td>53</td>\n",
       "      <td>среднее</td>\n",
       "      <td>1</td>\n",
       "      <td>гражданский брак</td>\n",
       "      <td>1</td>\n",
       "      <td>F</td>\n",
       "      <td>пенсионер</td>\n",
       "      <td>0</td>\n",
       "      <td>158616.077870</td>\n",
       "      <td>сыграть свадьбу</td>\n",
       "    </tr>\n",
       "    <tr>\n",
       "      <th>5</th>\n",
       "      <td>0</td>\n",
       "      <td>-926.185831</td>\n",
       "      <td>27</td>\n",
       "      <td>высшее</td>\n",
       "      <td>0</td>\n",
       "      <td>гражданский брак</td>\n",
       "      <td>1</td>\n",
       "      <td>M</td>\n",
       "      <td>компаньон</td>\n",
       "      <td>0</td>\n",
       "      <td>255763.565419</td>\n",
       "      <td>покупка жилья</td>\n",
       "    </tr>\n",
       "    <tr>\n",
       "      <th>6</th>\n",
       "      <td>0</td>\n",
       "      <td>-2879.202052</td>\n",
       "      <td>43</td>\n",
       "      <td>высшее</td>\n",
       "      <td>0</td>\n",
       "      <td>женат / замужем</td>\n",
       "      <td>0</td>\n",
       "      <td>F</td>\n",
       "      <td>компаньон</td>\n",
       "      <td>0</td>\n",
       "      <td>240525.971920</td>\n",
       "      <td>операции с жильем</td>\n",
       "    </tr>\n",
       "    <tr>\n",
       "      <th>7</th>\n",
       "      <td>0</td>\n",
       "      <td>-152.779569</td>\n",
       "      <td>50</td>\n",
       "      <td>СРЕДНЕЕ</td>\n",
       "      <td>1</td>\n",
       "      <td>женат / замужем</td>\n",
       "      <td>0</td>\n",
       "      <td>M</td>\n",
       "      <td>сотрудник</td>\n",
       "      <td>0</td>\n",
       "      <td>135823.934197</td>\n",
       "      <td>образование</td>\n",
       "    </tr>\n",
       "    <tr>\n",
       "      <th>8</th>\n",
       "      <td>2</td>\n",
       "      <td>-6929.865299</td>\n",
       "      <td>35</td>\n",
       "      <td>ВЫСШЕЕ</td>\n",
       "      <td>0</td>\n",
       "      <td>гражданский брак</td>\n",
       "      <td>1</td>\n",
       "      <td>F</td>\n",
       "      <td>сотрудник</td>\n",
       "      <td>0</td>\n",
       "      <td>95856.832424</td>\n",
       "      <td>на проведение свадьбы</td>\n",
       "    </tr>\n",
       "    <tr>\n",
       "      <th>9</th>\n",
       "      <td>0</td>\n",
       "      <td>-2188.756445</td>\n",
       "      <td>41</td>\n",
       "      <td>среднее</td>\n",
       "      <td>1</td>\n",
       "      <td>женат / замужем</td>\n",
       "      <td>0</td>\n",
       "      <td>M</td>\n",
       "      <td>сотрудник</td>\n",
       "      <td>0</td>\n",
       "      <td>144425.938277</td>\n",
       "      <td>покупка жилья для семьи</td>\n",
       "    </tr>\n",
       "    <tr>\n",
       "      <th>10</th>\n",
       "      <td>2</td>\n",
       "      <td>-4171.483647</td>\n",
       "      <td>36</td>\n",
       "      <td>высшее</td>\n",
       "      <td>0</td>\n",
       "      <td>женат / замужем</td>\n",
       "      <td>0</td>\n",
       "      <td>M</td>\n",
       "      <td>компаньон</td>\n",
       "      <td>0</td>\n",
       "      <td>113943.491460</td>\n",
       "      <td>покупка недвижимости</td>\n",
       "    </tr>\n",
       "    <tr>\n",
       "      <th>11</th>\n",
       "      <td>0</td>\n",
       "      <td>-792.701887</td>\n",
       "      <td>40</td>\n",
       "      <td>среднее</td>\n",
       "      <td>1</td>\n",
       "      <td>женат / замужем</td>\n",
       "      <td>0</td>\n",
       "      <td>F</td>\n",
       "      <td>сотрудник</td>\n",
       "      <td>0</td>\n",
       "      <td>77069.234271</td>\n",
       "      <td>покупка коммерческой недвижимости</td>\n",
       "    </tr>\n",
       "    <tr>\n",
       "      <th>12</th>\n",
       "      <td>0</td>\n",
       "      <td>NaN</td>\n",
       "      <td>65</td>\n",
       "      <td>среднее</td>\n",
       "      <td>1</td>\n",
       "      <td>гражданский брак</td>\n",
       "      <td>1</td>\n",
       "      <td>M</td>\n",
       "      <td>пенсионер</td>\n",
       "      <td>0</td>\n",
       "      <td>NaN</td>\n",
       "      <td>сыграть свадьбу</td>\n",
       "    </tr>\n",
       "    <tr>\n",
       "      <th>13</th>\n",
       "      <td>0</td>\n",
       "      <td>-1846.641941</td>\n",
       "      <td>54</td>\n",
       "      <td>неоконченное высшее</td>\n",
       "      <td>2</td>\n",
       "      <td>женат / замужем</td>\n",
       "      <td>0</td>\n",
       "      <td>F</td>\n",
       "      <td>сотрудник</td>\n",
       "      <td>0</td>\n",
       "      <td>130458.228857</td>\n",
       "      <td>приобретение автомобиля</td>\n",
       "    </tr>\n",
       "    <tr>\n",
       "      <th>14</th>\n",
       "      <td>0</td>\n",
       "      <td>-1844.956182</td>\n",
       "      <td>56</td>\n",
       "      <td>высшее</td>\n",
       "      <td>0</td>\n",
       "      <td>гражданский брак</td>\n",
       "      <td>1</td>\n",
       "      <td>F</td>\n",
       "      <td>компаньон</td>\n",
       "      <td>1</td>\n",
       "      <td>165127.911772</td>\n",
       "      <td>покупка жилой недвижимости</td>\n",
       "    </tr>\n",
       "    <tr>\n",
       "      <th>15</th>\n",
       "      <td>1</td>\n",
       "      <td>-972.364419</td>\n",
       "      <td>26</td>\n",
       "      <td>среднее</td>\n",
       "      <td>1</td>\n",
       "      <td>женат / замужем</td>\n",
       "      <td>0</td>\n",
       "      <td>F</td>\n",
       "      <td>сотрудник</td>\n",
       "      <td>0</td>\n",
       "      <td>116820.904450</td>\n",
       "      <td>строительство собственной недвижимости</td>\n",
       "    </tr>\n",
       "    <tr>\n",
       "      <th>16</th>\n",
       "      <td>0</td>\n",
       "      <td>-1719.934226</td>\n",
       "      <td>35</td>\n",
       "      <td>среднее</td>\n",
       "      <td>1</td>\n",
       "      <td>женат / замужем</td>\n",
       "      <td>0</td>\n",
       "      <td>F</td>\n",
       "      <td>сотрудник</td>\n",
       "      <td>0</td>\n",
       "      <td>289202.704229</td>\n",
       "      <td>недвижимость</td>\n",
       "    </tr>\n",
       "    <tr>\n",
       "      <th>17</th>\n",
       "      <td>0</td>\n",
       "      <td>-2369.999720</td>\n",
       "      <td>33</td>\n",
       "      <td>высшее</td>\n",
       "      <td>0</td>\n",
       "      <td>гражданский брак</td>\n",
       "      <td>1</td>\n",
       "      <td>M</td>\n",
       "      <td>сотрудник</td>\n",
       "      <td>0</td>\n",
       "      <td>90410.586745</td>\n",
       "      <td>строительство недвижимости</td>\n",
       "    </tr>\n",
       "    <tr>\n",
       "      <th>18</th>\n",
       "      <td>0</td>\n",
       "      <td>400281.136913</td>\n",
       "      <td>53</td>\n",
       "      <td>среднее</td>\n",
       "      <td>1</td>\n",
       "      <td>вдовец / вдова</td>\n",
       "      <td>2</td>\n",
       "      <td>F</td>\n",
       "      <td>пенсионер</td>\n",
       "      <td>0</td>\n",
       "      <td>56823.777243</td>\n",
       "      <td>на покупку подержанного автомобиля</td>\n",
       "    </tr>\n",
       "    <tr>\n",
       "      <th>19</th>\n",
       "      <td>0</td>\n",
       "      <td>-10038.818549</td>\n",
       "      <td>48</td>\n",
       "      <td>СРЕДНЕЕ</td>\n",
       "      <td>1</td>\n",
       "      <td>в разводе</td>\n",
       "      <td>3</td>\n",
       "      <td>F</td>\n",
       "      <td>сотрудник</td>\n",
       "      <td>0</td>\n",
       "      <td>242831.107982</td>\n",
       "      <td>на покупку своего автомобиля</td>\n",
       "    </tr>\n",
       "  </tbody>\n",
       "</table>\n",
       "</div>"
      ],
      "text/plain": [
       "    children  days_employed  dob_years            education  education_id  \\\n",
       "0          1   -8437.673028         42               высшее             0   \n",
       "1          1   -4024.803754         36              среднее             1   \n",
       "2          0   -5623.422610         33              Среднее             1   \n",
       "3          3   -4124.747207         32              среднее             1   \n",
       "4          0  340266.072047         53              среднее             1   \n",
       "5          0    -926.185831         27               высшее             0   \n",
       "6          0   -2879.202052         43               высшее             0   \n",
       "7          0    -152.779569         50              СРЕДНЕЕ             1   \n",
       "8          2   -6929.865299         35               ВЫСШЕЕ             0   \n",
       "9          0   -2188.756445         41              среднее             1   \n",
       "10         2   -4171.483647         36               высшее             0   \n",
       "11         0    -792.701887         40              среднее             1   \n",
       "12         0            NaN         65              среднее             1   \n",
       "13         0   -1846.641941         54  неоконченное высшее             2   \n",
       "14         0   -1844.956182         56               высшее             0   \n",
       "15         1    -972.364419         26              среднее             1   \n",
       "16         0   -1719.934226         35              среднее             1   \n",
       "17         0   -2369.999720         33               высшее             0   \n",
       "18         0  400281.136913         53              среднее             1   \n",
       "19         0  -10038.818549         48              СРЕДНЕЕ             1   \n",
       "\n",
       "       family_status  family_status_id gender income_type  debt  \\\n",
       "0    женат / замужем                 0      F   сотрудник     0   \n",
       "1    женат / замужем                 0      F   сотрудник     0   \n",
       "2    женат / замужем                 0      M   сотрудник     0   \n",
       "3    женат / замужем                 0      M   сотрудник     0   \n",
       "4   гражданский брак                 1      F   пенсионер     0   \n",
       "5   гражданский брак                 1      M   компаньон     0   \n",
       "6    женат / замужем                 0      F   компаньон     0   \n",
       "7    женат / замужем                 0      M   сотрудник     0   \n",
       "8   гражданский брак                 1      F   сотрудник     0   \n",
       "9    женат / замужем                 0      M   сотрудник     0   \n",
       "10   женат / замужем                 0      M   компаньон     0   \n",
       "11   женат / замужем                 0      F   сотрудник     0   \n",
       "12  гражданский брак                 1      M   пенсионер     0   \n",
       "13   женат / замужем                 0      F   сотрудник     0   \n",
       "14  гражданский брак                 1      F   компаньон     1   \n",
       "15   женат / замужем                 0      F   сотрудник     0   \n",
       "16   женат / замужем                 0      F   сотрудник     0   \n",
       "17  гражданский брак                 1      M   сотрудник     0   \n",
       "18    вдовец / вдова                 2      F   пенсионер     0   \n",
       "19         в разводе                 3      F   сотрудник     0   \n",
       "\n",
       "     total_income                                 purpose  \n",
       "0   253875.639453                           покупка жилья  \n",
       "1   112080.014102                 приобретение автомобиля  \n",
       "2   145885.952297                           покупка жилья  \n",
       "3   267628.550329              дополнительное образование  \n",
       "4   158616.077870                         сыграть свадьбу  \n",
       "5   255763.565419                           покупка жилья  \n",
       "6   240525.971920                       операции с жильем  \n",
       "7   135823.934197                             образование  \n",
       "8    95856.832424                   на проведение свадьбы  \n",
       "9   144425.938277                 покупка жилья для семьи  \n",
       "10  113943.491460                    покупка недвижимости  \n",
       "11   77069.234271       покупка коммерческой недвижимости  \n",
       "12            NaN                         сыграть свадьбу  \n",
       "13  130458.228857                 приобретение автомобиля  \n",
       "14  165127.911772              покупка жилой недвижимости  \n",
       "15  116820.904450  строительство собственной недвижимости  \n",
       "16  289202.704229                            недвижимость  \n",
       "17   90410.586745              строительство недвижимости  \n",
       "18   56823.777243      на покупку подержанного автомобиля  \n",
       "19  242831.107982            на покупку своего автомобиля  "
      ]
     },
     "execution_count": 3,
     "metadata": {},
     "output_type": "execute_result"
    }
   ],
   "source": [
    "data.head(20)"
   ]
  },
  {
   "cell_type": "markdown",
   "id": "24beb896",
   "metadata": {},
   "source": [
    "Выведем основную информацию о датафрейме с помощью метода **info()**"
   ]
  },
  {
   "cell_type": "code",
   "execution_count": 4,
   "id": "f04ede5d",
   "metadata": {},
   "outputs": [
    {
     "name": "stdout",
     "output_type": "stream",
     "text": [
      "<class 'pandas.core.frame.DataFrame'>\n",
      "RangeIndex: 21525 entries, 0 to 21524\n",
      "Data columns (total 12 columns):\n",
      " #   Column            Non-Null Count  Dtype  \n",
      "---  ------            --------------  -----  \n",
      " 0   children          21525 non-null  int64  \n",
      " 1   days_employed     19351 non-null  float64\n",
      " 2   dob_years         21525 non-null  int64  \n",
      " 3   education         21525 non-null  object \n",
      " 4   education_id      21525 non-null  int64  \n",
      " 5   family_status     21525 non-null  object \n",
      " 6   family_status_id  21525 non-null  int64  \n",
      " 7   gender            21525 non-null  object \n",
      " 8   income_type       21525 non-null  object \n",
      " 9   debt              21525 non-null  int64  \n",
      " 10  total_income      19351 non-null  float64\n",
      " 11  purpose           21525 non-null  object \n",
      "dtypes: float64(2), int64(5), object(5)\n",
      "memory usage: 2.0+ MB\n"
     ]
    }
   ],
   "source": [
    "data.info()"
   ]
  },
  {
   "cell_type": "markdown",
   "id": "7f70e354",
   "metadata": {},
   "source": [
    "# Предобработка данных"
   ]
  },
  {
   "cell_type": "markdown",
   "id": "59fc8074",
   "metadata": {},
   "source": [
    "## Удаление пропусков"
   ]
  },
  {
   "cell_type": "markdown",
   "id": "f710c9cb",
   "metadata": {},
   "source": [
    "Выведем количество пропущенных значений для каждого столбца."
   ]
  },
  {
   "cell_type": "code",
   "execution_count": 5,
   "id": "f7946c05",
   "metadata": {},
   "outputs": [
    {
     "data": {
      "text/plain": [
       "children               0\n",
       "days_employed       2174\n",
       "dob_years              0\n",
       "education              0\n",
       "education_id           0\n",
       "family_status          0\n",
       "family_status_id       0\n",
       "gender                 0\n",
       "income_type            0\n",
       "debt                   0\n",
       "total_income        2174\n",
       "purpose                0\n",
       "dtype: int64"
      ]
     },
     "execution_count": 5,
     "metadata": {},
     "output_type": "execute_result"
    }
   ],
   "source": [
    "data.isna().sum()"
   ]
  },
  {
   "cell_type": "markdown",
   "id": "3f693082",
   "metadata": {},
   "source": [
    "Таким образом, в столбце `days_employed` и `total_income ` имеются пропущенные значения.\n",
    "\n",
    "Начнем со столбца с пропущенными значениями `total_income` — хранит данные о доходах. На сумму дохода сильнее всего влияет тип занятости, поэтому заполнить пропуски в этом столбце логичнее медианным значением по каждому типу из столбца `income_type`. \n",
    "\n",
    "Например, у человека с типом занятости сотрудник пропуск в столбце `total_income` должен быть заполнен медианным доходом среди всех записей с тем же типом."
   ]
  },
  {
   "cell_type": "code",
   "execution_count": 6,
   "id": "bd2ca119",
   "metadata": {},
   "outputs": [],
   "source": [
    "# перебираем каждый тип занятости в наборе уникальных значений столба income_type\n",
    "for t in data['income_type'].unique():\n",
    "    # на каждом шаге цикла с помощью атрибута loc выбираем строки,\n",
    "    # в которых в income_type текущий тип занятости (t) и есть пропуски в total_income \n",
    "    # и записываем в них медианное значение total_income среди строк с текущим типом занятости (t)\n",
    "    data.loc[(data['income_type'] == t) & (data['total_income'].isna()), 'total_income'] = \\\n",
    "    data.loc[(data['income_type'] == t), 'total_income'].median()"
   ]
  },
  {
   "cell_type": "code",
   "execution_count": 7,
   "id": "cf524f89",
   "metadata": {},
   "outputs": [
    {
     "name": "stdout",
     "output_type": "stream",
     "text": [
      "Количество пропусков после заполнения: 0\n"
     ]
    }
   ],
   "source": [
    "# проверим, что все пропуски заполнены\n",
    "print('Количество пропусков после заполнения:', data['total_income'].isna().sum())"
   ]
  },
  {
   "cell_type": "markdown",
   "id": "f7bd4e22",
   "metadata": {},
   "source": [
    "## Обработка аномальных значений"
   ]
  },
  {
   "cell_type": "markdown",
   "id": "8f6fdad2",
   "metadata": {},
   "source": [
    "В данных могут встречаться артефакты (аномалии) — значения, которые не отражают действительность и появились по какой-то ошибке. \n",
    "\n",
    "Таким артефактом будет отрицательное количество дней трудового стажа в столбце `days_employed`. Обработаем значения в этом столбце путем замены всех отрицательные значения положительными с помощью метода **abs()**."
   ]
  },
  {
   "cell_type": "code",
   "execution_count": 8,
   "id": "d87fe921",
   "metadata": {},
   "outputs": [],
   "source": [
    "data['days_employed'] = data['days_employed'].abs()"
   ]
  },
  {
   "cell_type": "markdown",
   "id": "a8002708",
   "metadata": {},
   "source": [
    "Для каждого типа занятости выведем медианное значение трудового стажа `days_employed` в днях."
   ]
  },
  {
   "cell_type": "code",
   "execution_count": 9,
   "id": "3fa96e0a",
   "metadata": {},
   "outputs": [
    {
     "data": {
      "text/plain": [
       "income_type\n",
       "безработный        366413.652744\n",
       "в декрете            3296.759962\n",
       "госслужащий          2689.368353\n",
       "компаньон            1547.382223\n",
       "пенсионер          365213.306266\n",
       "предприниматель       520.848083\n",
       "сотрудник            1574.202821\n",
       "студент               578.751554\n",
       "Name: days_employed, dtype: float64"
      ]
     },
     "execution_count": 9,
     "metadata": {},
     "output_type": "execute_result"
    }
   ],
   "source": [
    "data.groupby('income_type')['days_employed'].median()"
   ]
  },
  {
   "cell_type": "markdown",
   "id": "757e59ab",
   "metadata": {},
   "source": [
    "У двух типов (безработные и пенсионеры) получатся аномально большие значения. Исправить такие значения сложно, поэтому оставим их как есть."
   ]
  },
  {
   "cell_type": "markdown",
   "id": "2c2089c4",
   "metadata": {},
   "source": [
    "Выведем перечень уникальных значений столбца `children`."
   ]
  },
  {
   "cell_type": "code",
   "execution_count": 10,
   "id": "17f9e8c4",
   "metadata": {},
   "outputs": [
    {
     "data": {
      "text/plain": [
       "array([ 1,  0,  3,  2, -1,  4, 20,  5], dtype=int64)"
      ]
     },
     "execution_count": 10,
     "metadata": {},
     "output_type": "execute_result"
    }
   ],
   "source": [
    "data['children'].unique()"
   ]
  },
  {
   "cell_type": "markdown",
   "id": "9b982e2a",
   "metadata": {},
   "source": [
    "Да уж, из крайности в крайность... толи childfree и их ярые противники закрались, но скорее это всего лишь аномальные значения. Удалим строки с этими зачениями"
   ]
  },
  {
   "cell_type": "code",
   "execution_count": 11,
   "id": "24f8a91a",
   "metadata": {},
   "outputs": [],
   "source": [
    "data = data[(data['children'] != -1) & (data['children'] != 20)]"
   ]
  },
  {
   "cell_type": "markdown",
   "id": "a239c2fb",
   "metadata": {},
   "source": [
    "Ещё раз выведем перечень уникальных значений столбца `children`, чтобы убедиться, что артефакты удалены."
   ]
  },
  {
   "cell_type": "code",
   "execution_count": 12,
   "id": "82c98d39",
   "metadata": {},
   "outputs": [
    {
     "data": {
      "text/plain": [
       "array([1, 0, 3, 2, 4, 5], dtype=int64)"
      ]
     },
     "execution_count": 12,
     "metadata": {},
     "output_type": "execute_result"
    }
   ],
   "source": [
    "data['children'].unique()"
   ]
  },
  {
   "cell_type": "markdown",
   "id": "80f57170",
   "metadata": {},
   "source": [
    "Теперь все отлично!\n",
    "\n",
    "Вернемся к вопросу заполнения пропусков в столбце `days_employed`. Заполним пропуски в столбце `days_employed` медианными значениями по каждому типу занятости `income_type`.\n",
    "\n",
    "Выбор медианы объясняется тем, что медианное значение не подвергается воздействию выбросов (аномалий) в данных, как среднее значение. А заполнение нулями - сильно повлияет на статистику."
   ]
  },
  {
   "cell_type": "code",
   "execution_count": 13,
   "id": "539c1cdb",
   "metadata": {},
   "outputs": [],
   "source": [
    "# для каждого уникального значения занятости income_type перебираем таблицу\n",
    "for t in data['income_type'].unique():\n",
    "\n",
    "# каждой строке с пропуском в поле days_employed и типом занятости t \n",
    "# присваиваем медианное значение по типу занятости t\n",
    "    data.loc[(data['income_type'] == t) & (data['days_employed'].isna()), 'days_employed'] = \\\n",
    "    data.loc[(data['income_type'] == t), 'days_employed'].median()"
   ]
  },
  {
   "cell_type": "markdown",
   "id": "194bee1b",
   "metadata": {},
   "source": [
    "Убедимся, что все пропуски заполнены."
   ]
  },
  {
   "cell_type": "code",
   "execution_count": 14,
   "id": "dbde0375",
   "metadata": {},
   "outputs": [
    {
     "data": {
      "text/plain": [
       "children            0\n",
       "days_employed       0\n",
       "dob_years           0\n",
       "education           0\n",
       "education_id        0\n",
       "family_status       0\n",
       "family_status_id    0\n",
       "gender              0\n",
       "income_type         0\n",
       "debt                0\n",
       "total_income        0\n",
       "purpose             0\n",
       "dtype: int64"
      ]
     },
     "execution_count": 14,
     "metadata": {},
     "output_type": "execute_result"
    }
   ],
   "source": [
    "data.isna().sum()"
   ]
  },
  {
   "cell_type": "markdown",
   "id": "6a9550f9",
   "metadata": {},
   "source": [
    "Пропуски заполнены!\n",
    "\n",
    "Проведем изменение типа данных столбца `total_income` с вещественного на целочисленный с помощью метода **astype()**"
   ]
  },
  {
   "cell_type": "code",
   "execution_count": 15,
   "id": "0ce7ce62",
   "metadata": {},
   "outputs": [],
   "source": [
    "data['total_income'] = data['total_income'].astype('int')"
   ]
  },
  {
   "cell_type": "markdown",
   "id": "1f4f115c",
   "metadata": {},
   "source": [
    "## Удаление дубликатов"
   ]
  },
  {
   "cell_type": "markdown",
   "id": "20a5f266",
   "metadata": {},
   "source": [
    "Обработаем неявные дубликаты в столбце `education`. В этом столбце есть одни и те же значения, но записанные по-разному: с использованием заглавных и строчных букв. Приведем их к нижнему регистру."
   ]
  },
  {
   "cell_type": "code",
   "execution_count": 16,
   "id": "73ea6254",
   "metadata": {},
   "outputs": [],
   "source": [
    "data['education'] = data['education'].str.lower()"
   ]
  },
  {
   "cell_type": "markdown",
   "id": "8004dcf0",
   "metadata": {},
   "source": [
    "Выведем на экран количество строк-дубликатов в данных, удалим их."
   ]
  },
  {
   "cell_type": "code",
   "execution_count": 17,
   "id": "f2590f22",
   "metadata": {},
   "outputs": [
    {
     "data": {
      "text/plain": [
       "71"
      ]
     },
     "execution_count": 17,
     "metadata": {},
     "output_type": "execute_result"
    }
   ],
   "source": [
    "# выведем число дубликатов\n",
    "data.duplicated().sum()"
   ]
  },
  {
   "cell_type": "code",
   "execution_count": 18,
   "id": "4c3a3129",
   "metadata": {},
   "outputs": [],
   "source": [
    "data = data.drop_duplicates()"
   ]
  },
  {
   "cell_type": "markdown",
   "id": "ae7db9d4",
   "metadata": {},
   "source": [
    "## Категоризация данных"
   ]
  },
  {
   "cell_type": "markdown",
   "id": "f7c590c6",
   "metadata": {},
   "source": [
    "Cоздадим столбец `total_income_category` с категориями:\n",
    "* 0–30000 — `E`;\n",
    "* 30001–50000 — `D`;\n",
    "* 50001–200000 — `C`;\n",
    "* 200001–1000000 — `B`;\n",
    "* 1000001 и выше — `A`.\n",
    "\n",
    "Для этого создадим функцию с именем `categorize_income()` и используем метод **apply()**."
   ]
  },
  {
   "cell_type": "code",
   "execution_count": 19,
   "id": "9aaffbe1",
   "metadata": {},
   "outputs": [],
   "source": [
    "# создаем функцию categorize_income()\n",
    "def categorize_income(income):\n",
    "    if income <= 30000:\n",
    "        return 'E'\n",
    "    if income <= 50000:\n",
    "        return 'D'\n",
    "    if income <= 200000:\n",
    "        return 'C'\n",
    "    if income <= 1000000:\n",
    "        return 'B'\n",
    "    return 'A'"
   ]
  },
  {
   "cell_type": "code",
   "execution_count": 20,
   "id": "e2f66040",
   "metadata": {},
   "outputs": [],
   "source": [
    "# примените функцию методом apply()\n",
    "data['total_income_category'] = data['total_income'].apply(categorize_income)"
   ]
  },
  {
   "cell_type": "code",
   "execution_count": 21,
   "id": "1bc827ec",
   "metadata": {},
   "outputs": [
    {
     "data": {
      "text/html": [
       "<div>\n",
       "<style scoped>\n",
       "    .dataframe tbody tr th:only-of-type {\n",
       "        vertical-align: middle;\n",
       "    }\n",
       "\n",
       "    .dataframe tbody tr th {\n",
       "        vertical-align: top;\n",
       "    }\n",
       "\n",
       "    .dataframe thead th {\n",
       "        text-align: right;\n",
       "    }\n",
       "</style>\n",
       "<table border=\"1\" class=\"dataframe\">\n",
       "  <thead>\n",
       "    <tr style=\"text-align: right;\">\n",
       "      <th></th>\n",
       "      <th>children</th>\n",
       "      <th>days_employed</th>\n",
       "      <th>dob_years</th>\n",
       "      <th>education</th>\n",
       "      <th>education_id</th>\n",
       "      <th>family_status</th>\n",
       "      <th>family_status_id</th>\n",
       "      <th>gender</th>\n",
       "      <th>income_type</th>\n",
       "      <th>debt</th>\n",
       "      <th>total_income</th>\n",
       "      <th>purpose</th>\n",
       "      <th>total_income_category</th>\n",
       "    </tr>\n",
       "  </thead>\n",
       "  <tbody>\n",
       "    <tr>\n",
       "      <th>0</th>\n",
       "      <td>1</td>\n",
       "      <td>8437.673028</td>\n",
       "      <td>42</td>\n",
       "      <td>высшее</td>\n",
       "      <td>0</td>\n",
       "      <td>женат / замужем</td>\n",
       "      <td>0</td>\n",
       "      <td>F</td>\n",
       "      <td>сотрудник</td>\n",
       "      <td>0</td>\n",
       "      <td>253875</td>\n",
       "      <td>покупка жилья</td>\n",
       "      <td>B</td>\n",
       "    </tr>\n",
       "    <tr>\n",
       "      <th>1</th>\n",
       "      <td>1</td>\n",
       "      <td>4024.803754</td>\n",
       "      <td>36</td>\n",
       "      <td>среднее</td>\n",
       "      <td>1</td>\n",
       "      <td>женат / замужем</td>\n",
       "      <td>0</td>\n",
       "      <td>F</td>\n",
       "      <td>сотрудник</td>\n",
       "      <td>0</td>\n",
       "      <td>112080</td>\n",
       "      <td>приобретение автомобиля</td>\n",
       "      <td>C</td>\n",
       "    </tr>\n",
       "    <tr>\n",
       "      <th>2</th>\n",
       "      <td>0</td>\n",
       "      <td>5623.422610</td>\n",
       "      <td>33</td>\n",
       "      <td>среднее</td>\n",
       "      <td>1</td>\n",
       "      <td>женат / замужем</td>\n",
       "      <td>0</td>\n",
       "      <td>M</td>\n",
       "      <td>сотрудник</td>\n",
       "      <td>0</td>\n",
       "      <td>145885</td>\n",
       "      <td>покупка жилья</td>\n",
       "      <td>C</td>\n",
       "    </tr>\n",
       "    <tr>\n",
       "      <th>3</th>\n",
       "      <td>3</td>\n",
       "      <td>4124.747207</td>\n",
       "      <td>32</td>\n",
       "      <td>среднее</td>\n",
       "      <td>1</td>\n",
       "      <td>женат / замужем</td>\n",
       "      <td>0</td>\n",
       "      <td>M</td>\n",
       "      <td>сотрудник</td>\n",
       "      <td>0</td>\n",
       "      <td>267628</td>\n",
       "      <td>дополнительное образование</td>\n",
       "      <td>B</td>\n",
       "    </tr>\n",
       "    <tr>\n",
       "      <th>4</th>\n",
       "      <td>0</td>\n",
       "      <td>340266.072047</td>\n",
       "      <td>53</td>\n",
       "      <td>среднее</td>\n",
       "      <td>1</td>\n",
       "      <td>гражданский брак</td>\n",
       "      <td>1</td>\n",
       "      <td>F</td>\n",
       "      <td>пенсионер</td>\n",
       "      <td>0</td>\n",
       "      <td>158616</td>\n",
       "      <td>сыграть свадьбу</td>\n",
       "      <td>C</td>\n",
       "    </tr>\n",
       "  </tbody>\n",
       "</table>\n",
       "</div>"
      ],
      "text/plain": [
       "   children  days_employed  dob_years education  education_id  \\\n",
       "0         1    8437.673028         42    высшее             0   \n",
       "1         1    4024.803754         36   среднее             1   \n",
       "2         0    5623.422610         33   среднее             1   \n",
       "3         3    4124.747207         32   среднее             1   \n",
       "4         0  340266.072047         53   среднее             1   \n",
       "\n",
       "      family_status  family_status_id gender income_type  debt  total_income  \\\n",
       "0   женат / замужем                 0      F   сотрудник     0        253875   \n",
       "1   женат / замужем                 0      F   сотрудник     0        112080   \n",
       "2   женат / замужем                 0      M   сотрудник     0        145885   \n",
       "3   женат / замужем                 0      M   сотрудник     0        267628   \n",
       "4  гражданский брак                 1      F   пенсионер     0        158616   \n",
       "\n",
       "                      purpose total_income_category  \n",
       "0               покупка жилья                     B  \n",
       "1     приобретение автомобиля                     C  \n",
       "2               покупка жилья                     C  \n",
       "3  дополнительное образование                     B  \n",
       "4             сыграть свадьбу                     C  "
      ]
     },
     "execution_count": 21,
     "metadata": {},
     "output_type": "execute_result"
    }
   ],
   "source": [
    "# выведем 5 строк \n",
    "data.head(5)"
   ]
  },
  {
   "cell_type": "markdown",
   "id": "5de10706",
   "metadata": {},
   "source": [
    "Выведем на экран перечень уникальных целей взятия кредита из столбца `purpose`."
   ]
  },
  {
   "cell_type": "code",
   "execution_count": 22,
   "id": "c14e21bb",
   "metadata": {},
   "outputs": [
    {
     "data": {
      "text/plain": [
       "array(['покупка жилья', 'приобретение автомобиля',\n",
       "       'дополнительное образование', 'сыграть свадьбу',\n",
       "       'операции с жильем', 'образование', 'на проведение свадьбы',\n",
       "       'покупка жилья для семьи', 'покупка недвижимости',\n",
       "       'покупка коммерческой недвижимости', 'покупка жилой недвижимости',\n",
       "       'строительство собственной недвижимости', 'недвижимость',\n",
       "       'строительство недвижимости', 'на покупку подержанного автомобиля',\n",
       "       'на покупку своего автомобиля',\n",
       "       'операции с коммерческой недвижимостью',\n",
       "       'строительство жилой недвижимости', 'жилье',\n",
       "       'операции со своей недвижимостью', 'автомобили',\n",
       "       'заняться образованием', 'сделка с подержанным автомобилем',\n",
       "       'получение образования', 'автомобиль', 'свадьба',\n",
       "       'получение дополнительного образования', 'покупка своего жилья',\n",
       "       'операции с недвижимостью', 'получение высшего образования',\n",
       "       'свой автомобиль', 'сделка с автомобилем',\n",
       "       'профильное образование', 'высшее образование',\n",
       "       'покупка жилья для сдачи', 'на покупку автомобиля', 'ремонт жилью',\n",
       "       'заняться высшим образованием'], dtype=object)"
      ]
     },
     "execution_count": 22,
     "metadata": {},
     "output_type": "execute_result"
    }
   ],
   "source": [
    "data['purpose'].unique()"
   ]
  },
  {
   "cell_type": "markdown",
   "id": "49547fa8",
   "metadata": {},
   "source": [
    "Сформируем новый столбец `purpose_category`, в который войдут следующие категории:\n",
    "\n",
    "* `операции с автомобилем`,\n",
    "* `операции с недвижимостью`,\n",
    "* `проведение свадьбы`,\n",
    "* `получение образования`."
   ]
  },
  {
   "cell_type": "code",
   "execution_count": 23,
   "id": "8d496cad",
   "metadata": {},
   "outputs": [],
   "source": [
    "# создайте функцию categorize_purpose()\n",
    "def categorize_purpose(purpose):\n",
    "    if 'авто' in purpose:\n",
    "        return 'операции с автомобилем'\n",
    "    if 'жиль' in purpose:\n",
    "        return 'операции с недвижимостью'\n",
    "    if 'недвиж' in purpose:\n",
    "        return 'операции с недвижимостью'\n",
    "    if 'свадь' in purpose:\n",
    "        return 'проведение свадьбы'\n",
    "    if 'образов' in purpose:\n",
    "        return 'получение образования'        \n",
    "    return 'неотложные нужды'"
   ]
  },
  {
   "cell_type": "code",
   "execution_count": 24,
   "id": "29627c70",
   "metadata": {},
   "outputs": [],
   "source": [
    "# примените функцию методом apply()\n",
    "data['purpose_category'] = data['purpose'].apply(categorize_purpose)"
   ]
  },
  {
   "cell_type": "markdown",
   "id": "602cc4b4",
   "metadata": {},
   "source": [
    "Таким образом, нами были выполнены следующие шаги:\n",
    "  * проверены данные на наличие пропусков\n",
    "  * заполнены пропуски\n",
    "  * удалены аномалии\n",
    "  * выполнено преобразование типов данных\n",
    "  * удалены полные дубликаты\n",
    "  * проведена категоризация данных\n",
    "  \n",
    "Можно приступать к исследованию зависимостей."
   ]
  },
  {
   "cell_type": "markdown",
   "id": "f713ea9a",
   "metadata": {},
   "source": [
    "# Иcследование данных"
   ]
  },
  {
   "cell_type": "markdown",
   "id": "96cce84b",
   "metadata": {},
   "source": [
    "## Зависимость между количеством детей и возвратом кредита в срок"
   ]
  },
  {
   "cell_type": "markdown",
   "id": "7a9a72f0",
   "metadata": {},
   "source": [
    "Создадим сводную таблицу с группировкой по количеству детей в семье.\n",
    "В качестве агрегатных значений в каждой группе вычислим \n",
    "* количество записей `count` \n",
    "* количество задолженностей `sum`"
   ]
  },
  {
   "cell_type": "code",
   "execution_count": 25,
   "id": "63d3d2d5",
   "metadata": {},
   "outputs": [
    {
     "data": {
      "text/html": [
       "<div>\n",
       "<style scoped>\n",
       "    .dataframe tbody tr th:only-of-type {\n",
       "        vertical-align: middle;\n",
       "    }\n",
       "\n",
       "    .dataframe tbody tr th {\n",
       "        vertical-align: top;\n",
       "    }\n",
       "\n",
       "    .dataframe thead th {\n",
       "        text-align: right;\n",
       "    }\n",
       "</style>\n",
       "<table border=\"1\" class=\"dataframe\">\n",
       "  <thead>\n",
       "    <tr style=\"text-align: right;\">\n",
       "      <th></th>\n",
       "      <th>children</th>\n",
       "      <th>count</th>\n",
       "      <th>mean</th>\n",
       "      <th>sum</th>\n",
       "    </tr>\n",
       "  </thead>\n",
       "  <tbody>\n",
       "    <tr>\n",
       "      <th>0</th>\n",
       "      <td>0</td>\n",
       "      <td>14091</td>\n",
       "      <td>0.075438</td>\n",
       "      <td>1063</td>\n",
       "    </tr>\n",
       "    <tr>\n",
       "      <th>1</th>\n",
       "      <td>1</td>\n",
       "      <td>4808</td>\n",
       "      <td>0.092346</td>\n",
       "      <td>444</td>\n",
       "    </tr>\n",
       "    <tr>\n",
       "      <th>2</th>\n",
       "      <td>2</td>\n",
       "      <td>2052</td>\n",
       "      <td>0.094542</td>\n",
       "      <td>194</td>\n",
       "    </tr>\n",
       "    <tr>\n",
       "      <th>3</th>\n",
       "      <td>3</td>\n",
       "      <td>330</td>\n",
       "      <td>0.081818</td>\n",
       "      <td>27</td>\n",
       "    </tr>\n",
       "    <tr>\n",
       "      <th>4</th>\n",
       "      <td>4</td>\n",
       "      <td>41</td>\n",
       "      <td>0.097561</td>\n",
       "      <td>4</td>\n",
       "    </tr>\n",
       "    <tr>\n",
       "      <th>5</th>\n",
       "      <td>5</td>\n",
       "      <td>9</td>\n",
       "      <td>0.000000</td>\n",
       "      <td>0</td>\n",
       "    </tr>\n",
       "  </tbody>\n",
       "</table>\n",
       "</div>"
      ],
      "text/plain": [
       "   children  count      mean   sum\n",
       "0         0  14091  0.075438  1063\n",
       "1         1   4808  0.092346   444\n",
       "2         2   2052  0.094542   194\n",
       "3         3    330  0.081818    27\n",
       "4         4     41  0.097561     4\n",
       "5         5      9  0.000000     0"
      ]
     },
     "execution_count": 25,
     "metadata": {},
     "output_type": "execute_result"
    }
   ],
   "source": [
    "# для дальнейшего удобства работы с таблицей осуществим сброс индексов \n",
    "# и уйдем от двойной индексации\n",
    "debt_children = data.pivot_table(index = 'children', \n",
    "                                 values = 'debt', \n",
    "                                 aggfunc = {'count', 'sum', 'mean'})\\\n",
    "                    .reset_index()\\\n",
    "                    .rename_axis(None, axis=1)\n",
    "debt_children"
   ]
  },
  {
   "cell_type": "code",
   "execution_count": 26,
   "id": "5f5a1186",
   "metadata": {},
   "outputs": [
    {
     "data": {
      "text/html": [
       "<div>\n",
       "<style scoped>\n",
       "    .dataframe tbody tr th:only-of-type {\n",
       "        vertical-align: middle;\n",
       "    }\n",
       "\n",
       "    .dataframe tbody tr th {\n",
       "        vertical-align: top;\n",
       "    }\n",
       "\n",
       "    .dataframe thead th {\n",
       "        text-align: right;\n",
       "    }\n",
       "</style>\n",
       "<table border=\"1\" class=\"dataframe\">\n",
       "  <thead>\n",
       "    <tr style=\"text-align: right;\">\n",
       "      <th></th>\n",
       "      <th>Кол-во детей</th>\n",
       "      <th>Кол-во заемщиков</th>\n",
       "      <th>% просрочек</th>\n",
       "      <th>Кол-во просрочек</th>\n",
       "      <th>% группы</th>\n",
       "    </tr>\n",
       "  </thead>\n",
       "  <tbody>\n",
       "    <tr>\n",
       "      <th>0</th>\n",
       "      <td>0</td>\n",
       "      <td>14091</td>\n",
       "      <td>7.54</td>\n",
       "      <td>1063</td>\n",
       "      <td>66.06</td>\n",
       "    </tr>\n",
       "    <tr>\n",
       "      <th>1</th>\n",
       "      <td>1</td>\n",
       "      <td>4808</td>\n",
       "      <td>9.23</td>\n",
       "      <td>444</td>\n",
       "      <td>22.54</td>\n",
       "    </tr>\n",
       "    <tr>\n",
       "      <th>2</th>\n",
       "      <td>2</td>\n",
       "      <td>2052</td>\n",
       "      <td>9.45</td>\n",
       "      <td>194</td>\n",
       "      <td>9.62</td>\n",
       "    </tr>\n",
       "    <tr>\n",
       "      <th>3</th>\n",
       "      <td>3</td>\n",
       "      <td>330</td>\n",
       "      <td>8.18</td>\n",
       "      <td>27</td>\n",
       "      <td>1.55</td>\n",
       "    </tr>\n",
       "    <tr>\n",
       "      <th>4</th>\n",
       "      <td>4</td>\n",
       "      <td>41</td>\n",
       "      <td>9.76</td>\n",
       "      <td>4</td>\n",
       "      <td>0.19</td>\n",
       "    </tr>\n",
       "    <tr>\n",
       "      <th>5</th>\n",
       "      <td>5</td>\n",
       "      <td>9</td>\n",
       "      <td>0.00</td>\n",
       "      <td>0</td>\n",
       "      <td>0.04</td>\n",
       "    </tr>\n",
       "  </tbody>\n",
       "</table>\n",
       "</div>"
      ],
      "text/plain": [
       "   Кол-во детей  Кол-во заемщиков  % просрочек  Кол-во просрочек  % группы\n",
       "0             0             14091         7.54              1063     66.06\n",
       "1             1              4808         9.23               444     22.54\n",
       "2             2              2052         9.45               194      9.62\n",
       "3             3               330         8.18                27      1.55\n",
       "4             4                41         9.76                 4      0.19\n",
       "5             5                 9         0.00                 0      0.04"
      ]
     },
     "execution_count": 26,
     "metadata": {},
     "output_type": "execute_result"
    }
   ],
   "source": [
    "# посчитаем процент каждой группы заемщиков в выборке для оценки репрезентативности результатов\n",
    "debt_children ['percent_group'] = round((debt_children['count'] / len(data) * 100), 2)\n",
    "\n",
    "# преобразуем долю в проценты для удобства\n",
    "debt_children ['mean'] = round((debt_children ['mean'] * 100), 2)\n",
    "\n",
    "#Для удобства переименуем название столбцов\n",
    "debt_children.rename(columns={'children': 'Кол-во детей', \n",
    "                              'count' : 'Кол-во заемщиков', \n",
    "                              'sum' : 'Кол-во просрочек', \n",
    "                              'mean' : '% просрочек', \n",
    "                              'percent_group' : '% группы'})\n"
   ]
  },
  {
   "cell_type": "markdown",
   "id": "49fc31fc",
   "metadata": {},
   "source": [
    "\n",
    "**Вывод:** \n",
    "* Семьи с 3 и более детьми становятся заемщиками банка очень редко - процент таких заемщиков составляет в общей сложности 1,78% в кредитной выборке. Поэтому эти данные не будем использовать для поиска закономерностей.\n",
    "* **Лидерами по возврату кредитов** являются семьи без детей, процент задолженности составляет 7.54%. Процент таких заемщиков в выборке банка 66%, таким образом можно сделать вывод, что люди без детей, охотнее привлекают заемные средства.\n",
    "* Семьи с детьми возвращают кредиты хуже. С увеличением количества детей ухудшается и качество кредитов и уменьшается их доля в кредитном портфеле банка."
   ]
  },
  {
   "cell_type": "markdown",
   "id": "8627e571",
   "metadata": {},
   "source": [
    "## Зависимость между семейным положением и возвратом кредита в срок"
   ]
  },
  {
   "cell_type": "markdown",
   "id": "2a936dc1",
   "metadata": {},
   "source": [
    "Создадим сводную таблицу с группировкой по семейному положению.\n",
    "В качестве агрегатных значений в каждой группе вычислим \n",
    "* количество записей `count` \n",
    "* количество задолженностей `sum`"
   ]
  },
  {
   "cell_type": "code",
   "execution_count": 27,
   "id": "2296f5f8",
   "metadata": {},
   "outputs": [
    {
     "data": {
      "text/html": [
       "<div>\n",
       "<style scoped>\n",
       "    .dataframe tbody tr th:only-of-type {\n",
       "        vertical-align: middle;\n",
       "    }\n",
       "\n",
       "    .dataframe tbody tr th {\n",
       "        vertical-align: top;\n",
       "    }\n",
       "\n",
       "    .dataframe thead th {\n",
       "        text-align: right;\n",
       "    }\n",
       "</style>\n",
       "<table border=\"1\" class=\"dataframe\">\n",
       "  <thead>\n",
       "    <tr style=\"text-align: right;\">\n",
       "      <th></th>\n",
       "      <th>family_status_id</th>\n",
       "      <th>count</th>\n",
       "      <th>mean</th>\n",
       "      <th>sum</th>\n",
       "    </tr>\n",
       "  </thead>\n",
       "  <tbody>\n",
       "    <tr>\n",
       "      <th>0</th>\n",
       "      <td>0</td>\n",
       "      <td>12261</td>\n",
       "      <td>0.075606</td>\n",
       "      <td>927</td>\n",
       "    </tr>\n",
       "    <tr>\n",
       "      <th>1</th>\n",
       "      <td>1</td>\n",
       "      <td>4134</td>\n",
       "      <td>0.093130</td>\n",
       "      <td>385</td>\n",
       "    </tr>\n",
       "    <tr>\n",
       "      <th>2</th>\n",
       "      <td>2</td>\n",
       "      <td>951</td>\n",
       "      <td>0.066246</td>\n",
       "      <td>63</td>\n",
       "    </tr>\n",
       "    <tr>\n",
       "      <th>3</th>\n",
       "      <td>3</td>\n",
       "      <td>1189</td>\n",
       "      <td>0.070648</td>\n",
       "      <td>84</td>\n",
       "    </tr>\n",
       "    <tr>\n",
       "      <th>4</th>\n",
       "      <td>4</td>\n",
       "      <td>2796</td>\n",
       "      <td>0.097639</td>\n",
       "      <td>273</td>\n",
       "    </tr>\n",
       "  </tbody>\n",
       "</table>\n",
       "</div>"
      ],
      "text/plain": [
       "   family_status_id  count      mean  sum\n",
       "0                 0  12261  0.075606  927\n",
       "1                 1   4134  0.093130  385\n",
       "2                 2    951  0.066246   63\n",
       "3                 3   1189  0.070648   84\n",
       "4                 4   2796  0.097639  273"
      ]
     },
     "execution_count": 27,
     "metadata": {},
     "output_type": "execute_result"
    }
   ],
   "source": [
    "# для дальнейшего удобства работы с таблицей осуществим сброс индексов \n",
    "# и уйдем от двойной индексации\n",
    "debt_family = data.pivot_table(index = 'family_status_id', \n",
    "                               values = 'debt', \n",
    "                               aggfunc = {'count', 'sum', 'mean'})\\\n",
    "                   .reset_index()\\\n",
    "                   .rename_axis(None, axis=1)\n",
    "debt_family"
   ]
  },
  {
   "cell_type": "markdown",
   "id": "b61f2790",
   "metadata": {},
   "source": [
    "Cоздадим новую таблицу `family_dict` "
   ]
  },
  {
   "cell_type": "code",
   "execution_count": 28,
   "id": "6036219e",
   "metadata": {},
   "outputs": [
    {
     "data": {
      "text/html": [
       "<div>\n",
       "<style scoped>\n",
       "    .dataframe tbody tr th:only-of-type {\n",
       "        vertical-align: middle;\n",
       "    }\n",
       "\n",
       "    .dataframe tbody tr th {\n",
       "        vertical-align: top;\n",
       "    }\n",
       "\n",
       "    .dataframe thead th {\n",
       "        text-align: right;\n",
       "    }\n",
       "</style>\n",
       "<table border=\"1\" class=\"dataframe\">\n",
       "  <thead>\n",
       "    <tr style=\"text-align: right;\">\n",
       "      <th></th>\n",
       "      <th>family_status_id</th>\n",
       "      <th>family_status</th>\n",
       "    </tr>\n",
       "  </thead>\n",
       "  <tbody>\n",
       "    <tr>\n",
       "      <th>0</th>\n",
       "      <td>0</td>\n",
       "      <td>женат / замужем</td>\n",
       "    </tr>\n",
       "    <tr>\n",
       "      <th>1</th>\n",
       "      <td>1</td>\n",
       "      <td>гражданский брак</td>\n",
       "    </tr>\n",
       "    <tr>\n",
       "      <th>2</th>\n",
       "      <td>2</td>\n",
       "      <td>вдовец / вдова</td>\n",
       "    </tr>\n",
       "    <tr>\n",
       "      <th>3</th>\n",
       "      <td>3</td>\n",
       "      <td>в разводе</td>\n",
       "    </tr>\n",
       "    <tr>\n",
       "      <th>4</th>\n",
       "      <td>4</td>\n",
       "      <td>Не женат / не замужем</td>\n",
       "    </tr>\n",
       "  </tbody>\n",
       "</table>\n",
       "</div>"
      ],
      "text/plain": [
       "   family_status_id          family_status\n",
       "0                 0        женат / замужем\n",
       "1                 1       гражданский брак\n",
       "2                 2         вдовец / вдова\n",
       "3                 3              в разводе\n",
       "4                 4  Не женат / не замужем"
      ]
     },
     "execution_count": 28,
     "metadata": {},
     "output_type": "execute_result"
    }
   ],
   "source": [
    "# создадим новую таблицу family_dict, удалим дубликаты и сбросим индексы\n",
    "family_dict = data[['family_status_id', 'family_status']].drop_duplicates().reset_index(drop=True)\n",
    "family_dict"
   ]
  },
  {
   "cell_type": "code",
   "execution_count": 29,
   "id": "d2d011e3",
   "metadata": {},
   "outputs": [],
   "source": [
    "# из таблицы family_dict подставим family_status, \n",
    "# соответствующие family_status_id путем объединения таблиц\n",
    "debt_family = debt_family.merge(family_dict, on='family_status_id', how='left')"
   ]
  },
  {
   "cell_type": "code",
   "execution_count": 30,
   "id": "5c52c603",
   "metadata": {},
   "outputs": [],
   "source": [
    "# преобразуем долю в проценты для удобства\n",
    "debt_family ['mean'] = round((debt_family ['mean'] * 100), 2)"
   ]
  },
  {
   "cell_type": "code",
   "execution_count": 31,
   "id": "fd56f6e2",
   "metadata": {},
   "outputs": [],
   "source": [
    "# посчитаем долю каждой группы заемщиков в выборке для оценки репрезентативности результатов\n",
    "debt_family ['percent_group'] = round((debt_family['count'] / len(data) * 100), 2)"
   ]
  },
  {
   "cell_type": "code",
   "execution_count": 32,
   "id": "da7e64e7",
   "metadata": {},
   "outputs": [
    {
     "data": {
      "text/html": [
       "<div>\n",
       "<style scoped>\n",
       "    .dataframe tbody tr th:only-of-type {\n",
       "        vertical-align: middle;\n",
       "    }\n",
       "\n",
       "    .dataframe tbody tr th {\n",
       "        vertical-align: top;\n",
       "    }\n",
       "\n",
       "    .dataframe thead th {\n",
       "        text-align: right;\n",
       "    }\n",
       "</style>\n",
       "<table border=\"1\" class=\"dataframe\">\n",
       "  <thead>\n",
       "    <tr style=\"text-align: right;\">\n",
       "      <th></th>\n",
       "      <th>Семейное положение</th>\n",
       "      <th>Кол-во заемщиков</th>\n",
       "      <th>Кол-во просрочек</th>\n",
       "      <th>% просрочек</th>\n",
       "      <th>% группы</th>\n",
       "    </tr>\n",
       "  </thead>\n",
       "  <tbody>\n",
       "    <tr>\n",
       "      <th>0</th>\n",
       "      <td>женат / замужем</td>\n",
       "      <td>12261</td>\n",
       "      <td>927</td>\n",
       "      <td>7.56</td>\n",
       "      <td>57.48</td>\n",
       "    </tr>\n",
       "    <tr>\n",
       "      <th>1</th>\n",
       "      <td>гражданский брак</td>\n",
       "      <td>4134</td>\n",
       "      <td>385</td>\n",
       "      <td>9.31</td>\n",
       "      <td>19.38</td>\n",
       "    </tr>\n",
       "    <tr>\n",
       "      <th>2</th>\n",
       "      <td>вдовец / вдова</td>\n",
       "      <td>951</td>\n",
       "      <td>63</td>\n",
       "      <td>6.62</td>\n",
       "      <td>4.46</td>\n",
       "    </tr>\n",
       "    <tr>\n",
       "      <th>3</th>\n",
       "      <td>в разводе</td>\n",
       "      <td>1189</td>\n",
       "      <td>84</td>\n",
       "      <td>7.06</td>\n",
       "      <td>5.57</td>\n",
       "    </tr>\n",
       "    <tr>\n",
       "      <th>4</th>\n",
       "      <td>Не женат / не замужем</td>\n",
       "      <td>2796</td>\n",
       "      <td>273</td>\n",
       "      <td>9.76</td>\n",
       "      <td>13.11</td>\n",
       "    </tr>\n",
       "  </tbody>\n",
       "</table>\n",
       "</div>"
      ],
      "text/plain": [
       "      Семейное положение  Кол-во заемщиков  Кол-во просрочек  % просрочек  \\\n",
       "0        женат / замужем             12261               927         7.56   \n",
       "1       гражданский брак              4134               385         9.31   \n",
       "2         вдовец / вдова               951                63         6.62   \n",
       "3              в разводе              1189                84         7.06   \n",
       "4  Не женат / не замужем              2796               273         9.76   \n",
       "\n",
       "   % группы  \n",
       "0     57.48  \n",
       "1     19.38  \n",
       "2      4.46  \n",
       "3      5.57  \n",
       "4     13.11  "
      ]
     },
     "execution_count": 32,
     "metadata": {},
     "output_type": "execute_result"
    }
   ],
   "source": [
    "#Для удобства переименуем название столбцов\n",
    "debt_family[['family_status', 'count' ,'sum', 'mean', 'percent_group']].rename(columns={'family_status': 'Семейное положение', \n",
    "                            'count' : 'Кол-во заемщиков',\n",
    "                            'sum' : 'Кол-во просрочек',\n",
    "                            'mean' : '% просрочек', \n",
    "                            'percent_group' : '% группы'})"
   ]
  },
  {
   "cell_type": "markdown",
   "id": "11aa11fb",
   "metadata": {},
   "source": [
    "**Вывод:** \n",
    "* самыми надежными заемщиками в исследуемой выборке являются вдовы/вдовцы и лица, находящиеся в разводе. При этом доля таких заемщиков составляет 4,5% и 5,6% соответсвенно.\n",
    "* Самыми проблемными заемщиками являются не женатые/ не замужние граждане."
   ]
  },
  {
   "cell_type": "markdown",
   "id": "0db34bc1",
   "metadata": {},
   "source": [
    "## Зависимость между уровнем дохода и возвратом кредита в срок"
   ]
  },
  {
   "cell_type": "markdown",
   "id": "40d209e8",
   "metadata": {},
   "source": [
    "Создадим сводную таблицу с группировкой по категорийному признаку `total_income_category`. В качестве агрегатных значение в каждой группе вычислим \n",
    "* количество записей `count` \n",
    "* количество задолженностей `sum`"
   ]
  },
  {
   "cell_type": "code",
   "execution_count": 33,
   "id": "1710fb59",
   "metadata": {
    "deletable": false,
    "id": "cd7e3720"
   },
   "outputs": [
    {
     "data": {
      "text/html": [
       "<div>\n",
       "<style scoped>\n",
       "    .dataframe tbody tr th:only-of-type {\n",
       "        vertical-align: middle;\n",
       "    }\n",
       "\n",
       "    .dataframe tbody tr th {\n",
       "        vertical-align: top;\n",
       "    }\n",
       "\n",
       "    .dataframe thead th {\n",
       "        text-align: right;\n",
       "    }\n",
       "</style>\n",
       "<table border=\"1\" class=\"dataframe\">\n",
       "  <thead>\n",
       "    <tr style=\"text-align: right;\">\n",
       "      <th></th>\n",
       "      <th>total_income_category</th>\n",
       "      <th>count</th>\n",
       "      <th>mean</th>\n",
       "      <th>sum</th>\n",
       "    </tr>\n",
       "  </thead>\n",
       "  <tbody>\n",
       "    <tr>\n",
       "      <th>0</th>\n",
       "      <td>A</td>\n",
       "      <td>25</td>\n",
       "      <td>0.080000</td>\n",
       "      <td>2</td>\n",
       "    </tr>\n",
       "    <tr>\n",
       "      <th>1</th>\n",
       "      <td>B</td>\n",
       "      <td>5014</td>\n",
       "      <td>0.070602</td>\n",
       "      <td>354</td>\n",
       "    </tr>\n",
       "    <tr>\n",
       "      <th>2</th>\n",
       "      <td>C</td>\n",
       "      <td>15921</td>\n",
       "      <td>0.084982</td>\n",
       "      <td>1353</td>\n",
       "    </tr>\n",
       "    <tr>\n",
       "      <th>3</th>\n",
       "      <td>D</td>\n",
       "      <td>349</td>\n",
       "      <td>0.060172</td>\n",
       "      <td>21</td>\n",
       "    </tr>\n",
       "    <tr>\n",
       "      <th>4</th>\n",
       "      <td>E</td>\n",
       "      <td>22</td>\n",
       "      <td>0.090909</td>\n",
       "      <td>2</td>\n",
       "    </tr>\n",
       "  </tbody>\n",
       "</table>\n",
       "</div>"
      ],
      "text/plain": [
       "  total_income_category  count      mean   sum\n",
       "0                     A     25  0.080000     2\n",
       "1                     B   5014  0.070602   354\n",
       "2                     C  15921  0.084982  1353\n",
       "3                     D    349  0.060172    21\n",
       "4                     E     22  0.090909     2"
      ]
     },
     "execution_count": 33,
     "metadata": {},
     "output_type": "execute_result"
    }
   ],
   "source": [
    "# для дальнейшего удобства работы с таблицей осуществим сброс индексов и уйдем от двойной индексации\n",
    "debt_income = data.pivot_table(index = 'total_income_category', \n",
    "                               values = 'debt', \n",
    "                               aggfunc = {'count', 'sum', 'mean'})\\\n",
    "                   .reset_index()\\\n",
    "                   .rename_axis(None, axis=1)\n",
    "debt_income"
   ]
  },
  {
   "cell_type": "code",
   "execution_count": 34,
   "id": "7435beff",
   "metadata": {},
   "outputs": [],
   "source": [
    "# преобразуем долю в проценты для удобства\n",
    "debt_income ['mean'] = round((debt_income ['mean'] * 100), 2)"
   ]
  },
  {
   "cell_type": "code",
   "execution_count": 35,
   "id": "e22ad1fc",
   "metadata": {},
   "outputs": [],
   "source": [
    "# посчитаем долю каждой группы заемщиков в выборке для оценки репрезентативности результатов\n",
    "debt_income ['percent_group'] = round((debt_income['count'] / len(data) * 100), 2)"
   ]
  },
  {
   "cell_type": "code",
   "execution_count": 36,
   "id": "41bdf7aa",
   "metadata": {},
   "outputs": [],
   "source": [
    "# сделаем столбец с расшифровкой категории дохода заемщика\n",
    "for t_i_c in debt_income['total_income_category']:\n",
    "    try:\n",
    "        if t_i_c == 'E':\n",
    "            debt_income.loc[debt_income['total_income_category'] == t_i_c, 'level_income'] = 'доход до 30000'\n",
    "        elif t_i_c == 'D':\n",
    "            debt_income.loc[debt_income['total_income_category'] == t_i_c, 'level_income'] = 'доход от 30001 до 50000'\n",
    "        elif t_i_c == 'C':\n",
    "            debt_income.loc[debt_income['total_income_category'] == t_i_c, 'level_income'] = 'доход от 50001 до 200000'\n",
    "        elif t_i_c == 'B':\n",
    "            debt_income.loc[debt_income['total_income_category'] == t_i_c, 'level_income'] = 'доход от 200001 до 1000000'\n",
    "        elif t_i_c == 'A':\n",
    "            debt_income.loc[debt_income['total_income_category'] == t_i_c, 'level_income'] = 'доход более 1000001'\n",
    "    except:\n",
    "        pass"
   ]
  },
  {
   "cell_type": "code",
   "execution_count": 37,
   "id": "9560758a",
   "metadata": {
    "scrolled": true
   },
   "outputs": [
    {
     "data": {
      "text/html": [
       "<div>\n",
       "<style scoped>\n",
       "    .dataframe tbody tr th:only-of-type {\n",
       "        vertical-align: middle;\n",
       "    }\n",
       "\n",
       "    .dataframe tbody tr th {\n",
       "        vertical-align: top;\n",
       "    }\n",
       "\n",
       "    .dataframe thead th {\n",
       "        text-align: right;\n",
       "    }\n",
       "</style>\n",
       "<table border=\"1\" class=\"dataframe\">\n",
       "  <thead>\n",
       "    <tr style=\"text-align: right;\">\n",
       "      <th></th>\n",
       "      <th>Категория дохода</th>\n",
       "      <th>Уровень дохода</th>\n",
       "      <th>Кол-во заемщиков</th>\n",
       "      <th>Кол-во просрочек</th>\n",
       "      <th>% просрочек</th>\n",
       "      <th>% группы</th>\n",
       "    </tr>\n",
       "  </thead>\n",
       "  <tbody>\n",
       "    <tr>\n",
       "      <th>0</th>\n",
       "      <td>A</td>\n",
       "      <td>доход более 1000001</td>\n",
       "      <td>25</td>\n",
       "      <td>2</td>\n",
       "      <td>8.00</td>\n",
       "      <td>0.12</td>\n",
       "    </tr>\n",
       "    <tr>\n",
       "      <th>1</th>\n",
       "      <td>B</td>\n",
       "      <td>доход от 200001 до 1000000</td>\n",
       "      <td>5014</td>\n",
       "      <td>354</td>\n",
       "      <td>7.06</td>\n",
       "      <td>23.51</td>\n",
       "    </tr>\n",
       "    <tr>\n",
       "      <th>2</th>\n",
       "      <td>C</td>\n",
       "      <td>доход от 50001 до 200000</td>\n",
       "      <td>15921</td>\n",
       "      <td>1353</td>\n",
       "      <td>8.50</td>\n",
       "      <td>74.64</td>\n",
       "    </tr>\n",
       "    <tr>\n",
       "      <th>3</th>\n",
       "      <td>D</td>\n",
       "      <td>доход от 30001 до 50000</td>\n",
       "      <td>349</td>\n",
       "      <td>21</td>\n",
       "      <td>6.02</td>\n",
       "      <td>1.64</td>\n",
       "    </tr>\n",
       "    <tr>\n",
       "      <th>4</th>\n",
       "      <td>E</td>\n",
       "      <td>доход до 30000</td>\n",
       "      <td>22</td>\n",
       "      <td>2</td>\n",
       "      <td>9.09</td>\n",
       "      <td>0.10</td>\n",
       "    </tr>\n",
       "  </tbody>\n",
       "</table>\n",
       "</div>"
      ],
      "text/plain": [
       "  Категория дохода              Уровень дохода  Кол-во заемщиков  \\\n",
       "0                A         доход более 1000001                25   \n",
       "1                B  доход от 200001 до 1000000              5014   \n",
       "2                C    доход от 50001 до 200000             15921   \n",
       "3                D     доход от 30001 до 50000               349   \n",
       "4                E              доход до 30000                22   \n",
       "\n",
       "   Кол-во просрочек  % просрочек  % группы  \n",
       "0                 2         8.00      0.12  \n",
       "1               354         7.06     23.51  \n",
       "2              1353         8.50     74.64  \n",
       "3                21         6.02      1.64  \n",
       "4                 2         9.09      0.10  "
      ]
     },
     "execution_count": 37,
     "metadata": {},
     "output_type": "execute_result"
    }
   ],
   "source": [
    "#Для удобства переименуем название столбцов\n",
    "debt_income[['total_income_category', 'level_income', 'count','sum', 'mean', 'percent_group']]\\\n",
    ".rename(columns={'total_income_category': 'Категория дохода', \n",
    "                 'level_income': 'Уровень дохода', \n",
    "                 'count' : 'Кол-во заемщиков',\n",
    "                 'sum' : 'Кол-во просрочек', \n",
    "                 'mean' : '% просрочек', \n",
    "                 'percent_group' : '% группы'})"
   ]
  },
  {
   "cell_type": "markdown",
   "id": "036407a0",
   "metadata": {
    "deletable": false,
    "id": "e8593def"
   },
   "source": [
    "**Вывод:** \n",
    "* Минимальный уровень просрочки наблюдается у заемщиков категории **D** (уровень дохода от 30001 до 50000).\n",
    "* Максимальный уровень просроченной задолженности у лиц категории **E** с доходами до 30000. \n",
    "* Категории **D**, **E** в исследуемой выборке являются несущественными.\n",
    "* Основной сегмент заемщиков, представлен клиентами с доходами от 50001 до 1000000 (**категории C и B**). \n",
    "* Более надежными заемщиками являются клиенты категории **B**. "
   ]
  },
  {
   "cell_type": "markdown",
   "id": "255a0f47",
   "metadata": {},
   "source": [
    "## Зависимость возврата в срок от цели кредита"
   ]
  },
  {
   "cell_type": "markdown",
   "id": "6b926306",
   "metadata": {},
   "source": [
    "Создадим сводную таблицу с группировкой по категорийному признаку `purpose_category`. В качестве агрегатных значение в каждой группе вычислим \n",
    "* количество записей `count` \n",
    "* количество задолженностей `sum`"
   ]
  },
  {
   "cell_type": "code",
   "execution_count": 38,
   "id": "4e07b734",
   "metadata": {
    "deletable": false,
    "id": "2b687290"
   },
   "outputs": [
    {
     "data": {
      "text/html": [
       "<div>\n",
       "<style scoped>\n",
       "    .dataframe tbody tr th:only-of-type {\n",
       "        vertical-align: middle;\n",
       "    }\n",
       "\n",
       "    .dataframe tbody tr th {\n",
       "        vertical-align: top;\n",
       "    }\n",
       "\n",
       "    .dataframe thead th {\n",
       "        text-align: right;\n",
       "    }\n",
       "</style>\n",
       "<table border=\"1\" class=\"dataframe\">\n",
       "  <thead>\n",
       "    <tr style=\"text-align: right;\">\n",
       "      <th></th>\n",
       "      <th>purpose_category</th>\n",
       "      <th>count</th>\n",
       "      <th>sum</th>\n",
       "    </tr>\n",
       "  </thead>\n",
       "  <tbody>\n",
       "    <tr>\n",
       "      <th>0</th>\n",
       "      <td>операции с автомобилем</td>\n",
       "      <td>4279</td>\n",
       "      <td>400</td>\n",
       "    </tr>\n",
       "    <tr>\n",
       "      <th>1</th>\n",
       "      <td>операции с недвижимостью</td>\n",
       "      <td>10751</td>\n",
       "      <td>780</td>\n",
       "    </tr>\n",
       "    <tr>\n",
       "      <th>2</th>\n",
       "      <td>получение образования</td>\n",
       "      <td>3988</td>\n",
       "      <td>369</td>\n",
       "    </tr>\n",
       "    <tr>\n",
       "      <th>3</th>\n",
       "      <td>проведение свадьбы</td>\n",
       "      <td>2313</td>\n",
       "      <td>183</td>\n",
       "    </tr>\n",
       "  </tbody>\n",
       "</table>\n",
       "</div>"
      ],
      "text/plain": [
       "           purpose_category  count  sum\n",
       "0    операции с автомобилем   4279  400\n",
       "1  операции с недвижимостью  10751  780\n",
       "2     получение образования   3988  369\n",
       "3        проведение свадьбы   2313  183"
      ]
     },
     "execution_count": 38,
     "metadata": {},
     "output_type": "execute_result"
    }
   ],
   "source": [
    "# для дальнейшего удобства работы с таблицей осуществим сброс индексов и уйдем от двойной индексации\n",
    "debt_purpose = data.pivot_table(index = 'purpose_category', \n",
    "                                values = 'debt', \n",
    "                                aggfunc = {'count', 'sum'})\\\n",
    "                   .reset_index()\\\n",
    "                   .rename_axis(None, axis=1)\n",
    "debt_purpose"
   ]
  },
  {
   "cell_type": "code",
   "execution_count": 39,
   "id": "d9d54010",
   "metadata": {},
   "outputs": [],
   "source": [
    "# расчитаем процент невозврата в каждой группе \n",
    "debt_purpose ['percent_debt'] = round((debt_purpose['sum'] / debt_purpose['count'] * 100), 2)\n",
    "# посчитаем долю каждой группы заемщиков в выборке для оценки репрезентативности результатов\n",
    "debt_purpose ['percent_group'] = round((debt_purpose['count'] / len(data) * 100), 2)"
   ]
  },
  {
   "cell_type": "code",
   "execution_count": 40,
   "id": "47b331a2",
   "metadata": {},
   "outputs": [
    {
     "data": {
      "text/html": [
       "<div>\n",
       "<style scoped>\n",
       "    .dataframe tbody tr th:only-of-type {\n",
       "        vertical-align: middle;\n",
       "    }\n",
       "\n",
       "    .dataframe tbody tr th {\n",
       "        vertical-align: top;\n",
       "    }\n",
       "\n",
       "    .dataframe thead th {\n",
       "        text-align: right;\n",
       "    }\n",
       "</style>\n",
       "<table border=\"1\" class=\"dataframe\">\n",
       "  <thead>\n",
       "    <tr style=\"text-align: right;\">\n",
       "      <th></th>\n",
       "      <th>Цель кредита</th>\n",
       "      <th>Кол-во заемщиков</th>\n",
       "      <th>Кол-во просрочек</th>\n",
       "      <th>% просрочек</th>\n",
       "      <th>% группы кредитов</th>\n",
       "    </tr>\n",
       "  </thead>\n",
       "  <tbody>\n",
       "    <tr>\n",
       "      <th>0</th>\n",
       "      <td>операции с автомобилем</td>\n",
       "      <td>4279</td>\n",
       "      <td>400</td>\n",
       "      <td>9.35</td>\n",
       "      <td>20.06</td>\n",
       "    </tr>\n",
       "    <tr>\n",
       "      <th>1</th>\n",
       "      <td>операции с недвижимостью</td>\n",
       "      <td>10751</td>\n",
       "      <td>780</td>\n",
       "      <td>7.26</td>\n",
       "      <td>50.40</td>\n",
       "    </tr>\n",
       "    <tr>\n",
       "      <th>2</th>\n",
       "      <td>получение образования</td>\n",
       "      <td>3988</td>\n",
       "      <td>369</td>\n",
       "      <td>9.25</td>\n",
       "      <td>18.70</td>\n",
       "    </tr>\n",
       "    <tr>\n",
       "      <th>3</th>\n",
       "      <td>проведение свадьбы</td>\n",
       "      <td>2313</td>\n",
       "      <td>183</td>\n",
       "      <td>7.91</td>\n",
       "      <td>10.84</td>\n",
       "    </tr>\n",
       "  </tbody>\n",
       "</table>\n",
       "</div>"
      ],
      "text/plain": [
       "               Цель кредита  Кол-во заемщиков  Кол-во просрочек  % просрочек  \\\n",
       "0    операции с автомобилем              4279               400         9.35   \n",
       "1  операции с недвижимостью             10751               780         7.26   \n",
       "2     получение образования              3988               369         9.25   \n",
       "3        проведение свадьбы              2313               183         7.91   \n",
       "\n",
       "   % группы кредитов  \n",
       "0              20.06  \n",
       "1              50.40  \n",
       "2              18.70  \n",
       "3              10.84  "
      ]
     },
     "execution_count": 40,
     "metadata": {},
     "output_type": "execute_result"
    }
   ],
   "source": [
    "#Для удобства переименуем название столбцов\n",
    "debt_purpose[['purpose_category', 'count','sum', 'percent_debt', 'percent_group']]\\\n",
    ".rename(columns={'purpose_category': 'Цель кредита', \n",
    "                 'count' : 'Кол-во заемщиков', \n",
    "                 'sum' : 'Кол-во просрочек',\n",
    "                 'percent_debt' : '% просрочек', \n",
    "                 'percent_group' : '% группы кредитов'})"
   ]
  },
  {
   "cell_type": "markdown",
   "id": "161afc5c",
   "metadata": {
    "deletable": false,
    "id": "b4bb2ce6"
   },
   "source": [
    "**Вывод:** \n",
    "* Основная доля кредитов привлекалась (более 50%) для операций с недвижимость, в данной категории минимальный уровень просрочки.\n",
    "* Кредиты на проведения свадьбы находятся на втором месте по благонадержности. Процент таких кредитов составляет 11% в исследуемой выборке.\n",
    "* Кредитов, направленных на образование, почти 4000, при этом уровень просрочки составляет 9.25%. \n",
    "* Немного больше кредитов, привлечено на операции с автомобилями, но и качество данных кредитов также немного хуже.\n",
    "* Лидерами по просроченной задолженности в данной выборке являются кредиты с автомобилями."
   ]
  },
  {
   "cell_type": "markdown",
   "id": "11f4151c",
   "metadata": {},
   "source": [
    "## Анализ причины появления пропусков в исходных данных"
   ]
  },
  {
   "cell_type": "markdown",
   "id": "59a2fc29",
   "metadata": {},
   "source": [
    "Проведем маленькое расследование.\n",
    "\n",
    "Рассмотрим исходный датафрей"
   ]
  },
  {
   "cell_type": "code",
   "execution_count": 41,
   "id": "d98c5bac",
   "metadata": {},
   "outputs": [],
   "source": [
    "try:\n",
    "    data_nan= pd.read_csv('data.csv')\n",
    "except:\n",
    "    data_nan = pd.read_csv('/another_folder/datasets/data.csv')"
   ]
  },
  {
   "cell_type": "code",
   "execution_count": 42,
   "id": "bd5b5225",
   "metadata": {},
   "outputs": [
    {
     "name": "stdout",
     "output_type": "stream",
     "text": [
      "<class 'pandas.core.frame.DataFrame'>\n",
      "Int64Index: 2174 entries, 12 to 21510\n",
      "Data columns (total 12 columns):\n",
      " #   Column            Non-Null Count  Dtype  \n",
      "---  ------            --------------  -----  \n",
      " 0   children          2174 non-null   int64  \n",
      " 1   days_employed     0 non-null      float64\n",
      " 2   dob_years         2174 non-null   int64  \n",
      " 3   education         2174 non-null   object \n",
      " 4   education_id      2174 non-null   int64  \n",
      " 5   family_status     2174 non-null   object \n",
      " 6   family_status_id  2174 non-null   int64  \n",
      " 7   gender            2174 non-null   object \n",
      " 8   income_type       2174 non-null   object \n",
      " 9   debt              2174 non-null   int64  \n",
      " 10  total_income      0 non-null      float64\n",
      " 11  purpose           2174 non-null   object \n",
      "dtypes: float64(2), int64(5), object(5)\n",
      "memory usage: 220.8+ KB\n"
     ]
    }
   ],
   "source": [
    "# выведем информацию о выборке, в которой пропущены данные о доходах заемщика\n",
    "data_nan[data_nan['total_income'].isna()].info()"
   ]
  },
  {
   "cell_type": "code",
   "execution_count": 43,
   "id": "6a009b80",
   "metadata": {},
   "outputs": [],
   "source": [
    "# выберем записи с отсуствующими значениями\n",
    "data_nan = data_nan[data_nan['total_income'].isna()]"
   ]
  },
  {
   "cell_type": "markdown",
   "id": "ea3ed27f",
   "metadata": {},
   "source": [
    "Проверим предположение о том, что пропуск значение в поле `total_income` и `days_employed` коррелируют друг с другом."
   ]
  },
  {
   "cell_type": "markdown",
   "id": "262b1c96",
   "metadata": {},
   "source": [
    "Cгруппируем по столбцу тип занятости (`income_type`) и оценим интересующую нас колонку `days_employed`. Если есть хотя бы одно не нулевое значение, мы получим сумму, отличную от нуля"
   ]
  },
  {
   "cell_type": "code",
   "execution_count": 44,
   "id": "18e0da1c",
   "metadata": {},
   "outputs": [
    {
     "data": {
      "text/plain": [
       "income_type\n",
       "госслужащий        0.0\n",
       "компаньон          0.0\n",
       "пенсионер          0.0\n",
       "предприниматель    0.0\n",
       "сотрудник          0.0\n",
       "Name: days_employed, dtype: float64"
      ]
     },
     "execution_count": 44,
     "metadata": {},
     "output_type": "execute_result"
    }
   ],
   "source": [
    "data_nan.groupby('income_type')['days_employed'].sum()"
   ]
  },
  {
   "cell_type": "code",
   "execution_count": 45,
   "id": "a6563213",
   "metadata": {},
   "outputs": [
    {
     "data": {
      "text/plain": [
       "income_type\n",
       "госслужащий         147\n",
       "компаньон           508\n",
       "пенсионер           413\n",
       "предприниматель       1\n",
       "сотрудник          1105\n",
       "Name: children, dtype: int64"
      ]
     },
     "execution_count": 45,
     "metadata": {},
     "output_type": "execute_result"
    }
   ],
   "source": [
    "# проверим как распределены пропуски по группам занятости\n",
    "data_nan.groupby('income_type')['children'].count()"
   ]
  },
  {
   "cell_type": "markdown",
   "id": "377b4811",
   "metadata": {
    "deletable": false,
    "id": "9da2ceda"
   },
   "source": [
    "**Вывод**: \n",
    "* массовые пропуски в данных согласно проведеному анализу не связаны с человеческим фактором и скорее всего являются результатом технического сбоя (например, не подгрузились данные из одной системы учета сотрудников в общую базу по кредитам).\n",
    "* Единичные пропуски скорее всего связаны с человеческим фактором. "
   ]
  },
  {
   "cell_type": "markdown",
   "id": "5bd54aba",
   "metadata": {},
   "source": [
    "# Вывод"
   ]
  },
  {
   "cell_type": "markdown",
   "id": "a2c915d3",
   "metadata": {
    "deletable": false,
    "id": "bad65432"
   },
   "source": [
    "В ходе проекта была исследована платёжеспособность клиентов банка по представленным кредитным отделом данным.\n",
    "\n",
    "Целью являлось проверка гипотезы влияния семейного положения и количества детей клиента на факты погашения кредита в срок. Результаты проверки этих гипотез должны быть учтены при построении модели кредитного скоринга."
   ]
  },
  {
   "cell_type": "markdown",
   "id": "6bfe973e",
   "metadata": {},
   "source": [
    "**Перед проверкой гипотез был проведен обзор и предобработка данных:**\n",
    "\n",
    "* Проверка данных на пропущенные значения выявила пропуски в двух столбцах `income_type` и `days_employed`. Анализ причин появления пропусков в данных столбцах указывает, что данные в данных колонках пропущены в результате технического сбоя.\n",
    "Пропуски в столбце `income_type`, который оказывает существенное влияние на анализ выборки, были заполнены медианными значениями для каждого типа занятости.\n",
    "Пропуски в `days_employed` на текущем этапе исследования не заполнялись, так как в исследовании вышеуказанных гипотез не участвовали.\n",
    "\n",
    "* Были удалены артефакты (аномалии) — значения, которые не отражают действительность и появились по какой-то ошибке и полные дубликаты.\n",
    "\n",
    "* Проведена категоризация данных по столбцам \n",
    "   `total_income` - все клиенты были разделены на категории в зависимости от размера их дохода.\n",
    "   `purpose` - все цели привлечения денежных средств клиентами были разделены на 4 группы."
   ]
  },
  {
   "cell_type": "markdown",
   "id": "2f8557ed",
   "metadata": {},
   "source": [
    "**Проверены гипотезы и выявлены следующие закономерности:**\n",
    "\n",
    "*Влияние семейного положения на возврат кредита в срок*\n",
    "\n",
    "Гипотеза, о том, что семейное положение оказывает влияние на возврат крдеита в срок подтвердилась.\n",
    "* Люди, находящиеся, либо ранее бывшие в официальных отношениях, возвращают кредиты лучше, чем, граждане не состоящие в браке.\n",
    "* Самыми надежными заемщиками в исследуемой выборке являются вдовы/вдовцы и лица, находящиеся в разводе. При этом совокупный портфель кредитов таких заемщиков около 10%. 6,6% и 7% составляют кредиты, возвращенные не в срок.\n",
    "* Самыми проблемными заемщиками являются не женатые/не замужние граждане (9,8% просроченных кредитов, 13% в кредитном портфеле банка) и граждане, состоящие в гражданском браке (9,3% просроченных кредитов, 19% в кредитном портфеле банка).\n",
    "* Максимальный количество кредитов выдано гражданам, находящимся в официальном браке - 57,5% в кредитном портфеле банка. Процент невозврата 7,6%.\n",
    "\n",
    "Таким образом, заемщики, находящиеся в официальном браке, либо ранее в нем состоящие, являются более ответственными в плане платежной дисциплины.\n",
    "\n",
    "*Влияние количества детей на возврат кредита в срок*\n",
    "\n",
    "\n",
    "Гипотеза о влиянии наличия детей у клиента на возврат кредита потверждена. \n",
    "* При наличии детей вероятность возврата кредита в срок снижается.\n",
    "* Семьи с 3 и более детьми становятся заемщиками банка очень редко - процент таких заемщиков составляет в общей сложности 1,78% в кредитной выборке. Поэтому эти данные не используем для оценки наличия закономерностей.\n",
    "* Лидерами по возврату кредитов являются семьи без детей, процент задолженности составляет 7.54%. Процент таких заемщиков в выборке банка 66%, таким образом можно сделать вывод, что люди без детей, охотнее привлекают и возвращают в срок заемные средства.\n",
    "* Семьи с детьми возвращают кредиты хуже. С увеличением количества детей ухудшается и качество кредитов и уменьшается их доля в кредитном портфеле банка:\n",
    "     - клиенты с одним ребенком составляют 22,5% от общего количества заемщиков, 9,2% кредитов возвращены не в срок.\n",
    "     - клиенты, имеющие 2 детей -           9,6% от общего количества заемщиков, 9,5% кредитов возвращены не в срок.\n",
    "\n",
    "*Влияние уровня дохода на возврат кредита в срок*\n",
    "\n",
    "\n",
    "В результате выявления зависимостей между уровнем дохода и возратом кредита установлено:\n",
    "* Общий кредитный портфель клиентов категории D (уровень дохода от 30001 до 50000), E (доходы до 30000) и A (доходы свяше 1000000) составляет менее 2%, и является несущественным при проведении анализа.\n",
    "* Основной сегмент заемщиков, представлен клиентами с доходами от 50001 до 1000000 (категории C и B).\n",
    "* Более надежными заемщиками являются клиенты категории B (доходы свыше 200000), процент просрочек составляет 7%, а кредитный портфель - 23,5% от общего кредитного портфеля.\n",
    "* Количество клиентов категории C (доходы до 200000) почти в 3 раза больше, а уровень просроченной задолженности на 1,5% выше.\n",
    "* Этот результат мог оказаться иным, если бы не пропуски в данных, которые были заполнены нами на основании медианных значений по типу занятости.\n",
    "\n",
    "*Влияние цели кредита на его возврат в срок*\n",
    "* Основная доля кредитов привлекалась (более 50%) для операций с недвижимость, в данной категории минимальный уровень просрочки - 7,3%, что объясняется скорее всего тем, что в качестве обеспечения по кредиту выступало недвижимое имущество.\n",
    "* Кредиты на проведения свадьбы находятся на втором месте по благонадержности. Процент таких кредитов составляет 11% в исследуемой выборке, и 7,9% - невозврата в установленный срок.\n",
    "* Кредитов, направленных на образование, почти 4000 или 18,7% от кредитного портфеля, при этом уровень просрочки составляет 9.25%.\n",
    "* Немного больше кредитов (20% из выборки), привлечено на операции с автомобилями, но и качество данных кредитов также немного хуже (9,35% просроченной задолженности).\n",
    "* Лидерами по просроченной задолженности в данной выборке являются кредиты с автомобилями. \n",
    "* Таким образом кредиты на приобретени автомобилей являются более рискованными, чем беззалоговые крдеиты на проведение свадебных мероприятий.\n"
   ]
  },
  {
   "cell_type": "markdown",
   "id": "8a96dac5",
   "metadata": {},
   "source": [
    "На основании вышеизложенного **наиболее привлекательным** для банка клиентом является гражданин \n",
    "- состоящий/ранее бывший в браке;\n",
    "- не имеющий несовершеннолетних детей;\n",
    "- с уровнем дохода свыше 200000\n",
    "\n",
    "Предпочтительная цель привлечения кредитных средств:\n",
    "- приобретение недвижимости\n",
    "- проведение свадебных мероприятий"
   ]
  },
  {
   "cell_type": "markdown",
   "id": "07071c10",
   "metadata": {},
   "source": [
    "При этом можно рекомендовать \n",
    "1. при построении скоринговой модели сегментировать на более мелкие категории уровень дохода заемщика;\n",
    "2. проработать вопрос дополнения/заполнения пропусков данными из других систем банка."
   ]
  },
  {
   "cell_type": "markdown",
   "id": "9afb599a",
   "metadata": {},
   "source": [
    "Согласно проведенно анализа можно сделать следующие выводы:\n",
    " - клиенты, находящиеся в браке, либо в разводе обладают лучшей платежной дисциплиной по сравнению с людьми, не состоящими в официальных отношениях;\n",
    " - самыми надежными клиентами банка являются вдовы и вдовцы;\n",
    " - при наличии детей вероятность возврата кредита в срок снижается;\n",
    " - прослеживается тендеция, что заемщики с большим количеством детей реже берут кредиты."
   ]
  }
 ],
 "metadata": {
  "kernelspec": {
   "display_name": "Python 3 (ipykernel)",
   "language": "python",
   "name": "python3"
  },
  "language_info": {
   "codemirror_mode": {
    "name": "ipython",
    "version": 3
   },
   "file_extension": ".py",
   "mimetype": "text/x-python",
   "name": "python",
   "nbconvert_exporter": "python",
   "pygments_lexer": "ipython3",
   "version": "3.9.12"
  },
  "toc": {
   "base_numbering": 1,
   "nav_menu": {},
   "number_sections": true,
   "sideBar": true,
   "skip_h1_title": false,
   "title_cell": "Table of Contents",
   "title_sidebar": "Contents",
   "toc_cell": false,
   "toc_position": {},
   "toc_section_display": true,
   "toc_window_display": false
  }
 },
 "nbformat": 4,
 "nbformat_minor": 5
}
