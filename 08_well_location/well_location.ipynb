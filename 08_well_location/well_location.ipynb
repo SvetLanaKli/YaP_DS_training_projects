{
 "cells": [
  {
   "cell_type": "markdown",
   "metadata": {
    "id": "SED9imQ5WW1b"
   },
   "source": [
    "# Выбор локации для скважины"
   ]
  },
  {
   "cell_type": "markdown",
   "metadata": {
    "id": "8_Cn3HmiWW1c"
   },
   "source": [
    "Допустим, вы работаете в добывающей компании «ГлавРосГосНефть». Нужно решить, где бурить новую скважину.\n",
    "\n",
    "Вам предоставлены пробы нефти в трёх регионах: в каждом 10 000 месторождений, где измерили качество нефти и объём её запасов. Постройте модель машинного обучения, которая поможет определить регион, где добыча принесёт наибольшую прибыль. Проанализируйте возможную прибыль и риски техникой *Bootstrap.*\n",
    "\n",
    "Шаги для выбора локации:\n",
    "\n",
    "- В избранном регионе ищут месторождения, для каждого определяют значения признаков;\n",
    "- Строят модель и оценивают объём запасов;\n",
    "- Выбирают месторождения с самым высокими оценками значений. Количество месторождений зависит от бюджета компании и стоимости разработки одной скважины;\n",
    "- Прибыль равна суммарной прибыли отобранных месторождений."
   ]
  },
  {
   "cell_type": "markdown",
   "metadata": {
    "id": "UxWWrsPes6Sq"
   },
   "source": [
    "### План выполнения проекта:\n",
    "1. Загрузка и подготовка данных.\n",
    "\n",
    "2. Обучение и провека модели для каждого региона:\n",
    "  * Разбвка данных на обучающую и валидационную выборки в соотношении 75:25.\n",
    "  * Обучение модели и предсказание на валидационной выборке.\n",
    "  * Сохранение предсказаний и правильных ответов на валидационной выборке.\n",
    "  * Вывод среднего запаса предсказанного сырья и RMSE модели.\n",
    "  * Анализ результатов.\n",
    "\n",
    "3. Подготовка к расчёту прибыли:\n",
    "  * Сохранение всех ключевых значений для расчётов в отдельных переменных.\n",
    "  * Рассчет достаточного объёма сырья для безубыточной разработки новой скважины. Сравнение полученного объёма сырья со средним запасом в каждом регионе. \n",
    "  * Оформление выводов по этапу подготовки расчёта прибыли.\n",
    "\n",
    "4. Расчёт прибыли по выбранным скважинам и предсказаниям модели:\n",
    "  * Выбор скважин с максимальными значениями предсказаний. \n",
    "  * Расчет целевого значение объёма сырья, соответствующее этим предсказаниям.\n",
    "  * Расчет прибыли для полученного объёма сырья.\n",
    "\n",
    "5. Определение рисков и прибыли для каждого региона:\n",
    "  * Распределение прибыли с помощью техники Bootstrap с 1000 выборок.\n",
    "  * Расчет средней прибыли, 95%-й доверительный интервал и риск убытков. Убыток — это отрицательная прибыль.\n",
    "   \n",
    "6. Оформление выводов и предложение региона для разработки скважин."
   ]
  },
  {
   "cell_type": "markdown",
   "metadata": {
    "id": "peFEwxuUWW1d"
   },
   "source": [
    "## Загрузка и подготовка данных"
   ]
  },
  {
   "cell_type": "markdown",
   "metadata": {
    "id": "XKWofAQWwu4x"
   },
   "source": [
    "Согласно постановке задачи данные геологоразведки трёх регионов находятся в файлах: \n",
    "* `/datasets/geo_data_0.csv`. \n",
    "* `/datasets/geo_data_1.csv`. \n",
    "* `/datasets/geo_data_2.csv`. \n",
    "\n",
    "**Описание данных:**\n",
    "* `id` — уникальный идентификатор скважины;\n",
    "* `f0, f1, f2` — три признака точек (неважно, что они означают, но сами признаки значимы);\n",
    "* `product` — объём запасов в скважине (тыс. баррелей)."
   ]
  },
  {
   "cell_type": "code",
   "execution_count": 1,
   "metadata": {
    "executionInfo": {
     "elapsed": 1476,
     "status": "ok",
     "timestamp": 1682694056466,
     "user": {
      "displayName": "Thony Py",
      "userId": "15753983518239682801"
     },
     "user_tz": -180
    },
    "id": "Evk0DlajWW1d"
   },
   "outputs": [],
   "source": [
    "# импорт библиотек для выполения проекта\n",
    "import pandas as pd\n",
    "import numpy as np\n",
    "\n",
    "# графика\n",
    "import seaborn as sns\n",
    "import matplotlib.pyplot as plt\n",
    "\n",
    "# импортируем функции и метрики из библиотеки sklearn\n",
    "from sklearn.model_selection import train_test_split\n",
    "from sklearn.linear_model import LinearRegression\n",
    "from sklearn.preprocessing import StandardScaler\n",
    "\n",
    "\n",
    "# метрики\n",
    "from sklearn.metrics import mean_squared_error\n",
    "\n",
    "\n",
    "# предупреждения\n",
    "import warnings\n",
    "warnings.filterwarnings('ignore')"
   ]
  },
  {
   "cell_type": "code",
   "execution_count": 2,
   "metadata": {
    "executionInfo": {
     "elapsed": 244,
     "status": "ok",
     "timestamp": 1682694073926,
     "user": {
      "displayName": "Thony Py",
      "userId": "15753983518239682801"
     },
     "user_tz": -180
    },
    "id": "yits71aXxZyk"
   },
   "outputs": [],
   "source": [
    "# настроим отображение чисел формата float\n",
    "pd.set_option('display.float_format', '{:.4f}'.format)\n",
    "# выберем общее формление для графиков\n",
    "sns.set(style=\"white\", palette=\"Spectral\")"
   ]
  },
  {
   "cell_type": "code",
   "execution_count": 3,
   "metadata": {
    "executionInfo": {
     "elapsed": 229,
     "status": "ok",
     "timestamp": 1682694077458,
     "user": {
      "displayName": "Thony Py",
      "userId": "15753983518239682801"
     },
     "user_tz": -180
    },
    "id": "HqQrQA6eYazs"
   },
   "outputs": [],
   "source": [
    "# зафиксируем псевдослучайность\n",
    "RS = 2023"
   ]
  },
  {
   "cell_type": "code",
   "execution_count": 4,
   "metadata": {
    "executionInfo": {
     "elapsed": 221,
     "status": "ok",
     "timestamp": 1682694079944,
     "user": {
      "displayName": "Thony Py",
      "userId": "15753983518239682801"
     },
     "user_tz": -180
    },
    "id": "S2ZxJ0kr2BGg"
   },
   "outputs": [],
   "source": [
    "def load_data(file_name):\n",
    "    ''' функция загрузки файлов '''\n",
    "    try:\n",
    "        folder_path = ''\n",
    "        file_path = folder_path +'/'+ file_name + '.csv'\n",
    "        data = pd.read_csv(file_path)\n",
    "    except:\n",
    "        folder_path = 'https://link/datasets'\n",
    "        file_path = folder_path +'/'+ file_name + '.csv'\n",
    "        data = pd.read_csv(file_path)\n",
    "\n",
    "    return data"
   ]
  },
  {
   "cell_type": "code",
   "execution_count": 5,
   "metadata": {
    "executionInfo": {
     "elapsed": 245,
     "status": "ok",
     "timestamp": 1682694091476,
     "user": {
      "displayName": "Thony Py",
      "userId": "15753983518239682801"
     },
     "user_tz": -180
    },
    "id": "gV06PHAS50bk"
   },
   "outputs": [],
   "source": [
    "def data_info(data_name):\n",
    "  '''функция выводит информацию о данных'''\n",
    "\n",
    "  display(data_name.info())\n",
    "\n",
    "  print('\\nОписательная статистика')\n",
    "  display(data_name.describe().T)\n",
    "\n",
    "  print('\\nКоличество пропусков в данных')\n",
    "  display(data_name.isna().sum())\n",
    "\n",
    "  print('\\nКоличество полных дубликатов в данных')\n",
    "  display(data_name.duplicated().sum())\n",
    "\n",
    "  # визуализируем матрицу корреляции\n",
    "  mask = np.triu(np.ones_like(data_name.corr(), dtype=bool));\n",
    "  sns.heatmap(data_name.corr(), mask=mask,\n",
    "              annot=True, \n",
    "              fmt=\".3f\", \n",
    "              linewidth=.5).set(title='Матрица корреляции признаков');\n",
    "\n"
   ]
  },
  {
   "cell_type": "code",
   "execution_count": 6,
   "metadata": {
    "executionInfo": {
     "elapsed": 6021,
     "status": "ok",
     "timestamp": 1682694101043,
     "user": {
      "displayName": "Thony Py",
      "userId": "15753983518239682801"
     },
     "user_tz": -180
    },
    "id": "GFb6y9IZWkcp"
   },
   "outputs": [],
   "source": [
    "# загрузка файлов\n",
    "data_0 = load_data('geo_data_0')\n",
    "data_1 = load_data('geo_data_1')\n",
    "data_2 = load_data('geo_data_2')"
   ]
  },
  {
   "cell_type": "code",
   "execution_count": 7,
   "metadata": {
    "colab": {
     "base_uri": "https://localhost:8080/",
     "height": 1000
    },
    "executionInfo": {
     "elapsed": 1458,
     "status": "ok",
     "timestamp": 1682694109144,
     "user": {
      "displayName": "Thony Py",
      "userId": "15753983518239682801"
     },
     "user_tz": -180
    },
    "id": "edrkN5f-WkmS",
    "outputId": "c43f079a-3b17-4c8f-c208-90cb12737aee"
   },
   "outputs": [
    {
     "name": "stdout",
     "output_type": "stream",
     "text": [
      "<class 'pandas.core.frame.DataFrame'>\n",
      "RangeIndex: 100000 entries, 0 to 99999\n",
      "Data columns (total 5 columns):\n",
      " #   Column   Non-Null Count   Dtype  \n",
      "---  ------   --------------   -----  \n",
      " 0   id       100000 non-null  object \n",
      " 1   f0       100000 non-null  float64\n",
      " 2   f1       100000 non-null  float64\n",
      " 3   f2       100000 non-null  float64\n",
      " 4   product  100000 non-null  float64\n",
      "dtypes: float64(4), object(1)\n",
      "memory usage: 3.8+ MB\n"
     ]
    },
    {
     "data": {
      "text/plain": [
       "None"
      ]
     },
     "metadata": {},
     "output_type": "display_data"
    },
    {
     "name": "stdout",
     "output_type": "stream",
     "text": [
      "\n",
      "Описательная статистика\n"
     ]
    },
    {
     "data": {
      "text/html": [
       "\n",
       "  <div id=\"df-6fd9d40e-e5bf-4d95-8f4c-3710277062b6\">\n",
       "    <div class=\"colab-df-container\">\n",
       "      <div>\n",
       "<style scoped>\n",
       "    .dataframe tbody tr th:only-of-type {\n",
       "        vertical-align: middle;\n",
       "    }\n",
       "\n",
       "    .dataframe tbody tr th {\n",
       "        vertical-align: top;\n",
       "    }\n",
       "\n",
       "    .dataframe thead th {\n",
       "        text-align: right;\n",
       "    }\n",
       "</style>\n",
       "<table border=\"1\" class=\"dataframe\">\n",
       "  <thead>\n",
       "    <tr style=\"text-align: right;\">\n",
       "      <th></th>\n",
       "      <th>count</th>\n",
       "      <th>mean</th>\n",
       "      <th>std</th>\n",
       "      <th>min</th>\n",
       "      <th>25%</th>\n",
       "      <th>50%</th>\n",
       "      <th>75%</th>\n",
       "      <th>max</th>\n",
       "    </tr>\n",
       "  </thead>\n",
       "  <tbody>\n",
       "    <tr>\n",
       "      <th>f0</th>\n",
       "      <td>100000.0000</td>\n",
       "      <td>0.5004</td>\n",
       "      <td>0.8718</td>\n",
       "      <td>-1.4086</td>\n",
       "      <td>-0.0726</td>\n",
       "      <td>0.5024</td>\n",
       "      <td>1.0736</td>\n",
       "      <td>2.3623</td>\n",
       "    </tr>\n",
       "    <tr>\n",
       "      <th>f1</th>\n",
       "      <td>100000.0000</td>\n",
       "      <td>0.2501</td>\n",
       "      <td>0.5044</td>\n",
       "      <td>-0.8482</td>\n",
       "      <td>-0.2009</td>\n",
       "      <td>0.2503</td>\n",
       "      <td>0.7006</td>\n",
       "      <td>1.3438</td>\n",
       "    </tr>\n",
       "    <tr>\n",
       "      <th>f2</th>\n",
       "      <td>100000.0000</td>\n",
       "      <td>2.5026</td>\n",
       "      <td>3.2482</td>\n",
       "      <td>-12.0883</td>\n",
       "      <td>0.2877</td>\n",
       "      <td>2.5160</td>\n",
       "      <td>4.7151</td>\n",
       "      <td>16.0038</td>\n",
       "    </tr>\n",
       "    <tr>\n",
       "      <th>product</th>\n",
       "      <td>100000.0000</td>\n",
       "      <td>92.5000</td>\n",
       "      <td>44.2887</td>\n",
       "      <td>0.0000</td>\n",
       "      <td>56.4975</td>\n",
       "      <td>91.8500</td>\n",
       "      <td>128.5641</td>\n",
       "      <td>185.3643</td>\n",
       "    </tr>\n",
       "  </tbody>\n",
       "</table>\n",
       "</div>\n",
       "      <button class=\"colab-df-convert\" onclick=\"convertToInteractive('df-6fd9d40e-e5bf-4d95-8f4c-3710277062b6')\"\n",
       "              title=\"Convert this dataframe to an interactive table.\"\n",
       "              style=\"display:none;\">\n",
       "        \n",
       "  <svg xmlns=\"http://www.w3.org/2000/svg\" height=\"24px\"viewBox=\"0 0 24 24\"\n",
       "       width=\"24px\">\n",
       "    <path d=\"M0 0h24v24H0V0z\" fill=\"none\"/>\n",
       "    <path d=\"M18.56 5.44l.94 2.06.94-2.06 2.06-.94-2.06-.94-.94-2.06-.94 2.06-2.06.94zm-11 1L8.5 8.5l.94-2.06 2.06-.94-2.06-.94L8.5 2.5l-.94 2.06-2.06.94zm10 10l.94 2.06.94-2.06 2.06-.94-2.06-.94-.94-2.06-.94 2.06-2.06.94z\"/><path d=\"M17.41 7.96l-1.37-1.37c-.4-.4-.92-.59-1.43-.59-.52 0-1.04.2-1.43.59L10.3 9.45l-7.72 7.72c-.78.78-.78 2.05 0 2.83L4 21.41c.39.39.9.59 1.41.59.51 0 1.02-.2 1.41-.59l7.78-7.78 2.81-2.81c.8-.78.8-2.07 0-2.86zM5.41 20L4 18.59l7.72-7.72 1.47 1.35L5.41 20z\"/>\n",
       "  </svg>\n",
       "      </button>\n",
       "      \n",
       "  <style>\n",
       "    .colab-df-container {\n",
       "      display:flex;\n",
       "      flex-wrap:wrap;\n",
       "      gap: 12px;\n",
       "    }\n",
       "\n",
       "    .colab-df-convert {\n",
       "      background-color: #E8F0FE;\n",
       "      border: none;\n",
       "      border-radius: 50%;\n",
       "      cursor: pointer;\n",
       "      display: none;\n",
       "      fill: #1967D2;\n",
       "      height: 32px;\n",
       "      padding: 0 0 0 0;\n",
       "      width: 32px;\n",
       "    }\n",
       "\n",
       "    .colab-df-convert:hover {\n",
       "      background-color: #E2EBFA;\n",
       "      box-shadow: 0px 1px 2px rgba(60, 64, 67, 0.3), 0px 1px 3px 1px rgba(60, 64, 67, 0.15);\n",
       "      fill: #174EA6;\n",
       "    }\n",
       "\n",
       "    [theme=dark] .colab-df-convert {\n",
       "      background-color: #3B4455;\n",
       "      fill: #D2E3FC;\n",
       "    }\n",
       "\n",
       "    [theme=dark] .colab-df-convert:hover {\n",
       "      background-color: #434B5C;\n",
       "      box-shadow: 0px 1px 3px 1px rgba(0, 0, 0, 0.15);\n",
       "      filter: drop-shadow(0px 1px 2px rgba(0, 0, 0, 0.3));\n",
       "      fill: #FFFFFF;\n",
       "    }\n",
       "  </style>\n",
       "\n",
       "      <script>\n",
       "        const buttonEl =\n",
       "          document.querySelector('#df-6fd9d40e-e5bf-4d95-8f4c-3710277062b6 button.colab-df-convert');\n",
       "        buttonEl.style.display =\n",
       "          google.colab.kernel.accessAllowed ? 'block' : 'none';\n",
       "\n",
       "        async function convertToInteractive(key) {\n",
       "          const element = document.querySelector('#df-6fd9d40e-e5bf-4d95-8f4c-3710277062b6');\n",
       "          const dataTable =\n",
       "            await google.colab.kernel.invokeFunction('convertToInteractive',\n",
       "                                                     [key], {});\n",
       "          if (!dataTable) return;\n",
       "\n",
       "          const docLinkHtml = 'Like what you see? Visit the ' +\n",
       "            '<a target=\"_blank\" href=https://colab.research.google.com/notebooks/data_table.ipynb>data table notebook</a>'\n",
       "            + ' to learn more about interactive tables.';\n",
       "          element.innerHTML = '';\n",
       "          dataTable['output_type'] = 'display_data';\n",
       "          await google.colab.output.renderOutput(dataTable, element);\n",
       "          const docLink = document.createElement('div');\n",
       "          docLink.innerHTML = docLinkHtml;\n",
       "          element.appendChild(docLink);\n",
       "        }\n",
       "      </script>\n",
       "    </div>\n",
       "  </div>\n",
       "  "
      ],
      "text/plain": [
       "              count    mean     std      min     25%     50%      75%      max\n",
       "f0      100000.0000  0.5004  0.8718  -1.4086 -0.0726  0.5024   1.0736   2.3623\n",
       "f1      100000.0000  0.2501  0.5044  -0.8482 -0.2009  0.2503   0.7006   1.3438\n",
       "f2      100000.0000  2.5026  3.2482 -12.0883  0.2877  2.5160   4.7151  16.0038\n",
       "product 100000.0000 92.5000 44.2887   0.0000 56.4975 91.8500 128.5641 185.3643"
      ]
     },
     "metadata": {},
     "output_type": "display_data"
    },
    {
     "name": "stdout",
     "output_type": "stream",
     "text": [
      "\n",
      "Количество пропусков в данных\n"
     ]
    },
    {
     "data": {
      "text/plain": [
       "id         0\n",
       "f0         0\n",
       "f1         0\n",
       "f2         0\n",
       "product    0\n",
       "dtype: int64"
      ]
     },
     "metadata": {},
     "output_type": "display_data"
    },
    {
     "name": "stdout",
     "output_type": "stream",
     "text": [
      "\n",
      "Количество полных дубликатов в данных\n"
     ]
    },
    {
     "data": {
      "text/plain": [
       "0"
      ]
     },
     "metadata": {},
     "output_type": "display_data"
    },
    {
     "data": {
      "image/png": "[encoded data removed]",
      "text/plain": [
       "<Figure size 640x480 with 2 Axes>"
      ]
     },
     "metadata": {},
     "output_type": "display_data"
    }
   ],
   "source": [
    "# выведем информацию о данных\n",
    "data_info(data_0)"
   ]
  },
  {
   "cell_type": "markdown",
   "metadata": {
    "id": "fBcsx6Fl5jyU"
   },
   "source": [
    "Первичный анализа данных показывает, что в данных по `\"региону 0\"`\n",
    "* пропусков, и дубликатов нет;\n",
    "* значение признаков `f0, f1, f2` лежат в различных числовых диапазонах;\n",
    "* между признаками `f0` и `f1` имеется незначительная отлицательная линейная связь.\n",
    "* между признаком `f2` и целевым признаком `product` имеется слабая линейная связь."
   ]
  },
  {
   "cell_type": "code",
   "execution_count": 8,
   "metadata": {
    "colab": {
     "base_uri": "https://localhost:8080/",
     "height": 1000
    },
    "executionInfo": {
     "elapsed": 647,
     "status": "ok",
     "timestamp": 1682694120449,
     "user": {
      "displayName": "Thony Py",
      "userId": "15753983518239682801"
     },
     "user_tz": -180
    },
    "id": "sMUmsD4PBImK",
    "outputId": "23d91edb-ae7e-4001-8169-13bf9725ec6b"
   },
   "outputs": [
    {
     "name": "stdout",
     "output_type": "stream",
     "text": [
      "<class 'pandas.core.frame.DataFrame'>\n",
      "RangeIndex: 100000 entries, 0 to 99999\n",
      "Data columns (total 5 columns):\n",
      " #   Column   Non-Null Count   Dtype  \n",
      "---  ------   --------------   -----  \n",
      " 0   id       100000 non-null  object \n",
      " 1   f0       100000 non-null  float64\n",
      " 2   f1       100000 non-null  float64\n",
      " 3   f2       100000 non-null  float64\n",
      " 4   product  100000 non-null  float64\n",
      "dtypes: float64(4), object(1)\n",
      "memory usage: 3.8+ MB\n"
     ]
    },
    {
     "data": {
      "text/plain": [
       "None"
      ]
     },
     "metadata": {},
     "output_type": "display_data"
    },
    {
     "name": "stdout",
     "output_type": "stream",
     "text": [
      "\n",
      "Описательная статистика\n"
     ]
    },
    {
     "data": {
      "text/html": [
       "\n",
       "  <div id=\"df-9b877786-7af7-41ee-a944-7c38485fe684\">\n",
       "    <div class=\"colab-df-container\">\n",
       "      <div>\n",
       "<style scoped>\n",
       "    .dataframe tbody tr th:only-of-type {\n",
       "        vertical-align: middle;\n",
       "    }\n",
       "\n",
       "    .dataframe tbody tr th {\n",
       "        vertical-align: top;\n",
       "    }\n",
       "\n",
       "    .dataframe thead th {\n",
       "        text-align: right;\n",
       "    }\n",
       "</style>\n",
       "<table border=\"1\" class=\"dataframe\">\n",
       "  <thead>\n",
       "    <tr style=\"text-align: right;\">\n",
       "      <th></th>\n",
       "      <th>count</th>\n",
       "      <th>mean</th>\n",
       "      <th>std</th>\n",
       "      <th>min</th>\n",
       "      <th>25%</th>\n",
       "      <th>50%</th>\n",
       "      <th>75%</th>\n",
       "      <th>max</th>\n",
       "    </tr>\n",
       "  </thead>\n",
       "  <tbody>\n",
       "    <tr>\n",
       "      <th>f0</th>\n",
       "      <td>100000.0000</td>\n",
       "      <td>1.1413</td>\n",
       "      <td>8.9659</td>\n",
       "      <td>-31.6096</td>\n",
       "      <td>-6.2986</td>\n",
       "      <td>1.1531</td>\n",
       "      <td>8.6210</td>\n",
       "      <td>29.4218</td>\n",
       "    </tr>\n",
       "    <tr>\n",
       "      <th>f1</th>\n",
       "      <td>100000.0000</td>\n",
       "      <td>-4.7966</td>\n",
       "      <td>5.1199</td>\n",
       "      <td>-26.3586</td>\n",
       "      <td>-8.2680</td>\n",
       "      <td>-4.8132</td>\n",
       "      <td>-1.3328</td>\n",
       "      <td>18.7341</td>\n",
       "    </tr>\n",
       "    <tr>\n",
       "      <th>f2</th>\n",
       "      <td>100000.0000</td>\n",
       "      <td>2.4945</td>\n",
       "      <td>1.7036</td>\n",
       "      <td>-0.0181</td>\n",
       "      <td>1.0000</td>\n",
       "      <td>2.0115</td>\n",
       "      <td>3.9999</td>\n",
       "      <td>5.0197</td>\n",
       "    </tr>\n",
       "    <tr>\n",
       "      <th>product</th>\n",
       "      <td>100000.0000</td>\n",
       "      <td>68.8250</td>\n",
       "      <td>45.9444</td>\n",
       "      <td>0.0000</td>\n",
       "      <td>26.9533</td>\n",
       "      <td>57.0856</td>\n",
       "      <td>107.8130</td>\n",
       "      <td>137.9454</td>\n",
       "    </tr>\n",
       "  </tbody>\n",
       "</table>\n",
       "</div>\n",
       "      <button class=\"colab-df-convert\" onclick=\"convertToInteractive('df-9b877786-7af7-41ee-a944-7c38485fe684')\"\n",
       "              title=\"Convert this dataframe to an interactive table.\"\n",
       "              style=\"display:none;\">\n",
       "        \n",
       "  <svg xmlns=\"http://www.w3.org/2000/svg\" height=\"24px\"viewBox=\"0 0 24 24\"\n",
       "       width=\"24px\">\n",
       "    <path d=\"M0 0h24v24H0V0z\" fill=\"none\"/>\n",
       "    <path d=\"M18.56 5.44l.94 2.06.94-2.06 2.06-.94-2.06-.94-.94-2.06-.94 2.06-2.06.94zm-11 1L8.5 8.5l.94-2.06 2.06-.94-2.06-.94L8.5 2.5l-.94 2.06-2.06.94zm10 10l.94 2.06.94-2.06 2.06-.94-2.06-.94-.94-2.06-.94 2.06-2.06.94z\"/><path d=\"M17.41 7.96l-1.37-1.37c-.4-.4-.92-.59-1.43-.59-.52 0-1.04.2-1.43.59L10.3 9.45l-7.72 7.72c-.78.78-.78 2.05 0 2.83L4 21.41c.39.39.9.59 1.41.59.51 0 1.02-.2 1.41-.59l7.78-7.78 2.81-2.81c.8-.78.8-2.07 0-2.86zM5.41 20L4 18.59l7.72-7.72 1.47 1.35L5.41 20z\"/>\n",
       "  </svg>\n",
       "      </button>\n",
       "      \n",
       "  <style>\n",
       "    .colab-df-container {\n",
       "      display:flex;\n",
       "      flex-wrap:wrap;\n",
       "      gap: 12px;\n",
       "    }\n",
       "\n",
       "    .colab-df-convert {\n",
       "      background-color: #E8F0FE;\n",
       "      border: none;\n",
       "      border-radius: 50%;\n",
       "      cursor: pointer;\n",
       "      display: none;\n",
       "      fill: #1967D2;\n",
       "      height: 32px;\n",
       "      padding: 0 0 0 0;\n",
       "      width: 32px;\n",
       "    }\n",
       "\n",
       "    .colab-df-convert:hover {\n",
       "      background-color: #E2EBFA;\n",
       "      box-shadow: 0px 1px 2px rgba(60, 64, 67, 0.3), 0px 1px 3px 1px rgba(60, 64, 67, 0.15);\n",
       "      fill: #174EA6;\n",
       "    }\n",
       "\n",
       "    [theme=dark] .colab-df-convert {\n",
       "      background-color: #3B4455;\n",
       "      fill: #D2E3FC;\n",
       "    }\n",
       "\n",
       "    [theme=dark] .colab-df-convert:hover {\n",
       "      background-color: #434B5C;\n",
       "      box-shadow: 0px 1px 3px 1px rgba(0, 0, 0, 0.15);\n",
       "      filter: drop-shadow(0px 1px 2px rgba(0, 0, 0, 0.3));\n",
       "      fill: #FFFFFF;\n",
       "    }\n",
       "  </style>\n",
       "\n",
       "      <script>\n",
       "        const buttonEl =\n",
       "          document.querySelector('#df-9b877786-7af7-41ee-a944-7c38485fe684 button.colab-df-convert');\n",
       "        buttonEl.style.display =\n",
       "          google.colab.kernel.accessAllowed ? 'block' : 'none';\n",
       "\n",
       "        async function convertToInteractive(key) {\n",
       "          const element = document.querySelector('#df-9b877786-7af7-41ee-a944-7c38485fe684');\n",
       "          const dataTable =\n",
       "            await google.colab.kernel.invokeFunction('convertToInteractive',\n",
       "                                                     [key], {});\n",
       "          if (!dataTable) return;\n",
       "\n",
       "          const docLinkHtml = 'Like what you see? Visit the ' +\n",
       "            '<a target=\"_blank\" href=https://colab.research.google.com/notebooks/data_table.ipynb>data table notebook</a>'\n",
       "            + ' to learn more about interactive tables.';\n",
       "          element.innerHTML = '';\n",
       "          dataTable['output_type'] = 'display_data';\n",
       "          await google.colab.output.renderOutput(dataTable, element);\n",
       "          const docLink = document.createElement('div');\n",
       "          docLink.innerHTML = docLinkHtml;\n",
       "          element.appendChild(docLink);\n",
       "        }\n",
       "      </script>\n",
       "    </div>\n",
       "  </div>\n",
       "  "
      ],
      "text/plain": [
       "              count    mean     std      min     25%     50%      75%      max\n",
       "f0      100000.0000  1.1413  8.9659 -31.6096 -6.2986  1.1531   8.6210  29.4218\n",
       "f1      100000.0000 -4.7966  5.1199 -26.3586 -8.2680 -4.8132  -1.3328  18.7341\n",
       "f2      100000.0000  2.4945  1.7036  -0.0181  1.0000  2.0115   3.9999   5.0197\n",
       "product 100000.0000 68.8250 45.9444   0.0000 26.9533 57.0856 107.8130 137.9454"
      ]
     },
     "metadata": {},
     "output_type": "display_data"
    },
    {
     "name": "stdout",
     "output_type": "stream",
     "text": [
      "\n",
      "Количество пропусков в данных\n"
     ]
    },
    {
     "data": {
      "text/plain": [
       "id         0\n",
       "f0         0\n",
       "f1         0\n",
       "f2         0\n",
       "product    0\n",
       "dtype: int64"
      ]
     },
     "metadata": {},
     "output_type": "display_data"
    },
    {
     "name": "stdout",
     "output_type": "stream",
     "text": [
      "\n",
      "Количество полных дубликатов в данных\n"
     ]
    },
    {
     "data": {
      "text/plain": [
       "0"
      ]
     },
     "metadata": {},
     "output_type": "display_data"
    },
    {
     "data": {
      "image/png": "[encoded data removed]",
      "text/plain": [
       "<Figure size 640x480 with 2 Axes>"
      ]
     },
     "metadata": {},
     "output_type": "display_data"
    }
   ],
   "source": [
    "# выведем информацию о данных\n",
    "data_info(data_1)"
   ]
  },
  {
   "cell_type": "markdown",
   "metadata": {
    "id": "u081JvGj-h_3"
   },
   "source": [
    "Первичный анализа данных показывает, что в данных по `\"региону 1\"`\n",
    "* пропусков, и дубликатов нет;\n",
    "* значение признаков `f0, f1, f2` лежат в различных числовых диапазонах;\n",
    "* между признаками отсуствуют линейные связи.\n",
    "* между признаком `f2` и целевым признаком `product` имеется сильная положительная линейная зависимость."
   ]
  },
  {
   "cell_type": "code",
   "execution_count": 9,
   "metadata": {
    "colab": {
     "base_uri": "https://localhost:8080/",
     "height": 1000
    },
    "executionInfo": {
     "elapsed": 1021,
     "status": "ok",
     "timestamp": 1682694124243,
     "user": {
      "displayName": "Thony Py",
      "userId": "15753983518239682801"
     },
     "user_tz": -180
    },
    "id": "0bOE7lEXBuFu",
    "outputId": "eaca49cc-27d4-4b6b-f1d3-fd6d5f8b7bf8"
   },
   "outputs": [
    {
     "name": "stdout",
     "output_type": "stream",
     "text": [
      "<class 'pandas.core.frame.DataFrame'>\n",
      "RangeIndex: 100000 entries, 0 to 99999\n",
      "Data columns (total 5 columns):\n",
      " #   Column   Non-Null Count   Dtype  \n",
      "---  ------   --------------   -----  \n",
      " 0   id       100000 non-null  object \n",
      " 1   f0       100000 non-null  float64\n",
      " 2   f1       100000 non-null  float64\n",
      " 3   f2       100000 non-null  float64\n",
      " 4   product  100000 non-null  float64\n",
      "dtypes: float64(4), object(1)\n",
      "memory usage: 3.8+ MB\n"
     ]
    },
    {
     "data": {
      "text/plain": [
       "None"
      ]
     },
     "metadata": {},
     "output_type": "display_data"
    },
    {
     "name": "stdout",
     "output_type": "stream",
     "text": [
      "\n",
      "Описательная статистика\n"
     ]
    },
    {
     "data": {
      "text/html": [
       "\n",
       "  <div id=\"df-29c02cb0-169e-4c30-85b4-49509c32f9fa\">\n",
       "    <div class=\"colab-df-container\">\n",
       "      <div>\n",
       "<style scoped>\n",
       "    .dataframe tbody tr th:only-of-type {\n",
       "        vertical-align: middle;\n",
       "    }\n",
       "\n",
       "    .dataframe tbody tr th {\n",
       "        vertical-align: top;\n",
       "    }\n",
       "\n",
       "    .dataframe thead th {\n",
       "        text-align: right;\n",
       "    }\n",
       "</style>\n",
       "<table border=\"1\" class=\"dataframe\">\n",
       "  <thead>\n",
       "    <tr style=\"text-align: right;\">\n",
       "      <th></th>\n",
       "      <th>count</th>\n",
       "      <th>mean</th>\n",
       "      <th>std</th>\n",
       "      <th>min</th>\n",
       "      <th>25%</th>\n",
       "      <th>50%</th>\n",
       "      <th>75%</th>\n",
       "      <th>max</th>\n",
       "    </tr>\n",
       "  </thead>\n",
       "  <tbody>\n",
       "    <tr>\n",
       "      <th>f0</th>\n",
       "      <td>100000.0000</td>\n",
       "      <td>0.0020</td>\n",
       "      <td>1.7320</td>\n",
       "      <td>-8.7600</td>\n",
       "      <td>-1.1623</td>\n",
       "      <td>0.0094</td>\n",
       "      <td>1.1585</td>\n",
       "      <td>7.2383</td>\n",
       "    </tr>\n",
       "    <tr>\n",
       "      <th>f1</th>\n",
       "      <td>100000.0000</td>\n",
       "      <td>-0.0021</td>\n",
       "      <td>1.7304</td>\n",
       "      <td>-7.0840</td>\n",
       "      <td>-1.1748</td>\n",
       "      <td>-0.0095</td>\n",
       "      <td>1.1637</td>\n",
       "      <td>7.8448</td>\n",
       "    </tr>\n",
       "    <tr>\n",
       "      <th>f2</th>\n",
       "      <td>100000.0000</td>\n",
       "      <td>2.4951</td>\n",
       "      <td>3.4734</td>\n",
       "      <td>-11.9703</td>\n",
       "      <td>0.1304</td>\n",
       "      <td>2.4842</td>\n",
       "      <td>4.8588</td>\n",
       "      <td>16.7394</td>\n",
       "    </tr>\n",
       "    <tr>\n",
       "      <th>product</th>\n",
       "      <td>100000.0000</td>\n",
       "      <td>95.0000</td>\n",
       "      <td>44.7499</td>\n",
       "      <td>0.0000</td>\n",
       "      <td>59.4504</td>\n",
       "      <td>94.9256</td>\n",
       "      <td>130.5950</td>\n",
       "      <td>190.0298</td>\n",
       "    </tr>\n",
       "  </tbody>\n",
       "</table>\n",
       "</div>\n",
       "      <button class=\"colab-df-convert\" onclick=\"convertToInteractive('df-29c02cb0-169e-4c30-85b4-49509c32f9fa')\"\n",
       "              title=\"Convert this dataframe to an interactive table.\"\n",
       "              style=\"display:none;\">\n",
       "        \n",
       "  <svg xmlns=\"http://www.w3.org/2000/svg\" height=\"24px\"viewBox=\"0 0 24 24\"\n",
       "       width=\"24px\">\n",
       "    <path d=\"M0 0h24v24H0V0z\" fill=\"none\"/>\n",
       "    <path d=\"M18.56 5.44l.94 2.06.94-2.06 2.06-.94-2.06-.94-.94-2.06-.94 2.06-2.06.94zm-11 1L8.5 8.5l.94-2.06 2.06-.94-2.06-.94L8.5 2.5l-.94 2.06-2.06.94zm10 10l.94 2.06.94-2.06 2.06-.94-2.06-.94-.94-2.06-.94 2.06-2.06.94z\"/><path d=\"M17.41 7.96l-1.37-1.37c-.4-.4-.92-.59-1.43-.59-.52 0-1.04.2-1.43.59L10.3 9.45l-7.72 7.72c-.78.78-.78 2.05 0 2.83L4 21.41c.39.39.9.59 1.41.59.51 0 1.02-.2 1.41-.59l7.78-7.78 2.81-2.81c.8-.78.8-2.07 0-2.86zM5.41 20L4 18.59l7.72-7.72 1.47 1.35L5.41 20z\"/>\n",
       "  </svg>\n",
       "      </button>\n",
       "      \n",
       "  <style>\n",
       "    .colab-df-container {\n",
       "      display:flex;\n",
       "      flex-wrap:wrap;\n",
       "      gap: 12px;\n",
       "    }\n",
       "\n",
       "    .colab-df-convert {\n",
       "      background-color: #E8F0FE;\n",
       "      border: none;\n",
       "      border-radius: 50%;\n",
       "      cursor: pointer;\n",
       "      display: none;\n",
       "      fill: #1967D2;\n",
       "      height: 32px;\n",
       "      padding: 0 0 0 0;\n",
       "      width: 32px;\n",
       "    }\n",
       "\n",
       "    .colab-df-convert:hover {\n",
       "      background-color: #E2EBFA;\n",
       "      box-shadow: 0px 1px 2px rgba(60, 64, 67, 0.3), 0px 1px 3px 1px rgba(60, 64, 67, 0.15);\n",
       "      fill: #174EA6;\n",
       "    }\n",
       "\n",
       "    [theme=dark] .colab-df-convert {\n",
       "      background-color: #3B4455;\n",
       "      fill: #D2E3FC;\n",
       "    }\n",
       "\n",
       "    [theme=dark] .colab-df-convert:hover {\n",
       "      background-color: #434B5C;\n",
       "      box-shadow: 0px 1px 3px 1px rgba(0, 0, 0, 0.15);\n",
       "      filter: drop-shadow(0px 1px 2px rgba(0, 0, 0, 0.3));\n",
       "      fill: #FFFFFF;\n",
       "    }\n",
       "  </style>\n",
       "\n",
       "      <script>\n",
       "        const buttonEl =\n",
       "          document.querySelector('#df-29c02cb0-169e-4c30-85b4-49509c32f9fa button.colab-df-convert');\n",
       "        buttonEl.style.display =\n",
       "          google.colab.kernel.accessAllowed ? 'block' : 'none';\n",
       "\n",
       "        async function convertToInteractive(key) {\n",
       "          const element = document.querySelector('#df-29c02cb0-169e-4c30-85b4-49509c32f9fa');\n",
       "          const dataTable =\n",
       "            await google.colab.kernel.invokeFunction('convertToInteractive',\n",
       "                                                     [key], {});\n",
       "          if (!dataTable) return;\n",
       "\n",
       "          const docLinkHtml = 'Like what you see? Visit the ' +\n",
       "            '<a target=\"_blank\" href=https://colab.research.google.com/notebooks/data_table.ipynb>data table notebook</a>'\n",
       "            + ' to learn more about interactive tables.';\n",
       "          element.innerHTML = '';\n",
       "          dataTable['output_type'] = 'display_data';\n",
       "          await google.colab.output.renderOutput(dataTable, element);\n",
       "          const docLink = document.createElement('div');\n",
       "          docLink.innerHTML = docLinkHtml;\n",
       "          element.appendChild(docLink);\n",
       "        }\n",
       "      </script>\n",
       "    </div>\n",
       "  </div>\n",
       "  "
      ],
      "text/plain": [
       "              count    mean     std      min     25%     50%      75%      max\n",
       "f0      100000.0000  0.0020  1.7320  -8.7600 -1.1623  0.0094   1.1585   7.2383\n",
       "f1      100000.0000 -0.0021  1.7304  -7.0840 -1.1748 -0.0095   1.1637   7.8448\n",
       "f2      100000.0000  2.4951  3.4734 -11.9703  0.1304  2.4842   4.8588  16.7394\n",
       "product 100000.0000 95.0000 44.7499   0.0000 59.4504 94.9256 130.5950 190.0298"
      ]
     },
     "metadata": {},
     "output_type": "display_data"
    },
    {
     "name": "stdout",
     "output_type": "stream",
     "text": [
      "\n",
      "Количество пропусков в данных\n"
     ]
    },
    {
     "data": {
      "text/plain": [
       "id         0\n",
       "f0         0\n",
       "f1         0\n",
       "f2         0\n",
       "product    0\n",
       "dtype: int64"
      ]
     },
     "metadata": {},
     "output_type": "display_data"
    },
    {
     "name": "stdout",
     "output_type": "stream",
     "text": [
      "\n",
      "Количество полных дубликатов в данных\n"
     ]
    },
    {
     "data": {
      "text/plain": [
       "0"
      ]
     },
     "metadata": {},
     "output_type": "display_data"
    },
    {
     "data": {
      "image/png": "[encoded data removed]",
      "text/plain": [
       "<Figure size 640x480 with 2 Axes>"
      ]
     },
     "metadata": {},
     "output_type": "display_data"
    }
   ],
   "source": [
    "# выведем информацию о данных\n",
    "data_info(data_2)"
   ]
  },
  {
   "cell_type": "markdown",
   "metadata": {
    "id": "CRDYmhVH_J5U"
   },
   "source": [
    "Первичный анализа данных показывает, что в данных по `\"региону 2\"`\n",
    "* пропусков, и дубликатов нет;\n",
    "* значение признаков `f0, f1, f2` лежат в различных числовых диапазонах;\n",
    "* между признаками отсуствуют линейные связи.\n",
    "* между признаком `f2` и целевым признаком `product` имеется слабая положительная линейная зависимость."
   ]
  },
  {
   "cell_type": "markdown",
   "metadata": {
    "id": "24094NdH_Jnu"
   },
   "source": [
    "**Вывод:**\n",
    "1. Загружены и проанализированы данные.\n",
    "2. Пропусков и дубликатов в данных не выявлено.\n",
    "3. Мультиколлениарности признаков не выявлено.\n",
    "4. Признаки имеют различный диапазон, следовательно для их дальнейшего использования в линейной модели необходимо провести масштабирование.\n"
   ]
  },
  {
   "cell_type": "markdown",
   "metadata": {
    "id": "_yvc8DCvWW1e"
   },
   "source": [
    "## Обучение и проверка модели"
   ]
  },
  {
   "cell_type": "code",
   "execution_count": 10,
   "metadata": {
    "executionInfo": {
     "elapsed": 250,
     "status": "ok",
     "timestamp": 1682694156393,
     "user": {
      "displayName": "Thony Py",
      "userId": "15753983518239682801"
     },
     "user_tz": -180
    },
    "id": "f7QKtrsYVlWH"
   },
   "outputs": [],
   "source": [
    "def feature_train_split(df):\n",
    "    '''функция подготовливает данные:\n",
    "    1. выделяет фичи и таргет\n",
    "    2. делит выборку на обучающую и валидационную (75:25)\n",
    "    3. масштабирует числовые признаки '''\n",
    "    features = df.drop(['product', 'id'],  axis=1)\n",
    "    target = df['product']\n",
    "\n",
    "    features_train, features_valid, target_train, target_valid = train_test_split(\n",
    "      features, target,\n",
    "      test_size=0.25,\n",
    "      random_state=RS)\n",
    "\n",
    "    # проверим размеры выборок\n",
    "    print(f'Размер исходных данных: {df.shape[0]}')\n",
    "    print(f'Размер обучающей выборки: {features_train.shape[0]}')\n",
    "    print(f'Размер валидационной выборки: {features_valid.shape[0]}')\n",
    "\n",
    "    # определяем числовые признаки\n",
    "    numeric = ['f0', 'f1', 'f2']\n",
    "\n",
    "    # проводим масштабирование\n",
    "    scaler = StandardScaler()\n",
    "    scaler.fit(features_train[numeric])\n",
    "\n",
    "    features_train[numeric] = scaler.transform(features_train[numeric])\n",
    "    features_valid[numeric] = scaler.transform(features_valid[numeric])\n",
    "\n",
    "    return features_train, target_train, features_valid, target_valid"
   ]
  },
  {
   "cell_type": "code",
   "execution_count": 11,
   "metadata": {
    "executionInfo": {
     "elapsed": 345,
     "status": "ok",
     "timestamp": 1682694179322,
     "user": {
      "displayName": "Thony Py",
      "userId": "15753983518239682801"
     },
     "user_tz": -180
    },
    "id": "BWvwMUgwOJZb"
   },
   "outputs": [],
   "source": [
    "def predictions(features_train, target_train, features_valid, target_valid):\n",
    "    ''' функция моделирует предсказания и рассчитывает RSME'''\n",
    "    # создаем модель линейной регрессии\n",
    "    model = LinearRegression()\n",
    "    # обучаем модель\n",
    "    model.fit(features_train, target_train)\n",
    "    # создаем предсказания на валиационной выборке\n",
    "    predictions_valid = model.predict(features_valid)\n",
    "    # рассчитываем RSME\n",
    "    rsme = mean_squared_error(target_valid, predictions_valid) ** 0.5\n",
    "    predictions_valid = pd.Series(predictions_valid)\n",
    "\n",
    "    return predictions_valid, rsme"
   ]
  },
  {
   "cell_type": "markdown",
   "metadata": {
    "id": "SSsEuPFxE7e6"
   },
   "source": [
    "#### 1. `Регион_0`"
   ]
  },
  {
   "cell_type": "code",
   "execution_count": 13,
   "metadata": {
    "colab": {
     "base_uri": "https://localhost:8080/"
    },
    "executionInfo": {
     "elapsed": 249,
     "status": "ok",
     "timestamp": 1682694226227,
     "user": {
      "displayName": "Thony Py",
      "userId": "15753983518239682801"
     },
     "user_tz": -180
    },
    "id": "JPgCMLEhE7mu",
    "outputId": "019680f6-8711-41aa-dce4-b76c902761a4"
   },
   "outputs": [
    {
     "name": "stdout",
     "output_type": "stream",
     "text": [
      "Размер исходных данных: 100000\n",
      "Размер обучающей выборки: 75000\n",
      "Размер валидационной выборки: 25000\n"
     ]
    }
   ],
   "source": [
    "# подготовим данные \n",
    "features_train_0,  target_train_0, features_valid_0, target_valid_0 = feature_train_split(data_0)"
   ]
  },
  {
   "cell_type": "code",
   "execution_count": 14,
   "metadata": {
    "colab": {
     "base_uri": "https://localhost:8080/"
    },
    "executionInfo": {
     "elapsed": 298,
     "status": "ok",
     "timestamp": 1682694230862,
     "user": {
      "displayName": "Thony Py",
      "userId": "15753983518239682801"
     },
     "user_tz": -180
    },
    "id": "944r3tLeJ7vH",
    "outputId": "d4a3beb9-da0b-4364-89b7-dfe30b79f766"
   },
   "outputs": [
    {
     "name": "stdout",
     "output_type": "stream",
     "text": [
      "Cредний запас предсказанного сырья: 92.6514 тыс. баррелей\n",
      "RMSE модели: 37.4691\n"
     ]
    }
   ],
   "source": [
    "# посмотрим что нам предсказывает модель\n",
    "predictions_valid_0, rsme_0 = predictions(features_train_0,  target_train_0, features_valid_0, target_valid_0)\n",
    "print(f'Cредний запас предсказанного сырья: {predictions_valid_0.mean():.4f} тыс. баррелей')\n",
    "print(f'RMSE модели: {rsme_0:.4f}')"
   ]
  },
  {
   "cell_type": "markdown",
   "metadata": {
    "id": "AGNHruzlSKJq"
   },
   "source": [
    "#### 2. `Регион_1`"
   ]
  },
  {
   "cell_type": "code",
   "execution_count": 15,
   "metadata": {
    "colab": {
     "base_uri": "https://localhost:8080/"
    },
    "executionInfo": {
     "elapsed": 273,
     "status": "ok",
     "timestamp": 1682694249582,
     "user": {
      "displayName": "Thony Py",
      "userId": "15753983518239682801"
     },
     "user_tz": -180
    },
    "id": "xEcKna23SKJr",
    "outputId": "999cee92-e6c5-4003-d6d7-91a6d96c4fff"
   },
   "outputs": [
    {
     "name": "stdout",
     "output_type": "stream",
     "text": [
      "Размер исходных данных: 100000\n",
      "Размер обучающей выборки: 75000\n",
      "Размер валидационной выборки: 25000\n"
     ]
    }
   ],
   "source": [
    "# подготовим данные \n",
    "features_train_1,  target_train_1, features_valid_1, target_valid_1 = feature_train_split(data_1)"
   ]
  },
  {
   "cell_type": "code",
   "execution_count": 16,
   "metadata": {
    "colab": {
     "base_uri": "https://localhost:8080/"
    },
    "executionInfo": {
     "elapsed": 315,
     "status": "ok",
     "timestamp": 1682694251772,
     "user": {
      "displayName": "Thony Py",
      "userId": "15753983518239682801"
     },
     "user_tz": -180
    },
    "id": "mlhYezEVSKJr",
    "outputId": "1ec8f2ca-0a0b-4738-e405-07802412ebbf"
   },
   "outputs": [
    {
     "name": "stdout",
     "output_type": "stream",
     "text": [
      "Cредний запас предсказанного сырья: 68.7066 тыс. баррелей\n",
      "RMSE модели: 0.8881\n"
     ]
    }
   ],
   "source": [
    "predictions_valid_1, rsme_1 = predictions(features_train_1, target_train_1,\n",
    "                                          features_valid_1, target_valid_1)\n",
    "print(f'Cредний запас предсказанного сырья: {predictions_valid_1.mean():.4f} тыс. баррелей')\n",
    "print(f'RMSE модели: {rsme_1:.4f}')"
   ]
  },
  {
   "cell_type": "markdown",
   "metadata": {
    "id": "xyn4NxiISce0"
   },
   "source": [
    "#### 3. `Регион_2`"
   ]
  },
  {
   "cell_type": "code",
   "execution_count": 17,
   "metadata": {
    "colab": {
     "base_uri": "https://localhost:8080/"
    },
    "executionInfo": {
     "elapsed": 287,
     "status": "ok",
     "timestamp": 1682694255964,
     "user": {
      "displayName": "Thony Py",
      "userId": "15753983518239682801"
     },
     "user_tz": -180
    },
    "id": "s07GfqhkSce0",
    "outputId": "2914e04a-0f93-48d8-9dee-93954eafd2f9"
   },
   "outputs": [
    {
     "name": "stdout",
     "output_type": "stream",
     "text": [
      "Размер исходных данных: 100000\n",
      "Размер обучающей выборки: 75000\n",
      "Размер валидационной выборки: 25000\n"
     ]
    }
   ],
   "source": [
    "# подготовим данные \n",
    "features_train_2,  target_train_2, features_valid_2, target_valid_2 = feature_train_split(data_2)"
   ]
  },
  {
   "cell_type": "code",
   "execution_count": 18,
   "metadata": {
    "colab": {
     "base_uri": "https://localhost:8080/"
    },
    "executionInfo": {
     "elapsed": 332,
     "status": "ok",
     "timestamp": 1682694258241,
     "user": {
      "displayName": "Thony Py",
      "userId": "15753983518239682801"
     },
     "user_tz": -180
    },
    "id": "-ArbhlISSce1",
    "outputId": "3dc4ce5c-6844-4fdc-b849-e8ed3672f5b2"
   },
   "outputs": [
    {
     "name": "stdout",
     "output_type": "stream",
     "text": [
      "Cредний запас предсказанного сырья: 95.0239 тыс. баррелей\n",
      "RMSE модели: 40.1767\n"
     ]
    }
   ],
   "source": [
    "predictions_valid_2, rsme_2 = predictions(features_train_2,  target_train_2, features_valid_2, target_valid_2)\n",
    "print(f'Cредний запас предсказанного сырья: {predictions_valid_2.mean():.4f} тыс. баррелей')\n",
    "print(f'RMSE модели: {rsme_2:.4f}')"
   ]
  },
  {
   "cell_type": "markdown",
   "metadata": {
    "id": "peJ8D_-1SwTJ"
   },
   "source": [
    "**Выводы:**\n",
    "\n",
    "* Самые высокие средние запасы предсказаны моделью `LinearRegression` в `Регион_0` и `Регион_2`, но при этом и RSME большие, то говорит о то, что модели не хватает точности.\n",
    "* В `Регион_1` предсказанные средние запасы нефти составляют 68,71 тыс.баррелей со средним отклонением от реальных данных на 0,89 тыс.баррелей. Это объясняется тем, что линейная модель прекрасно отработала наличие линейной зависимости между признаком `f2` и целевым показателем."
   ]
  },
  {
   "cell_type": "markdown",
   "metadata": {
    "id": "Wz-GxaMgWW1e"
   },
   "source": [
    "## Подготовка к расчёту прибыли"
   ]
  },
  {
   "cell_type": "code",
   "execution_count": 20,
   "metadata": {
    "executionInfo": {
     "elapsed": 238,
     "status": "ok",
     "timestamp": 1682694298640,
     "user": {
      "displayName": "Thony Py",
      "userId": "15753983518239682801"
     },
     "user_tz": -180
    },
    "id": "S8datCCZWW1e"
   },
   "outputs": [],
   "source": [
    "# ключевые значения для расчета прибыли зададим в тыс.руб.\n",
    "\n",
    "# при разведке региона исследуют 500 точек\n",
    "COUNT_WELL = 500\n",
    "# 200 лучших точек для разработки\n",
    "COUNT_WELL_TOP = 200\n",
    "# бюджет на разработку скважин в регионе — 10 млрд рублей\n",
    "BUDGET_REGION = 10_000_000\n",
    "# доход с 1000 баррелей нефти составляет 450 тыс. рублей,\n",
    "PRICE_1K_BARREL = 450\n"
   ]
  },
  {
   "cell_type": "code",
   "execution_count": 21,
   "metadata": {
    "colab": {
     "base_uri": "https://localhost:8080/"
    },
    "executionInfo": {
     "elapsed": 318,
     "status": "ok",
     "timestamp": 1682694301582,
     "user": {
      "displayName": "Thony Py",
      "userId": "15753983518239682801"
     },
     "user_tz": -180
    },
    "id": "5RL4vgHl8Jdn",
    "outputId": "e300b1d4-cc4b-4313-e94c-bef97e19de56"
   },
   "outputs": [
    {
     "name": "stdout",
     "output_type": "stream",
     "text": [
      "Минимальный объем добычи нефти в регионе для безубыточной деятельности 22222.2 тыс.баррелей\n",
      "Минимальный объем добычи нефти из 1 скважины 111.1 тыс.баррелей\n"
     ]
    }
   ],
   "source": [
    "volume = BUDGET_REGION / PRICE_1K_BARREL\n",
    "print(f'Минимальный объем добычи нефти в регионе для безубыточной деятельности {volume:.1f} тыс.баррелей')\n",
    "\n",
    "min_product = volume / COUNT_WELL_TOP\n",
    "print(f'Минимальный объем добычи нефти из 1 скважины {min_product:.1f} тыс.баррелей')"
   ]
  },
  {
   "cell_type": "markdown",
   "metadata": {
    "id": "yFhct5Y15o4n"
   },
   "source": [
    "**Выводы:**\n",
    " * Минимальный объем нефти, добываемой из одной скважины, при условии разработки 200 месторождений в регионе составляет $111$ тыс. баррелей.\n",
    " * Ни одно из предсказанных средних значений по трем исследуемых регионов не удовлетворяет минимальному порогу добычи.\n",
    " * Необходимо выбрать максимальные по добыче точки и максимально точную модель для предсказания."
   ]
  },
  {
   "cell_type": "markdown",
   "metadata": {
    "id": "QY3r35KsZcEn"
   },
   "source": [
    "Создаем функцию для расчёта прибыли по выбранным скважинам и предсказаниям модели:\n",
    " 1. Выбор скважины с максимальными значениями предсказаний. \n",
    " 2. Суммирование целевое значение объёма сырья, соответствующее этим предсказаниям.\n",
    " 3. Рассчет прибыль для полученного объёма сырья."
   ]
  },
  {
   "cell_type": "code",
   "execution_count": 23,
   "metadata": {
    "executionInfo": {
     "elapsed": 353,
     "status": "ok",
     "timestamp": 1682694632887,
     "user": {
      "displayName": "Thony Py",
      "userId": "15753983518239682801"
     },
     "user_tz": -180
    },
    "id": "c7lkZKIrB7eH"
   },
   "outputs": [],
   "source": [
    "def profit(target, predictions):\n",
    "    ''' функция выбирает наиболее перспективные по предсказанному объему\n",
    "    добычи, и на основании имеющихся данных производит расчет прибыли от \n",
    "    разработки этих скважин в регионе'''\n",
    "    predictions_sorted = predictions.sort_values(ascending=False)\n",
    "    target_selected = target[predictions_sorted.index][:COUNT_WELL_TOP]\n",
    "    profit = PRICE_1K_BARREL * target_selected.sum() - BUDGET_REGION\n",
    "    return  profit"
   ]
  },
  {
   "cell_type": "markdown",
   "metadata": {
    "id": "75pjsMNyWW1e"
   },
   "source": [
    "## Расчёт прибыли и рисков "
   ]
  },
  {
   "cell_type": "code",
   "execution_count": 24,
   "metadata": {
    "executionInfo": {
     "elapsed": 366,
     "status": "ok",
     "timestamp": 1682694636077,
     "user": {
      "displayName": "Thony Py",
      "userId": "15753983518239682801"
     },
     "user_tz": -180
    },
    "id": "FzD8BSBlOczl"
   },
   "outputs": [],
   "source": [
    "# количество выборок Bootstrap\n",
    "BOOT_COUNT = 1000"
   ]
  },
  {
   "cell_type": "code",
   "execution_count": 25,
   "metadata": {
    "executionInfo": {
     "elapsed": 255,
     "status": "ok",
     "timestamp": 1682694638969,
     "user": {
      "displayName": "Thony Py",
      "userId": "15753983518239682801"
     },
     "user_tz": -180
    },
    "id": "WocgG8gnFVX9"
   },
   "outputs": [],
   "source": [
    "def profit_dist(target, predictions, quantile):\n",
    "    '''функция методом Bootstrap находит распределение прибыли:\n",
    "    * из 500 рандомных точек отбираются 200 лучших\n",
    "    * выводит средную прибыль по распределению\n",
    "    * расчитывает доверительный интервал\n",
    "    * расчитывает риск убытков'''\n",
    "\n",
    "    state = np.random.RandomState(RS)\n",
    "    profit_values = []\n",
    "    for i in range(BOOT_COUNT):\n",
    "        target_subsample = target.reset_index(drop=True).sample(n=COUNT_WELL,\n",
    "                                                                          replace=True,\n",
    "                                                                          random_state=state)\n",
    "        predictions_selected = predictions[target_subsample.index]\n",
    "        profit_values.append(profit(target_subsample, predictions_selected)/1000) # 1000 - перевод в млн.руб.\n",
    "\n",
    "    # распределение прибыли  \n",
    "    profit_values = pd.Series(profit_values)\n",
    "\n",
    "    # вероятность убытков\n",
    "    risk = len(profit_values.loc[lambda x: x < 0]) / BOOT_COUNT \n",
    "\n",
    "    lower = profit_values.quantile((1 - quantile)/2)\n",
    "    upper = profit_values.quantile(1 - (1 - quantile)/2)\n",
    "\n",
    "    print(f'Среднее значение прибыли для региона: {profit_values.mean():.2f} млн.руб.')\n",
    "    print(f'Границы доверительного интервала: [{lower:.2f} млн.руб.; {upper:.2f} млн.руб.] ')\n",
    "    print(f'Риск убытков: {risk:.2%}')\n",
    "\n",
    "    return profit_values, lower, upper, risk\n"
   ]
  },
  {
   "cell_type": "code",
   "execution_count": 26,
   "metadata": {
    "executionInfo": {
     "elapsed": 274,
     "status": "ok",
     "timestamp": 1682694640963,
     "user": {
      "displayName": "Thony Py",
      "userId": "15753983518239682801"
     },
     "user_tz": -180
    },
    "id": "wpmV1_gCDjnG"
   },
   "outputs": [],
   "source": [
    "def profit_plotting(profit, lower, upper, region_num):\n",
    "    '''визуализация полученных результатов'''\n",
    "\n",
    "    # построим полученное распределение\n",
    "    f, (ax_box, ax_hist) = plt.subplots(nrows=2, ncols=1, sharex=True, figsize = (6,8))\n",
    "    f.suptitle(f'Распределение прибыли для `Региона {region_num}`')\n",
    "    # ящик с усами\n",
    "    sns.boxplot(x=profit, ax=ax_box)\n",
    "    sns.histplot(x=profit, ax=ax_hist, bins = 100, kde=True)\n",
    "    # построим границы доверительного интервала\n",
    "    ymin, ymax = ax_hist.get_ylim()\n",
    "    ax_hist.vlines(x=[lower, upper], ymin=ymin, ymax=ymax, ls='--')\n",
    "\n",
    "    plt.show()"
   ]
  },
  {
   "cell_type": "markdown",
   "metadata": {
    "id": "ekug92vqHR7n"
   },
   "source": [
    "#### `Регион 0`"
   ]
  },
  {
   "cell_type": "code",
   "execution_count": 27,
   "metadata": {
    "colab": {
     "base_uri": "https://localhost:8080/"
    },
    "executionInfo": {
     "elapsed": 2641,
     "status": "ok",
     "timestamp": 1682694666083,
     "user": {
      "displayName": "Thony Py",
      "userId": "15753983518239682801"
     },
     "user_tz": -180
    },
    "id": "jbH5_CZiI92U",
    "outputId": "53373a4c-5226-4a0c-c8b7-b6e7c68ddbda"
   },
   "outputs": [
    {
     "name": "stdout",
     "output_type": "stream",
     "text": [
      "Среднее значение прибыли для региона: 431.97 млн.руб.\n",
      "Границы доверительного интервала: [-63.85 млн.руб.; 957.15 млн.руб.] \n",
      "Риск убытков: 4.70%\n"
     ]
    }
   ],
   "source": [
    "# расчитаем показатели и построим графики\n",
    "profit_0, lower_0, upper_0, risk_0 = profit_dist(target_valid_0, predictions_valid_0, 0.95)"
   ]
  },
  {
   "cell_type": "code",
   "execution_count": 28,
   "metadata": {
    "colab": {
     "base_uri": "https://localhost:8080/",
     "height": 761
    },
    "executionInfo": {
     "elapsed": 1624,
     "status": "ok",
     "timestamp": 1682694669943,
     "user": {
      "displayName": "Thony Py",
      "userId": "15753983518239682801"
     },
     "user_tz": -180
    },
    "id": "NeU4sdWSBKPs",
    "outputId": "a08390f3-4f6a-463b-9a76-146f6b6b9237"
   },
   "outputs": [
    {
     "data": {
      "image/png": "[encoded data removed]",
      "text/plain": [
       "<Figure size 600x800 with 2 Axes>"
      ]
     },
     "metadata": {},
     "output_type": "display_data"
    }
   ],
   "source": [
    "profit_plotting(profit_0, lower_0, upper_0, 0)"
   ]
  },
  {
   "cell_type": "markdown",
   "metadata": {
    "id": "V5vhNwtOHgjV"
   },
   "source": [
    "#### `Регион 1`"
   ]
  },
  {
   "cell_type": "code",
   "execution_count": 29,
   "metadata": {
    "colab": {
     "base_uri": "https://localhost:8080/",
     "height": 816
    },
    "executionInfo": {
     "elapsed": 2454,
     "status": "ok",
     "timestamp": 1682694682959,
     "user": {
      "displayName": "Thony Py",
      "userId": "15753983518239682801"
     },
     "user_tz": -180
    },
    "id": "jTf7X68LHgjV",
    "outputId": "6bd7d431-e16d-4f37-dee7-c3788ab54698"
   },
   "outputs": [
    {
     "name": "stdout",
     "output_type": "stream",
     "text": [
      "Среднее значение прибыли для региона: 510.79 млн.руб.\n",
      "Границы доверительного интервала: [80.30 млн.руб.; 947.93 млн.руб.] \n",
      "Риск убытков: 0.80%\n"
     ]
    },
    {
     "data": {
      "image/png": "[encoded data removed]",
      "text/plain": [
       "<Figure size 600x800 with 2 Axes>"
      ]
     },
     "metadata": {},
     "output_type": "display_data"
    }
   ],
   "source": [
    "# расчитаем показатели и построим графики\n",
    "profit_1, lower_1, upper_1, risk_1 = profit_dist(target_valid_1, predictions_valid_1, 0.95)\n",
    "profit_plotting(profit_1, lower_1, upper_1, 1)"
   ]
  },
  {
   "cell_type": "markdown",
   "metadata": {
    "id": "-2yElT-KHt3O"
   },
   "source": [
    "#### `Регион 2`"
   ]
  },
  {
   "cell_type": "code",
   "execution_count": 30,
   "metadata": {
    "colab": {
     "base_uri": "https://localhost:8080/",
     "height": 816
    },
    "executionInfo": {
     "elapsed": 3288,
     "status": "ok",
     "timestamp": 1682694695086,
     "user": {
      "displayName": "Thony Py",
      "userId": "15753983518239682801"
     },
     "user_tz": -180
    },
    "id": "AdccqNYvHt3O",
    "outputId": "89139d5b-e22c-40df-ac82-8f6a23dd56eb"
   },
   "outputs": [
    {
     "name": "stdout",
     "output_type": "stream",
     "text": [
      "Среднее значение прибыли для региона: 398.23 млн.руб.\n",
      "Границы доверительного интервала: [-139.87 млн.руб.; 982.33 млн.руб.] \n",
      "Риск убытков: 7.50%\n"
     ]
    },
    {
     "data": {
      "image/png": "[encoded data removed]",
      "text/plain": [
       "<Figure size 600x800 with 2 Axes>"
      ]
     },
     "metadata": {},
     "output_type": "display_data"
    }
   ],
   "source": [
    "# расчитаем показатели и построим графики\n",
    "profit_2, lower_2, upper_2, risk_2 = profit_dist(target_valid_2, predictions_valid_2, 0.95)\n",
    "profit_plotting(profit_2, lower_2, upper_2, 2)"
   ]
  },
  {
   "cell_type": "markdown",
   "metadata": {
    "id": "a84fv_zcVy1a"
   },
   "source": [
    "**Выводы:**\n",
    "В ходе применения техники `Bootstrap` была расчитана прибыль, $95\\%$ доверительный интервал и риск убытков для каждого региона\n",
    "* Среднее значение прибыли `Регион 0` по 200 наиболее перспективным скважинам составила $432$ млн.руб. Риск убытков $4,7\\%$, что превышает установленное пороговое значение\n",
    "* Среднее значение прибыли `Регион 1` по 200 наиболее перспективным скважинам составила $510$ млн.руб. Риск убытков $0,8\\%$ находится на допустимом уровне.\n",
    "* Среднее значение прибыли `Регион 2` по 200 наиболее перспективным скважинам составила $398$ млн.руб. Риск убытков $7,5\\%$, что превышает установленное пороговое значение"
   ]
  },
  {
   "cell_type": "markdown",
   "metadata": {
    "id": "_y6WfA9iVkbB"
   },
   "source": [
    "###Вывод:\n",
    "\n",
    "В ходе реализации проекта были выполнены следующие шаги:\n",
    "1. Загрузка и подготовка данных.\n",
    "2. Обучение и провека модели для каждого региона:\n",
    "3. Подготовка к расчёту прибыли:\n",
    "4. Расчёт прибыли по выбранным скважинам и предсказаниям модели:\n",
    "5. Определение рисков и прибыли для каждого региона:\n",
    "6. Оформление выводов и предложение региона для разработки скважин.\n",
    "\n",
    "В ходе загрузки и исследования данных установлено:\n",
    " * Пропуски и дубликаты отсуствуют.\n",
    " * Мультиколлениарность не выявлена.\n",
    " * Признаки имеют различный диапазон, принято решение о проведении масштабирования.\n",
    "\n",
    "В ходе ML и предсказания объёмов запасов в скважине использовалась модель `LinearRegression`. При этом установлено,\n",
    "* Самые высокие средние запасы предсказаны моделью в `Регион_0` и `Регион_2`, но при этом и `RSME` большие, то говорит о то, что модели не хватает точности.\n",
    "* В `Регион_1` предсказанные средние запасы нефти составляют $68,71$ тыс.баррелей со средним отклонением от реальных данных на $0,89$ тыс.баррелей. Это объясняется тем, что линейная модель прекрасно отработала наличие линейной зависимости между признаком `f2` и целевым показателем.\n",
    "\n",
    "В ходе подготовки к расчёту прибыли установлено, что для безубыточной деятельности по разработке скважин в регионе минимальная добыча составляет $22 222$ тыс.баррелей, а из расчета на 1 скважину это более $111$ тыс.баррелей.\n",
    "Ни одно из предсказанных средних значений по трем исследуемых регионов не удовлетворяет минимальному порогу добычи на скважину, следовательно необходимо рассматривать совокупный объем добычи в регионе.\n",
    "\n",
    "При разведке региона исследуют 500 точек, из которых с помощью машинного обучения выбирают 200 лучших для разработки.\n",
    "\n",
    "С учетом данного задания в ходе расчет прибыли, риска убытков в качестве региона к разработке предлагается `Регион 1`:\n",
    "* средняя прибыль составляет $510$ млн.руб.;\n",
    "* $95\\%$ доверительный интервал - `[80.30 млн.руб.; 947.93 млн.руб.]`;\n",
    "* риск убытков менее $1\\%$\n",
    "\n",
    "При этом, модель `LinearRegression` отличилась наибольшей точностью предсказания именно на данных этого региона, с точки зрения рисков, этот регион еще и поэтому является наиболее перспективным для разработки.\n",
    "\n",
    "\n",
    "\n",
    "\n"
   ]
  }
 ],
 "metadata": {
  "colab": {
   "provenance": []
  },
  "kernelspec": {
   "display_name": "Python 3 (ipykernel)",
   "language": "python",
   "name": "python3"
  },
  "language_info": {
   "codemirror_mode": {
    "name": "ipython",
    "version": 3
   },
   "file_extension": ".py",
   "mimetype": "text/x-python",
   "name": "python",
   "nbconvert_exporter": "python",
   "pygments_lexer": "ipython3",
   "version": "3.9.12"
  },
  "toc": {
   "base_numbering": 1,
   "nav_menu": {
    "height": "266px",
    "width": "399px"
   },
   "number_sections": true,
   "sideBar": true,
   "skip_h1_title": true,
   "title_cell": "Table of Contents",
   "title_sidebar": "Contents",
   "toc_cell": false,
   "toc_position": {},
   "toc_section_display": true,
   "toc_window_display": false
  }
 },
 "nbformat": 4,
 "nbformat_minor": 1
}
