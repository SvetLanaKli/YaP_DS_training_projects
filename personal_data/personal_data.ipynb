{
 "cells": [
  {
   "cell_type": "markdown",
   "metadata": {
    "toc": true
   },
   "source": [
    "<h1>Содержание<span class=\"tocSkip\"></span></h1>\n",
    "<div class=\"toc\"><ul class=\"toc-item\"><li><span><a href=\"#Описание-данных\" data-toc-modified-id=\"Описание-данных-1\"><span class=\"toc-item-num\">1&nbsp;&nbsp;</span>Описание данных</a></span></li><li><span><a href=\"#План-выполнения-проекта\" data-toc-modified-id=\"План-выполнения-проекта-2\"><span class=\"toc-item-num\">2&nbsp;&nbsp;</span>План выполнения проекта</a></span></li><li><span><a href=\"#Загрузка-данных\" data-toc-modified-id=\"Загрузка-данных-3\"><span class=\"toc-item-num\">3&nbsp;&nbsp;</span>Загрузка данных</a></span></li><li><span><a href=\"#Умножение-матриц\" data-toc-modified-id=\"Умножение-матриц-4\"><span class=\"toc-item-num\">4&nbsp;&nbsp;</span>Умножение матриц</a></span></li><li><span><a href=\"#Алгоритм-преобразования\" data-toc-modified-id=\"Алгоритм-преобразования-5\"><span class=\"toc-item-num\">5&nbsp;&nbsp;</span>Алгоритм преобразования</a></span></li><li><span><a href=\"#Проверка-алгоритма\" data-toc-modified-id=\"Проверка-алгоритма-6\"><span class=\"toc-item-num\">6&nbsp;&nbsp;</span>Проверка алгоритма</a></span></li></ul></div>"
   ]
  },
  {
   "cell_type": "markdown",
   "metadata": {},
   "source": [
    "# Защита персональных данных клиентов"
   ]
  },
  {
   "cell_type": "markdown",
   "metadata": {},
   "source": [
    "Вам нужно защитить данные клиентов страховой компании «Хоть потоп». Разработайте такой метод преобразования данных, чтобы по ним было сложно восстановить персональную информацию. Обоснуйте корректность его работы.\n",
    "\n",
    "Нужно защитить данные, чтобы при преобразовании качество моделей машинного обучения не ухудшилось. Подбирать наилучшую модель не требуется."
   ]
  },
  {
   "cell_type": "markdown",
   "metadata": {},
   "source": [
    "## Описание данных\n",
    "\n",
    "Набор данных находится в файле `/datasets/insurance.csv.`\n",
    "\n",
    "* **Признаки:** пол, возраст и зарплата застрахованного, количество членов его семьи.\n",
    "* **Целевой признак:** количество страховых выплат клиенту за последние 5 лет."
   ]
  },
  {
   "cell_type": "markdown",
   "metadata": {},
   "source": [
    "## План выполнения проекта\n",
    "\n",
    "1. Загрузить и изучить данные.\n",
    "2. Обосновать решение и ответ на вопрос  \"Признаки умножают на обратимую матрицу. Изменится ли качество линейной регрессии? (Её можно обучить заново.)\"\n",
    " * **a.** Если изменится. Привести примеры матриц.\n",
    " * **b.** Если не изменится. Указать, как связаны параметры линейной регрессии в исходной задаче и в преобразованной.\n",
    "3. Предложить алгоритм преобразования данных для решения задачи. Обосновать, почему качество линейной регрессии не поменяется.\n",
    "4. Запрограммировать алгоритм пребразования, применив матричные операции. Проверить изменится ли качество линейной регрессии из `sklearn` до и после преобразования. Для оценки применить метрику `R2`."
   ]
  },
  {
   "cell_type": "markdown",
   "metadata": {},
   "source": [
    "## Загрузка данных"
   ]
  },
  {
   "cell_type": "code",
   "execution_count": 1,
   "metadata": {},
   "outputs": [],
   "source": [
    "# импорт библиотек для выполения проекта\n",
    "import pandas as pd\n",
    "import numpy as np\n",
    "\n",
    "# функции лин.алгебры\n",
    "from numpy.linalg import inv\n",
    "\n",
    "# графика\n",
    "import seaborn as sns\n",
    "import matplotlib.pyplot as plt\n",
    "\n",
    "# импортируем функции и метрики из библиотеки sklearn\n",
    "from sklearn.linear_model import LinearRegression\n",
    "from sklearn.model_selection import train_test_split\n",
    "from sklearn.pipeline import Pipeline\n",
    "from sklearn.preprocessing import StandardScaler\n",
    "from sklearn.metrics import r2_score\n",
    "\n",
    "# предупреждения\n",
    "import warnings\n",
    "warnings.filterwarnings('ignore')"
   ]
  },
  {
   "cell_type": "code",
   "execution_count": 2,
   "metadata": {},
   "outputs": [],
   "source": [
    "# настроим отображение чисел и таблиц\n",
    "pd.set_option('display.float_format', '{:.4f}'.format)\n",
    "pd.set_option('display.max_columns', 1000)\n",
    "pd.set_option('max_colwidth', 200)\n",
    "pd.set_option('display.width', 500)\n",
    "# выберем общее формление для графиков\n",
    "sns.set(style=\"white\", palette=\"Spectral\")"
   ]
  },
  {
   "cell_type": "code",
   "execution_count": 3,
   "metadata": {},
   "outputs": [],
   "source": [
    "def load_data(file_name):\n",
    "    '''функция загрузки файлов'''\n",
    "    try:\n",
    "        folder_path = './'\n",
    "        file_path = folder_path +'/'+ file_name + '.csv'\n",
    "        data = pd.read_csv(file_path)\n",
    "    except:\n",
    "        folder_path = 'https://link/datasets'\n",
    "        file_path = folder_path +'/'+ file_name + '.csv'\n",
    "        data = pd.read_csv(file_path)\n",
    "        \n",
    "    return data"
   ]
  },
  {
   "cell_type": "code",
   "execution_count": 4,
   "metadata": {},
   "outputs": [],
   "source": [
    "def data_info(data_name):\n",
    "    \"\"\"функция выводит информацию о данных\"\"\"\n",
    "    print('\\nИнформация о данных\\n')\n",
    "    display(data_name.info())\n",
    "\n",
    "    print('\\n\\nДанные из выборки\\n')\n",
    "    display(data_name.head(5))\n",
    "    display(data_name.tail(5))\n",
    "\n",
    "    print(f'\\n\\nКоличество признаков: {data_name.shape[1]}')\n",
    "    print(f'\\nКоличество наблюдений: {data_name.shape[0]}\\n')\n",
    "    \n",
    "    for item in data_name.columns:\n",
    "        print(f'\\nКоличество уникальных значений признака {item} : {data_name[item].nunique()}')\n",
    "    \n",
    "    print('\\n\\nКоличество пропусков в данных')\n",
    "    display(data_name.isna().sum())\n",
    "\n",
    "    print(f'\\n\\nКоличество полных дубликатов в данных: {data_name.duplicated().sum()}')\n",
    "\n",
    "\n",
    "    print('\\n\\nОписательная статистика ')\n",
    "    display(data_name.describe())\n",
    "    \n",
    "    # визуализируем матрицу корреляции\n",
    "    mask = np.triu(np.ones_like(data_name.corr(), dtype=bool));\n",
    "    sns.heatmap(data_name.corr(), mask=mask,\n",
    "              annot=True, \n",
    "              fmt=\".3f\", \n",
    "              linewidth=.5).set(title='Матрица корреляции признаков');"
   ]
  },
  {
   "cell_type": "code",
   "execution_count": 5,
   "metadata": {
    "scrolled": false
   },
   "outputs": [
    {
     "name": "stdout",
     "output_type": "stream",
     "text": [
      "\n",
      "Информация о данных\n",
      "\n",
      "<class 'pandas.core.frame.DataFrame'>\n",
      "RangeIndex: 5000 entries, 0 to 4999\n",
      "Data columns (total 5 columns):\n",
      " #   Column             Non-Null Count  Dtype  \n",
      "---  ------             --------------  -----  \n",
      " 0   Пол                5000 non-null   int64  \n",
      " 1   Возраст            5000 non-null   float64\n",
      " 2   Зарплата           5000 non-null   float64\n",
      " 3   Члены семьи        5000 non-null   int64  \n",
      " 4   Страховые выплаты  5000 non-null   int64  \n",
      "dtypes: float64(2), int64(3)\n",
      "memory usage: 195.4 KB\n"
     ]
    },
    {
     "data": {
      "text/plain": [
       "None"
      ]
     },
     "metadata": {},
     "output_type": "display_data"
    },
    {
     "name": "stdout",
     "output_type": "stream",
     "text": [
      "\n",
      "\n",
      "Данные из выборки\n",
      "\n"
     ]
    },
    {
     "data": {
      "text/html": [
       "<div>\n",
       "<style scoped>\n",
       "    .dataframe tbody tr th:only-of-type {\n",
       "        vertical-align: middle;\n",
       "    }\n",
       "\n",
       "    .dataframe tbody tr th {\n",
       "        vertical-align: top;\n",
       "    }\n",
       "\n",
       "    .dataframe thead th {\n",
       "        text-align: right;\n",
       "    }\n",
       "</style>\n",
       "<table border=\"1\" class=\"dataframe\">\n",
       "  <thead>\n",
       "    <tr style=\"text-align: right;\">\n",
       "      <th></th>\n",
       "      <th>Пол</th>\n",
       "      <th>Возраст</th>\n",
       "      <th>Зарплата</th>\n",
       "      <th>Члены семьи</th>\n",
       "      <th>Страховые выплаты</th>\n",
       "    </tr>\n",
       "  </thead>\n",
       "  <tbody>\n",
       "    <tr>\n",
       "      <th>0</th>\n",
       "      <td>1</td>\n",
       "      <td>41.0000</td>\n",
       "      <td>49600.0000</td>\n",
       "      <td>1</td>\n",
       "      <td>0</td>\n",
       "    </tr>\n",
       "    <tr>\n",
       "      <th>1</th>\n",
       "      <td>0</td>\n",
       "      <td>46.0000</td>\n",
       "      <td>38000.0000</td>\n",
       "      <td>1</td>\n",
       "      <td>1</td>\n",
       "    </tr>\n",
       "    <tr>\n",
       "      <th>2</th>\n",
       "      <td>0</td>\n",
       "      <td>29.0000</td>\n",
       "      <td>21000.0000</td>\n",
       "      <td>0</td>\n",
       "      <td>0</td>\n",
       "    </tr>\n",
       "    <tr>\n",
       "      <th>3</th>\n",
       "      <td>0</td>\n",
       "      <td>21.0000</td>\n",
       "      <td>41700.0000</td>\n",
       "      <td>2</td>\n",
       "      <td>0</td>\n",
       "    </tr>\n",
       "    <tr>\n",
       "      <th>4</th>\n",
       "      <td>1</td>\n",
       "      <td>28.0000</td>\n",
       "      <td>26100.0000</td>\n",
       "      <td>0</td>\n",
       "      <td>0</td>\n",
       "    </tr>\n",
       "  </tbody>\n",
       "</table>\n",
       "</div>"
      ],
      "text/plain": [
       "   Пол  Возраст   Зарплата  Члены семьи  Страховые выплаты\n",
       "0    1  41.0000 49600.0000            1                  0\n",
       "1    0  46.0000 38000.0000            1                  1\n",
       "2    0  29.0000 21000.0000            0                  0\n",
       "3    0  21.0000 41700.0000            2                  0\n",
       "4    1  28.0000 26100.0000            0                  0"
      ]
     },
     "metadata": {},
     "output_type": "display_data"
    },
    {
     "data": {
      "text/html": [
       "<div>\n",
       "<style scoped>\n",
       "    .dataframe tbody tr th:only-of-type {\n",
       "        vertical-align: middle;\n",
       "    }\n",
       "\n",
       "    .dataframe tbody tr th {\n",
       "        vertical-align: top;\n",
       "    }\n",
       "\n",
       "    .dataframe thead th {\n",
       "        text-align: right;\n",
       "    }\n",
       "</style>\n",
       "<table border=\"1\" class=\"dataframe\">\n",
       "  <thead>\n",
       "    <tr style=\"text-align: right;\">\n",
       "      <th></th>\n",
       "      <th>Пол</th>\n",
       "      <th>Возраст</th>\n",
       "      <th>Зарплата</th>\n",
       "      <th>Члены семьи</th>\n",
       "      <th>Страховые выплаты</th>\n",
       "    </tr>\n",
       "  </thead>\n",
       "  <tbody>\n",
       "    <tr>\n",
       "      <th>4995</th>\n",
       "      <td>0</td>\n",
       "      <td>28.0000</td>\n",
       "      <td>35700.0000</td>\n",
       "      <td>2</td>\n",
       "      <td>0</td>\n",
       "    </tr>\n",
       "    <tr>\n",
       "      <th>4996</th>\n",
       "      <td>0</td>\n",
       "      <td>34.0000</td>\n",
       "      <td>52400.0000</td>\n",
       "      <td>1</td>\n",
       "      <td>0</td>\n",
       "    </tr>\n",
       "    <tr>\n",
       "      <th>4997</th>\n",
       "      <td>0</td>\n",
       "      <td>20.0000</td>\n",
       "      <td>33900.0000</td>\n",
       "      <td>2</td>\n",
       "      <td>0</td>\n",
       "    </tr>\n",
       "    <tr>\n",
       "      <th>4998</th>\n",
       "      <td>1</td>\n",
       "      <td>22.0000</td>\n",
       "      <td>32700.0000</td>\n",
       "      <td>3</td>\n",
       "      <td>0</td>\n",
       "    </tr>\n",
       "    <tr>\n",
       "      <th>4999</th>\n",
       "      <td>1</td>\n",
       "      <td>28.0000</td>\n",
       "      <td>40600.0000</td>\n",
       "      <td>1</td>\n",
       "      <td>0</td>\n",
       "    </tr>\n",
       "  </tbody>\n",
       "</table>\n",
       "</div>"
      ],
      "text/plain": [
       "      Пол  Возраст   Зарплата  Члены семьи  Страховые выплаты\n",
       "4995    0  28.0000 35700.0000            2                  0\n",
       "4996    0  34.0000 52400.0000            1                  0\n",
       "4997    0  20.0000 33900.0000            2                  0\n",
       "4998    1  22.0000 32700.0000            3                  0\n",
       "4999    1  28.0000 40600.0000            1                  0"
      ]
     },
     "metadata": {},
     "output_type": "display_data"
    },
    {
     "name": "stdout",
     "output_type": "stream",
     "text": [
      "\n",
      "\n",
      "Количество признаков: 5\n",
      "\n",
      "Количество наблюдений: 5000\n",
      "\n",
      "\n",
      "Количество уникальных значений признака Пол : 2\n",
      "\n",
      "Количество уникальных значений признака Возраст : 46\n",
      "\n",
      "Количество уникальных значений признака Зарплата : 524\n",
      "\n",
      "Количество уникальных значений признака Члены семьи : 7\n",
      "\n",
      "Количество уникальных значений признака Страховые выплаты : 6\n",
      "\n",
      "\n",
      "Количество пропусков в данных\n"
     ]
    },
    {
     "data": {
      "text/plain": [
       "Пол                  0\n",
       "Возраст              0\n",
       "Зарплата             0\n",
       "Члены семьи          0\n",
       "Страховые выплаты    0\n",
       "dtype: int64"
      ]
     },
     "metadata": {},
     "output_type": "display_data"
    },
    {
     "name": "stdout",
     "output_type": "stream",
     "text": [
      "\n",
      "\n",
      "Количество полных дубликатов в данных: 153\n",
      "\n",
      "\n",
      "Описательная статистика \n"
     ]
    },
    {
     "data": {
      "text/html": [
       "<div>\n",
       "<style scoped>\n",
       "    .dataframe tbody tr th:only-of-type {\n",
       "        vertical-align: middle;\n",
       "    }\n",
       "\n",
       "    .dataframe tbody tr th {\n",
       "        vertical-align: top;\n",
       "    }\n",
       "\n",
       "    .dataframe thead th {\n",
       "        text-align: right;\n",
       "    }\n",
       "</style>\n",
       "<table border=\"1\" class=\"dataframe\">\n",
       "  <thead>\n",
       "    <tr style=\"text-align: right;\">\n",
       "      <th></th>\n",
       "      <th>Пол</th>\n",
       "      <th>Возраст</th>\n",
       "      <th>Зарплата</th>\n",
       "      <th>Члены семьи</th>\n",
       "      <th>Страховые выплаты</th>\n",
       "    </tr>\n",
       "  </thead>\n",
       "  <tbody>\n",
       "    <tr>\n",
       "      <th>count</th>\n",
       "      <td>5000.0000</td>\n",
       "      <td>5000.0000</td>\n",
       "      <td>5000.0000</td>\n",
       "      <td>5000.0000</td>\n",
       "      <td>5000.0000</td>\n",
       "    </tr>\n",
       "    <tr>\n",
       "      <th>mean</th>\n",
       "      <td>0.4990</td>\n",
       "      <td>30.9528</td>\n",
       "      <td>39916.3600</td>\n",
       "      <td>1.1942</td>\n",
       "      <td>0.1480</td>\n",
       "    </tr>\n",
       "    <tr>\n",
       "      <th>std</th>\n",
       "      <td>0.5000</td>\n",
       "      <td>8.4408</td>\n",
       "      <td>9900.0836</td>\n",
       "      <td>1.0914</td>\n",
       "      <td>0.4632</td>\n",
       "    </tr>\n",
       "    <tr>\n",
       "      <th>min</th>\n",
       "      <td>0.0000</td>\n",
       "      <td>18.0000</td>\n",
       "      <td>5300.0000</td>\n",
       "      <td>0.0000</td>\n",
       "      <td>0.0000</td>\n",
       "    </tr>\n",
       "    <tr>\n",
       "      <th>25%</th>\n",
       "      <td>0.0000</td>\n",
       "      <td>24.0000</td>\n",
       "      <td>33300.0000</td>\n",
       "      <td>0.0000</td>\n",
       "      <td>0.0000</td>\n",
       "    </tr>\n",
       "    <tr>\n",
       "      <th>50%</th>\n",
       "      <td>0.0000</td>\n",
       "      <td>30.0000</td>\n",
       "      <td>40200.0000</td>\n",
       "      <td>1.0000</td>\n",
       "      <td>0.0000</td>\n",
       "    </tr>\n",
       "    <tr>\n",
       "      <th>75%</th>\n",
       "      <td>1.0000</td>\n",
       "      <td>37.0000</td>\n",
       "      <td>46600.0000</td>\n",
       "      <td>2.0000</td>\n",
       "      <td>0.0000</td>\n",
       "    </tr>\n",
       "    <tr>\n",
       "      <th>max</th>\n",
       "      <td>1.0000</td>\n",
       "      <td>65.0000</td>\n",
       "      <td>79000.0000</td>\n",
       "      <td>6.0000</td>\n",
       "      <td>5.0000</td>\n",
       "    </tr>\n",
       "  </tbody>\n",
       "</table>\n",
       "</div>"
      ],
      "text/plain": [
       "            Пол   Возраст   Зарплата  Члены семьи  Страховые выплаты\n",
       "count 5000.0000 5000.0000  5000.0000    5000.0000          5000.0000\n",
       "mean     0.4990   30.9528 39916.3600       1.1942             0.1480\n",
       "std      0.5000    8.4408  9900.0836       1.0914             0.4632\n",
       "min      0.0000   18.0000  5300.0000       0.0000             0.0000\n",
       "25%      0.0000   24.0000 33300.0000       0.0000             0.0000\n",
       "50%      0.0000   30.0000 40200.0000       1.0000             0.0000\n",
       "75%      1.0000   37.0000 46600.0000       2.0000             0.0000\n",
       "max      1.0000   65.0000 79000.0000       6.0000             5.0000"
      ]
     },
     "metadata": {},
     "output_type": "display_data"
    },
    {
     "data": {
      "image/png": "[encoded data removed]",
      "text/plain": [
       "<Figure size 432x288 with 2 Axes>"
      ]
     },
     "metadata": {},
     "output_type": "display_data"
    }
   ],
   "source": [
    "df = load_data('insurance')\n",
    "data_info(df)"
   ]
  },
  {
   "cell_type": "code",
   "execution_count": 6,
   "metadata": {},
   "outputs": [
    {
     "data": {
      "image/png": "[encoded data removed]",
      "text/plain": [
       "<Figure size 720x360 with 2 Axes>"
      ]
     },
     "metadata": {},
     "output_type": "display_data"
    },
    {
     "data": {
      "image/png": "[encoded data removed]",
      "text/plain": [
       "<Figure size 720x360 with 2 Axes>"
      ]
     },
     "metadata": {},
     "output_type": "display_data"
    },
    {
     "data": {
      "image/png": "[encoded data removed]",
      "text/plain": [
       "<Figure size 720x360 with 2 Axes>"
      ]
     },
     "metadata": {},
     "output_type": "display_data"
    }
   ],
   "source": [
    "# построим распределение категориальных признаков\n",
    "for item in ['Пол', 'Члены семьи', 'Страховые выплаты']:\n",
    "    df_item = pd.DataFrame(df[item].value_counts())\n",
    "    fig, axs = plt.subplots(1, 2, figsize=(10,5))\n",
    "    fig. suptitle(f'Распределение признака \"{item}\"')\n",
    "    axs[0].pie(df_item[item], \n",
    "               labels= df_item.index, \n",
    "               autopct='%.2f%%')\n",
    "    sns.countplot(data=df, x=item,ax=axs[1])\n",
    "    #    axs[1].plot(df_item[item], kind='bar')\n",
    "    plt.show()"
   ]
  },
  {
   "cell_type": "code",
   "execution_count": 7,
   "metadata": {},
   "outputs": [
    {
     "data": {
      "image/png": "[encoded data removed]",
      "text/plain": [
       "<Figure size 432x288 with 1 Axes>"
      ]
     },
     "metadata": {},
     "output_type": "display_data"
    },
    {
     "data": {
      "image/png": "[encoded data removed]",
      "text/plain": [
       "<Figure size 432x288 with 1 Axes>"
      ]
     },
     "metadata": {},
     "output_type": "display_data"
    }
   ],
   "source": [
    "# построим распределение числовых признаков\n",
    "for item in ['Возраст', 'Зарплата']:\n",
    "    sns.histplot(x=item, data=df, bins='auto')\n",
    "    plt.title(f'Распределение признака \"{item}\"')\n",
    "    plt.show()"
   ]
  },
  {
   "cell_type": "markdown",
   "metadata": {},
   "source": [
    "**Вывод:**\n",
    "\n",
    "* К изучению представлены данные содержащие 5000 записей, описываемых 5 признаками.\n",
    "* Пропусков в данных нет.\n",
    "* Выявлены полные дубликаты в количестве 153 шт. Но так как данные не имеют у нам уникального идентификатора (ФИО, ID), т.е. мы не можем остоверно утверждать, что это именно полные дубликаты. Следовательно, вполне допустимо наличие таких дублей в данных. Удалять мы их не будем.\n",
    "* При создании модели ML, в качестве целевого признака следует использовать признак \"Страховые выплаты\". На лицо явный дисбаланс классов.\n",
    "* Корреляции между фичами не выявлено. Имеется корреляция между признаком \"Возраст\" и целевым признаком \"Страховые выплаты\""
   ]
  },
  {
   "cell_type": "markdown",
   "metadata": {},
   "source": [
    "## Умножение матриц"
   ]
  },
  {
   "cell_type": "markdown",
   "metadata": {},
   "source": [
    "Обосновать решение и ответ на вопрос:\n",
    "\"Признаки умножают на обратимую матрицу. Изменится ли качество линейной регрессии? (Её можно обучить заново.)\"\n",
    "\n",
    " * **a.** Если изменится. Привести примеры матриц.\n",
    " * **b.** Если не изменится. Указать, как связаны параметры линейной регрессии в исходной задаче и в преобразованной."
   ]
  },
  {
   "cell_type": "markdown",
   "metadata": {},
   "source": [
    "Обозначения:\n",
    "\n",
    "- $X$ — матрица признаков (нулевой столбец состоит из единиц)\n",
    "\n",
    "- $y$ — вектор целевого признака\n",
    "\n",
    "- $P$ — матрица, на которую умножаются признаки\n",
    "\n",
    "- $w$ — вектор весов линейной регрессии (нулевой элемент равен сдвигу)"
   ]
  },
  {
   "cell_type": "markdown",
   "metadata": {},
   "source": [
    "Предсказания:\n",
    "\n",
    "$$\n",
    "a = Xw\n",
    "$$\n",
    "\n",
    "Задача обучения:\n",
    "\n",
    "$$\n",
    "w = \\arg\\min_w MSE(Xw, y)\n",
    "$$\n",
    "\n",
    "Формула обучения:\n",
    "\n",
    "$$\n",
    "w = (X^T X)^{-1} X^T y\n",
    "$$"
   ]
  },
  {
   "cell_type": "markdown",
   "metadata": {},
   "source": [
    "**Обоснование:** \n",
    "Рассмотрим задачу в общем виде.\n",
    "\n",
    "Матрица $P$ является по условию задачи обратимой, следовательно\n",
    "* матрица $P$ является квадратной размера $n$ ($n$ - размерность признаков)\n",
    "* для нее существует матрица $P^{-1}$, и выполняется равенство:\n",
    "    $$P^{-1} \\cdot P = P \\cdot P^{-1} = E$$"
   ]
  },
  {
   "cell_type": "markdown",
   "metadata": {},
   "source": [
    "По условию матрица признаков $X$ умножается на матрицу $P$.\n",
    "\n",
    "Тогда предсказание определяется по формуле:\n",
    "\n",
    "$$a^p = X \\cdot P \\cdot w^p,$$ \n",
    "\n",
    "где $w^p = \\Big((X \\cdot P)^T \\cdot (X \\cdot P)\\Big)^{-1} (X \\cdot P)^T \\cdot y$"
   ]
  },
  {
   "cell_type": "markdown",
   "metadata": {},
   "source": [
    "Воспользуемся следующими свойствами матриц и матричных операций:\n",
    "* ассоциативности $A(BC)=(AB)C$\n",
    "* $(AB)^T=B^T A^T$\n",
    "* $(A^{-1})^T=(A^T)^{-1}$, если существует $A^{-1}$ \n",
    "* $AE = EA = A$, где $E$ - единичная матрица\n",
    "* $(AB)^{-1} = B^{-1} A^{-1}$, если существуют $B^{-1}$ и $A^{-1}$\n"
   ]
  },
  {
   "cell_type": "markdown",
   "metadata": {},
   "source": [
    "\n",
    "$$ \n",
    "a^p = X_{m,n} \\cdot P_{n,n} \\cdot w_n^p$$ \n",
    "\n",
    "Преобразуем выражение\n",
    "$$\n",
    "a^p = X_{m,n} \\cdot P_{n,n} \\Big((X_{m,n} \\cdot P_{n,n})^T \\cdot (X_{m,n} \\cdot P_{n,n})\\Big)^{-1} (X_{m,n} \\cdot P_{n,n})^T \\cdot y_{n,1} =$$ "
   ]
  },
  {
   "cell_type": "markdown",
   "metadata": {},
   "source": [
    "$$ \n",
    "= X_{m,n} \\cdot P_{n,n} \\cdot \\Big(\\underbrace{P_{n,n}^T \\cdot X_{m,n}^T \\cdot X_{m,n}}_{n,n} \\cdot P_{n,n}\\Big)^{-1} \\cdot P_{n,n}^T \\cdot X_{m,n}^T \\cdot y_{m}=\n",
    "$$"
   ]
  },
  {
   "cell_type": "markdown",
   "metadata": {},
   "source": [
    "$$ \n",
    "= X_{m,n} \\cdot \\underbrace{P_{n,n} \\cdot P_{n,n}^{-1}}_{E_{n,n}} \\cdot\n",
    "\\Big(P_{n,n}^T \\cdot \\underbrace{X_{m,n}^T \\cdot X_{m,n}}_{n,n}\\Big)^{-1} \\cdot P_{n,n}^T \\cdot X_{m,n}^T \\cdot y_{m}=\n",
    "$$"
   ]
  },
  {
   "cell_type": "markdown",
   "metadata": {},
   "source": [
    "$$ \n",
    "= \\underbrace{X_{m,n} \\cdot E_{n,n}}_{X_{m,n}}  \\cdot (X_{m,n}^T \\cdot X_{m,n})^{-1} \\cdot \\underbrace{(P_{n,n}^T)^{-1} \\cdot {P_{n,n}^T}}_{E_{n,n}}\n",
    "\\cdot X_{m,n}^T \\cdot y_{m}=\n",
    "$$"
   ]
  },
  {
   "cell_type": "markdown",
   "metadata": {},
   "source": [
    "$$ \n",
    "= X_{m,n}  \\cdot \\underbrace{(X_{m,n}^T \\cdot X_{m,n})^{-1} \\cdot X_{m,n}^T \\cdot y_{m}}_{w_{}} = X \\cdot w = a\n",
    "$$"
   ]
  },
  {
   "cell_type": "markdown",
   "metadata": {},
   "source": [
    "Выше уже доказано, что $ a^{p} = a$\n",
    "\n",
    "подставим исходное выражение, $X \\cdot P \\cdot w_p = X \\cdot w$\n",
    "\n",
    "Воспользуемся свойством единичной матрицы:\n",
    "\n",
    "$$X \\cdot P \\cdot w_p = X \\cdot \\underbrace{P \\cdot P^{-1}}_{E_{n,n}} \\cdot w$$\n",
    "\n",
    "Используя свойство ассоциативности расставим скобки для более удобного восприятия:\n",
    "$$ (X \\cdot P) \\cdot w_p = (X \\cdot P) \\cdot P^{-1} \\cdot w$$\n",
    "\n",
    "Таким образом $ w_p = P^{-1} \\cdot w$\n",
    "\n"
   ]
  },
  {
   "cell_type": "markdown",
   "metadata": {},
   "source": [
    "**Ответ:** \n",
    "* При умножении признаков на обратимую матрицу качество линейной регрессии остается неизменным. \n",
    "* Параметры линейной регрессии в исходной задаче и в преобразованной связаны следующим соотношением: $ w_p = P^{-1} \\cdot w$\n"
   ]
  },
  {
   "cell_type": "markdown",
   "metadata": {},
   "source": [
    "## Алгоритм преобразования"
   ]
  },
  {
   "cell_type": "markdown",
   "metadata": {},
   "source": [
    "**Алгоритм**\n",
    "\n",
    "Учитывая вышеизложенное, для того, чтобы сохранить качество модели Линейной регресии, предлаю произвести умножение матрицы признаков $X$ на обратимую матрицу $P$. \n",
    "\n",
    "Генерацию матрицы $P$ провести случайным образом. Главное, чтобы выполнялось условие обратимости - матрицы должна быть **невырожденной** ($\t\\bigtriangleup P \\neq 0$)."
   ]
  },
  {
   "cell_type": "markdown",
   "metadata": {},
   "source": [
    "Блок схема алгоритма преобразования:"
   ]
  },
  {
   "attachments": {
    "diagram%20%281%29.png": {
     "image/png": "[encoded data removed]"
    }
   },
   "cell_type": "markdown",
   "metadata": {},
   "source": [
    "![diagram%20%281%29.png](attachment:diagram%20%281%29.png)"
   ]
  },
  {
   "cell_type": "markdown",
   "metadata": {},
   "source": [
    "**Обоснование**\n",
    "\n",
    "При умножениии матрицы признаков на обратимую матрицу, вектор параметров линейной регрессии $w_p=P^{-1}w$. \n",
    "\n",
    "При этом чтобы получить исходные признаки, т.е. расшифровать их, необхоодимо домножить матрицу преобразованных признаков на матрицу обратную $P$:\n",
    "$$ X_p = X \\cdot P$$\n",
    "$$ X_p \\cdot P^{-1} = X \\cdot \\underbrace{P \\cdot P^{-1}}_{E_{n,n}}= X_{m,n} \\cdot E_{n,n} = X_{m,n}$$"
   ]
  },
  {
   "cell_type": "markdown",
   "metadata": {},
   "source": [
    "## Проверка алгоритма"
   ]
  },
  {
   "cell_type": "code",
   "execution_count": 8,
   "metadata": {},
   "outputs": [],
   "source": [
    "# подготовим фичи и таргеты\n",
    "features = df.drop('Страховые выплаты', axis=1)\n",
    "target = df['Страховые выплаты']"
   ]
  },
  {
   "cell_type": "code",
   "execution_count": 9,
   "metadata": {},
   "outputs": [
    {
     "data": {
      "text/html": [
       "<div>\n",
       "<style scoped>\n",
       "    .dataframe tbody tr th:only-of-type {\n",
       "        vertical-align: middle;\n",
       "    }\n",
       "\n",
       "    .dataframe tbody tr th {\n",
       "        vertical-align: top;\n",
       "    }\n",
       "\n",
       "    .dataframe thead th {\n",
       "        text-align: right;\n",
       "    }\n",
       "</style>\n",
       "<table border=\"1\" class=\"dataframe\">\n",
       "  <thead>\n",
       "    <tr style=\"text-align: right;\">\n",
       "      <th></th>\n",
       "      <th>Пол</th>\n",
       "      <th>Возраст</th>\n",
       "      <th>Зарплата</th>\n",
       "      <th>Члены семьи</th>\n",
       "    </tr>\n",
       "  </thead>\n",
       "  <tbody>\n",
       "    <tr>\n",
       "      <th>0</th>\n",
       "      <td>1</td>\n",
       "      <td>41.0000</td>\n",
       "      <td>49600.0000</td>\n",
       "      <td>1</td>\n",
       "    </tr>\n",
       "    <tr>\n",
       "      <th>1</th>\n",
       "      <td>0</td>\n",
       "      <td>46.0000</td>\n",
       "      <td>38000.0000</td>\n",
       "      <td>1</td>\n",
       "    </tr>\n",
       "    <tr>\n",
       "      <th>2</th>\n",
       "      <td>0</td>\n",
       "      <td>29.0000</td>\n",
       "      <td>21000.0000</td>\n",
       "      <td>0</td>\n",
       "    </tr>\n",
       "    <tr>\n",
       "      <th>3</th>\n",
       "      <td>0</td>\n",
       "      <td>21.0000</td>\n",
       "      <td>41700.0000</td>\n",
       "      <td>2</td>\n",
       "    </tr>\n",
       "    <tr>\n",
       "      <th>4</th>\n",
       "      <td>1</td>\n",
       "      <td>28.0000</td>\n",
       "      <td>26100.0000</td>\n",
       "      <td>0</td>\n",
       "    </tr>\n",
       "    <tr>\n",
       "      <th>...</th>\n",
       "      <td>...</td>\n",
       "      <td>...</td>\n",
       "      <td>...</td>\n",
       "      <td>...</td>\n",
       "    </tr>\n",
       "    <tr>\n",
       "      <th>4995</th>\n",
       "      <td>0</td>\n",
       "      <td>28.0000</td>\n",
       "      <td>35700.0000</td>\n",
       "      <td>2</td>\n",
       "    </tr>\n",
       "    <tr>\n",
       "      <th>4996</th>\n",
       "      <td>0</td>\n",
       "      <td>34.0000</td>\n",
       "      <td>52400.0000</td>\n",
       "      <td>1</td>\n",
       "    </tr>\n",
       "    <tr>\n",
       "      <th>4997</th>\n",
       "      <td>0</td>\n",
       "      <td>20.0000</td>\n",
       "      <td>33900.0000</td>\n",
       "      <td>2</td>\n",
       "    </tr>\n",
       "    <tr>\n",
       "      <th>4998</th>\n",
       "      <td>1</td>\n",
       "      <td>22.0000</td>\n",
       "      <td>32700.0000</td>\n",
       "      <td>3</td>\n",
       "    </tr>\n",
       "    <tr>\n",
       "      <th>4999</th>\n",
       "      <td>1</td>\n",
       "      <td>28.0000</td>\n",
       "      <td>40600.0000</td>\n",
       "      <td>1</td>\n",
       "    </tr>\n",
       "  </tbody>\n",
       "</table>\n",
       "<p>5000 rows × 4 columns</p>\n",
       "</div>"
      ],
      "text/plain": [
       "      Пол  Возраст   Зарплата  Члены семьи\n",
       "0       1  41.0000 49600.0000            1\n",
       "1       0  46.0000 38000.0000            1\n",
       "2       0  29.0000 21000.0000            0\n",
       "3       0  21.0000 41700.0000            2\n",
       "4       1  28.0000 26100.0000            0\n",
       "...   ...      ...        ...          ...\n",
       "4995    0  28.0000 35700.0000            2\n",
       "4996    0  34.0000 52400.0000            1\n",
       "4997    0  20.0000 33900.0000            2\n",
       "4998    1  22.0000 32700.0000            3\n",
       "4999    1  28.0000 40600.0000            1\n",
       "\n",
       "[5000 rows x 4 columns]"
      ]
     },
     "execution_count": 9,
     "metadata": {},
     "output_type": "execute_result"
    }
   ],
   "source": [
    "features"
   ]
  },
  {
   "cell_type": "code",
   "execution_count": 10,
   "metadata": {},
   "outputs": [
    {
     "data": {
      "text/plain": [
       "0       0\n",
       "1       1\n",
       "2       0\n",
       "3       0\n",
       "4       0\n",
       "       ..\n",
       "4995    0\n",
       "4996    0\n",
       "4997    0\n",
       "4998    0\n",
       "4999    0\n",
       "Name: Страховые выплаты, Length: 5000, dtype: int64"
      ]
     },
     "execution_count": 10,
     "metadata": {},
     "output_type": "execute_result"
    }
   ],
   "source": [
    "target"
   ]
  },
  {
   "cell_type": "markdown",
   "metadata": {},
   "source": [
    "Разделим выборки на обучающую и тестовую"
   ]
  },
  {
   "cell_type": "code",
   "execution_count": 11,
   "metadata": {},
   "outputs": [],
   "source": [
    "features_train, features_test, target_train, target_test = train_test_split(features, target,\n",
    "                                                                            test_size=0.20,\n",
    "                                                                            random_state=2023)"
   ]
  },
  {
   "cell_type": "markdown",
   "metadata": {},
   "source": [
    "Создадим модель `LinearRegression`, обучим ее на исходных данных и рассчитаем `R2`"
   ]
  },
  {
   "cell_type": "code",
   "execution_count": 12,
   "metadata": {},
   "outputs": [],
   "source": [
    "#создадим пайплайн\n",
    "reg = Pipeline([\n",
    "    ('scale', StandardScaler()),\n",
    "    ('linear', LinearRegression())\n",
    "])"
   ]
  },
  {
   "cell_type": "code",
   "execution_count": 13,
   "metadata": {},
   "outputs": [],
   "source": [
    "reg.fit(features_train, target_train)\n",
    "r_2 = r2_score(target_test, reg.predict(features_test))"
   ]
  },
  {
   "cell_type": "markdown",
   "metadata": {},
   "source": [
    "Создадим матриц случайным образом и проверим ее на обратимость"
   ]
  },
  {
   "cell_type": "code",
   "execution_count": 14,
   "metadata": {},
   "outputs": [
    {
     "name": "stdout",
     "output_type": "stream",
     "text": [
      "Обратимая матрица P\n",
      " [[0.46842413 0.51379464 0.66932626 0.54764425]\n",
      " [0.36252745 0.31273969 0.73371237 0.06871418]\n",
      " [0.17025341 0.42135674 0.56751033 0.30839   ]\n",
      " [0.41391751 0.6158526  0.07925446 0.1801292 ]]\n",
      "\n",
      "Определитель матрицы = 0.03939821854703015\n",
      "\n",
      "Обратная матрица для P\n",
      " [[ 2.18958896  1.44246625 -4.52199153  0.53463453]\n",
      " [-2.13564422 -0.50525229  2.94167046  1.64942447]\n",
      " [-0.4006966   1.05780265  0.98999965 -0.88021733]\n",
      " [ 2.44652077 -2.05261931 -0.10195918 -0.92897642]]\n"
     ]
    }
   ],
   "source": [
    "# создаем матрицу\n",
    "N = features.shape[1] # размерность признаков\n",
    "det_p = 0\n",
    "while det_p == 0:\n",
    "    p = np.random.rand(N, N) \n",
    "    # p= np.random.randint(20, 23, (N, N))\n",
    "    det_p = np.linalg.det(p)\n",
    "p_inv = inv(p)\n",
    "print(f'Обратимая матрица P\\n {p}')\n",
    "print(f'\\nОпределитель матрицы = {det_p}')\n",
    "print(f'\\nОбратная матрица для P\\n {p_inv}')"
   ]
  },
  {
   "cell_type": "markdown",
   "metadata": {},
   "source": [
    "Зашифруем наши признаки с помощью матрицы:"
   ]
  },
  {
   "cell_type": "code",
   "execution_count": 15,
   "metadata": {},
   "outputs": [
    {
     "data": {
      "text/html": [
       "<div>\n",
       "<style scoped>\n",
       "    .dataframe tbody tr th:only-of-type {\n",
       "        vertical-align: middle;\n",
       "    }\n",
       "\n",
       "    .dataframe tbody tr th {\n",
       "        vertical-align: top;\n",
       "    }\n",
       "\n",
       "    .dataframe thead th {\n",
       "        text-align: right;\n",
       "    }\n",
       "</style>\n",
       "<table border=\"1\" class=\"dataframe\">\n",
       "  <thead>\n",
       "    <tr style=\"text-align: right;\">\n",
       "      <th></th>\n",
       "      <th>0</th>\n",
       "      <th>1</th>\n",
       "      <th>2</th>\n",
       "      <th>3</th>\n",
       "    </tr>\n",
       "  </thead>\n",
       "  <tbody>\n",
       "    <tr>\n",
       "      <th>0</th>\n",
       "      <td>8460.3153</td>\n",
       "      <td>20913.2461</td>\n",
       "      <td>28179.3430</td>\n",
       "      <td>15299.6891</td>\n",
       "    </tr>\n",
       "    <tr>\n",
       "      <th>1</th>\n",
       "      <td>6486.7199</td>\n",
       "      <td>16026.5579</td>\n",
       "      <td>21599.2224</td>\n",
       "      <td>11722.1610</td>\n",
       "    </tr>\n",
       "    <tr>\n",
       "      <th>2</th>\n",
       "      <td>3585.8350</td>\n",
       "      <td>8857.5609</td>\n",
       "      <td>11938.9945</td>\n",
       "      <td>6478.1827</td>\n",
       "    </tr>\n",
       "    <tr>\n",
       "      <th>3</th>\n",
       "      <td>7108.0083</td>\n",
       "      <td>17578.3752</td>\n",
       "      <td>23680.7471</td>\n",
       "      <td>12861.6663</td>\n",
       "    </tr>\n",
       "    <tr>\n",
       "      <th>4</th>\n",
       "      <td>4454.2333</td>\n",
       "      <td>11006.6813</td>\n",
       "      <td>14833.2328</td>\n",
       "      <td>8051.4507</td>\n",
       "    </tr>\n",
       "    <tr>\n",
       "      <th>...</th>\n",
       "      <td>...</td>\n",
       "      <td>...</td>\n",
       "      <td>...</td>\n",
       "      <td>...</td>\n",
       "    </tr>\n",
       "    <tr>\n",
       "      <th>4995</th>\n",
       "      <td>6089.0255</td>\n",
       "      <td>15052.4239</td>\n",
       "      <td>20280.8211</td>\n",
       "      <td>11011.8073</td>\n",
       "    </tr>\n",
       "    <tr>\n",
       "      <th>4996</th>\n",
       "      <td>8934.0188</td>\n",
       "      <td>22090.3420</td>\n",
       "      <td>29762.5666</td>\n",
       "      <td>16162.1525</td>\n",
       "    </tr>\n",
       "    <tr>\n",
       "      <th>4997</th>\n",
       "      <td>5779.6691</td>\n",
       "      <td>14291.4799</td>\n",
       "      <td>19253.4328</td>\n",
       "      <td>10456.1556</td>\n",
       "    </tr>\n",
       "    <tr>\n",
       "      <th>4998</th>\n",
       "      <td>5576.9724</td>\n",
       "      <td>13787.6069</td>\n",
       "      <td>18574.6364</td>\n",
       "      <td>10086.9528</td>\n",
       "    </tr>\n",
       "    <tr>\n",
       "      <th>4999</th>\n",
       "      <td>6923.3217</td>\n",
       "      <td>17116.9699</td>\n",
       "      <td>23062.2118</td>\n",
       "      <td>12523.2858</td>\n",
       "    </tr>\n",
       "  </tbody>\n",
       "</table>\n",
       "<p>5000 rows × 4 columns</p>\n",
       "</div>"
      ],
      "text/plain": [
       "             0          1          2          3\n",
       "0    8460.3153 20913.2461 28179.3430 15299.6891\n",
       "1    6486.7199 16026.5579 21599.2224 11722.1610\n",
       "2    3585.8350  8857.5609 11938.9945  6478.1827\n",
       "3    7108.0083 17578.3752 23680.7471 12861.6663\n",
       "4    4454.2333 11006.6813 14833.2328  8051.4507\n",
       "...        ...        ...        ...        ...\n",
       "4995 6089.0255 15052.4239 20280.8211 11011.8073\n",
       "4996 8934.0188 22090.3420 29762.5666 16162.1525\n",
       "4997 5779.6691 14291.4799 19253.4328 10456.1556\n",
       "4998 5576.9724 13787.6069 18574.6364 10086.9528\n",
       "4999 6923.3217 17116.9699 23062.2118 12523.2858\n",
       "\n",
       "[5000 rows x 4 columns]"
      ]
     },
     "execution_count": 15,
     "metadata": {},
     "output_type": "execute_result"
    }
   ],
   "source": [
    "features_p = pd.DataFrame(features.values @ p)\n",
    "features_p"
   ]
  },
  {
   "cell_type": "markdown",
   "metadata": {},
   "source": [
    "Разделим выборки на обучающую и тестовую"
   ]
  },
  {
   "cell_type": "code",
   "execution_count": 16,
   "metadata": {},
   "outputs": [],
   "source": [
    "features_p_train, features_p_test, target_p_train, target_p_test = train_test_split(features_p, \n",
    "                                                                                    target,\n",
    "                                                                                    test_size=0.20,\n",
    "                                                                                    random_state=2023)"
   ]
  },
  {
   "cell_type": "markdown",
   "metadata": {},
   "source": [
    "Создадим модель `LinearRegression` и обучим ее на зашифрованных признаках. Рассчитаем `R2`"
   ]
  },
  {
   "cell_type": "code",
   "execution_count": 17,
   "metadata": {},
   "outputs": [],
   "source": [
    "reg_p = Pipeline([\n",
    "    # масштабирует признаки\n",
    "    ('scale', StandardScaler()),\n",
    "    ('linear', LinearRegression())\n",
    "])"
   ]
  },
  {
   "cell_type": "code",
   "execution_count": 18,
   "metadata": {},
   "outputs": [],
   "source": [
    "reg_p.fit(features_p_train, target_p_train)\n",
    "r_2_p = r2_score(target_p_test, reg_p.predict(features_p_test))"
   ]
  },
  {
   "cell_type": "markdown",
   "metadata": {},
   "source": [
    "Посчитаем погрешность между двумя вариантами:"
   ]
  },
  {
   "cell_type": "code",
   "execution_count": 19,
   "metadata": {},
   "outputs": [
    {
     "name": "stdout",
     "output_type": "stream",
     "text": [
      "Погрешность вычисления R2 составляет: 4.884981308350689e-15\n"
     ]
    }
   ],
   "source": [
    "print(f'Погрешность вычисления R2 составляет: {abs(r_2 - r_2_p)}')"
   ]
  },
  {
   "cell_type": "markdown",
   "metadata": {},
   "source": [
    "Разница между `R2`,рассчитаной на исходных признаках и на зашифрованных, признаках составляет менее $ 10^{-13}$, что можно списать на вычислительную погрешность."
   ]
  },
  {
   "cell_type": "markdown",
   "metadata": {},
   "source": [
    "Проверим, как расшифруются данные:"
   ]
  },
  {
   "cell_type": "code",
   "execution_count": 20,
   "metadata": {},
   "outputs": [
    {
     "data": {
      "text/html": [
       "<div>\n",
       "<style scoped>\n",
       "    .dataframe tbody tr th:only-of-type {\n",
       "        vertical-align: middle;\n",
       "    }\n",
       "\n",
       "    .dataframe tbody tr th {\n",
       "        vertical-align: top;\n",
       "    }\n",
       "\n",
       "    .dataframe thead th {\n",
       "        text-align: right;\n",
       "    }\n",
       "</style>\n",
       "<table border=\"1\" class=\"dataframe\">\n",
       "  <thead>\n",
       "    <tr style=\"text-align: right;\">\n",
       "      <th></th>\n",
       "      <th>0</th>\n",
       "      <th>1</th>\n",
       "      <th>2</th>\n",
       "      <th>3</th>\n",
       "    </tr>\n",
       "  </thead>\n",
       "  <tbody>\n",
       "    <tr>\n",
       "      <th>0</th>\n",
       "      <td>1.0000</td>\n",
       "      <td>41.0000</td>\n",
       "      <td>49600.0000</td>\n",
       "      <td>1.0000</td>\n",
       "    </tr>\n",
       "    <tr>\n",
       "      <th>1</th>\n",
       "      <td>0.0000</td>\n",
       "      <td>46.0000</td>\n",
       "      <td>38000.0000</td>\n",
       "      <td>1.0000</td>\n",
       "    </tr>\n",
       "    <tr>\n",
       "      <th>2</th>\n",
       "      <td>0.0000</td>\n",
       "      <td>29.0000</td>\n",
       "      <td>21000.0000</td>\n",
       "      <td>0.0000</td>\n",
       "    </tr>\n",
       "    <tr>\n",
       "      <th>3</th>\n",
       "      <td>-0.0000</td>\n",
       "      <td>21.0000</td>\n",
       "      <td>41700.0000</td>\n",
       "      <td>2.0000</td>\n",
       "    </tr>\n",
       "    <tr>\n",
       "      <th>4</th>\n",
       "      <td>1.0000</td>\n",
       "      <td>28.0000</td>\n",
       "      <td>26100.0000</td>\n",
       "      <td>0.0000</td>\n",
       "    </tr>\n",
       "    <tr>\n",
       "      <th>...</th>\n",
       "      <td>...</td>\n",
       "      <td>...</td>\n",
       "      <td>...</td>\n",
       "      <td>...</td>\n",
       "    </tr>\n",
       "    <tr>\n",
       "      <th>4995</th>\n",
       "      <td>0.0000</td>\n",
       "      <td>28.0000</td>\n",
       "      <td>35700.0000</td>\n",
       "      <td>2.0000</td>\n",
       "    </tr>\n",
       "    <tr>\n",
       "      <th>4996</th>\n",
       "      <td>0.0000</td>\n",
       "      <td>34.0000</td>\n",
       "      <td>52400.0000</td>\n",
       "      <td>1.0000</td>\n",
       "    </tr>\n",
       "    <tr>\n",
       "      <th>4997</th>\n",
       "      <td>0.0000</td>\n",
       "      <td>20.0000</td>\n",
       "      <td>33900.0000</td>\n",
       "      <td>2.0000</td>\n",
       "    </tr>\n",
       "    <tr>\n",
       "      <th>4998</th>\n",
       "      <td>1.0000</td>\n",
       "      <td>22.0000</td>\n",
       "      <td>32700.0000</td>\n",
       "      <td>3.0000</td>\n",
       "    </tr>\n",
       "    <tr>\n",
       "      <th>4999</th>\n",
       "      <td>1.0000</td>\n",
       "      <td>28.0000</td>\n",
       "      <td>40600.0000</td>\n",
       "      <td>1.0000</td>\n",
       "    </tr>\n",
       "  </tbody>\n",
       "</table>\n",
       "<p>5000 rows × 4 columns</p>\n",
       "</div>"
      ],
      "text/plain": [
       "           0       1          2      3\n",
       "0     1.0000 41.0000 49600.0000 1.0000\n",
       "1     0.0000 46.0000 38000.0000 1.0000\n",
       "2     0.0000 29.0000 21000.0000 0.0000\n",
       "3    -0.0000 21.0000 41700.0000 2.0000\n",
       "4     1.0000 28.0000 26100.0000 0.0000\n",
       "...      ...     ...        ...    ...\n",
       "4995  0.0000 28.0000 35700.0000 2.0000\n",
       "4996  0.0000 34.0000 52400.0000 1.0000\n",
       "4997  0.0000 20.0000 33900.0000 2.0000\n",
       "4998  1.0000 22.0000 32700.0000 3.0000\n",
       "4999  1.0000 28.0000 40600.0000 1.0000\n",
       "\n",
       "[5000 rows x 4 columns]"
      ]
     },
     "execution_count": 20,
     "metadata": {},
     "output_type": "execute_result"
    }
   ],
   "source": [
    "features_restored = pd.DataFrame(features_p @ p_inv)\n",
    "features_restored"
   ]
  },
  {
   "cell_type": "code",
   "execution_count": 21,
   "metadata": {},
   "outputs": [
    {
     "data": {
      "text/html": [
       "<div>\n",
       "<style scoped>\n",
       "    .dataframe tbody tr th:only-of-type {\n",
       "        vertical-align: middle;\n",
       "    }\n",
       "\n",
       "    .dataframe tbody tr th {\n",
       "        vertical-align: top;\n",
       "    }\n",
       "\n",
       "    .dataframe thead th {\n",
       "        text-align: right;\n",
       "    }\n",
       "</style>\n",
       "<table border=\"1\" class=\"dataframe\">\n",
       "  <thead>\n",
       "    <tr style=\"text-align: right;\">\n",
       "      <th></th>\n",
       "      <th>Пол</th>\n",
       "      <th>Возраст</th>\n",
       "      <th>Зарплата</th>\n",
       "      <th>Члены семьи</th>\n",
       "    </tr>\n",
       "  </thead>\n",
       "  <tbody>\n",
       "    <tr>\n",
       "      <th>0</th>\n",
       "      <td>1</td>\n",
       "      <td>41.0000</td>\n",
       "      <td>49600.0000</td>\n",
       "      <td>1</td>\n",
       "    </tr>\n",
       "    <tr>\n",
       "      <th>1</th>\n",
       "      <td>0</td>\n",
       "      <td>46.0000</td>\n",
       "      <td>38000.0000</td>\n",
       "      <td>1</td>\n",
       "    </tr>\n",
       "    <tr>\n",
       "      <th>2</th>\n",
       "      <td>0</td>\n",
       "      <td>29.0000</td>\n",
       "      <td>21000.0000</td>\n",
       "      <td>0</td>\n",
       "    </tr>\n",
       "    <tr>\n",
       "      <th>3</th>\n",
       "      <td>0</td>\n",
       "      <td>21.0000</td>\n",
       "      <td>41700.0000</td>\n",
       "      <td>2</td>\n",
       "    </tr>\n",
       "    <tr>\n",
       "      <th>4</th>\n",
       "      <td>1</td>\n",
       "      <td>28.0000</td>\n",
       "      <td>26100.0000</td>\n",
       "      <td>0</td>\n",
       "    </tr>\n",
       "    <tr>\n",
       "      <th>...</th>\n",
       "      <td>...</td>\n",
       "      <td>...</td>\n",
       "      <td>...</td>\n",
       "      <td>...</td>\n",
       "    </tr>\n",
       "    <tr>\n",
       "      <th>4995</th>\n",
       "      <td>0</td>\n",
       "      <td>28.0000</td>\n",
       "      <td>35700.0000</td>\n",
       "      <td>2</td>\n",
       "    </tr>\n",
       "    <tr>\n",
       "      <th>4996</th>\n",
       "      <td>0</td>\n",
       "      <td>34.0000</td>\n",
       "      <td>52400.0000</td>\n",
       "      <td>1</td>\n",
       "    </tr>\n",
       "    <tr>\n",
       "      <th>4997</th>\n",
       "      <td>0</td>\n",
       "      <td>20.0000</td>\n",
       "      <td>33900.0000</td>\n",
       "      <td>2</td>\n",
       "    </tr>\n",
       "    <tr>\n",
       "      <th>4998</th>\n",
       "      <td>1</td>\n",
       "      <td>22.0000</td>\n",
       "      <td>32700.0000</td>\n",
       "      <td>3</td>\n",
       "    </tr>\n",
       "    <tr>\n",
       "      <th>4999</th>\n",
       "      <td>1</td>\n",
       "      <td>28.0000</td>\n",
       "      <td>40600.0000</td>\n",
       "      <td>1</td>\n",
       "    </tr>\n",
       "  </tbody>\n",
       "</table>\n",
       "<p>5000 rows × 4 columns</p>\n",
       "</div>"
      ],
      "text/plain": [
       "      Пол  Возраст   Зарплата  Члены семьи\n",
       "0       1  41.0000 49600.0000            1\n",
       "1       0  46.0000 38000.0000            1\n",
       "2       0  29.0000 21000.0000            0\n",
       "3       0  21.0000 41700.0000            2\n",
       "4       1  28.0000 26100.0000            0\n",
       "...   ...      ...        ...          ...\n",
       "4995    0  28.0000 35700.0000            2\n",
       "4996    0  34.0000 52400.0000            1\n",
       "4997    0  20.0000 33900.0000            2\n",
       "4998    1  22.0000 32700.0000            3\n",
       "4999    1  28.0000 40600.0000            1\n",
       "\n",
       "[5000 rows x 4 columns]"
      ]
     },
     "execution_count": 21,
     "metadata": {},
     "output_type": "execute_result"
    }
   ],
   "source": [
    "features"
   ]
  },
  {
   "cell_type": "markdown",
   "metadata": {},
   "source": [
    "Чтобы сравнить все ли данные обработались верно, вычтем из матрицы исходных признаков матрицу преобразованных"
   ]
  },
  {
   "cell_type": "code",
   "execution_count": 22,
   "metadata": {},
   "outputs": [
    {
     "data": {
      "text/html": [
       "<div>\n",
       "<style scoped>\n",
       "    .dataframe tbody tr th:only-of-type {\n",
       "        vertical-align: middle;\n",
       "    }\n",
       "\n",
       "    .dataframe tbody tr th {\n",
       "        vertical-align: top;\n",
       "    }\n",
       "\n",
       "    .dataframe thead th {\n",
       "        text-align: right;\n",
       "    }\n",
       "</style>\n",
       "<table border=\"1\" class=\"dataframe\">\n",
       "  <thead>\n",
       "    <tr style=\"text-align: right;\">\n",
       "      <th></th>\n",
       "      <th>0</th>\n",
       "      <th>1</th>\n",
       "      <th>2</th>\n",
       "      <th>3</th>\n",
       "    </tr>\n",
       "  </thead>\n",
       "  <tbody>\n",
       "    <tr>\n",
       "      <th>count</th>\n",
       "      <td>5000.0000</td>\n",
       "      <td>5000.0000</td>\n",
       "      <td>5000.0000</td>\n",
       "      <td>5000.0000</td>\n",
       "    </tr>\n",
       "    <tr>\n",
       "      <th>mean</th>\n",
       "      <td>0.0000</td>\n",
       "      <td>0.0000</td>\n",
       "      <td>0.0000</td>\n",
       "      <td>0.0000</td>\n",
       "    </tr>\n",
       "    <tr>\n",
       "      <th>std</th>\n",
       "      <td>0.0000</td>\n",
       "      <td>0.0000</td>\n",
       "      <td>0.0000</td>\n",
       "      <td>0.0000</td>\n",
       "    </tr>\n",
       "    <tr>\n",
       "      <th>min</th>\n",
       "      <td>0.0000</td>\n",
       "      <td>0.0000</td>\n",
       "      <td>0.0000</td>\n",
       "      <td>0.0000</td>\n",
       "    </tr>\n",
       "    <tr>\n",
       "      <th>25%</th>\n",
       "      <td>0.0000</td>\n",
       "      <td>0.0000</td>\n",
       "      <td>0.0000</td>\n",
       "      <td>0.0000</td>\n",
       "    </tr>\n",
       "    <tr>\n",
       "      <th>50%</th>\n",
       "      <td>0.0000</td>\n",
       "      <td>0.0000</td>\n",
       "      <td>0.0000</td>\n",
       "      <td>0.0000</td>\n",
       "    </tr>\n",
       "    <tr>\n",
       "      <th>75%</th>\n",
       "      <td>0.0000</td>\n",
       "      <td>0.0000</td>\n",
       "      <td>0.0000</td>\n",
       "      <td>0.0000</td>\n",
       "    </tr>\n",
       "    <tr>\n",
       "      <th>max</th>\n",
       "      <td>0.0000</td>\n",
       "      <td>0.0000</td>\n",
       "      <td>0.0000</td>\n",
       "      <td>0.0000</td>\n",
       "    </tr>\n",
       "  </tbody>\n",
       "</table>\n",
       "</div>"
      ],
      "text/plain": [
       "              0         1         2         3\n",
       "count 5000.0000 5000.0000 5000.0000 5000.0000\n",
       "mean     0.0000    0.0000    0.0000    0.0000\n",
       "std      0.0000    0.0000    0.0000    0.0000\n",
       "min      0.0000    0.0000    0.0000    0.0000\n",
       "25%      0.0000    0.0000    0.0000    0.0000\n",
       "50%      0.0000    0.0000    0.0000    0.0000\n",
       "75%      0.0000    0.0000    0.0000    0.0000\n",
       "max      0.0000    0.0000    0.0000    0.0000"
      ]
     },
     "execution_count": 22,
     "metadata": {},
     "output_type": "execute_result"
    }
   ],
   "source": [
    "pd.DataFrame(abs(features.values - features_restored.values).round(2)).describe()"
   ]
  },
  {
   "cell_type": "markdown",
   "metadata": {},
   "source": [
    "Таким образом, мы получили идентичные данные."
   ]
  },
  {
   "cell_type": "markdown",
   "metadata": {},
   "source": [
    "**Вывод**"
   ]
  },
  {
   "cell_type": "markdown",
   "metadata": {},
   "source": [
    "В ходе выполнения проекта были выполнены следующие этапы и сделаны следующие выводы.\n",
    "\n",
    "1. Загружены и изучены данны.\n",
    "2. Изучен вопрос об изменениии качества линейной регрессии при умножении признаков на обратимую матрицу. Получено теоретическое обоснование связи параметры модели до и после шифрования.\n",
    "\n",
    "При этом основным условием, является обратимость матрицы.\n",
    "\n",
    "3. Сформулирован алгоритм для шифрования и дешифрования данных. \n",
    "4. Предложенный алгоритм реализован в программном коде. Полученные результаты полностью соотвествуют теоретическим выводам. \n",
    "* Метрика `R2` не изменяется.\n",
    "* Дешифровка данных произведена с помощью обратной матрицы. Дешифрованные данные полностью соответствуют исходным признакам.\n",
    "\n"
   ]
  },
  {
   "cell_type": "code",
   "execution_count": null,
   "metadata": {},
   "outputs": [],
   "source": []
  }
 ],
 "metadata": {
  "ExecuteTimeLog": [
   {
    "duration": 3630,
    "start_time": "2023-05-30T13:41:22.113Z"
   },
   {
    "duration": 7,
    "start_time": "2023-05-30T13:41:25.747Z"
   },
   {
    "duration": 14,
    "start_time": "2023-05-30T13:41:25.757Z"
   },
   {
    "duration": 12,
    "start_time": "2023-05-30T13:41:25.773Z"
   },
   {
    "duration": 779,
    "start_time": "2023-05-30T13:41:25.788Z"
   },
   {
    "duration": 673,
    "start_time": "2023-05-30T13:41:26.568Z"
   },
   {
    "duration": 675,
    "start_time": "2023-05-30T13:41:27.244Z"
   },
   {
    "duration": 4,
    "start_time": "2023-05-30T13:41:27.921Z"
   },
   {
    "duration": 14,
    "start_time": "2023-05-30T13:41:27.927Z"
   },
   {
    "duration": 15,
    "start_time": "2023-05-30T13:41:27.943Z"
   },
   {
    "duration": 258,
    "start_time": "2023-05-30T13:41:27.960Z"
   },
   {
    "duration": 19,
    "start_time": "2023-05-30T13:41:28.220Z"
   },
   {
    "duration": 95,
    "start_time": "2023-05-30T13:41:28.244Z"
   },
   {
    "duration": 190,
    "start_time": "2023-05-30T13:41:28.345Z"
   },
   {
    "duration": 21,
    "start_time": "2023-05-30T13:41:28.537Z"
   },
   {
    "duration": 67,
    "start_time": "2023-05-30T13:41:28.560Z"
   },
   {
    "duration": 29,
    "start_time": "2023-05-30T13:41:28.628Z"
   },
   {
    "duration": 22,
    "start_time": "2023-05-30T13:41:28.659Z"
   }
  ],
  "kernelspec": {
   "display_name": "Python 3 (ipykernel)",
   "language": "python",
   "name": "python3"
  },
  "language_info": {
   "codemirror_mode": {
    "name": "ipython",
    "version": 3
   },
   "file_extension": ".py",
   "mimetype": "text/x-python",
   "name": "python",
   "nbconvert_exporter": "python",
   "pygments_lexer": "ipython3",
   "version": "3.9.12"
  },
  "toc": {
   "base_numbering": 1,
   "nav_menu": {},
   "number_sections": true,
   "sideBar": true,
   "skip_h1_title": true,
   "title_cell": "Содержание",
   "title_sidebar": "Contents",
   "toc_cell": true,
   "toc_position": {},
   "toc_section_display": true,
   "toc_window_display": false
  }
 },
 "nbformat": 4,
 "nbformat_minor": 2
}
